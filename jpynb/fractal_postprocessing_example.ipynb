{
 "cells": [
  {
   "cell_type": "code",
   "execution_count": null,
   "id": "67ce5cc0",
   "metadata": {},
   "outputs": [],
   "source": [
    "import pandas as pd\n",
    "import os\n",
    "import numpy as np\n",
    "import warnings\n",
    "import matplotlib.pyplot as plt\n",
    "from scipy.stats import zscore\n",
    "import seaborn as sns\n",
    "\n",
    "\n",
    "from scmultiplex.plotting.functions_io import (zarr_wellpaths, \n",
    "                          append_table_to_zarr_url, \n",
    "                          load_features_for_well, \n",
    "                          make_anndata, \n",
    "                          invert_conditions_dict,\n",
    "                          make_object_dict,\n",
    "                          randomize_object_dict,\n",
    "                          load_imgs_from_object_dict,\n",
    "                          make_filtered_dict)\n",
    "\n",
    "from scmultiplex.plotting.functions_plotting import (plot_heatmap, build_heatmap_df, plot_heatmap_means, plot_image_grid, \n",
    "                                plot_rgb_grid, plot_single_image, plot_single_rgb,  plot_pos_and_neg_sets, \n",
    "                                count_positive_fraction, plot_positive_fraction, plot_feature_violin)\n",
    "\n",
    "\n",
    "from scmultiplex.plotting.functions_classify import classify_me\n",
    "\n",
    "pd.set_option(\"display.max_columns\", 100)\n",
    "\n",
    "husl = sns.color_palette(\"husl\", 9).as_hex()[0:8] #remove last color\n",
    "\n",
    "print(plt.style.available)\n",
    "plt.style.use('dark_background')\n",
    "plt.style.use('dark_background')"
   ]
  },
  {
   "cell_type": "markdown",
   "id": "76c37bb0",
   "metadata": {},
   "source": [
    "# USER INPUT"
   ]
  },
  {
   "cell_type": "code",
   "execution_count": null,
   "id": "4f920f46",
   "metadata": {},
   "outputs": [],
   "source": [
    "from configpath import exp_path, classifier_path\n",
    "\n",
    "print('%s\\n%s' % (exp_path, classifier_path))\n",
    "\n",
    "# name of feature extraction tables folder, as specified in Fractal run\n",
    "table_name = \"org_feat_table\"\n",
    "\n",
    "# name of ROI tables folder, as specified in Fractal run\n",
    "roi_name = \"org_ROI_table\"\n"
   ]
  },
  {
   "cell_type": "code",
   "execution_count": null,
   "id": "0e14b436",
   "metadata": {},
   "outputs": [],
   "source": [
    "# Also take note to modify 'conditions' settings under \"Visualize images prior to filtering\" section\n"
   ]
  },
  {
   "cell_type": "markdown",
   "id": "a82f5cc4",
   "metadata": {},
   "source": [
    "# END USER INPUT"
   ]
  },
  {
   "cell_type": "markdown",
   "id": "7ed05534",
   "metadata": {},
   "source": [
    "## Aggregate data from all plates and wells in experiment"
   ]
  },
  {
   "cell_type": "code",
   "execution_count": null,
   "id": "a9660738",
   "metadata": {
    "scrolled": true
   },
   "outputs": [],
   "source": [
    "df = pd.DataFrame()\n",
    "\n",
    "zarr_url_dict, plate_ids, well_ids, row_ids, col_ids = zarr_wellpaths(exp_path, select_mip = True, make_zarr_url = True)\n",
    "zarr_url_tables_dict = append_table_to_zarr_url(zarr_url_dict, table_name)\n",
    "\n",
    "\n",
    "for key in zarr_url_tables_dict:\n",
    "    path = zarr_url_tables_dict[key]\n",
    "    \n",
    "    if os.path.exists(path):\n",
    "        df_well = load_features_for_well(path)\n",
    "        if df_well is not None:\n",
    "            df_well[\"plate_id\"] = plate_ids[key]\n",
    "            df_well[\"well_id\"] = well_ids[key]\n",
    "            df_well[\"row_id\"] = row_ids[key]\n",
    "            df_well[\"col_id\"] = col_ids[key]\n",
    "            df = pd.concat([df_well, df])\n",
    "    else:\n",
    "        warnings.warn('no feature extraction detected in plate %s well %s' %(plate_id, well_id))\n",
    "\n"
   ]
  },
  {
   "cell_type": "code",
   "execution_count": null,
   "id": "453a28ff",
   "metadata": {},
   "outputs": [],
   "source": [
    "print('detected ', df.shape[0], ' organoids and ', df.shape[1], ' feature columns')\n",
    "df.head(5)\n",
    "\n"
   ]
  },
  {
   "cell_type": "markdown",
   "id": "617fc9d7",
   "metadata": {},
   "source": [
    "## Run classifier"
   ]
  },
  {
   "cell_type": "code",
   "execution_count": null,
   "id": "6f5cb487",
   "metadata": {},
   "outputs": [],
   "source": [
    "#df = df.reset_index(drop=True)\n",
    "df['roi_id'] = df[\"plate_id\"] + \"_\" + df[\"well_id\"] + \"_\" + df[\"label\"].astype(str)"
   ]
  },
  {
   "cell_type": "code",
   "execution_count": null,
   "id": "8b16b392",
   "metadata": {},
   "outputs": [],
   "source": [
    "df_predicted, new_prediction, class_names = classify_me(df, classifier_path, 'roi_id')\n",
    "df_predicted"
   ]
  },
  {
   "cell_type": "markdown",
   "id": "b94a2d35",
   "metadata": {},
   "source": [
    "## Convert aggregated organoid df into AnnData object and save as H5AD"
   ]
  },
  {
   "cell_type": "code",
   "execution_count": null,
   "id": "1cecb065",
   "metadata": {},
   "outputs": [],
   "source": [
    "df['oUID'] = df[\"plate_id\"] + \"_\" + df[\"well_id\"] + \"_\" + df[\"label\"].astype(str)\n",
    "\n",
    "df['oUID_tuple'] = list(zip(df.plate_id, df.well_id, df.label.astype(str)))\n",
    "\n",
    "df = df.set_index('oUID')\n"
   ]
  },
  {
   "cell_type": "code",
   "execution_count": null,
   "id": "928a3115",
   "metadata": {},
   "outputs": [],
   "source": [
    "org_numerics_list = ['x_pos_pix', 'y_pos_pix', 'imgdim_x', 'imgdim_y', \n",
    "                     'mean_intensity', 'max_intensity', 'min_intensity', \n",
    "                     'percentile25', 'percentile50', 'percentile75', 'percentile90', 'percentile95', 'percentile99',\n",
    "                     'stdev', 'skew', 'kurtosis',\n",
    "                     'x_pos_weighted_pix', 'y_pos_weighted_pix', 'x_massDisp_pix', 'y_massDisp_pix',\n",
    "                     'area_bbox', 'area_convhull', 'equivDiam', 'extent', 'solidity',\n",
    "                     'majorAxisLength', 'minorAxisLength', 'minmajAxisRatio', \n",
    "                     'aspectRatio_equivalentDiameter', 'area_pix', 'perimeter', 'concavity', \n",
    "                     'asymmetry', 'eccentricity', 'circularity', 'concavity_count'\n",
    "                     ]\n",
    "\n",
    "org_obs_list = [\"label\", \"ROI_table_name\", \"ROI_name\", \"index\", \n",
    "                \"is_touching_border_xy\", \"disconnected_components\", \n",
    "                \"plate_id\", \"well_id\", \"col_id\", \"row_id\"]\n",
    "\n",
    "\n",
    "adata = make_anndata(df, org_numerics_list, org_obs_list)\n",
    "\n"
   ]
  },
  {
   "cell_type": "code",
   "execution_count": null,
   "id": "efd54b17",
   "metadata": {},
   "outputs": [],
   "source": [
    "adata.write(filename = os.path.join(exp_path, 'org.h5ad'))\n",
    "\n",
    "\n"
   ]
  },
  {
   "cell_type": "markdown",
   "id": "2440ad6b",
   "metadata": {},
   "source": [
    "## Visualize images prior to filtering"
   ]
  },
  {
   "cell_type": "markdown",
   "id": "43d6254e",
   "metadata": {},
   "source": [
    "# USER INPUT"
   ]
  },
  {
   "cell_type": "markdown",
   "id": "5248afb4",
   "metadata": {},
   "source": [
    "## Make conditions table"
   ]
  },
  {
   "cell_type": "code",
   "execution_count": null,
   "id": "de2fab97",
   "metadata": {},
   "outputs": [],
   "source": [
    "# key is already in zarr_url_dict in format tuple(plate_id, well_id)\n",
    "print('example of key: ')\n",
    "list(zarr_url_dict.keys())[0]"
   ]
  },
  {
   "cell_type": "code",
   "execution_count": null,
   "id": "5666654c",
   "metadata": {
    "scrolled": true
   },
   "outputs": [],
   "source": [
    "# for each well (key), set a condition name (value). condition names can repeat.\n",
    "# format must be\n",
    "# unique well id : condition id\n",
    "\n",
    "# choose from...\n",
    "# plate_ids, well_ids, row_ids, col_ids\n",
    "\n",
    "# key is already in zarr_url_dict in format ()\n",
    "\n",
    "# for plate layout where condition replicates are along columns\n",
    "conditions = {key: plate_ids[key][-5:] + \".\" + col_ids.get(key, '') for key in zarr_url_dict.keys()}\n",
    "\n",
    "conditions\n"
   ]
  },
  {
   "cell_type": "code",
   "execution_count": null,
   "id": "bdb9df99",
   "metadata": {
    "scrolled": true
   },
   "outputs": [],
   "source": [
    "# also set condition as column in DF\n",
    "\n",
    "\n",
    "df['condition'] = df['plate_id'].str[-5:] + \".\" + df['col_id'].astype(str)\n",
    "\n",
    "df.head(2)"
   ]
  },
  {
   "cell_type": "markdown",
   "id": "be706e04",
   "metadata": {},
   "source": [
    "# END USER INPUT"
   ]
  },
  {
   "cell_type": "code",
   "execution_count": null,
   "id": "822c423f",
   "metadata": {},
   "outputs": [],
   "source": [
    "inv_cond = invert_conditions_dict(conditions)\n",
    "\n",
    "objects_to_randomize = make_object_dict(inv_cond, zarr_url_dict, roi_name)\n",
    "\n",
    "objects_randomized = randomize_object_dict(objects_to_randomize, n_obj = 6, seed = 4)\n"
   ]
  },
  {
   "cell_type": "code",
   "execution_count": null,
   "id": "1386594e",
   "metadata": {
    "scrolled": true
   },
   "outputs": [],
   "source": [
    "objects_randomized\n",
    "\n"
   ]
  },
  {
   "cell_type": "code",
   "execution_count": null,
   "id": "62dbf097",
   "metadata": {},
   "outputs": [],
   "source": [
    "# load random image set\n",
    "c01_all_dict = load_imgs_from_object_dict(objects_randomized,\n",
    "                                            zarr_url_dict,\n",
    "                                            channel_index = 0,\n",
    "                                            level=1,\n",
    "                                            roi_name = roi_name, \n",
    "                                            reset_origin=False)\n",
    "\n",
    "c02_all_dict = load_imgs_from_object_dict(objects_randomized,\n",
    "                                            zarr_url_dict,\n",
    "                                            channel_index = 1,\n",
    "                                            level=1,\n",
    "                                            roi_name = roi_name, \n",
    "                                            reset_origin=False)\n",
    "\n",
    "c03_all_dict = load_imgs_from_object_dict(objects_randomized,\n",
    "                                            zarr_url_dict,\n",
    "                                            channel_index = 2,\n",
    "                                            level=1,\n",
    "                                            roi_name = roi_name, \n",
    "                                            reset_origin=False)\n",
    "c04_all_dict = load_imgs_from_object_dict(objects_randomized,\n",
    "                                            zarr_url_dict,\n",
    "                                            channel_index = 3,\n",
    "                                            level=1,\n",
    "                                            roi_name = roi_name, \n",
    "                                            reset_origin=False)\n",
    "\n"
   ]
  },
  {
   "cell_type": "code",
   "execution_count": null,
   "id": "f06bc892",
   "metadata": {
    "scrolled": false
   },
   "outputs": [],
   "source": [
    "plot_image_grid(c01_all_dict)"
   ]
  },
  {
   "cell_type": "code",
   "execution_count": null,
   "id": "1663aa94",
   "metadata": {},
   "outputs": [],
   "source": [
    "plot_single_image(c01_all_dict, cond = 'd3-P1.02', plate_id = '20230712-d3-P1', well_id = 'D02', org_id = '32')\n",
    "\n"
   ]
  },
  {
   "cell_type": "markdown",
   "id": "7155029b",
   "metadata": {},
   "source": [
    "## Visualize RGB"
   ]
  },
  {
   "cell_type": "code",
   "execution_count": null,
   "id": "4d3ae28a",
   "metadata": {
    "scrolled": false
   },
   "outputs": [],
   "source": [
    "plot_rgb_grid(c03_all_dict, c02_all_dict, c01_all_dict, ncols=None, min_quantile = 0, max_quantile = 0.9,\n",
    "             global_norm = False, auto_range = True, ranges = ())"
   ]
  },
  {
   "cell_type": "markdown",
   "id": "d015ffba",
   "metadata": {},
   "source": [
    "## Visualize heatmap"
   ]
  },
  {
   "cell_type": "markdown",
   "id": "92fe01fe",
   "metadata": {},
   "source": [
    "# USER INPUT"
   ]
  },
  {
   "cell_type": "code",
   "execution_count": null,
   "id": "b9127f4f",
   "metadata": {},
   "outputs": [],
   "source": [
    "# add timepoint column to dataframe; might need to modify parsing!\n",
    "df[\"timepoint\"] = df['plate_id'].str.split('-', 2, expand=True)[1]\n",
    "df.head(2)"
   ]
  },
  {
   "cell_type": "markdown",
   "id": "e1ca2920",
   "metadata": {},
   "source": [
    "# END USER INPUT"
   ]
  },
  {
   "cell_type": "markdown",
   "id": "78126dd8",
   "metadata": {},
   "source": [
    "## Heatmap plate visualization: number of organoids per plate"
   ]
  },
  {
   "cell_type": "code",
   "execution_count": null,
   "id": "862eb731",
   "metadata": {},
   "outputs": [],
   "source": [
    "for plate in np.unique(df['plate_id']):\n",
    "    df_hm = build_heatmap_df(plate_size = 96)\n",
    "    df_plt = df[(df.plate_id == plate)].copy(deep = True)\n",
    "    df_plt['count'] = 1\n",
    "    grouped = df_plt.groupby([\"well_id\"])['count'].count().to_frame()\n",
    "    \n",
    "    for well in grouped.index:\n",
    "        df_hm.loc[well[0], well[1:]] = grouped.loc[well]['count']\n",
    "    \n",
    "    vmin = min(df_hm.min().dropna())\n",
    "    vmax = max(df_hm.max().dropna())\n",
    "    hm = plot_heatmap(df_hm, 'viridis', annot = True, vmin = vmin, vmax = vmax)\n",
    "    \n",
    "    hm.set_title(plate + \"\\n\", loc = 'left')\n",
    "    plt.subplots_adjust(top = 0.6)\n",
    "                \n"
   ]
  },
  {
   "cell_type": "markdown",
   "id": "ad89eb46",
   "metadata": {},
   "source": [
    "## Jitterplot visualization: organoid features per timepoint"
   ]
  },
  {
   "cell_type": "code",
   "execution_count": null,
   "id": "d0e1de4e",
   "metadata": {},
   "outputs": [],
   "source": [
    "plt.figure(figsize= (16,10))\n",
    "\n",
    "\n",
    "plt.subplot(2, 3, 1)\n",
    "cx = sns.stripplot(x=\"timepoint\", y=\"area_pix\", data=df, size=3, palette = husl)\n",
    "plt.title(\"area_pix\", fontsize=12)\n",
    "\n",
    "plt.subplot(2, 3, 2)\n",
    "cx = sns.stripplot(x=\"timepoint\", y=\"circularity\", data=df, size=3, palette = husl)\n",
    "plt.title(\"circularity\", fontsize=12)\n",
    "\n",
    "plt.subplot(2, 3, 3)\n",
    "cx = sns.stripplot(x=\"timepoint\", y=\"disconnected_components\", data=df, size=3, palette = husl)\n",
    "plt.title(\"disconnected_components\", fontsize=12)\n",
    "\n",
    "plt.subplot(2, 3, 4)\n",
    "cx = sns.stripplot(x=\"timepoint\", y=\"C01.mean_intensity\", data=df, size=3, palette = husl)\n",
    "plt.title(\"C01.mean_intensity\", fontsize=12)\n",
    "\n",
    "plt.subplot(2, 3, 5)\n",
    "cx = sns.stripplot(x=\"timepoint\", y=\"is_touching_border_xy\", data=df, size=3, palette = husl)\n",
    "plt.title(\"is_touching_border_xy\", fontsize=12)\n",
    "\n",
    "plt.subplot(2, 3, 6)\n",
    "cx = sns.stripplot(x=\"timepoint\", y=\"C02.mean_intensity\", data=df, size=3, palette = husl)\n",
    "plt.title(\"C02.mean_intensity\", fontsize=12)\n",
    "\n",
    "\n",
    "\n",
    "\n",
    "plt.show()"
   ]
  },
  {
   "cell_type": "markdown",
   "id": "d0e3e518",
   "metadata": {},
   "source": [
    "## Filter organoids by features, per timepoint"
   ]
  },
  {
   "cell_type": "markdown",
   "id": "6552e654",
   "metadata": {},
   "source": [
    "# USER INPUT"
   ]
  },
  {
   "cell_type": "code",
   "execution_count": null,
   "id": "7f901ab9",
   "metadata": {},
   "outputs": [],
   "source": [
    "features_filt = ['area_pix','circularity', 'C01.mean_intensity']\n",
    "\n",
    "#initialize dictionary for storing desired quantiles\n",
    "q = {} \n",
    "for tp in df[\"timepoint\"].unique():\n",
    "    q[tp] = {}\n",
    "    for feat in features_filt:\n",
    "        if feat == 'area_pix':\n",
    "            q[tp][feat] = [0.01, 0.999] \n",
    "        elif feat == 'circularity':\n",
    "            if tp == 'd5':\n",
    "                q[tp][feat] = [0., 0.85] # remove objects with high circularity at later tps\n",
    "            else:\n",
    "                q[tp][feat] = [0., 1.]\n",
    "        elif feat == 'C01.mean_intensity':\n",
    "            q[tp][feat] = [0.02, 1.0] \n",
    "        else: \n",
    "            q[tp][feat] = [0.05, 1.0]\n",
    "\n",
    "\n"
   ]
  },
  {
   "cell_type": "markdown",
   "id": "9c37df59",
   "metadata": {},
   "source": [
    "# END USER INPUT"
   ]
  },
  {
   "cell_type": "code",
   "execution_count": null,
   "id": "bffbb806",
   "metadata": {
    "scrolled": true
   },
   "outputs": [],
   "source": [
    "##Calculate z-score by plate or timepoint\n",
    "for feat in features_filt:\n",
    "    df[feat+\"_z\"] = df.groupby([\"timepoint\"])[feat].transform(lambda x : zscore(x,ddof=0))\n",
    "\n",
    "##Filter based on z_score \n",
    "df_filtered = pd.DataFrame()\n",
    "org_to_omit_q = []\n",
    "\n",
    "inv_tp = {}\n",
    "\n",
    "for tp in df[\"timepoint\"].unique():\n",
    "    df_tp = df.loc[(df[\"timepoint\"] == tp)]\n",
    "    for feat in features_filt:\n",
    "        tp_org_to_omit_q=[]\n",
    "        #quantile based on dictionary value specified above, unique quantile for each tp and filter\n",
    "        qval1=np.quantile(df_tp[feat+\"_z\"],q[tp][feat][0])\n",
    "        qval2=np.quantile(df_tp[feat+\"_z\"],q[tp][feat][1])\n",
    "        #save qval in quantile dictionary for plotting\n",
    "        q[tp][feat].append(qval1)\n",
    "        q[tp][feat].append(qval2)\n",
    "        temp_removed = df_tp.loc[(df_tp[feat+\"_z\"]<qval1) | (df_tp[feat+\"_z\"]>qval2)]\n",
    "        \n",
    "        org_to_omit_q.append(temp_removed[\"oUID_tuple\"].unique())\n",
    "        tp_org_to_omit_q.append(temp_removed[\"oUID_tuple\"].unique())\n",
    "\n",
    "        tp_org_to_omit_q= np.unique(np.concatenate(tp_org_to_omit_q))\n",
    "        # add to dictionary\n",
    "        inv_tp[tp + \"_\" + feat] = tp_org_to_omit_q\n",
    "    \n",
    "        \n",
    "        print(\"Omitted\", len(temp_removed[\"oUID_tuple\"].unique()), \"organoids based on\", feat, \"in timepoint\", tp)\n",
    "\n",
    "\n",
    "#List of organoids to remove\n",
    "org_to_omit_q = np.unique(np.concatenate(org_to_omit_q))\n",
    "\n",
    "df_r = df[df[\"oUID_tuple\"].isin(org_to_omit_q)] #dataframe of removed organoids\n",
    "#display(df1_r)\n",
    "\n",
    "#print(\"These \", len(org_to_omit_q), \"organoid_IDs have been removed during quantile filter:\", org_to_omit_q)\n",
    "     "
   ]
  },
  {
   "cell_type": "code",
   "execution_count": null,
   "id": "18b4ff23",
   "metadata": {
    "scrolled": false
   },
   "outputs": [],
   "source": [
    "#Plot histograms of features and cutoffs \n",
    "for feat in features_filt:\n",
    "    #graph histogram\n",
    "    plt.figure(figsize=(9,6))\n",
    "    sns.swarmplot(x=\"timepoint\", y=feat+\"_z\", data=df, size =3, palette = husl)\n",
    "    plt.title(feat+\"_z\", fontsize=12)\n",
    "    \n",
    "    for n,tp in enumerate(df[\"timepoint\"].unique()):\n",
    "        m = len(df[\"timepoint\"].unique())\n",
    "        plt.axhline(q[tp][feat][2], xmin=(n/m+(0.1/m)), xmax=(n/m+(0.9/m)), color = 'r')\n",
    "        plt.axhline(q[tp][feat][3], xmin=(n/m+(0.1/m)), xmax=(n/m+(0.9/m)), color = 'r')"
   ]
  },
  {
   "cell_type": "markdown",
   "id": "d103c3f4",
   "metadata": {},
   "source": [
    "## Plot removed organoids"
   ]
  },
  {
   "cell_type": "code",
   "execution_count": null,
   "id": "48278ed2",
   "metadata": {
    "scrolled": true
   },
   "outputs": [],
   "source": [
    "objects_randomized = randomize_object_dict(inv_tp, n_obj = 6, seed = 3)\n",
    "#objects_randomized\n"
   ]
  },
  {
   "cell_type": "code",
   "execution_count": null,
   "id": "7ff2e397",
   "metadata": {},
   "outputs": [],
   "source": [
    "filt_npimg_dict = load_imgs_from_object_dict(objects_randomized,\n",
    "                                            zarr_url_dict,\n",
    "                                            channel_index = 0,\n",
    "                                            level=0,\n",
    "                                            roi_name = roi_name, \n",
    "                                            reset_origin=False)"
   ]
  },
  {
   "cell_type": "code",
   "execution_count": null,
   "id": "04472124",
   "metadata": {},
   "outputs": [],
   "source": [
    "plot_image_grid(filt_npimg_dict)"
   ]
  },
  {
   "cell_type": "markdown",
   "id": "0e284a5d",
   "metadata": {},
   "source": [
    "## Remove organoids from source and plot cleaned-up dataset"
   ]
  },
  {
   "cell_type": "markdown",
   "id": "e8f658a4",
   "metadata": {},
   "source": [
    "# USER INPUT"
   ]
  },
  {
   "cell_type": "code",
   "execution_count": null,
   "id": "de283b38",
   "metadata": {},
   "outputs": [],
   "source": [
    "\n",
    "#Remove organoids that are in removal list\n",
    "df_filtered = df.drop(df[df[\"oUID_tuple\"].isin(org_to_omit_q)].index)\n",
    "\n",
    "\n",
    "\n",
    "# remove organoids that are positive for these:           \n",
    "df_filtered.drop(df_filtered[df_filtered['disconnected_components'] == 1.0].index, inplace = True)\n",
    "df_filtered.drop(df_filtered[df_filtered['is_touching_border_xy'] == 1.0].index, inplace = True)"
   ]
  },
  {
   "cell_type": "code",
   "execution_count": null,
   "id": "608c29b7",
   "metadata": {},
   "outputs": [],
   "source": [
    "# drop any unwanted conditions (only from DF, not from image plotting objects!)\n",
    "#df_filtered.drop(df_filtered[df_filtered['condition'] == \"d5-P2.05\"].index, inplace = True)"
   ]
  },
  {
   "cell_type": "markdown",
   "id": "fdc9b253",
   "metadata": {},
   "source": [
    "# END USER INPUT"
   ]
  },
  {
   "cell_type": "code",
   "execution_count": null,
   "id": "29534ee3",
   "metadata": {},
   "outputs": [],
   "source": [
    "# remove from filtered organoids plotting dictionary\n",
    "all_objects = make_object_dict(inv_cond, zarr_url_dict, roi_name)\n",
    "\n",
    "objects_filtered = make_filtered_dict(all_objects, org_to_omit_q, omit_my_list = True)\n"
   ]
  },
  {
   "cell_type": "code",
   "execution_count": null,
   "id": "854d725c",
   "metadata": {},
   "outputs": [],
   "source": [
    "# randomize and load images\n",
    "\n",
    "objects_randomized = randomize_object_dict(objects_filtered, n_obj = 6, seed = 9)\n",
    "\n",
    "c01_filt_dict = load_imgs_from_object_dict(objects_randomized,\n",
    "                                            zarr_url_dict,\n",
    "                                            channel_index = 0,\n",
    "                                            level=1,\n",
    "                                            roi_name = roi_name, \n",
    "                                            reset_origin=False)\n",
    "\n",
    "c02_filt_dict = load_imgs_from_object_dict(objects_randomized,\n",
    "                                            zarr_url_dict,\n",
    "                                            channel_index = 1,\n",
    "                                            level=1,\n",
    "                                            roi_name = roi_name, \n",
    "                                            reset_origin=False)\n",
    "\n",
    "c03_filt_dict = load_imgs_from_object_dict(objects_randomized,\n",
    "                                            zarr_url_dict,\n",
    "                                            channel_index = 2,\n",
    "                                            level=1,\n",
    "                                            roi_name = roi_name, \n",
    "                                            reset_origin=False)\n",
    "c04_filt_dict = load_imgs_from_object_dict(objects_randomized,\n",
    "                                            zarr_url_dict,\n",
    "                                            channel_index = 3,\n",
    "                                            level=1,\n",
    "                                            roi_name = roi_name, \n",
    "                                            reset_origin=False)\n"
   ]
  },
  {
   "cell_type": "code",
   "execution_count": null,
   "id": "cd55f329",
   "metadata": {
    "scrolled": false
   },
   "outputs": [],
   "source": [
    "plot_rgb_grid(c03_filt_dict, c02_filt_dict, c01_filt_dict, ncols=None, min_quantile = 0, max_quantile = 0.9,\n",
    "                      global_norm = True, auto_range = True, ranges = ())"
   ]
  },
  {
   "cell_type": "code",
   "execution_count": null,
   "id": "64b8fb86",
   "metadata": {},
   "outputs": [],
   "source": [
    "c03_filt_dict"
   ]
  },
  {
   "cell_type": "code",
   "execution_count": null,
   "id": "5d5a410f",
   "metadata": {},
   "outputs": [],
   "source": [
    "plot_single_rgb(c03_filt_dict, c02_filt_dict, c01_filt_dict, cond = 'd3-P1.02', \n",
    "                plate_id = '20230712-d3-P1', well_id = 'C02', org_id = '56')\n",
    "\n",
    " "
   ]
  },
  {
   "cell_type": "markdown",
   "id": "18dc62a5",
   "metadata": {},
   "source": [
    "## Plot organoid-level feature data across conditions"
   ]
  },
  {
   "cell_type": "code",
   "execution_count": null,
   "id": "120896d6",
   "metadata": {},
   "outputs": [],
   "source": [
    "df_filtered.head(2)"
   ]
  },
  {
   "cell_type": "code",
   "execution_count": null,
   "id": "ef01552c",
   "metadata": {},
   "outputs": [],
   "source": [
    "plot_heatmap_means(df_filtered, feature = 'C03.mean_intensity', plate_size = 96, vmax_multiplier=0.5)"
   ]
  },
  {
   "cell_type": "code",
   "execution_count": null,
   "id": "7ea115c2",
   "metadata": {
    "scrolled": false
   },
   "outputs": [],
   "source": [
    "plot_feature_violin(df_filtered, colname = 'C03.mean_intensity')"
   ]
  },
  {
   "cell_type": "markdown",
   "id": "e71c9912",
   "metadata": {},
   "source": [
    "## Filter positive/negative organoids with threshold cutoff and plot "
   ]
  },
  {
   "cell_type": "code",
   "execution_count": null,
   "id": "cdaa3e99",
   "metadata": {},
   "outputs": [],
   "source": [
    "df_filtered, grouped = count_positive_fraction(df_filtered, colname = 'C03.mean_intensity', thresh = 2000)\n",
    "plot_positive_fraction(grouped)\n"
   ]
  },
  {
   "cell_type": "code",
   "execution_count": null,
   "id": "a6b7096e",
   "metadata": {
    "scrolled": false
   },
   "outputs": [],
   "source": [
    "plot_pos_and_neg_sets(df_filtered, grouped, inv_cond, \n",
    "                          zarr_url_dict, roi_name, n_obj=6, seed=3, level=1, \n",
    "                          min_quantile=0, max_quantile=0.88,\n",
    "                          r_ch_idx =2, g_ch_idx=1, b_ch_idx=0)"
   ]
  },
  {
   "cell_type": "markdown",
   "id": "3060889b",
   "metadata": {},
   "source": [
    "## Repeat with another marker"
   ]
  },
  {
   "cell_type": "code",
   "execution_count": null,
   "id": "e9a49ae5",
   "metadata": {},
   "outputs": [],
   "source": [
    "plot_heatmap_means(df_filtered, feature = 'C02.max_intensity', plate_size = 96, vmax_multiplier=0.1)"
   ]
  },
  {
   "cell_type": "code",
   "execution_count": null,
   "id": "50da2289",
   "metadata": {},
   "outputs": [],
   "source": [
    "#df_filtered['C02.sum_intensity'] = df_filtered['area_pix'] * df_filtered['C02.mean_intensity']\n",
    "plot_feature_violin(df_filtered, colname = 'C02.max_intensity') "
   ]
  },
  {
   "cell_type": "code",
   "execution_count": null,
   "id": "c17e8621",
   "metadata": {},
   "outputs": [],
   "source": [
    "df_filtered, grouped = count_positive_fraction(df_filtered, colname = 'C02.max_intensity', thresh = 5000)\n",
    "\n",
    "plot_positive_fraction(grouped)"
   ]
  },
  {
   "cell_type": "code",
   "execution_count": null,
   "id": "956080a1",
   "metadata": {
    "scrolled": false
   },
   "outputs": [],
   "source": [
    "plot_pos_and_neg_sets(df_filtered, grouped, inv_cond, \n",
    "                          zarr_url_dict, roi_name, n_obj=6, seed=2, level=1, \n",
    "                          min_quantile=0, max_quantile=0.88,\n",
    "                          r_ch_idx =2, g_ch_idx=1, b_ch_idx=0)"
   ]
  },
  {
   "cell_type": "code",
   "execution_count": null,
   "id": "8138c70b",
   "metadata": {},
   "outputs": [],
   "source": [
    "df_filtered['area_diff'] = df_filtered['area_convhull'] - df_filtered['area_pix']"
   ]
  },
  {
   "cell_type": "code",
   "execution_count": null,
   "id": "20cb0927",
   "metadata": {},
   "outputs": [],
   "source": [
    "plot_feature_violin(df_filtered, colname = 'area_diff')"
   ]
  },
  {
   "cell_type": "code",
   "execution_count": null,
   "id": "65314d62",
   "metadata": {},
   "outputs": [],
   "source": []
  }
 ],
 "metadata": {
  "kernelspec": {
   "display_name": "featX3D-dev",
   "language": "python",
   "name": "featx3d-dev"
  },
  "language_info": {
   "codemirror_mode": {
    "name": "ipython",
    "version": 3
   },
   "file_extension": ".py",
   "mimetype": "text/x-python",
   "name": "python",
   "nbconvert_exporter": "python",
   "pygments_lexer": "ipython3",
   "version": "3.9.17"
  }
 },
 "nbformat": 4,
 "nbformat_minor": 5
}
