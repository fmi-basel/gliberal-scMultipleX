{
 "cells": [
  {
   "cell_type": "code",
   "execution_count": 1,
   "metadata": {},
   "outputs": [],
   "source": [
    "from faim_hcs.hcs.Experiment import Experiment\n",
    "from faim_hcs.records.PlateRecord import PlateRecord\n",
    "from faim_hcs.records.WellRecord import WellRecord\n",
    "from faim_hcs.records.OrganoidRecord import OrganoidRecord\n",
    "\n",
    "from glob import glob\n",
    "\n",
    "from os.path import join\n",
    "\n",
    "from os.path import isdir, dirname, split, basename, splitext, exists\n",
    "from tqdm.notebook import tqdm\n",
    "\n",
    "import re\n",
    "\n",
    "import pandas as pd\n",
    "\n",
    "from skimage.measure import regionprops, label\n",
    "from skimage.morphology import binary_erosion\n",
    "import numpy as np\n",
    "import math \n",
    "import copy\n",
    "import scipy\n",
    "\n",
    "from matching import matching\n",
    "\n",
    "pd.set_option(\"display.max_rows\", 200)"
   ]
  },
  {
   "cell_type": "code",
   "execution_count": 2,
   "metadata": {},
   "outputs": [],
   "source": [
    "#Notes\n",
    "#MIPs (raw) and segmentation of OVR in overview dataframe?\n",
    "#bug in well.save() ?\n"
   ]
  },
  {
   "cell_type": "code",
   "execution_count": 3,
   "metadata": {},
   "outputs": [],
   "source": [
    "# Create a new HCS experiment\n",
    "# name: Name of the experiment\n",
    "# root_dir: Root directory of the image data\n",
    "# save_dir: Directory where the experiment is saved. Should be different from the root_dir. This\n",
    "#           is where the measurements are stored.\n",
    "\n",
    "exp = Experiment(name='20220507GCPLEX_R3', \n",
    "                 root_dir='/tungstenfs/scratch/gliberal/Users/repinico/Yokogawa/20220507GCPLEX_R3', \n",
    "                 save_dir='/tungstenfs/scratch/gliberal/Users/repinico/Microscopy/Analysis/20220528_GCPLEX_redo')\n",
    "\n",
    "# exp = Experiment(name='20220121_ElutionD3D5_featXtest_R0', \n",
    "#                  root_dir='/tungstenfs/scratch/gliberal/Users/repinico/Yokogawa/20220121_ElutionD3D5_featXtest_R0', \n",
    "#                  save_dir='/tungstenfs/scratch/gliberal/Users/repinico/Microscopy/FeatXtesting')"
   ]
  },
  {
   "cell_type": "code",
   "execution_count": 4,
   "metadata": {},
   "outputs": [],
   "source": [
    "# List directories in root_dir. In this dataset all directories correspond to a plate.\n",
    "# Add a new PlateRecord for each found directory.\n",
    "# experiment: The HCS Experiment we created above.\n",
    "# plate_id: The name of the plate e.g. the directory name.\n",
    "# save_dir: The directory in which this plate is saved to disk. The measurements will be in this direcotry.\n",
    "\n",
    "plates = glob(exp.root_dir + \"/*\")\n",
    "\n",
    "for p in plates:\n",
    "    if isdir(p):\n",
    "        plate = PlateRecord(experiment=exp, \n",
    "                            plate_id=split(p)[1], save_dir=exp.get_experiment_dir())"
   ]
  },
  {
   "cell_type": "code",
   "execution_count": 5,
   "metadata": {},
   "outputs": [],
   "source": [
    "# Parsing the directory and find all wells, well-overviews, well-segmentations, objects, and object-segmentations.\n",
    "\n",
    "# NOTE: This parsing is specifically for the example dir from Nicole. If you want to parse another experiment you might \n",
    "# have to adapt this. \n",
    "\n",
    "well_regex = re.compile(\"_[A-Z]{1}[0-9]{2}_\")\n",
    "\n",
    "raw_ch_regex = re.compile(\"C[0-9]{2}O.*_TIF-OVR.tif\")\n",
    "#raw_ch_regex = re.compile(\"C[0-9]{2}O.*_TIF-OVR_bin.tif\")\n",
    "mask_ending = \"MASK\"\n",
    "#mask_ending = \"MASK_bin\"\n",
    "nuc_ending = \"NUC_SEG3D_220523\" #load segmentation images\n",
    "mem_ending = \"MEM_SEG3D_220523\" #load segmentation images\n",
    "\n",
    "#nuc_seg_regex = re.compile(\"_NUC_SEG.*.tif\") #add here the neural network name\n",
    "mask_regex = re.compile(mask_ending + \".tif\")\n",
    "nuc_seg_regex = re.compile(nuc_ending + \".tif\")\n",
    "cell_seg_regex = re.compile(mem_ending + \".tif\")"
   ]
  },
  {
   "cell_type": "code",
   "execution_count": 6,
   "metadata": {
    "scrolled": true,
    "tags": []
   },
   "outputs": [
    {
     "data": {
      "application/vnd.jupyter.widget-view+json": {
       "model_id": "61d2e70423e34215b90e5aab5ebce48f",
       "version_major": 2,
       "version_minor": 0
      },
      "text/plain": [
       "  0%|          | 0/7 [00:00<?, ?it/s]"
      ]
     },
     "metadata": {},
     "output_type": "display_data"
    },
    {
     "data": {
      "application/vnd.jupyter.widget-view+json": {
       "model_id": "88a3b78567834edca4ab1fcb9864a7fc",
       "version_major": 2,
       "version_minor": 0
      },
      "text/plain": [
       "  0%|          | 0/83 [00:00<?, ?it/s]"
      ]
     },
     "metadata": {},
     "output_type": "display_data"
    },
    {
     "data": {
      "application/vnd.jupyter.widget-view+json": {
       "model_id": "55e32a4c3bd84cb0ada7db32e30b37f0",
       "version_major": 2,
       "version_minor": 0
      },
      "text/plain": [
       "  0%|          | 0/83 [00:00<?, ?it/s]"
      ]
     },
     "metadata": {},
     "output_type": "display_data"
    },
    {
     "data": {
      "application/vnd.jupyter.widget-view+json": {
       "model_id": "da0b3208d9f74ab0a6032728b0acb703",
       "version_major": 2,
       "version_minor": 0
      },
      "text/plain": [
       "  0%|          | 0/83 [00:00<?, ?it/s]"
      ]
     },
     "metadata": {},
     "output_type": "display_data"
    },
    {
     "data": {
      "application/vnd.jupyter.widget-view+json": {
       "model_id": "23d88d7f655944f1aa9c1903d1841b13",
       "version_major": 2,
       "version_minor": 0
      },
      "text/plain": [
       "  0%|          | 0/109 [00:00<?, ?it/s]"
      ]
     },
     "metadata": {},
     "output_type": "display_data"
    },
    {
     "data": {
      "application/vnd.jupyter.widget-view+json": {
       "model_id": "91eeea33bff3456d8075663a019959fb",
       "version_major": 2,
       "version_minor": 0
      },
      "text/plain": [
       "  0%|          | 0/109 [00:00<?, ?it/s]"
      ]
     },
     "metadata": {},
     "output_type": "display_data"
    },
    {
     "data": {
      "application/vnd.jupyter.widget-view+json": {
       "model_id": "10b7e5d6380f4a88bf25957bca520c5b",
       "version_major": 2,
       "version_minor": 0
      },
      "text/plain": [
       "  0%|          | 0/109 [00:00<?, ?it/s]"
      ]
     },
     "metadata": {},
     "output_type": "display_data"
    },
    {
     "data": {
      "application/vnd.jupyter.widget-view+json": {
       "model_id": "5c94e3f2b7c04a6994de71944150ed97",
       "version_major": 2,
       "version_minor": 0
      },
      "text/plain": [
       "  0%|          | 0/83 [00:00<?, ?it/s]"
      ]
     },
     "metadata": {},
     "output_type": "display_data"
    },
    {
     "data": {
      "application/vnd.jupyter.widget-view+json": {
       "model_id": "bc83b8b06f924dca9e44ba005f31c116",
       "version_major": 2,
       "version_minor": 0
      },
      "text/plain": [
       "  0%|          | 0/83 [00:00<?, ?it/s]"
      ]
     },
     "metadata": {},
     "output_type": "display_data"
    },
    {
     "data": {
      "application/vnd.jupyter.widget-view+json": {
       "model_id": "6771ccf3e116401186b158314836395a",
       "version_major": 2,
       "version_minor": 0
      },
      "text/plain": [
       "  0%|          | 0/83 [00:00<?, ?it/s]"
      ]
     },
     "metadata": {},
     "output_type": "display_data"
    },
    {
     "data": {
      "application/vnd.jupyter.widget-view+json": {
       "model_id": "63558fd00af8403fa081956b0242c6ba",
       "version_major": 2,
       "version_minor": 0
      },
      "text/plain": [
       "  0%|          | 0/81 [00:00<?, ?it/s]"
      ]
     },
     "metadata": {},
     "output_type": "display_data"
    },
    {
     "data": {
      "application/vnd.jupyter.widget-view+json": {
       "model_id": "50dbd743998f4b97a5a0d1d556cc51dd",
       "version_major": 2,
       "version_minor": 0
      },
      "text/plain": [
       "  0%|          | 0/81 [00:00<?, ?it/s]"
      ]
     },
     "metadata": {},
     "output_type": "display_data"
    },
    {
     "data": {
      "application/vnd.jupyter.widget-view+json": {
       "model_id": "2b0697188b9f4c2aa5d0be7523321212",
       "version_major": 2,
       "version_minor": 0
      },
      "text/plain": [
       "  0%|          | 0/83 [00:00<?, ?it/s]"
      ]
     },
     "metadata": {},
     "output_type": "display_data"
    },
    {
     "data": {
      "application/vnd.jupyter.widget-view+json": {
       "model_id": "d015fe5e9d3a4cb49b2296497e552f15",
       "version_major": 2,
       "version_minor": 0
      },
      "text/plain": [
       "  0%|          | 0/81 [00:00<?, ?it/s]"
      ]
     },
     "metadata": {},
     "output_type": "display_data"
    },
    {
     "data": {
      "application/vnd.jupyter.widget-view+json": {
       "model_id": "64162c4c2755425f82949f103d01517f",
       "version_major": 2,
       "version_minor": 0
      },
      "text/plain": [
       "  0%|          | 0/109 [00:00<?, ?it/s]"
      ]
     },
     "metadata": {},
     "output_type": "display_data"
    },
    {
     "data": {
      "application/vnd.jupyter.widget-view+json": {
       "model_id": "21abc7eada764de59163d2b652559623",
       "version_major": 2,
       "version_minor": 0
      },
      "text/plain": [
       "  0%|          | 0/83 [00:00<?, ?it/s]"
      ]
     },
     "metadata": {},
     "output_type": "display_data"
    },
    {
     "data": {
      "application/vnd.jupyter.widget-view+json": {
       "model_id": "82117c8e965c4820b0aaad7f3bc8113b",
       "version_major": 2,
       "version_minor": 0
      },
      "text/plain": [
       "  0%|          | 0/81 [00:00<?, ?it/s]"
      ]
     },
     "metadata": {},
     "output_type": "display_data"
    },
    {
     "data": {
      "application/vnd.jupyter.widget-view+json": {
       "model_id": "ec78e4b47fb84f1eb404b7430a6c16c9",
       "version_major": 2,
       "version_minor": 0
      },
      "text/plain": [
       "  0%|          | 0/66 [00:00<?, ?it/s]"
      ]
     },
     "metadata": {},
     "output_type": "display_data"
    },
    {
     "data": {
      "application/vnd.jupyter.widget-view+json": {
       "model_id": "2caffa18881e4b5fa919cc8416da0301",
       "version_major": 2,
       "version_minor": 0
      },
      "text/plain": [
       "  0%|          | 0/66 [00:00<?, ?it/s]"
      ]
     },
     "metadata": {},
     "output_type": "display_data"
    },
    {
     "data": {
      "application/vnd.jupyter.widget-view+json": {
       "model_id": "e4681ede844d4faf8f593f6178b3387b",
       "version_major": 2,
       "version_minor": 0
      },
      "text/plain": [
       "  0%|          | 0/66 [00:00<?, ?it/s]"
      ]
     },
     "metadata": {},
     "output_type": "display_data"
    },
    {
     "data": {
      "application/vnd.jupyter.widget-view+json": {
       "model_id": "4b325d659ca24a9eb6816f989c188aee",
       "version_major": 2,
       "version_minor": 0
      },
      "text/plain": [
       "  0%|          | 0/76 [00:00<?, ?it/s]"
      ]
     },
     "metadata": {},
     "output_type": "display_data"
    },
    {
     "data": {
      "application/vnd.jupyter.widget-view+json": {
       "model_id": "e5618b4b24cf469bb1cd8ec8b27d6040",
       "version_major": 2,
       "version_minor": 0
      },
      "text/plain": [
       "  0%|          | 0/76 [00:00<?, ?it/s]"
      ]
     },
     "metadata": {},
     "output_type": "display_data"
    },
    {
     "data": {
      "application/vnd.jupyter.widget-view+json": {
       "model_id": "09dff80ecb4d4ce39ef3579fe4c666e0",
       "version_major": 2,
       "version_minor": 0
      },
      "text/plain": [
       "  0%|          | 0/76 [00:00<?, ?it/s]"
      ]
     },
     "metadata": {},
     "output_type": "display_data"
    },
    {
     "data": {
      "application/vnd.jupyter.widget-view+json": {
       "model_id": "a9001ba8a43d41e4bbc1aa993db275f3",
       "version_major": 2,
       "version_minor": 0
      },
      "text/plain": [
       "  0%|          | 0/41 [00:00<?, ?it/s]"
      ]
     },
     "metadata": {},
     "output_type": "display_data"
    },
    {
     "data": {
      "application/vnd.jupyter.widget-view+json": {
       "model_id": "6310fb8725f64a8ab9ec3de51f9f1c81",
       "version_major": 2,
       "version_minor": 0
      },
      "text/plain": [
       "  0%|          | 0/41 [00:00<?, ?it/s]"
      ]
     },
     "metadata": {},
     "output_type": "display_data"
    },
    {
     "data": {
      "application/vnd.jupyter.widget-view+json": {
       "model_id": "f7a04593266f4533a210e681b86b956e",
       "version_major": 2,
       "version_minor": 0
      },
      "text/plain": [
       "  0%|          | 0/66 [00:00<?, ?it/s]"
      ]
     },
     "metadata": {},
     "output_type": "display_data"
    },
    {
     "data": {
      "application/vnd.jupyter.widget-view+json": {
       "model_id": "0945bf94329c4104abd6681e581533cb",
       "version_major": 2,
       "version_minor": 0
      },
      "text/plain": [
       "  0%|          | 0/51 [00:00<?, ?it/s]"
      ]
     },
     "metadata": {},
     "output_type": "display_data"
    },
    {
     "data": {
      "application/vnd.jupyter.widget-view+json": {
       "model_id": "e2bf3635f8f84805be510a67eae0d507",
       "version_major": 2,
       "version_minor": 0
      },
      "text/plain": [
       "  0%|          | 0/51 [00:00<?, ?it/s]"
      ]
     },
     "metadata": {},
     "output_type": "display_data"
    },
    {
     "data": {
      "application/vnd.jupyter.widget-view+json": {
       "model_id": "b61d22cd6f8f4261beb4e9613b2bed33",
       "version_major": 2,
       "version_minor": 0
      },
      "text/plain": [
       "  0%|          | 0/41 [00:00<?, ?it/s]"
      ]
     },
     "metadata": {},
     "output_type": "display_data"
    },
    {
     "data": {
      "application/vnd.jupyter.widget-view+json": {
       "model_id": "a4363276836f450bb5d54eabe5f54944",
       "version_major": 2,
       "version_minor": 0
      },
      "text/plain": [
       "  0%|          | 0/51 [00:00<?, ?it/s]"
      ]
     },
     "metadata": {},
     "output_type": "display_data"
    },
    {
     "data": {
      "application/vnd.jupyter.widget-view+json": {
       "model_id": "c43b315254bc40599ed53e9b8d840e7b",
       "version_major": 2,
       "version_minor": 0
      },
      "text/plain": [
       "  0%|          | 0/76 [00:00<?, ?it/s]"
      ]
     },
     "metadata": {},
     "output_type": "display_data"
    },
    {
     "data": {
      "application/vnd.jupyter.widget-view+json": {
       "model_id": "f2871fe1c6444fc8b64f5402115e2c2c",
       "version_major": 2,
       "version_minor": 0
      },
      "text/plain": [
       "  0%|          | 0/41 [00:00<?, ?it/s]"
      ]
     },
     "metadata": {},
     "output_type": "display_data"
    },
    {
     "data": {
      "application/vnd.jupyter.widget-view+json": {
       "model_id": "d9ae3379f6b942e989577eceef7b7cd6",
       "version_major": 2,
       "version_minor": 0
      },
      "text/plain": [
       "  0%|          | 0/51 [00:00<?, ?it/s]"
      ]
     },
     "metadata": {},
     "output_type": "display_data"
    },
    {
     "data": {
      "application/vnd.jupyter.widget-view+json": {
       "model_id": "b6a3150cb017477e86a6e8e5e65dc375",
       "version_major": 2,
       "version_minor": 0
      },
      "text/plain": [
       "  0%|          | 0/59 [00:00<?, ?it/s]"
      ]
     },
     "metadata": {},
     "output_type": "display_data"
    },
    {
     "data": {
      "application/vnd.jupyter.widget-view+json": {
       "model_id": "eeb4a10e7fbf41cfaa7c7965267202db",
       "version_major": 2,
       "version_minor": 0
      },
      "text/plain": [
       "  0%|          | 0/59 [00:00<?, ?it/s]"
      ]
     },
     "metadata": {},
     "output_type": "display_data"
    },
    {
     "data": {
      "application/vnd.jupyter.widget-view+json": {
       "model_id": "bc102f0a08464239abb68fad3c6ee3b4",
       "version_major": 2,
       "version_minor": 0
      },
      "text/plain": [
       "  0%|          | 0/59 [00:00<?, ?it/s]"
      ]
     },
     "metadata": {},
     "output_type": "display_data"
    },
    {
     "data": {
      "application/vnd.jupyter.widget-view+json": {
       "model_id": "22a1af79d98147b3bfcd801f48dc81b6",
       "version_major": 2,
       "version_minor": 0
      },
      "text/plain": [
       "  0%|          | 0/71 [00:00<?, ?it/s]"
      ]
     },
     "metadata": {},
     "output_type": "display_data"
    },
    {
     "data": {
      "application/vnd.jupyter.widget-view+json": {
       "model_id": "9860f6e1158847f38ecc58d1c41243b6",
       "version_major": 2,
       "version_minor": 0
      },
      "text/plain": [
       "  0%|          | 0/71 [00:00<?, ?it/s]"
      ]
     },
     "metadata": {},
     "output_type": "display_data"
    },
    {
     "data": {
      "application/vnd.jupyter.widget-view+json": {
       "model_id": "6983670161f348da9a61020af493286e",
       "version_major": 2,
       "version_minor": 0
      },
      "text/plain": [
       "  0%|          | 0/71 [00:00<?, ?it/s]"
      ]
     },
     "metadata": {},
     "output_type": "display_data"
    },
    {
     "data": {
      "application/vnd.jupyter.widget-view+json": {
       "model_id": "691c180dddf34a0c949ca98dd52a6d67",
       "version_major": 2,
       "version_minor": 0
      },
      "text/plain": [
       "  0%|          | 0/38 [00:00<?, ?it/s]"
      ]
     },
     "metadata": {},
     "output_type": "display_data"
    },
    {
     "data": {
      "application/vnd.jupyter.widget-view+json": {
       "model_id": "e9c37abe2d7a46aea604ec3ed154a701",
       "version_major": 2,
       "version_minor": 0
      },
      "text/plain": [
       "  0%|          | 0/38 [00:00<?, ?it/s]"
      ]
     },
     "metadata": {},
     "output_type": "display_data"
    },
    {
     "data": {
      "application/vnd.jupyter.widget-view+json": {
       "model_id": "e7862a7488714af181ce628f5f1d6819",
       "version_major": 2,
       "version_minor": 0
      },
      "text/plain": [
       "  0%|          | 0/59 [00:00<?, ?it/s]"
      ]
     },
     "metadata": {},
     "output_type": "display_data"
    },
    {
     "data": {
      "application/vnd.jupyter.widget-view+json": {
       "model_id": "831f3a4300e64559a0189985adcc056a",
       "version_major": 2,
       "version_minor": 0
      },
      "text/plain": [
       "  0%|          | 0/54 [00:00<?, ?it/s]"
      ]
     },
     "metadata": {},
     "output_type": "display_data"
    },
    {
     "data": {
      "application/vnd.jupyter.widget-view+json": {
       "model_id": "64e467baced5467c827c0e53301046b5",
       "version_major": 2,
       "version_minor": 0
      },
      "text/plain": [
       "  0%|          | 0/54 [00:00<?, ?it/s]"
      ]
     },
     "metadata": {},
     "output_type": "display_data"
    },
    {
     "data": {
      "application/vnd.jupyter.widget-view+json": {
       "model_id": "5b9c21e1f51d4bc4874f59c946053ade",
       "version_major": 2,
       "version_minor": 0
      },
      "text/plain": [
       "  0%|          | 0/38 [00:00<?, ?it/s]"
      ]
     },
     "metadata": {},
     "output_type": "display_data"
    },
    {
     "data": {
      "application/vnd.jupyter.widget-view+json": {
       "model_id": "02dd5e259c7945a486533e2bb0a9e48b",
       "version_major": 2,
       "version_minor": 0
      },
      "text/plain": [
       "  0%|          | 0/54 [00:00<?, ?it/s]"
      ]
     },
     "metadata": {},
     "output_type": "display_data"
    },
    {
     "data": {
      "application/vnd.jupyter.widget-view+json": {
       "model_id": "91777e4d154f4935b0aca4841f8ab4f0",
       "version_major": 2,
       "version_minor": 0
      },
      "text/plain": [
       "  0%|          | 0/71 [00:00<?, ?it/s]"
      ]
     },
     "metadata": {},
     "output_type": "display_data"
    },
    {
     "data": {
      "application/vnd.jupyter.widget-view+json": {
       "model_id": "f6d3993dc65a4a8a806cf4d1e91ba7b0",
       "version_major": 2,
       "version_minor": 0
      },
      "text/plain": [
       "  0%|          | 0/38 [00:00<?, ?it/s]"
      ]
     },
     "metadata": {},
     "output_type": "display_data"
    },
    {
     "data": {
      "application/vnd.jupyter.widget-view+json": {
       "model_id": "66a8640d99284b74b102650b13e1374e",
       "version_major": 2,
       "version_minor": 0
      },
      "text/plain": [
       "  0%|          | 0/54 [00:00<?, ?it/s]"
      ]
     },
     "metadata": {},
     "output_type": "display_data"
    },
    {
     "data": {
      "application/vnd.jupyter.widget-view+json": {
       "model_id": "a406db9b89584702a36022098e1f0d5b",
       "version_major": 2,
       "version_minor": 0
      },
      "text/plain": [
       "  0%|          | 0/97 [00:00<?, ?it/s]"
      ]
     },
     "metadata": {},
     "output_type": "display_data"
    },
    {
     "data": {
      "application/vnd.jupyter.widget-view+json": {
       "model_id": "c674c6a1d8464f5a8bd4ab072e2f5475",
       "version_major": 2,
       "version_minor": 0
      },
      "text/plain": [
       "  0%|          | 0/97 [00:00<?, ?it/s]"
      ]
     },
     "metadata": {},
     "output_type": "display_data"
    },
    {
     "data": {
      "application/vnd.jupyter.widget-view+json": {
       "model_id": "ad57b73679264703a7788d8e839dfe65",
       "version_major": 2,
       "version_minor": 0
      },
      "text/plain": [
       "  0%|          | 0/97 [00:00<?, ?it/s]"
      ]
     },
     "metadata": {},
     "output_type": "display_data"
    },
    {
     "data": {
      "application/vnd.jupyter.widget-view+json": {
       "model_id": "40a856c23187453f9751dce55ab04a34",
       "version_major": 2,
       "version_minor": 0
      },
      "text/plain": [
       "  0%|          | 0/71 [00:00<?, ?it/s]"
      ]
     },
     "metadata": {},
     "output_type": "display_data"
    },
    {
     "data": {
      "application/vnd.jupyter.widget-view+json": {
       "model_id": "8902a75077cd4eedb5fc45ce6fe2ecf9",
       "version_major": 2,
       "version_minor": 0
      },
      "text/plain": [
       "  0%|          | 0/71 [00:00<?, ?it/s]"
      ]
     },
     "metadata": {},
     "output_type": "display_data"
    },
    {
     "data": {
      "application/vnd.jupyter.widget-view+json": {
       "model_id": "82c6b592735f46909ce73a481ea678dc",
       "version_major": 2,
       "version_minor": 0
      },
      "text/plain": [
       "  0%|          | 0/71 [00:00<?, ?it/s]"
      ]
     },
     "metadata": {},
     "output_type": "display_data"
    },
    {
     "data": {
      "application/vnd.jupyter.widget-view+json": {
       "model_id": "a834139383ac4df2bce572e00a88b73b",
       "version_major": 2,
       "version_minor": 0
      },
      "text/plain": [
       "  0%|          | 0/89 [00:00<?, ?it/s]"
      ]
     },
     "metadata": {},
     "output_type": "display_data"
    },
    {
     "data": {
      "application/vnd.jupyter.widget-view+json": {
       "model_id": "83a424bac2c44a1296abf96ac2154718",
       "version_major": 2,
       "version_minor": 0
      },
      "text/plain": [
       "  0%|          | 0/89 [00:00<?, ?it/s]"
      ]
     },
     "metadata": {},
     "output_type": "display_data"
    },
    {
     "data": {
      "application/vnd.jupyter.widget-view+json": {
       "model_id": "53ee1645d4254748a4f871a4fa5243d4",
       "version_major": 2,
       "version_minor": 0
      },
      "text/plain": [
       "  0%|          | 0/97 [00:00<?, ?it/s]"
      ]
     },
     "metadata": {},
     "output_type": "display_data"
    },
    {
     "data": {
      "application/vnd.jupyter.widget-view+json": {
       "model_id": "15a549aa75964afe9ad077d8217b3959",
       "version_major": 2,
       "version_minor": 0
      },
      "text/plain": [
       "  0%|          | 0/75 [00:00<?, ?it/s]"
      ]
     },
     "metadata": {},
     "output_type": "display_data"
    },
    {
     "data": {
      "application/vnd.jupyter.widget-view+json": {
       "model_id": "e6f9371b5f504be7b6f8353d486a3994",
       "version_major": 2,
       "version_minor": 0
      },
      "text/plain": [
       "  0%|          | 0/75 [00:00<?, ?it/s]"
      ]
     },
     "metadata": {},
     "output_type": "display_data"
    },
    {
     "data": {
      "application/vnd.jupyter.widget-view+json": {
       "model_id": "6e14a1fcdc5c49b8bda3beaf734e8b17",
       "version_major": 2,
       "version_minor": 0
      },
      "text/plain": [
       "  0%|          | 0/89 [00:00<?, ?it/s]"
      ]
     },
     "metadata": {},
     "output_type": "display_data"
    },
    {
     "data": {
      "application/vnd.jupyter.widget-view+json": {
       "model_id": "46e23a1f5a36424680a624bbccd70237",
       "version_major": 2,
       "version_minor": 0
      },
      "text/plain": [
       "  0%|          | 0/75 [00:00<?, ?it/s]"
      ]
     },
     "metadata": {},
     "output_type": "display_data"
    },
    {
     "data": {
      "application/vnd.jupyter.widget-view+json": {
       "model_id": "52f6c26dbd8648a1ad19f01dd32b367e",
       "version_major": 2,
       "version_minor": 0
      },
      "text/plain": [
       "  0%|          | 0/71 [00:00<?, ?it/s]"
      ]
     },
     "metadata": {},
     "output_type": "display_data"
    },
    {
     "data": {
      "application/vnd.jupyter.widget-view+json": {
       "model_id": "8ec7bcddda014aa0aea62f4c2b7ff83e",
       "version_major": 2,
       "version_minor": 0
      },
      "text/plain": [
       "  0%|          | 0/89 [00:00<?, ?it/s]"
      ]
     },
     "metadata": {},
     "output_type": "display_data"
    },
    {
     "data": {
      "application/vnd.jupyter.widget-view+json": {
       "model_id": "5f9ed361a4854d5b9b5bca8051624bf6",
       "version_major": 2,
       "version_minor": 0
      },
      "text/plain": [
       "  0%|          | 0/75 [00:00<?, ?it/s]"
      ]
     },
     "metadata": {},
     "output_type": "display_data"
    },
    {
     "data": {
      "application/vnd.jupyter.widget-view+json": {
       "model_id": "a01ad7d8b5a14439a0ce39bafb4f3786",
       "version_major": 2,
       "version_minor": 0
      },
      "text/plain": [
       "  0%|          | 0/52 [00:00<?, ?it/s]"
      ]
     },
     "metadata": {},
     "output_type": "display_data"
    },
    {
     "data": {
      "application/vnd.jupyter.widget-view+json": {
       "model_id": "c0a8f4d8d4ea4ed284ac82c1520c918d",
       "version_major": 2,
       "version_minor": 0
      },
      "text/plain": [
       "  0%|          | 0/52 [00:00<?, ?it/s]"
      ]
     },
     "metadata": {},
     "output_type": "display_data"
    },
    {
     "data": {
      "application/vnd.jupyter.widget-view+json": {
       "model_id": "b0235d7673bc448893a76337960ea870",
       "version_major": 2,
       "version_minor": 0
      },
      "text/plain": [
       "  0%|          | 0/52 [00:00<?, ?it/s]"
      ]
     },
     "metadata": {},
     "output_type": "display_data"
    },
    {
     "data": {
      "application/vnd.jupyter.widget-view+json": {
       "model_id": "36f25cc3bee34ac983ae1e014348f8c4",
       "version_major": 2,
       "version_minor": 0
      },
      "text/plain": [
       "  0%|          | 0/38 [00:00<?, ?it/s]"
      ]
     },
     "metadata": {},
     "output_type": "display_data"
    },
    {
     "data": {
      "application/vnd.jupyter.widget-view+json": {
       "model_id": "e70520bfd339426d8aec262be8628a70",
       "version_major": 2,
       "version_minor": 0
      },
      "text/plain": [
       "  0%|          | 0/38 [00:00<?, ?it/s]"
      ]
     },
     "metadata": {},
     "output_type": "display_data"
    },
    {
     "data": {
      "application/vnd.jupyter.widget-view+json": {
       "model_id": "a671402d373b494985f774962938b3e7",
       "version_major": 2,
       "version_minor": 0
      },
      "text/plain": [
       "  0%|          | 0/38 [00:00<?, ?it/s]"
      ]
     },
     "metadata": {},
     "output_type": "display_data"
    },
    {
     "data": {
      "application/vnd.jupyter.widget-view+json": {
       "model_id": "4238e48f94e040ebaca7b25f25aaa6ac",
       "version_major": 2,
       "version_minor": 0
      },
      "text/plain": [
       "  0%|          | 0/59 [00:00<?, ?it/s]"
      ]
     },
     "metadata": {},
     "output_type": "display_data"
    },
    {
     "data": {
      "application/vnd.jupyter.widget-view+json": {
       "model_id": "1a9df4e8c2ff49639645a7e00335a448",
       "version_major": 2,
       "version_minor": 0
      },
      "text/plain": [
       "  0%|          | 0/59 [00:00<?, ?it/s]"
      ]
     },
     "metadata": {},
     "output_type": "display_data"
    },
    {
     "data": {
      "application/vnd.jupyter.widget-view+json": {
       "model_id": "00ec853eede34ccd84c839431ea704ec",
       "version_major": 2,
       "version_minor": 0
      },
      "text/plain": [
       "  0%|          | 0/52 [00:00<?, ?it/s]"
      ]
     },
     "metadata": {},
     "output_type": "display_data"
    },
    {
     "data": {
      "application/vnd.jupyter.widget-view+json": {
       "model_id": "e526e50918b74af08926a440b88a34d6",
       "version_major": 2,
       "version_minor": 0
      },
      "text/plain": [
       "  0%|          | 0/101 [00:00<?, ?it/s]"
      ]
     },
     "metadata": {},
     "output_type": "display_data"
    },
    {
     "data": {
      "application/vnd.jupyter.widget-view+json": {
       "model_id": "ad201451591b48a591a5534d66bd5112",
       "version_major": 2,
       "version_minor": 0
      },
      "text/plain": [
       "  0%|          | 0/101 [00:00<?, ?it/s]"
      ]
     },
     "metadata": {},
     "output_type": "display_data"
    },
    {
     "data": {
      "application/vnd.jupyter.widget-view+json": {
       "model_id": "df03b3ee7d584aeea99a34998a07303e",
       "version_major": 2,
       "version_minor": 0
      },
      "text/plain": [
       "  0%|          | 0/59 [00:00<?, ?it/s]"
      ]
     },
     "metadata": {},
     "output_type": "display_data"
    },
    {
     "data": {
      "application/vnd.jupyter.widget-view+json": {
       "model_id": "224afc5e9d134dc691623cc26bbbf574",
       "version_major": 2,
       "version_minor": 0
      },
      "text/plain": [
       "  0%|          | 0/101 [00:00<?, ?it/s]"
      ]
     },
     "metadata": {},
     "output_type": "display_data"
    },
    {
     "data": {
      "application/vnd.jupyter.widget-view+json": {
       "model_id": "de3ced644c834a58838cb51456acd4ea",
       "version_major": 2,
       "version_minor": 0
      },
      "text/plain": [
       "  0%|          | 0/38 [00:00<?, ?it/s]"
      ]
     },
     "metadata": {},
     "output_type": "display_data"
    },
    {
     "data": {
      "application/vnd.jupyter.widget-view+json": {
       "model_id": "21830988d38a46e08cd74bb73a63a3d5",
       "version_major": 2,
       "version_minor": 0
      },
      "text/plain": [
       "  0%|          | 0/59 [00:00<?, ?it/s]"
      ]
     },
     "metadata": {},
     "output_type": "display_data"
    },
    {
     "data": {
      "application/vnd.jupyter.widget-view+json": {
       "model_id": "beea0c21eb6044babede35c194021656",
       "version_major": 2,
       "version_minor": 0
      },
      "text/plain": [
       "  0%|          | 0/101 [00:00<?, ?it/s]"
      ]
     },
     "metadata": {},
     "output_type": "display_data"
    },
    {
     "data": {
      "application/vnd.jupyter.widget-view+json": {
       "model_id": "9496342e92d541e3ab252df7be5e2da1",
       "version_major": 2,
       "version_minor": 0
      },
      "text/plain": [
       "  0%|          | 0/57 [00:00<?, ?it/s]"
      ]
     },
     "metadata": {},
     "output_type": "display_data"
    },
    {
     "data": {
      "application/vnd.jupyter.widget-view+json": {
       "model_id": "c093a9ccc92047bcb988a2b8e6240948",
       "version_major": 2,
       "version_minor": 0
      },
      "text/plain": [
       "  0%|          | 0/57 [00:00<?, ?it/s]"
      ]
     },
     "metadata": {},
     "output_type": "display_data"
    },
    {
     "data": {
      "application/vnd.jupyter.widget-view+json": {
       "model_id": "707ef71db0bc4cedba676b21e19ce954",
       "version_major": 2,
       "version_minor": 0
      },
      "text/plain": [
       "  0%|          | 0/57 [00:00<?, ?it/s]"
      ]
     },
     "metadata": {},
     "output_type": "display_data"
    },
    {
     "data": {
      "application/vnd.jupyter.widget-view+json": {
       "model_id": "56acbf7e5fbc496b9ba1d9006ef6f372",
       "version_major": 2,
       "version_minor": 0
      },
      "text/plain": [
       "  0%|          | 0/54 [00:00<?, ?it/s]"
      ]
     },
     "metadata": {},
     "output_type": "display_data"
    },
    {
     "data": {
      "application/vnd.jupyter.widget-view+json": {
       "model_id": "59db57b655b6400ba19ebe3e14ab4cd9",
       "version_major": 2,
       "version_minor": 0
      },
      "text/plain": [
       "  0%|          | 0/54 [00:00<?, ?it/s]"
      ]
     },
     "metadata": {},
     "output_type": "display_data"
    },
    {
     "data": {
      "application/vnd.jupyter.widget-view+json": {
       "model_id": "37b4bd43401948cfac8dc031ced4618e",
       "version_major": 2,
       "version_minor": 0
      },
      "text/plain": [
       "  0%|          | 0/54 [00:00<?, ?it/s]"
      ]
     },
     "metadata": {},
     "output_type": "display_data"
    },
    {
     "data": {
      "application/vnd.jupyter.widget-view+json": {
       "model_id": "65466795dc114a7a8a18bd0e90f32f07",
       "version_major": 2,
       "version_minor": 0
      },
      "text/plain": [
       "  0%|          | 0/52 [00:00<?, ?it/s]"
      ]
     },
     "metadata": {},
     "output_type": "display_data"
    },
    {
     "data": {
      "application/vnd.jupyter.widget-view+json": {
       "model_id": "e1c65a3afe0d4864ae7349a3efcc9027",
       "version_major": 2,
       "version_minor": 0
      },
      "text/plain": [
       "  0%|          | 0/52 [00:00<?, ?it/s]"
      ]
     },
     "metadata": {},
     "output_type": "display_data"
    },
    {
     "data": {
      "application/vnd.jupyter.widget-view+json": {
       "model_id": "5a71002d17a64b668a8fa8bcad13023b",
       "version_major": 2,
       "version_minor": 0
      },
      "text/plain": [
       "  0%|          | 0/57 [00:00<?, ?it/s]"
      ]
     },
     "metadata": {},
     "output_type": "display_data"
    },
    {
     "data": {
      "application/vnd.jupyter.widget-view+json": {
       "model_id": "34ff4398f8f74d59b0beb7a9a848eb33",
       "version_major": 2,
       "version_minor": 0
      },
      "text/plain": [
       "  0%|          | 0/72 [00:00<?, ?it/s]"
      ]
     },
     "metadata": {},
     "output_type": "display_data"
    },
    {
     "data": {
      "application/vnd.jupyter.widget-view+json": {
       "model_id": "854f76ba67f94ba9b268bc2b904d32d8",
       "version_major": 2,
       "version_minor": 0
      },
      "text/plain": [
       "  0%|          | 0/72 [00:00<?, ?it/s]"
      ]
     },
     "metadata": {},
     "output_type": "display_data"
    },
    {
     "data": {
      "application/vnd.jupyter.widget-view+json": {
       "model_id": "05d7f7f6baf8427197443bd5ffbdc07a",
       "version_major": 2,
       "version_minor": 0
      },
      "text/plain": [
       "  0%|          | 0/52 [00:00<?, ?it/s]"
      ]
     },
     "metadata": {},
     "output_type": "display_data"
    },
    {
     "data": {
      "application/vnd.jupyter.widget-view+json": {
       "model_id": "e4e447d5e01642ebb200db4561c1c4a7",
       "version_major": 2,
       "version_minor": 0
      },
      "text/plain": [
       "  0%|          | 0/72 [00:00<?, ?it/s]"
      ]
     },
     "metadata": {},
     "output_type": "display_data"
    },
    {
     "data": {
      "application/vnd.jupyter.widget-view+json": {
       "model_id": "31bc335a518a4d6eb7efb51286a78e13",
       "version_major": 2,
       "version_minor": 0
      },
      "text/plain": [
       "  0%|          | 0/54 [00:00<?, ?it/s]"
      ]
     },
     "metadata": {},
     "output_type": "display_data"
    },
    {
     "data": {
      "application/vnd.jupyter.widget-view+json": {
       "model_id": "8e276bf95776447d8c9dd701751b3dc2",
       "version_major": 2,
       "version_minor": 0
      },
      "text/plain": [
       "  0%|          | 0/52 [00:00<?, ?it/s]"
      ]
     },
     "metadata": {},
     "output_type": "display_data"
    },
    {
     "data": {
      "application/vnd.jupyter.widget-view+json": {
       "model_id": "9fa2048ad5bd42d88ef290bcf032a569",
       "version_major": 2,
       "version_minor": 0
      },
      "text/plain": [
       "  0%|          | 0/72 [00:00<?, ?it/s]"
      ]
     },
     "metadata": {},
     "output_type": "display_data"
    },
    {
     "data": {
      "application/vnd.jupyter.widget-view+json": {
       "model_id": "df0a80c784e448d292f9306c88a87794",
       "version_major": 2,
       "version_minor": 0
      },
      "text/plain": [
       "  0%|          | 0/73 [00:00<?, ?it/s]"
      ]
     },
     "metadata": {},
     "output_type": "display_data"
    },
    {
     "data": {
      "application/vnd.jupyter.widget-view+json": {
       "model_id": "cd4d90abb5584e1d9c60095b0ffdfa83",
       "version_major": 2,
       "version_minor": 0
      },
      "text/plain": [
       "  0%|          | 0/73 [00:00<?, ?it/s]"
      ]
     },
     "metadata": {},
     "output_type": "display_data"
    },
    {
     "data": {
      "application/vnd.jupyter.widget-view+json": {
       "model_id": "f129b9ae931449a999104d1773b917cf",
       "version_major": 2,
       "version_minor": 0
      },
      "text/plain": [
       "  0%|          | 0/73 [00:00<?, ?it/s]"
      ]
     },
     "metadata": {},
     "output_type": "display_data"
    },
    {
     "data": {
      "application/vnd.jupyter.widget-view+json": {
       "model_id": "0eebed0eace246b39d191d04ee2af6c2",
       "version_major": 2,
       "version_minor": 0
      },
      "text/plain": [
       "  0%|          | 0/66 [00:00<?, ?it/s]"
      ]
     },
     "metadata": {},
     "output_type": "display_data"
    },
    {
     "data": {
      "application/vnd.jupyter.widget-view+json": {
       "model_id": "95c9fa55429a4594bbab6703843b3468",
       "version_major": 2,
       "version_minor": 0
      },
      "text/plain": [
       "  0%|          | 0/66 [00:00<?, ?it/s]"
      ]
     },
     "metadata": {},
     "output_type": "display_data"
    },
    {
     "data": {
      "application/vnd.jupyter.widget-view+json": {
       "model_id": "d5e9e50307084c1b8ed08ccd19efc345",
       "version_major": 2,
       "version_minor": 0
      },
      "text/plain": [
       "  0%|          | 0/66 [00:00<?, ?it/s]"
      ]
     },
     "metadata": {},
     "output_type": "display_data"
    },
    {
     "data": {
      "application/vnd.jupyter.widget-view+json": {
       "model_id": "0b0f6810e7a04937835a923f345267f2",
       "version_major": 2,
       "version_minor": 0
      },
      "text/plain": [
       "  0%|          | 0/68 [00:00<?, ?it/s]"
      ]
     },
     "metadata": {},
     "output_type": "display_data"
    },
    {
     "data": {
      "application/vnd.jupyter.widget-view+json": {
       "model_id": "69df3efcd9dc4cfe85f70c1e961cf06a",
       "version_major": 2,
       "version_minor": 0
      },
      "text/plain": [
       "  0%|          | 0/68 [00:00<?, ?it/s]"
      ]
     },
     "metadata": {},
     "output_type": "display_data"
    },
    {
     "data": {
      "application/vnd.jupyter.widget-view+json": {
       "model_id": "805683ff0cf8490b89d9a7d6d4c6bfd9",
       "version_major": 2,
       "version_minor": 0
      },
      "text/plain": [
       "  0%|          | 0/73 [00:00<?, ?it/s]"
      ]
     },
     "metadata": {},
     "output_type": "display_data"
    },
    {
     "data": {
      "application/vnd.jupyter.widget-view+json": {
       "model_id": "187ef9f669484ddf90e947c7309e5d71",
       "version_major": 2,
       "version_minor": 0
      },
      "text/plain": [
       "  0%|          | 0/58 [00:00<?, ?it/s]"
      ]
     },
     "metadata": {},
     "output_type": "display_data"
    },
    {
     "data": {
      "application/vnd.jupyter.widget-view+json": {
       "model_id": "b5f9b8a4599a4a109bc62e996cee3fef",
       "version_major": 2,
       "version_minor": 0
      },
      "text/plain": [
       "  0%|          | 0/58 [00:00<?, ?it/s]"
      ]
     },
     "metadata": {},
     "output_type": "display_data"
    },
    {
     "data": {
      "application/vnd.jupyter.widget-view+json": {
       "model_id": "e720b223d498476bbafd797fa5c2210c",
       "version_major": 2,
       "version_minor": 0
      },
      "text/plain": [
       "  0%|          | 0/68 [00:00<?, ?it/s]"
      ]
     },
     "metadata": {},
     "output_type": "display_data"
    },
    {
     "data": {
      "application/vnd.jupyter.widget-view+json": {
       "model_id": "a17b4d4673d24d33bdbd296c3b88fa3c",
       "version_major": 2,
       "version_minor": 0
      },
      "text/plain": [
       "  0%|          | 0/58 [00:00<?, ?it/s]"
      ]
     },
     "metadata": {},
     "output_type": "display_data"
    },
    {
     "data": {
      "application/vnd.jupyter.widget-view+json": {
       "model_id": "be10e18ac5d94f0db6b294767cd7a125",
       "version_major": 2,
       "version_minor": 0
      },
      "text/plain": [
       "  0%|          | 0/66 [00:00<?, ?it/s]"
      ]
     },
     "metadata": {},
     "output_type": "display_data"
    },
    {
     "data": {
      "application/vnd.jupyter.widget-view+json": {
       "model_id": "42ab2ce8643549febe4b5551d4942297",
       "version_major": 2,
       "version_minor": 0
      },
      "text/plain": [
       "  0%|          | 0/68 [00:00<?, ?it/s]"
      ]
     },
     "metadata": {},
     "output_type": "display_data"
    },
    {
     "data": {
      "application/vnd.jupyter.widget-view+json": {
       "model_id": "3cc8da8555b04110b23f2610e03dde81",
       "version_major": 2,
       "version_minor": 0
      },
      "text/plain": [
       "  0%|          | 0/58 [00:00<?, ?it/s]"
      ]
     },
     "metadata": {},
     "output_type": "display_data"
    }
   ],
   "source": [
    "\n",
    "for plate in tqdm(exp.plates.values()):\n",
    "    ovr_mips = glob(join(exp.root_dir, plate.plate_id, 'TIF_OVR_MIP', '*.tif'))\n",
    "    \n",
    "    well_ids = [well_regex.findall(basename(om))[0][1:-1] for om in ovr_mips]\n",
    "    \n",
    "    for well_id in well_ids:\n",
    "        # Add a well.\n",
    "        w = WellRecord(plate=plate, \n",
    "                       well_id=well_id, \n",
    "                       save_dir=plate.plate_dir)\n",
    "\n",
    "        # Add the raw files corresponding to this well. These are the MIP overview images.\n",
    "        raw_files = list(filter(lambda p: well_regex.findall(basename(p))[0][1:-1] == well_id, ovr_mips))\n",
    "        for raw_file in raw_files:\n",
    "            raw_name = splitext(raw_file)[0][-3:]\n",
    "            w.add_raw_data(raw_name, raw_file, spacing=(0.216, 0.216))\n",
    "\n",
    "        # Add segmentation files of the MIP overview images (organoid seg).\n",
    "        seg_mips = glob(join(exp.root_dir, plate.plate_id, 'TIF_OVR_MIP_SEG', 'obj_v0.3', '*.tif')) \n",
    "        seg_files = list(filter(lambda p: basename(p).split('_')[3] == well_id, seg_mips)) #corrected :)\n",
    "        #seg_files = list(filter(lambda p: basename(p).split('_')[2] == well_id, seg_mips)) #corrected :)\n",
    "        for seg_file in seg_files:\n",
    "            seg_name = splitext(seg_file)[0][-3:]\n",
    "            w.add_segmentation(seg_name, seg_file)\n",
    "            \n",
    "        # Search for region-extracted organoids and add them. \n",
    "        # This adds all raw files and segmentation files.\n",
    "        organoid_parent_dir = join(exp.root_dir, plate.plate_id, \"obj_v0.3_ROI\")\n",
    "        if exists(organoid_parent_dir):\n",
    "            organoids = glob(join(organoid_parent_dir, well_id, \"*\"))\n",
    "            for organoid in tqdm(organoids, leave=False):\n",
    "                org = OrganoidRecord(w, basename(organoid), save_dir=w.well_dir)\n",
    "                organoid_files = glob(join(organoid, '*.tif'))\n",
    "                for f in organoid_files:\n",
    "                    raw_channel = raw_ch_regex.findall(f)\n",
    "                    mask = mask_regex.findall(f)\n",
    "                    nuc_seg = nuc_seg_regex.findall(f)\n",
    "                    cell_seg = cell_seg_regex.findall(f)\n",
    "                    #cell seg would go here\n",
    "                    if len(raw_channel) > 0:\n",
    "                        org.add_raw_data(raw_channel[0][:3], f, spacing=(0.6, 0.216, 0.216))\n",
    "                    elif len(mask) > 0:\n",
    "                        org.add_segmentation(mask[0][:-4], f)\n",
    "                        #cell seg would go here\n",
    "                    elif len(nuc_seg) > 0:\n",
    "                        org.add_segmentation(nuc_seg[0][:-4], f)\n",
    "                    elif len(cell_seg) > 0:\n",
    "                        org.add_segmentation(cell_seg[0][:-4], f)\n",
    "                    else:\n",
    "                        print(\"Unknown file: {}\".format(f))\n",
    "\n",
    "# Save the whole datastructure to disk. \n",
    "exp.save()"
   ]
  },
  {
   "cell_type": "code",
   "execution_count": 7,
   "metadata": {},
   "outputs": [],
   "source": [
    "pd.set_option(\"display.max_rows\", 200)"
   ]
  },
  {
   "cell_type": "code",
   "execution_count": 8,
   "metadata": {
    "scrolled": true,
    "tags": []
   },
   "outputs": [
    {
     "data": {
      "text/html": [
       "<div>\n",
       "<style scoped>\n",
       "    .dataframe tbody tr th:only-of-type {\n",
       "        vertical-align: middle;\n",
       "    }\n",
       "\n",
       "    .dataframe tbody tr th {\n",
       "        vertical-align: top;\n",
       "    }\n",
       "\n",
       "    .dataframe thead th {\n",
       "        text-align: right;\n",
       "    }\n",
       "</style>\n",
       "<table border=\"1\" class=\"dataframe\">\n",
       "  <thead>\n",
       "    <tr style=\"text-align: right;\">\n",
       "      <th></th>\n",
       "      <th>hcs_experiment</th>\n",
       "      <th>root_dir</th>\n",
       "      <th>save_dir</th>\n",
       "      <th>plate</th>\n",
       "      <th>well</th>\n",
       "      <th>organoid_id</th>\n",
       "      <th>C03</th>\n",
       "      <th>C02</th>\n",
       "      <th>C01</th>\n",
       "      <th>C04</th>\n",
       "      <th>NUC_SEG3D_220523</th>\n",
       "      <th>MASK</th>\n",
       "    </tr>\n",
       "  </thead>\n",
       "  <tbody>\n",
       "    <tr>\n",
       "      <th>0</th>\n",
       "      <td>20220507GCPLEX_R3</td>\n",
       "      <td>/tungstenfs/scratch/gliberal/Users/repinico/Yo...</td>\n",
       "      <td>/tungstenfs/scratch/gliberal/Users/repinico/Mi...</td>\n",
       "      <td>day2p5</td>\n",
       "      <td>B03</td>\n",
       "      <td>object_12</td>\n",
       "      <td>day2p5/obj_v0.3_ROI/B03/object_12/AssayPlate_G...</td>\n",
       "      <td>day2p5/obj_v0.3_ROI/B03/object_12/AssayPlate_G...</td>\n",
       "      <td>day2p5/obj_v0.3_ROI/B03/object_12/AssayPlate_G...</td>\n",
       "      <td>day2p5/obj_v0.3_ROI/B03/object_12/AssayPlate_G...</td>\n",
       "      <td>day2p5/obj_v0.3_ROI/B03/object_12/AssayPlate_G...</td>\n",
       "      <td>day2p5/obj_v0.3_ROI/B03/object_12/AssayPlate_G...</td>\n",
       "    </tr>\n",
       "    <tr>\n",
       "      <th>1</th>\n",
       "      <td>20220507GCPLEX_R3</td>\n",
       "      <td>/tungstenfs/scratch/gliberal/Users/repinico/Yo...</td>\n",
       "      <td>/tungstenfs/scratch/gliberal/Users/repinico/Mi...</td>\n",
       "      <td>day2p5</td>\n",
       "      <td>B03</td>\n",
       "      <td>object_78</td>\n",
       "      <td>day2p5/obj_v0.3_ROI/B03/object_78/AssayPlate_G...</td>\n",
       "      <td>day2p5/obj_v0.3_ROI/B03/object_78/AssayPlate_G...</td>\n",
       "      <td>day2p5/obj_v0.3_ROI/B03/object_78/AssayPlate_G...</td>\n",
       "      <td>day2p5/obj_v0.3_ROI/B03/object_78/AssayPlate_G...</td>\n",
       "      <td>day2p5/obj_v0.3_ROI/B03/object_78/AssayPlate_G...</td>\n",
       "      <td>day2p5/obj_v0.3_ROI/B03/object_78/AssayPlate_G...</td>\n",
       "    </tr>\n",
       "    <tr>\n",
       "      <th>2</th>\n",
       "      <td>20220507GCPLEX_R3</td>\n",
       "      <td>/tungstenfs/scratch/gliberal/Users/repinico/Yo...</td>\n",
       "      <td>/tungstenfs/scratch/gliberal/Users/repinico/Mi...</td>\n",
       "      <td>day2p5</td>\n",
       "      <td>B03</td>\n",
       "      <td>object_57</td>\n",
       "      <td>day2p5/obj_v0.3_ROI/B03/object_57/AssayPlate_G...</td>\n",
       "      <td>day2p5/obj_v0.3_ROI/B03/object_57/AssayPlate_G...</td>\n",
       "      <td>day2p5/obj_v0.3_ROI/B03/object_57/AssayPlate_G...</td>\n",
       "      <td>day2p5/obj_v0.3_ROI/B03/object_57/AssayPlate_G...</td>\n",
       "      <td>day2p5/obj_v0.3_ROI/B03/object_57/AssayPlate_G...</td>\n",
       "      <td>day2p5/obj_v0.3_ROI/B03/object_57/AssayPlate_G...</td>\n",
       "    </tr>\n",
       "    <tr>\n",
       "      <th>3</th>\n",
       "      <td>20220507GCPLEX_R3</td>\n",
       "      <td>/tungstenfs/scratch/gliberal/Users/repinico/Yo...</td>\n",
       "      <td>/tungstenfs/scratch/gliberal/Users/repinico/Mi...</td>\n",
       "      <td>day2p5</td>\n",
       "      <td>B03</td>\n",
       "      <td>object_80</td>\n",
       "      <td>day2p5/obj_v0.3_ROI/B03/object_80/AssayPlate_G...</td>\n",
       "      <td>day2p5/obj_v0.3_ROI/B03/object_80/AssayPlate_G...</td>\n",
       "      <td>day2p5/obj_v0.3_ROI/B03/object_80/AssayPlate_G...</td>\n",
       "      <td>day2p5/obj_v0.3_ROI/B03/object_80/AssayPlate_G...</td>\n",
       "      <td>day2p5/obj_v0.3_ROI/B03/object_80/AssayPlate_G...</td>\n",
       "      <td>day2p5/obj_v0.3_ROI/B03/object_80/AssayPlate_G...</td>\n",
       "    </tr>\n",
       "    <tr>\n",
       "      <th>4</th>\n",
       "      <td>20220507GCPLEX_R3</td>\n",
       "      <td>/tungstenfs/scratch/gliberal/Users/repinico/Yo...</td>\n",
       "      <td>/tungstenfs/scratch/gliberal/Users/repinico/Mi...</td>\n",
       "      <td>day2p5</td>\n",
       "      <td>B03</td>\n",
       "      <td>object_49</td>\n",
       "      <td>day2p5/obj_v0.3_ROI/B03/object_49/AssayPlate_G...</td>\n",
       "      <td>day2p5/obj_v0.3_ROI/B03/object_49/AssayPlate_G...</td>\n",
       "      <td>day2p5/obj_v0.3_ROI/B03/object_49/AssayPlate_G...</td>\n",
       "      <td>day2p5/obj_v0.3_ROI/B03/object_49/AssayPlate_G...</td>\n",
       "      <td>day2p5/obj_v0.3_ROI/B03/object_49/AssayPlate_G...</td>\n",
       "      <td>day2p5/obj_v0.3_ROI/B03/object_49/AssayPlate_G...</td>\n",
       "    </tr>\n",
       "    <tr>\n",
       "      <th>...</th>\n",
       "      <td>...</td>\n",
       "      <td>...</td>\n",
       "      <td>...</td>\n",
       "      <td>...</td>\n",
       "      <td>...</td>\n",
       "      <td>...</td>\n",
       "      <td>...</td>\n",
       "      <td>...</td>\n",
       "      <td>...</td>\n",
       "      <td>...</td>\n",
       "      <td>...</td>\n",
       "      <td>...</td>\n",
       "    </tr>\n",
       "    <tr>\n",
       "      <th>1889</th>\n",
       "      <td>20220507GCPLEX_R3</td>\n",
       "      <td>/tungstenfs/scratch/gliberal/Users/repinico/Yo...</td>\n",
       "      <td>/tungstenfs/scratch/gliberal/Users/repinico/Mi...</td>\n",
       "      <td>day4</td>\n",
       "      <td>B06</td>\n",
       "      <td>object_68</td>\n",
       "      <td>day4/obj_v0.3_ROI/B06/object_68/AssayPlate_Gre...</td>\n",
       "      <td>day4/obj_v0.3_ROI/B06/object_68/AssayPlate_Gre...</td>\n",
       "      <td>day4/obj_v0.3_ROI/B06/object_68/AssayPlate_Gre...</td>\n",
       "      <td>day4/obj_v0.3_ROI/B06/object_68/AssayPlate_Gre...</td>\n",
       "      <td>day4/obj_v0.3_ROI/B06/object_68/AssayPlate_Gre...</td>\n",
       "      <td>day4/obj_v0.3_ROI/B06/object_68/AssayPlate_Gre...</td>\n",
       "    </tr>\n",
       "    <tr>\n",
       "      <th>1890</th>\n",
       "      <td>20220507GCPLEX_R3</td>\n",
       "      <td>/tungstenfs/scratch/gliberal/Users/repinico/Yo...</td>\n",
       "      <td>/tungstenfs/scratch/gliberal/Users/repinico/Mi...</td>\n",
       "      <td>day4</td>\n",
       "      <td>B06</td>\n",
       "      <td>object_5</td>\n",
       "      <td>day4/obj_v0.3_ROI/B06/object_5/AssayPlate_Grei...</td>\n",
       "      <td>day4/obj_v0.3_ROI/B06/object_5/AssayPlate_Grei...</td>\n",
       "      <td>day4/obj_v0.3_ROI/B06/object_5/AssayPlate_Grei...</td>\n",
       "      <td>day4/obj_v0.3_ROI/B06/object_5/AssayPlate_Grei...</td>\n",
       "      <td>day4/obj_v0.3_ROI/B06/object_5/AssayPlate_Grei...</td>\n",
       "      <td>day4/obj_v0.3_ROI/B06/object_5/AssayPlate_Grei...</td>\n",
       "    </tr>\n",
       "    <tr>\n",
       "      <th>1891</th>\n",
       "      <td>20220507GCPLEX_R3</td>\n",
       "      <td>/tungstenfs/scratch/gliberal/Users/repinico/Yo...</td>\n",
       "      <td>/tungstenfs/scratch/gliberal/Users/repinico/Mi...</td>\n",
       "      <td>day4</td>\n",
       "      <td>B06</td>\n",
       "      <td>object_37</td>\n",
       "      <td>day4/obj_v0.3_ROI/B06/object_37/AssayPlate_Gre...</td>\n",
       "      <td>day4/obj_v0.3_ROI/B06/object_37/AssayPlate_Gre...</td>\n",
       "      <td>day4/obj_v0.3_ROI/B06/object_37/AssayPlate_Gre...</td>\n",
       "      <td>day4/obj_v0.3_ROI/B06/object_37/AssayPlate_Gre...</td>\n",
       "      <td>day4/obj_v0.3_ROI/B06/object_37/AssayPlate_Gre...</td>\n",
       "      <td>day4/obj_v0.3_ROI/B06/object_37/AssayPlate_Gre...</td>\n",
       "    </tr>\n",
       "    <tr>\n",
       "      <th>1892</th>\n",
       "      <td>20220507GCPLEX_R3</td>\n",
       "      <td>/tungstenfs/scratch/gliberal/Users/repinico/Yo...</td>\n",
       "      <td>/tungstenfs/scratch/gliberal/Users/repinico/Mi...</td>\n",
       "      <td>day4</td>\n",
       "      <td>B06</td>\n",
       "      <td>object_4</td>\n",
       "      <td>day4/obj_v0.3_ROI/B06/object_4/AssayPlate_Grei...</td>\n",
       "      <td>day4/obj_v0.3_ROI/B06/object_4/AssayPlate_Grei...</td>\n",
       "      <td>day4/obj_v0.3_ROI/B06/object_4/AssayPlate_Grei...</td>\n",
       "      <td>day4/obj_v0.3_ROI/B06/object_4/AssayPlate_Grei...</td>\n",
       "      <td>day4/obj_v0.3_ROI/B06/object_4/AssayPlate_Grei...</td>\n",
       "      <td>day4/obj_v0.3_ROI/B06/object_4/AssayPlate_Grei...</td>\n",
       "    </tr>\n",
       "    <tr>\n",
       "      <th>1893</th>\n",
       "      <td>20220507GCPLEX_R3</td>\n",
       "      <td>/tungstenfs/scratch/gliberal/Users/repinico/Yo...</td>\n",
       "      <td>/tungstenfs/scratch/gliberal/Users/repinico/Mi...</td>\n",
       "      <td>day4</td>\n",
       "      <td>B06</td>\n",
       "      <td>object_26</td>\n",
       "      <td>day4/obj_v0.3_ROI/B06/object_26/AssayPlate_Gre...</td>\n",
       "      <td>day4/obj_v0.3_ROI/B06/object_26/AssayPlate_Gre...</td>\n",
       "      <td>day4/obj_v0.3_ROI/B06/object_26/AssayPlate_Gre...</td>\n",
       "      <td>day4/obj_v0.3_ROI/B06/object_26/AssayPlate_Gre...</td>\n",
       "      <td>day4/obj_v0.3_ROI/B06/object_26/AssayPlate_Gre...</td>\n",
       "      <td>day4/obj_v0.3_ROI/B06/object_26/AssayPlate_Gre...</td>\n",
       "    </tr>\n",
       "  </tbody>\n",
       "</table>\n",
       "<p>1894 rows × 12 columns</p>\n",
       "</div>"
      ],
      "text/plain": [
       "         hcs_experiment                                           root_dir  \\\n",
       "0     20220507GCPLEX_R3  /tungstenfs/scratch/gliberal/Users/repinico/Yo...   \n",
       "1     20220507GCPLEX_R3  /tungstenfs/scratch/gliberal/Users/repinico/Yo...   \n",
       "2     20220507GCPLEX_R3  /tungstenfs/scratch/gliberal/Users/repinico/Yo...   \n",
       "3     20220507GCPLEX_R3  /tungstenfs/scratch/gliberal/Users/repinico/Yo...   \n",
       "4     20220507GCPLEX_R3  /tungstenfs/scratch/gliberal/Users/repinico/Yo...   \n",
       "...                 ...                                                ...   \n",
       "1889  20220507GCPLEX_R3  /tungstenfs/scratch/gliberal/Users/repinico/Yo...   \n",
       "1890  20220507GCPLEX_R3  /tungstenfs/scratch/gliberal/Users/repinico/Yo...   \n",
       "1891  20220507GCPLEX_R3  /tungstenfs/scratch/gliberal/Users/repinico/Yo...   \n",
       "1892  20220507GCPLEX_R3  /tungstenfs/scratch/gliberal/Users/repinico/Yo...   \n",
       "1893  20220507GCPLEX_R3  /tungstenfs/scratch/gliberal/Users/repinico/Yo...   \n",
       "\n",
       "                                               save_dir   plate well  \\\n",
       "0     /tungstenfs/scratch/gliberal/Users/repinico/Mi...  day2p5  B03   \n",
       "1     /tungstenfs/scratch/gliberal/Users/repinico/Mi...  day2p5  B03   \n",
       "2     /tungstenfs/scratch/gliberal/Users/repinico/Mi...  day2p5  B03   \n",
       "3     /tungstenfs/scratch/gliberal/Users/repinico/Mi...  day2p5  B03   \n",
       "4     /tungstenfs/scratch/gliberal/Users/repinico/Mi...  day2p5  B03   \n",
       "...                                                 ...     ...  ...   \n",
       "1889  /tungstenfs/scratch/gliberal/Users/repinico/Mi...    day4  B06   \n",
       "1890  /tungstenfs/scratch/gliberal/Users/repinico/Mi...    day4  B06   \n",
       "1891  /tungstenfs/scratch/gliberal/Users/repinico/Mi...    day4  B06   \n",
       "1892  /tungstenfs/scratch/gliberal/Users/repinico/Mi...    day4  B06   \n",
       "1893  /tungstenfs/scratch/gliberal/Users/repinico/Mi...    day4  B06   \n",
       "\n",
       "     organoid_id                                                C03  \\\n",
       "0      object_12  day2p5/obj_v0.3_ROI/B03/object_12/AssayPlate_G...   \n",
       "1      object_78  day2p5/obj_v0.3_ROI/B03/object_78/AssayPlate_G...   \n",
       "2      object_57  day2p5/obj_v0.3_ROI/B03/object_57/AssayPlate_G...   \n",
       "3      object_80  day2p5/obj_v0.3_ROI/B03/object_80/AssayPlate_G...   \n",
       "4      object_49  day2p5/obj_v0.3_ROI/B03/object_49/AssayPlate_G...   \n",
       "...          ...                                                ...   \n",
       "1889   object_68  day4/obj_v0.3_ROI/B06/object_68/AssayPlate_Gre...   \n",
       "1890    object_5  day4/obj_v0.3_ROI/B06/object_5/AssayPlate_Grei...   \n",
       "1891   object_37  day4/obj_v0.3_ROI/B06/object_37/AssayPlate_Gre...   \n",
       "1892    object_4  day4/obj_v0.3_ROI/B06/object_4/AssayPlate_Grei...   \n",
       "1893   object_26  day4/obj_v0.3_ROI/B06/object_26/AssayPlate_Gre...   \n",
       "\n",
       "                                                    C02  \\\n",
       "0     day2p5/obj_v0.3_ROI/B03/object_12/AssayPlate_G...   \n",
       "1     day2p5/obj_v0.3_ROI/B03/object_78/AssayPlate_G...   \n",
       "2     day2p5/obj_v0.3_ROI/B03/object_57/AssayPlate_G...   \n",
       "3     day2p5/obj_v0.3_ROI/B03/object_80/AssayPlate_G...   \n",
       "4     day2p5/obj_v0.3_ROI/B03/object_49/AssayPlate_G...   \n",
       "...                                                 ...   \n",
       "1889  day4/obj_v0.3_ROI/B06/object_68/AssayPlate_Gre...   \n",
       "1890  day4/obj_v0.3_ROI/B06/object_5/AssayPlate_Grei...   \n",
       "1891  day4/obj_v0.3_ROI/B06/object_37/AssayPlate_Gre...   \n",
       "1892  day4/obj_v0.3_ROI/B06/object_4/AssayPlate_Grei...   \n",
       "1893  day4/obj_v0.3_ROI/B06/object_26/AssayPlate_Gre...   \n",
       "\n",
       "                                                    C01  \\\n",
       "0     day2p5/obj_v0.3_ROI/B03/object_12/AssayPlate_G...   \n",
       "1     day2p5/obj_v0.3_ROI/B03/object_78/AssayPlate_G...   \n",
       "2     day2p5/obj_v0.3_ROI/B03/object_57/AssayPlate_G...   \n",
       "3     day2p5/obj_v0.3_ROI/B03/object_80/AssayPlate_G...   \n",
       "4     day2p5/obj_v0.3_ROI/B03/object_49/AssayPlate_G...   \n",
       "...                                                 ...   \n",
       "1889  day4/obj_v0.3_ROI/B06/object_68/AssayPlate_Gre...   \n",
       "1890  day4/obj_v0.3_ROI/B06/object_5/AssayPlate_Grei...   \n",
       "1891  day4/obj_v0.3_ROI/B06/object_37/AssayPlate_Gre...   \n",
       "1892  day4/obj_v0.3_ROI/B06/object_4/AssayPlate_Grei...   \n",
       "1893  day4/obj_v0.3_ROI/B06/object_26/AssayPlate_Gre...   \n",
       "\n",
       "                                                    C04  \\\n",
       "0     day2p5/obj_v0.3_ROI/B03/object_12/AssayPlate_G...   \n",
       "1     day2p5/obj_v0.3_ROI/B03/object_78/AssayPlate_G...   \n",
       "2     day2p5/obj_v0.3_ROI/B03/object_57/AssayPlate_G...   \n",
       "3     day2p5/obj_v0.3_ROI/B03/object_80/AssayPlate_G...   \n",
       "4     day2p5/obj_v0.3_ROI/B03/object_49/AssayPlate_G...   \n",
       "...                                                 ...   \n",
       "1889  day4/obj_v0.3_ROI/B06/object_68/AssayPlate_Gre...   \n",
       "1890  day4/obj_v0.3_ROI/B06/object_5/AssayPlate_Grei...   \n",
       "1891  day4/obj_v0.3_ROI/B06/object_37/AssayPlate_Gre...   \n",
       "1892  day4/obj_v0.3_ROI/B06/object_4/AssayPlate_Grei...   \n",
       "1893  day4/obj_v0.3_ROI/B06/object_26/AssayPlate_Gre...   \n",
       "\n",
       "                                       NUC_SEG3D_220523  \\\n",
       "0     day2p5/obj_v0.3_ROI/B03/object_12/AssayPlate_G...   \n",
       "1     day2p5/obj_v0.3_ROI/B03/object_78/AssayPlate_G...   \n",
       "2     day2p5/obj_v0.3_ROI/B03/object_57/AssayPlate_G...   \n",
       "3     day2p5/obj_v0.3_ROI/B03/object_80/AssayPlate_G...   \n",
       "4     day2p5/obj_v0.3_ROI/B03/object_49/AssayPlate_G...   \n",
       "...                                                 ...   \n",
       "1889  day4/obj_v0.3_ROI/B06/object_68/AssayPlate_Gre...   \n",
       "1890  day4/obj_v0.3_ROI/B06/object_5/AssayPlate_Grei...   \n",
       "1891  day4/obj_v0.3_ROI/B06/object_37/AssayPlate_Gre...   \n",
       "1892  day4/obj_v0.3_ROI/B06/object_4/AssayPlate_Grei...   \n",
       "1893  day4/obj_v0.3_ROI/B06/object_26/AssayPlate_Gre...   \n",
       "\n",
       "                                                   MASK  \n",
       "0     day2p5/obj_v0.3_ROI/B03/object_12/AssayPlate_G...  \n",
       "1     day2p5/obj_v0.3_ROI/B03/object_78/AssayPlate_G...  \n",
       "2     day2p5/obj_v0.3_ROI/B03/object_57/AssayPlate_G...  \n",
       "3     day2p5/obj_v0.3_ROI/B03/object_80/AssayPlate_G...  \n",
       "4     day2p5/obj_v0.3_ROI/B03/object_49/AssayPlate_G...  \n",
       "...                                                 ...  \n",
       "1889  day4/obj_v0.3_ROI/B06/object_68/AssayPlate_Gre...  \n",
       "1890  day4/obj_v0.3_ROI/B06/object_5/AssayPlate_Grei...  \n",
       "1891  day4/obj_v0.3_ROI/B06/object_37/AssayPlate_Gre...  \n",
       "1892  day4/obj_v0.3_ROI/B06/object_4/AssayPlate_Grei...  \n",
       "1893  day4/obj_v0.3_ROI/B06/object_26/AssayPlate_Gre...  \n",
       "\n",
       "[1894 rows x 12 columns]"
      ]
     },
     "execution_count": 8,
     "metadata": {},
     "output_type": "execute_result"
    }
   ],
   "source": [
    "# Get an overview dataframe.\n",
    "# The columns correspond to the different names of added raw-data and segmentation data.\n",
    "exp.build_overview()\n",
    "\n",
    "# Table with all the raw-files with name 'C01'.\n",
    "# The provided name must be one of the column names of exp.build_overview()\n",
    "#exp.get_organoid_raw_files(name='C01')\n",
    "\n",
    "# Same as above but for segmentation data.\n",
    "#exp.get_organoid_segmentation_files('_NUC_SEG3D_20210828_finetune')\n",
    "\n",
    "# Same for raw and segmentation data.\n",
    "#exp.get_organoid_raw_segmentation_files('C01', '_NUC_SEG3D_20210828_finetune')"
   ]
  },
  {
   "cell_type": "markdown",
   "metadata": {},
   "source": [
    "# Organoid OVR feature extraction\n",
    "Once an experiment is parsed and saved as a faim-hcs experiment we can easily load it from disk and iterate over all its objects."
   ]
  },
  {
   "cell_type": "code",
   "execution_count": 9,
   "metadata": {},
   "outputs": [],
   "source": [
    "# First iterate over wells and extract OVR-level features\n",
    "# Iterate over wells only\n",
    "exp.only_iterate_over_wells(True)\n",
    "exp.reset_iterator()\n",
    "ovr_channel = \"C01\" #almost always DAPI is C01 -- if not, change this!\n",
    "\n",
    "for well in exp:\n",
    "    # Load the segmentation file.\n",
    "    ovr_seg = well.get_segmentation(ovr_channel) #this is the seg image\n",
    "    \n",
    "    if well.plate.plate_id in [\"day4p5\"]: \n",
    "        continue #skip these timepoints\n",
    "        \n",
    "    if ovr_seg is not None:\n",
    "        #calculate global coordinates\n",
    "        #flag org touching tile borders\n",
    "        ovr_seg_org = ovr_seg[0] #first image is label map\n",
    "        ovr_seg_tiles = ovr_seg[1] #second image is drogon tiling\n",
    "        ovr_seg_tiles[ovr_seg_tiles>0] = 1 #binarize tiles image\n",
    "\n",
    "        tile_borders = (ovr_seg_tiles - binary_erosion(ovr_seg_tiles)).astype(bool) #generate tile borders\n",
    "\n",
    "        touching_labels = np.unique(ovr_seg_org[tile_borders]) # includes the 0 background label\n",
    "\n",
    "        lst = ['object_' + str(x) for x in touching_labels[touching_labels>0]] #create list of labels and remove 0 background label\n",
    "\n",
    "        # feature extraction\n",
    "        df_ovr = pd.DataFrame()\n",
    "        ovr_features = regionprops(ovr_seg_org)\n",
    "\n",
    "        for obj in ovr_features:\n",
    "            organoid_id = 'object_' + str(obj['label'])\n",
    "            row = {\n",
    "                'hcs_experiment':well.plate.experiment.name,\n",
    "                'plate_id': well.plate.plate_id,\n",
    "                'well_id':well.well_id,\n",
    "                'organoid_id':organoid_id,\n",
    "                'segmentation_ovr': well.segmentations[ovr_channel],\n",
    "                'flag_tile_border':organoid_id in lst, #TRUE (1) means organoid is touching a tile border\n",
    "                'x_pos_pix_global':obj['centroid'][1],\n",
    "                'y_pos_pix_global':obj['centroid'][0],\n",
    "                'area_pix_global':obj['area']\n",
    "            }\n",
    "            \n",
    "            df_ovr = pd.concat([df_ovr, pd.DataFrame.from_records([row])], ignore_index=True)\n",
    "            #df_ovr = df_ovr.append(row,ignore_index=True)\n",
    "        \n",
    "        # Save measurement into the well directory.\n",
    "        name = \"regionprops_ovr_\" + str(ovr_channel)\n",
    "        path = join(well.well_dir, name + \".csv\")\n",
    "        df_ovr.to_csv(path, index=False) #saves csv\n",
    "\n",
    "        # Add the measurement to the faim-hcs datastructure and save.\n",
    "        well.add_measurement(name, path)\n",
    "        well.save() #updates json file\n"
   ]
  },
  {
   "cell_type": "markdown",
   "metadata": {},
   "source": [
    "## Org, nuc, mem feature extraction"
   ]
  },
  {
   "cell_type": "code",
   "execution_count": 10,
   "metadata": {},
   "outputs": [],
   "source": [
    "def quartiles(regionmask, intensity):\n",
    "    return np.percentile(intensity[regionmask], q=(25, 50, 75, 90, 95, 99))\n",
    "\n",
    "def skewness(regionmask, intensity):\n",
    "    return scipy.stats.skew(intensity[regionmask])\n",
    "\n",
    "def kurtos(regionmask, intensity):\n",
    "    return scipy.stats.kurtosis(intensity[regionmask])\n",
    "\n",
    "def stdv(regionmask, intensity):\n",
    "    # ddof=1 for sample var\n",
    "    return np.std(intensity[regionmask], ddof=1)"
   ]
  },
  {
   "cell_type": "code",
   "execution_count": 11,
   "metadata": {},
   "outputs": [],
   "source": [
    "# # Load an existing faim-hcs Experiment from disk. \n",
    "# exp = Experiment()\n",
    "# exp.load('/tungstenfs/scratch/gliberal/Users/repinico/Microscopy/FeatXtesting/20220316_sec_FOCM_test-R1/summary.csv')\n"
   ]
  },
  {
   "cell_type": "code",
   "execution_count": 12,
   "metadata": {
    "scrolled": true,
    "tags": []
   },
   "outputs": [
    {
     "name": "stderr",
     "output_type": "stream",
     "text": [
      "Segmentation MEM_SEG3D_220523 does not exist in object_12:['NUC_SEG3D_220523', 'MASK'].\n",
      "Segmentation MEM_SEG3D_220523 does not exist in object_78:['NUC_SEG3D_220523', 'MASK'].\n",
      "Segmentation MEM_SEG3D_220523 does not exist in object_57:['NUC_SEG3D_220523', 'MASK'].\n",
      "Segmentation MEM_SEG3D_220523 does not exist in object_80:['NUC_SEG3D_220523', 'MASK'].\n",
      "Segmentation MEM_SEG3D_220523 does not exist in object_49:['MASK', 'NUC_SEG3D_220523'].\n",
      "Segmentation MEM_SEG3D_220523 does not exist in object_60:['NUC_SEG3D_220523', 'MASK'].\n",
      "Segmentation MEM_SEG3D_220523 does not exist in object_74:['MASK', 'NUC_SEG3D_220523'].\n",
      "Segmentation MEM_SEG3D_220523 does not exist in object_35:['MASK', 'NUC_SEG3D_220523'].\n",
      "Segmentation MEM_SEG3D_220523 does not exist in object_54:['MASK', 'NUC_SEG3D_220523'].\n",
      "Segmentation MEM_SEG3D_220523 does not exist in object_46:['NUC_SEG3D_220523', 'MASK'].\n",
      "Segmentation MEM_SEG3D_220523 does not exist in object_65:['MASK', 'NUC_SEG3D_220523'].\n",
      "Segmentation MEM_SEG3D_220523 does not exist in object_58:['MASK', 'NUC_SEG3D_220523'].\n",
      "Segmentation MEM_SEG3D_220523 does not exist in object_86:['NUC_SEG3D_220523', 'MASK'].\n",
      "Segmentation MEM_SEG3D_220523 does not exist in object_82:['MASK', 'NUC_SEG3D_220523'].\n",
      "Segmentation MEM_SEG3D_220523 does not exist in object_91:['MASK', 'NUC_SEG3D_220523'].\n",
      "Segmentation MEM_SEG3D_220523 does not exist in object_17:['MASK', 'NUC_SEG3D_220523'].\n",
      "Segmentation MEM_SEG3D_220523 does not exist in object_43:['MASK', 'NUC_SEG3D_220523'].\n",
      "Segmentation MEM_SEG3D_220523 does not exist in object_79:['MASK', 'NUC_SEG3D_220523'].\n",
      "Segmentation MEM_SEG3D_220523 does not exist in object_32:['MASK', 'NUC_SEG3D_220523'].\n",
      "Segmentation MEM_SEG3D_220523 does not exist in object_11:['NUC_SEG3D_220523', 'MASK'].\n",
      "Segmentation MEM_SEG3D_220523 does not exist in object_47:['MASK', 'NUC_SEG3D_220523'].\n",
      "Segmentation MEM_SEG3D_220523 does not exist in object_55:['MASK', 'NUC_SEG3D_220523'].\n",
      "Segmentation MEM_SEG3D_220523 does not exist in object_75:['NUC_SEG3D_220523', 'MASK'].\n",
      "Segmentation MEM_SEG3D_220523 does not exist in object_41:['MASK', 'NUC_SEG3D_220523'].\n",
      "Segmentation MEM_SEG3D_220523 does not exist in object_33:['MASK', 'NUC_SEG3D_220523'].\n",
      "Segmentation MEM_SEG3D_220523 does not exist in object_51:['NUC_SEG3D_220523', 'MASK'].\n",
      "Segmentation MEM_SEG3D_220523 does not exist in object_61:['MASK', 'NUC_SEG3D_220523'].\n",
      "Segmentation MEM_SEG3D_220523 does not exist in object_39:['NUC_SEG3D_220523', 'MASK'].\n",
      "Segmentation MEM_SEG3D_220523 does not exist in object_89:['NUC_SEG3D_220523', 'MASK'].\n",
      "Segmentation MEM_SEG3D_220523 does not exist in object_84:['MASK', 'NUC_SEG3D_220523'].\n",
      "Segmentation MEM_SEG3D_220523 does not exist in object_15:['MASK', 'NUC_SEG3D_220523'].\n",
      "Segmentation MEM_SEG3D_220523 does not exist in object_23:['NUC_SEG3D_220523', 'MASK'].\n",
      "Segmentation MEM_SEG3D_220523 does not exist in object_21:['NUC_SEG3D_220523', 'MASK'].\n",
      "Segmentation MEM_SEG3D_220523 does not exist in object_29:['NUC_SEG3D_220523', 'MASK'].\n",
      "Segmentation MEM_SEG3D_220523 does not exist in object_70:['MASK', 'NUC_SEG3D_220523'].\n",
      "Segmentation MEM_SEG3D_220523 does not exist in object_25:['NUC_SEG3D_220523', 'MASK'].\n",
      "Segmentation MEM_SEG3D_220523 does not exist in object_36:['NUC_SEG3D_220523', 'MASK'].\n",
      "Segmentation MEM_SEG3D_220523 does not exist in object_66:['MASK', 'NUC_SEG3D_220523'].\n",
      "Segmentation MEM_SEG3D_220523 does not exist in object_20:['NUC_SEG3D_220523', 'MASK'].\n",
      "Segmentation MEM_SEG3D_220523 does not exist in object_40:['NUC_SEG3D_220523', 'MASK'].\n",
      "Segmentation MEM_SEG3D_220523 does not exist in object_45:['MASK', 'NUC_SEG3D_220523'].\n",
      "Segmentation MEM_SEG3D_220523 does not exist in object_72:['MASK', 'NUC_SEG3D_220523'].\n",
      "Segmentation MEM_SEG3D_220523 does not exist in object_69:['NUC_SEG3D_220523', 'MASK'].\n",
      "Segmentation MEM_SEG3D_220523 does not exist in object_19:['NUC_SEG3D_220523', 'MASK'].\n",
      "Segmentation MEM_SEG3D_220523 does not exist in object_63:['MASK', 'NUC_SEG3D_220523'].\n",
      "Segmentation MEM_SEG3D_220523 does not exist in object_48:['NUC_SEG3D_220523', 'MASK'].\n",
      "Segmentation MEM_SEG3D_220523 does not exist in object_34:['MASK', 'NUC_SEG3D_220523'].\n",
      "Segmentation MEM_SEG3D_220523 does not exist in object_76:['NUC_SEG3D_220523', 'MASK'].\n",
      "Segmentation MEM_SEG3D_220523 does not exist in object_62:['NUC_SEG3D_220523', 'MASK'].\n",
      "Segmentation MEM_SEG3D_220523 does not exist in object_52:['NUC_SEG3D_220523', 'MASK'].\n",
      "Segmentation MEM_SEG3D_220523 does not exist in object_18:['NUC_SEG3D_220523', 'MASK'].\n",
      "Segmentation MEM_SEG3D_220523 does not exist in object_3:['MASK', 'NUC_SEG3D_220523'].\n",
      "Segmentation MEM_SEG3D_220523 does not exist in object_2:['MASK', 'NUC_SEG3D_220523'].\n",
      "Segmentation MEM_SEG3D_220523 does not exist in object_50:['MASK', 'NUC_SEG3D_220523'].\n",
      "Segmentation MEM_SEG3D_220523 does not exist in object_30:['MASK', 'NUC_SEG3D_220523'].\n",
      "Segmentation MEM_SEG3D_220523 does not exist in object_38:['MASK', 'NUC_SEG3D_220523'].\n",
      "Segmentation MEM_SEG3D_220523 does not exist in object_56:['NUC_SEG3D_220523', 'MASK'].\n",
      "Segmentation MEM_SEG3D_220523 does not exist in object_31:['MASK', 'NUC_SEG3D_220523'].\n",
      "Segmentation MEM_SEG3D_220523 does not exist in object_88:['NUC_SEG3D_220523', 'MASK'].\n",
      "Segmentation MEM_SEG3D_220523 does not exist in object_71:['NUC_SEG3D_220523', 'MASK'].\n",
      "Segmentation MEM_SEG3D_220523 does not exist in object_10:['MASK', 'NUC_SEG3D_220523'].\n",
      "Segmentation MEM_SEG3D_220523 does not exist in object_85:['NUC_SEG3D_220523', 'MASK'].\n",
      "Segmentation MEM_SEG3D_220523 does not exist in object_28:['MASK', 'NUC_SEG3D_220523'].\n",
      "Segmentation MEM_SEG3D_220523 does not exist in object_22:['MASK', 'NUC_SEG3D_220523'].\n",
      "Segmentation MEM_SEG3D_220523 does not exist in object_59:['NUC_SEG3D_220523', 'MASK'].\n",
      "Segmentation MEM_SEG3D_220523 does not exist in object_14:['NUC_SEG3D_220523', 'MASK'].\n",
      "Segmentation MEM_SEG3D_220523 does not exist in object_24:['NUC_SEG3D_220523', 'MASK'].\n",
      "Segmentation MEM_SEG3D_220523 does not exist in object_42:['MASK', 'NUC_SEG3D_220523'].\n",
      "Segmentation MEM_SEG3D_220523 does not exist in object_83:['MASK', 'NUC_SEG3D_220523'].\n",
      "Segmentation MEM_SEG3D_220523 does not exist in object_67:['NUC_SEG3D_220523', 'MASK'].\n",
      "Segmentation MEM_SEG3D_220523 does not exist in object_9:['MASK', 'NUC_SEG3D_220523'].\n",
      "Segmentation MEM_SEG3D_220523 does not exist in object_8:['MASK', 'NUC_SEG3D_220523'].\n",
      "Segmentation MEM_SEG3D_220523 does not exist in object_44:['NUC_SEG3D_220523', 'MASK'].\n",
      "Segmentation MEM_SEG3D_220523 does not exist in object_7:['NUC_SEG3D_220523', 'MASK'].\n",
      "Segmentation MEM_SEG3D_220523 does not exist in object_53:['NUC_SEG3D_220523', 'MASK'].\n",
      "Segmentation MEM_SEG3D_220523 does not exist in object_64:['MASK', 'NUC_SEG3D_220523'].\n",
      "Segmentation MEM_SEG3D_220523 does not exist in object_68:['MASK', 'NUC_SEG3D_220523'].\n",
      "Segmentation MEM_SEG3D_220523 does not exist in object_81:['NUC_SEG3D_220523', 'MASK'].\n",
      "Segmentation MEM_SEG3D_220523 does not exist in object_6:['MASK', 'NUC_SEG3D_220523'].\n",
      "Segmentation MEM_SEG3D_220523 does not exist in object_5:['NUC_SEG3D_220523', 'MASK'].\n",
      "Segmentation MEM_SEG3D_220523 does not exist in object_37:['NUC_SEG3D_220523', 'MASK'].\n",
      "Segmentation MEM_SEG3D_220523 does not exist in object_4:['MASK', 'NUC_SEG3D_220523'].\n",
      "Segmentation MEM_SEG3D_220523 does not exist in object_26:['MASK', 'NUC_SEG3D_220523'].\n",
      "Segmentation MEM_SEG3D_220523 does not exist in object_13:['MASK', 'NUC_SEG3D_220523'].\n",
      "Segmentation MEM_SEG3D_220523 does not exist in object_12:['MASK', 'NUC_SEG3D_220523'].\n",
      "Segmentation MEM_SEG3D_220523 does not exist in object_78:['MASK', 'NUC_SEG3D_220523'].\n",
      "Segmentation MEM_SEG3D_220523 does not exist in object_103:['MASK', 'NUC_SEG3D_220523'].\n",
      "Segmentation MEM_SEG3D_220523 does not exist in object_60:['NUC_SEG3D_220523', 'MASK'].\n",
      "Segmentation MEM_SEG3D_220523 does not exist in object_131:['MASK', 'NUC_SEG3D_220523'].\n",
      "Segmentation MEM_SEG3D_220523 does not exist in object_121:['MASK', 'NUC_SEG3D_220523'].\n",
      "Segmentation MEM_SEG3D_220523 does not exist in object_95:['MASK', 'NUC_SEG3D_220523'].\n",
      "Segmentation MEM_SEG3D_220523 does not exist in object_74:['MASK', 'NUC_SEG3D_220523'].\n",
      "Segmentation MEM_SEG3D_220523 does not exist in object_126:['MASK', 'NUC_SEG3D_220523'].\n",
      "Segmentation MEM_SEG3D_220523 does not exist in object_35:['NUC_SEG3D_220523', 'MASK'].\n"
     ]
    },
    {
     "name": "stderr",
     "output_type": "stream",
     "text": [
      "Segmentation MEM_SEG3D_220523 does not exist in object_54:['MASK', 'NUC_SEG3D_220523'].\n",
      "Segmentation MEM_SEG3D_220523 does not exist in object_111:['NUC_SEG3D_220523', 'MASK'].\n",
      "Segmentation MEM_SEG3D_220523 does not exist in object_46:['NUC_SEG3D_220523', 'MASK'].\n",
      "Segmentation MEM_SEG3D_220523 does not exist in object_65:['MASK', 'NUC_SEG3D_220523'].\n",
      "Segmentation MEM_SEG3D_220523 does not exist in object_58:['NUC_SEG3D_220523', 'MASK'].\n",
      "Segmentation MEM_SEG3D_220523 does not exist in object_116:['MASK', 'NUC_SEG3D_220523'].\n",
      "Segmentation MEM_SEG3D_220523 does not exist in object_86:['MASK', 'NUC_SEG3D_220523'].\n",
      "Segmentation MEM_SEG3D_220523 does not exist in object_82:['MASK', 'NUC_SEG3D_220523'].\n",
      "Segmentation MEM_SEG3D_220523 does not exist in object_17:['MASK', 'NUC_SEG3D_220523'].\n",
      "Segmentation MEM_SEG3D_220523 does not exist in object_43:['MASK', 'NUC_SEG3D_220523'].\n",
      "Segmentation MEM_SEG3D_220523 does not exist in object_32:['NUC_SEG3D_220523', 'MASK'].\n",
      "Segmentation MEM_SEG3D_220523 does not exist in object_107:['NUC_SEG3D_220523', 'MASK'].\n",
      "Segmentation MEM_SEG3D_220523 does not exist in object_55:['NUC_SEG3D_220523', 'MASK'].\n",
      "Segmentation MEM_SEG3D_220523 does not exist in object_75:['MASK', 'NUC_SEG3D_220523'].\n",
      "Segmentation MEM_SEG3D_220523 does not exist in object_41:['MASK', 'NUC_SEG3D_220523'].\n",
      "Segmentation MEM_SEG3D_220523 does not exist in object_101:['MASK', 'NUC_SEG3D_220523'].\n",
      "Segmentation MEM_SEG3D_220523 does not exist in object_33:['MASK', 'NUC_SEG3D_220523'].\n",
      "Segmentation MEM_SEG3D_220523 does not exist in object_51:['NUC_SEG3D_220523', 'MASK'].\n",
      "Segmentation MEM_SEG3D_220523 does not exist in object_61:['NUC_SEG3D_220523', 'MASK'].\n",
      "Segmentation MEM_SEG3D_220523 does not exist in object_89:['NUC_SEG3D_220523', 'MASK'].\n",
      "Segmentation MEM_SEG3D_220523 does not exist in object_84:['NUC_SEG3D_220523', 'MASK'].\n",
      "Segmentation MEM_SEG3D_220523 does not exist in object_98:['NUC_SEG3D_220523', 'MASK'].\n",
      "Segmentation MEM_SEG3D_220523 does not exist in object_15:['MASK', 'NUC_SEG3D_220523'].\n",
      "Segmentation MEM_SEG3D_220523 does not exist in object_21:['MASK', 'NUC_SEG3D_220523'].\n",
      "Segmentation MEM_SEG3D_220523 does not exist in object_27:['MASK', 'NUC_SEG3D_220523'].\n",
      "Segmentation MEM_SEG3D_220523 does not exist in object_29:['NUC_SEG3D_220523', 'MASK'].\n",
      "Segmentation MEM_SEG3D_220523 does not exist in object_70:['MASK', 'NUC_SEG3D_220523'].\n",
      "Segmentation MEM_SEG3D_220523 does not exist in object_102:['MASK', 'NUC_SEG3D_220523'].\n",
      "Segmentation MEM_SEG3D_220523 does not exist in object_105:['NUC_SEG3D_220523', 'MASK'].\n",
      "Segmentation MEM_SEG3D_220523 does not exist in object_127:['MASK', 'NUC_SEG3D_220523'].\n",
      "Segmentation MEM_SEG3D_220523 does not exist in object_36:['NUC_SEG3D_220523', 'MASK'].\n",
      "Segmentation MEM_SEG3D_220523 does not exist in object_117:['NUC_SEG3D_220523', 'MASK'].\n",
      "Segmentation MEM_SEG3D_220523 does not exist in object_124:['NUC_SEG3D_220523', 'MASK'].\n",
      "Segmentation MEM_SEG3D_220523 does not exist in object_66:['NUC_SEG3D_220523', 'MASK'].\n",
      "Segmentation MEM_SEG3D_220523 does not exist in object_20:['NUC_SEG3D_220523', 'MASK'].\n",
      "Segmentation MEM_SEG3D_220523 does not exist in object_110:['NUC_SEG3D_220523', 'MASK'].\n",
      "Segmentation MEM_SEG3D_220523 does not exist in object_120:['MASK', 'NUC_SEG3D_220523'].\n",
      "Segmentation MEM_SEG3D_220523 does not exist in object_106:['MASK', 'NUC_SEG3D_220523'].\n",
      "Segmentation MEM_SEG3D_220523 does not exist in object_45:['NUC_SEG3D_220523', 'MASK'].\n",
      "Segmentation MEM_SEG3D_220523 does not exist in object_128:['MASK', 'NUC_SEG3D_220523'].\n",
      "Segmentation MEM_SEG3D_220523 does not exist in object_72:['MASK', 'NUC_SEG3D_220523'].\n",
      "Segmentation MEM_SEG3D_220523 does not exist in object_69:['MASK', 'NUC_SEG3D_220523'].\n",
      "Segmentation MEM_SEG3D_220523 does not exist in object_129:['NUC_SEG3D_220523', 'MASK'].\n",
      "Segmentation MEM_SEG3D_220523 does not exist in object_114:['MASK', 'NUC_SEG3D_220523'].\n",
      "Segmentation MEM_SEG3D_220523 does not exist in object_130:['NUC_SEG3D_220523', 'MASK'].\n",
      "Segmentation MEM_SEG3D_220523 does not exist in object_99:['MASK', 'NUC_SEG3D_220523'].\n",
      "Segmentation MEM_SEG3D_220523 does not exist in object_90:['NUC_SEG3D_220523', 'MASK'].\n",
      "Segmentation MEM_SEG3D_220523 does not exist in object_63:['MASK', 'NUC_SEG3D_220523'].\n",
      "Segmentation MEM_SEG3D_220523 does not exist in object_118:['NUC_SEG3D_220523', 'MASK'].\n",
      "Segmentation MEM_SEG3D_220523 does not exist in object_48:['MASK', 'NUC_SEG3D_220523'].\n",
      "Segmentation MEM_SEG3D_220523 does not exist in object_34:['MASK', 'NUC_SEG3D_220523'].\n",
      "Segmentation MEM_SEG3D_220523 does not exist in object_76:['NUC_SEG3D_220523', 'MASK'].\n",
      "Segmentation MEM_SEG3D_220523 does not exist in object_100:['NUC_SEG3D_220523', 'MASK'].\n",
      "Segmentation MEM_SEG3D_220523 does not exist in object_52:['NUC_SEG3D_220523', 'MASK'].\n",
      "Segmentation MEM_SEG3D_220523 does not exist in object_133:['NUC_SEG3D_220523', 'MASK'].\n",
      "Segmentation MEM_SEG3D_220523 does not exist in object_50:['MASK', 'NUC_SEG3D_220523'].\n",
      "Segmentation MEM_SEG3D_220523 does not exist in object_125:['NUC_SEG3D_220523', 'MASK'].\n",
      "Segmentation MEM_SEG3D_220523 does not exist in object_1:['NUC_SEG3D_220523', 'MASK'].\n",
      "Segmentation MEM_SEG3D_220523 does not exist in object_38:['MASK', 'NUC_SEG3D_220523'].\n",
      "Segmentation MEM_SEG3D_220523 does not exist in object_122:['NUC_SEG3D_220523', 'MASK'].\n",
      "Segmentation MEM_SEG3D_220523 does not exist in object_16:['MASK', 'NUC_SEG3D_220523'].\n",
      "Segmentation MEM_SEG3D_220523 does not exist in object_92:['NUC_SEG3D_220523', 'MASK'].\n",
      "Segmentation MEM_SEG3D_220523 does not exist in object_56:['NUC_SEG3D_220523', 'MASK'].\n",
      "Segmentation MEM_SEG3D_220523 does not exist in object_132:['NUC_SEG3D_220523', 'MASK'].\n",
      "Segmentation MEM_SEG3D_220523 does not exist in object_31:['NUC_SEG3D_220523', 'MASK'].\n",
      "Segmentation MEM_SEG3D_220523 does not exist in object_77:['MASK', 'NUC_SEG3D_220523'].\n",
      "Segmentation MEM_SEG3D_220523 does not exist in object_112:['MASK', 'NUC_SEG3D_220523'].\n",
      "Segmentation MEM_SEG3D_220523 does not exist in object_94:['MASK', 'NUC_SEG3D_220523'].\n",
      "Segmentation MEM_SEG3D_220523 does not exist in object_104:['MASK', 'NUC_SEG3D_220523'].\n",
      "Segmentation MEM_SEG3D_220523 does not exist in object_88:['NUC_SEG3D_220523', 'MASK'].\n",
      "Segmentation MEM_SEG3D_220523 does not exist in object_71:['NUC_SEG3D_220523', 'MASK'].\n",
      "Segmentation MEM_SEG3D_220523 does not exist in object_10:['MASK', 'NUC_SEG3D_220523'].\n",
      "Segmentation MEM_SEG3D_220523 does not exist in object_85:['NUC_SEG3D_220523', 'MASK'].\n",
      "Segmentation MEM_SEG3D_220523 does not exist in object_28:['NUC_SEG3D_220523', 'MASK'].\n",
      "Segmentation MEM_SEG3D_220523 does not exist in object_108:['NUC_SEG3D_220523', 'MASK'].\n",
      "Segmentation MEM_SEG3D_220523 does not exist in object_59:['NUC_SEG3D_220523', 'MASK'].\n",
      "Segmentation MEM_SEG3D_220523 does not exist in object_14:['MASK', 'NUC_SEG3D_220523'].\n",
      "Segmentation MEM_SEG3D_220523 does not exist in object_96:['NUC_SEG3D_220523', 'MASK'].\n",
      "Segmentation MEM_SEG3D_220523 does not exist in object_42:['NUC_SEG3D_220523', 'MASK'].\n",
      "Segmentation MEM_SEG3D_220523 does not exist in object_73:['MASK', 'NUC_SEG3D_220523'].\n",
      "Segmentation MEM_SEG3D_220523 does not exist in object_87:['MASK', 'NUC_SEG3D_220523'].\n",
      "Segmentation MEM_SEG3D_220523 does not exist in object_83:['MASK', 'NUC_SEG3D_220523'].\n",
      "Segmentation MEM_SEG3D_220523 does not exist in object_136:['MASK', 'NUC_SEG3D_220523'].\n",
      "Segmentation MEM_SEG3D_220523 does not exist in object_67:['MASK', 'NUC_SEG3D_220523'].\n",
      "Segmentation MEM_SEG3D_220523 does not exist in object_123:['NUC_SEG3D_220523', 'MASK'].\n",
      "Segmentation MEM_SEG3D_220523 does not exist in object_9:['MASK', 'NUC_SEG3D_220523'].\n",
      "Segmentation MEM_SEG3D_220523 does not exist in object_8:['NUC_SEG3D_220523', 'MASK'].\n",
      "Segmentation MEM_SEG3D_220523 does not exist in object_44:['MASK', 'NUC_SEG3D_220523'].\n",
      "Segmentation MEM_SEG3D_220523 does not exist in object_53:['NUC_SEG3D_220523', 'MASK'].\n",
      "Segmentation MEM_SEG3D_220523 does not exist in object_64:['MASK', 'NUC_SEG3D_220523'].\n",
      "Segmentation MEM_SEG3D_220523 does not exist in object_81:['NUC_SEG3D_220523', 'MASK'].\n",
      "Segmentation MEM_SEG3D_220523 does not exist in object_6:['NUC_SEG3D_220523', 'MASK'].\n",
      "Segmentation MEM_SEG3D_220523 does not exist in object_5:['MASK', 'NUC_SEG3D_220523'].\n"
     ]
    },
    {
     "name": "stderr",
     "output_type": "stream",
     "text": [
      "Segmentation MEM_SEG3D_220523 does not exist in object_37:['NUC_SEG3D_220523', 'MASK'].\n",
      "Segmentation MEM_SEG3D_220523 does not exist in object_4:['MASK', 'NUC_SEG3D_220523'].\n",
      "Segmentation MEM_SEG3D_220523 does not exist in object_135:['NUC_SEG3D_220523', 'MASK'].\n",
      "Segmentation MEM_SEG3D_220523 does not exist in object_97:['MASK', 'NUC_SEG3D_220523'].\n",
      "Segmentation MEM_SEG3D_220523 does not exist in object_26:['MASK', 'NUC_SEG3D_220523'].\n",
      "Segmentation MEM_SEG3D_220523 does not exist in object_13:['NUC_SEG3D_220523', 'MASK'].\n",
      "Segmentation MEM_SEG3D_220523 does not exist in object_12:['MASK', 'NUC_SEG3D_220523'].\n",
      "Segmentation MEM_SEG3D_220523 does not exist in object_78:['NUC_SEG3D_220523', 'MASK'].\n",
      "Segmentation MEM_SEG3D_220523 does not exist in object_93:['MASK', 'NUC_SEG3D_220523'].\n",
      "Segmentation MEM_SEG3D_220523 does not exist in object_57:['NUC_SEG3D_220523', 'MASK'].\n",
      "Segmentation MEM_SEG3D_220523 does not exist in object_80:['MASK', 'NUC_SEG3D_220523'].\n",
      "Segmentation MEM_SEG3D_220523 does not exist in object_103:['MASK', 'NUC_SEG3D_220523'].\n",
      "Segmentation MEM_SEG3D_220523 does not exist in object_49:['NUC_SEG3D_220523', 'MASK'].\n",
      "Segmentation MEM_SEG3D_220523 does not exist in object_95:['MASK', 'NUC_SEG3D_220523'].\n",
      "Segmentation MEM_SEG3D_220523 does not exist in object_74:['MASK', 'NUC_SEG3D_220523'].\n",
      "Segmentation MEM_SEG3D_220523 does not exist in object_109:['NUC_SEG3D_220523', 'MASK'].\n",
      "Segmentation MEM_SEG3D_220523 does not exist in object_54:['NUC_SEG3D_220523', 'MASK'].\n",
      "Segmentation MEM_SEG3D_220523 does not exist in object_46:['NUC_SEG3D_220523', 'MASK'].\n",
      "Segmentation MEM_SEG3D_220523 does not exist in object_65:['NUC_SEG3D_220523', 'MASK'].\n",
      "Segmentation MEM_SEG3D_220523 does not exist in object_86:['MASK', 'NUC_SEG3D_220523'].\n",
      "Segmentation MEM_SEG3D_220523 does not exist in object_82:['MASK', 'NUC_SEG3D_220523'].\n",
      "Segmentation MEM_SEG3D_220523 does not exist in object_91:['MASK', 'NUC_SEG3D_220523'].\n",
      "Segmentation MEM_SEG3D_220523 does not exist in object_17:['NUC_SEG3D_220523', 'MASK'].\n",
      "Segmentation MEM_SEG3D_220523 does not exist in object_47:['NUC_SEG3D_220523', 'MASK'].\n",
      "Segmentation MEM_SEG3D_220523 does not exist in object_107:['MASK', 'NUC_SEG3D_220523'].\n",
      "Segmentation MEM_SEG3D_220523 does not exist in object_55:['NUC_SEG3D_220523', 'MASK'].\n",
      "Segmentation MEM_SEG3D_220523 does not exist in object_101:['NUC_SEG3D_220523', 'MASK'].\n",
      "Segmentation MEM_SEG3D_220523 does not exist in object_51:['MASK', 'NUC_SEG3D_220523'].\n",
      "Segmentation MEM_SEG3D_220523 does not exist in object_61:['NUC_SEG3D_220523', 'MASK'].\n",
      "Segmentation MEM_SEG3D_220523 does not exist in object_39:['MASK', 'NUC_SEG3D_220523'].\n",
      "Segmentation MEM_SEG3D_220523 does not exist in object_84:['NUC_SEG3D_220523', 'MASK'].\n",
      "Segmentation MEM_SEG3D_220523 does not exist in object_98:['NUC_SEG3D_220523', 'MASK'].\n",
      "Segmentation MEM_SEG3D_220523 does not exist in object_23:['MASK', 'NUC_SEG3D_220523'].\n",
      "Segmentation MEM_SEG3D_220523 does not exist in object_21:['MASK', 'NUC_SEG3D_220523'].\n",
      "Segmentation MEM_SEG3D_220523 does not exist in object_27:['MASK', 'NUC_SEG3D_220523'].\n",
      "Segmentation MEM_SEG3D_220523 does not exist in object_29:['NUC_SEG3D_220523', 'MASK'].\n",
      "Segmentation MEM_SEG3D_220523 does not exist in object_70:['MASK', 'NUC_SEG3D_220523'].\n",
      "Segmentation MEM_SEG3D_220523 does not exist in object_25:['MASK', 'NUC_SEG3D_220523'].\n",
      "Segmentation MEM_SEG3D_220523 does not exist in object_102:['MASK', 'NUC_SEG3D_220523'].\n",
      "Segmentation MEM_SEG3D_220523 does not exist in object_105:['MASK', 'NUC_SEG3D_220523'].\n",
      "Segmentation MEM_SEG3D_220523 does not exist in object_36:['MASK', 'NUC_SEG3D_220523'].\n",
      "Segmentation MEM_SEG3D_220523 does not exist in object_66:['NUC_SEG3D_220523', 'MASK'].\n",
      "Segmentation MEM_SEG3D_220523 does not exist in object_20:['NUC_SEG3D_220523', 'MASK'].\n",
      "Segmentation MEM_SEG3D_220523 does not exist in object_110:['MASK', 'NUC_SEG3D_220523'].\n",
      "Segmentation MEM_SEG3D_220523 does not exist in object_40:['MASK', 'NUC_SEG3D_220523'].\n",
      "Segmentation MEM_SEG3D_220523 does not exist in object_106:['NUC_SEG3D_220523', 'MASK'].\n",
      "Segmentation MEM_SEG3D_220523 does not exist in object_45:['NUC_SEG3D_220523', 'MASK'].\n",
      "Segmentation MEM_SEG3D_220523 does not exist in object_72:['MASK', 'NUC_SEG3D_220523'].\n",
      "Segmentation MEM_SEG3D_220523 does not exist in object_69:['NUC_SEG3D_220523', 'MASK'].\n",
      "Segmentation MEM_SEG3D_220523 does not exist in object_99:['MASK', 'NUC_SEG3D_220523'].\n",
      "Segmentation MEM_SEG3D_220523 does not exist in object_19:['NUC_SEG3D_220523', 'MASK'].\n",
      "Segmentation MEM_SEG3D_220523 does not exist in object_63:['NUC_SEG3D_220523', 'MASK'].\n",
      "Segmentation MEM_SEG3D_220523 does not exist in object_48:['MASK', 'NUC_SEG3D_220523'].\n",
      "Segmentation MEM_SEG3D_220523 does not exist in object_76:['MASK', 'NUC_SEG3D_220523'].\n",
      "Segmentation MEM_SEG3D_220523 does not exist in object_62:['MASK', 'NUC_SEG3D_220523'].\n",
      "Segmentation MEM_SEG3D_220523 does not exist in object_100:['MASK', 'NUC_SEG3D_220523'].\n",
      "Segmentation MEM_SEG3D_220523 does not exist in object_52:['MASK', 'NUC_SEG3D_220523'].\n",
      "Segmentation MEM_SEG3D_220523 does not exist in object_18:['MASK', 'NUC_SEG3D_220523'].\n",
      "Segmentation MEM_SEG3D_220523 does not exist in object_3:['NUC_SEG3D_220523', 'MASK'].\n",
      "Segmentation MEM_SEG3D_220523 does not exist in object_2:['MASK', 'NUC_SEG3D_220523'].\n",
      "Segmentation MEM_SEG3D_220523 does not exist in object_38:['MASK', 'NUC_SEG3D_220523'].\n",
      "Segmentation MEM_SEG3D_220523 does not exist in object_16:['MASK', 'NUC_SEG3D_220523'].\n",
      "Segmentation MEM_SEG3D_220523 does not exist in object_92:['MASK', 'NUC_SEG3D_220523'].\n",
      "Segmentation MEM_SEG3D_220523 does not exist in object_56:['NUC_SEG3D_220523', 'MASK'].\n",
      "Segmentation MEM_SEG3D_220523 does not exist in object_77:['NUC_SEG3D_220523', 'MASK'].\n",
      "Segmentation MEM_SEG3D_220523 does not exist in object_94:['MASK', 'NUC_SEG3D_220523'].\n",
      "Segmentation MEM_SEG3D_220523 does not exist in object_104:['MASK', 'NUC_SEG3D_220523'].\n",
      "Segmentation MEM_SEG3D_220523 does not exist in object_88:['MASK', 'NUC_SEG3D_220523'].\n",
      "/tungstenfs/scratch/gliberal/Code/user-code/repinico/Python/venvs/miniconda3/envs/featX3D/lib/python3.9/site-packages/numpy/core/_methods.py:262: RuntimeWarning: Degrees of freedom <= 0 for slice\n",
      "  ret = _var(a, axis=axis, dtype=dtype, out=out, ddof=ddof,\n",
      "/tungstenfs/scratch/gliberal/Code/user-code/repinico/Python/venvs/miniconda3/envs/featX3D/lib/python3.9/site-packages/numpy/core/_methods.py:254: RuntimeWarning: invalid value encountered in double_scalars\n",
      "  ret = ret.dtype.type(ret / rcount)\n",
      "/tungstenfs/scratch/gliberal/Code/user-code/repinico/Python/venvs/miniconda3/envs/featX3D/lib/python3.9/site-packages/numpy/core/_methods.py:262: RuntimeWarning: Degrees of freedom <= 0 for slice\n",
      "  ret = _var(a, axis=axis, dtype=dtype, out=out, ddof=ddof,\n",
      "/tungstenfs/scratch/gliberal/Code/user-code/repinico/Python/venvs/miniconda3/envs/featX3D/lib/python3.9/site-packages/numpy/core/_methods.py:254: RuntimeWarning: invalid value encountered in double_scalars\n",
      "  ret = ret.dtype.type(ret / rcount)\n",
      "/tungstenfs/scratch/gliberal/Code/user-code/repinico/Python/venvs/miniconda3/envs/featX3D/lib/python3.9/site-packages/numpy/core/_methods.py:262: RuntimeWarning: Degrees of freedom <= 0 for slice\n",
      "  ret = _var(a, axis=axis, dtype=dtype, out=out, ddof=ddof,\n",
      "/tungstenfs/scratch/gliberal/Code/user-code/repinico/Python/venvs/miniconda3/envs/featX3D/lib/python3.9/site-packages/numpy/core/_methods.py:254: RuntimeWarning: invalid value encountered in double_scalars\n",
      "  ret = ret.dtype.type(ret / rcount)\n",
      "/tungstenfs/scratch/gliberal/Code/user-code/repinico/Python/venvs/miniconda3/envs/featX3D/lib/python3.9/site-packages/numpy/core/_methods.py:262: RuntimeWarning: Degrees of freedom <= 0 for slice\n",
      "  ret = _var(a, axis=axis, dtype=dtype, out=out, ddof=ddof,\n",
      "/tungstenfs/scratch/gliberal/Code/user-code/repinico/Python/venvs/miniconda3/envs/featX3D/lib/python3.9/site-packages/numpy/core/_methods.py:254: RuntimeWarning: invalid value encountered in double_scalars\n",
      "  ret = ret.dtype.type(ret / rcount)\n",
      "Segmentation MEM_SEG3D_220523 does not exist in object_71:['MASK', 'NUC_SEG3D_220523'].\n",
      "Segmentation MEM_SEG3D_220523 does not exist in object_28:['NUC_SEG3D_220523', 'MASK'].\n",
      "Segmentation MEM_SEG3D_220523 does not exist in object_108:['NUC_SEG3D_220523', 'MASK'].\n"
     ]
    },
    {
     "name": "stderr",
     "output_type": "stream",
     "text": [
      "Segmentation MEM_SEG3D_220523 does not exist in object_22:['MASK', 'NUC_SEG3D_220523'].\n",
      "Segmentation MEM_SEG3D_220523 does not exist in object_14:['NUC_SEG3D_220523', 'MASK'].\n",
      "Segmentation MEM_SEG3D_220523 does not exist in object_96:['MASK', 'NUC_SEG3D_220523'].\n",
      "Segmentation MEM_SEG3D_220523 does not exist in object_24:['MASK', 'NUC_SEG3D_220523'].\n",
      "Segmentation MEM_SEG3D_220523 does not exist in object_42:['MASK', 'NUC_SEG3D_220523'].\n",
      "Segmentation MEM_SEG3D_220523 does not exist in object_73:['MASK', 'NUC_SEG3D_220523'].\n",
      "Segmentation MEM_SEG3D_220523 does not exist in object_87:['MASK', 'NUC_SEG3D_220523'].\n",
      "Segmentation MEM_SEG3D_220523 does not exist in object_83:['NUC_SEG3D_220523', 'MASK'].\n",
      "Segmentation MEM_SEG3D_220523 does not exist in object_67:['MASK', 'NUC_SEG3D_220523'].\n",
      "Segmentation MEM_SEG3D_220523 does not exist in object_44:['NUC_SEG3D_220523', 'MASK'].\n",
      "Segmentation MEM_SEG3D_220523 does not exist in object_53:['NUC_SEG3D_220523', 'MASK'].\n",
      "Segmentation MEM_SEG3D_220523 does not exist in object_81:['NUC_SEG3D_220523', 'MASK'].\n",
      "Segmentation MEM_SEG3D_220523 does not exist in object_6:['MASK', 'NUC_SEG3D_220523'].\n",
      "Segmentation MEM_SEG3D_220523 does not exist in object_5:['NUC_SEG3D_220523', 'MASK'].\n",
      "Segmentation MEM_SEG3D_220523 does not exist in object_37:['NUC_SEG3D_220523', 'MASK'].\n",
      "Segmentation MEM_SEG3D_220523 does not exist in object_4:['MASK', 'NUC_SEG3D_220523'].\n",
      "Segmentation MEM_SEG3D_220523 does not exist in object_97:['NUC_SEG3D_220523', 'MASK'].\n",
      "Segmentation MEM_SEG3D_220523 does not exist in object_12:['MASK', 'NUC_SEG3D_220523'].\n",
      "Segmentation MEM_SEG3D_220523 does not exist in object_80:['MASK', 'NUC_SEG3D_220523'].\n",
      "Segmentation MEM_SEG3D_220523 does not exist in object_49:['MASK', 'NUC_SEG3D_220523'].\n",
      "Segmentation MEM_SEG3D_220523 does not exist in object_60:['MASK', 'NUC_SEG3D_220523'].\n",
      "Segmentation MEM_SEG3D_220523 does not exist in object_121:['MASK', 'NUC_SEG3D_220523'].\n",
      "Segmentation MEM_SEG3D_220523 does not exist in object_95:['MASK', 'NUC_SEG3D_220523'].\n",
      "Segmentation MEM_SEG3D_220523 does not exist in object_126:['NUC_SEG3D_220523', 'MASK'].\n",
      "Segmentation MEM_SEG3D_220523 does not exist in object_109:['MASK', 'NUC_SEG3D_220523'].\n",
      "Segmentation MEM_SEG3D_220523 does not exist in object_35:['MASK', 'NUC_SEG3D_220523'].\n",
      "Segmentation MEM_SEG3D_220523 does not exist in object_111:['MASK', 'NUC_SEG3D_220523'].\n",
      "Segmentation MEM_SEG3D_220523 does not exist in object_46:['MASK', 'NUC_SEG3D_220523'].\n",
      "Segmentation MEM_SEG3D_220523 does not exist in object_65:['MASK', 'NUC_SEG3D_220523'].\n",
      "Segmentation MEM_SEG3D_220523 does not exist in object_86:['NUC_SEG3D_220523', 'MASK'].\n",
      "Segmentation MEM_SEG3D_220523 does not exist in object_91:['MASK', 'NUC_SEG3D_220523'].\n",
      "Segmentation MEM_SEG3D_220523 does not exist in object_17:['MASK', 'NUC_SEG3D_220523'].\n",
      "Segmentation MEM_SEG3D_220523 does not exist in object_43:['MASK', 'NUC_SEG3D_220523'].\n",
      "Segmentation MEM_SEG3D_220523 does not exist in object_107:['NUC_SEG3D_220523', 'MASK'].\n",
      "Segmentation MEM_SEG3D_220523 does not exist in object_101:['MASK', 'NUC_SEG3D_220523'].\n",
      "Segmentation MEM_SEG3D_220523 does not exist in object_33:['NUC_SEG3D_220523', 'MASK'].\n",
      "Segmentation MEM_SEG3D_220523 does not exist in object_51:['MASK', 'NUC_SEG3D_220523'].\n",
      "Segmentation MEM_SEG3D_220523 does not exist in object_61:['NUC_SEG3D_220523', 'MASK'].\n",
      "Segmentation MEM_SEG3D_220523 does not exist in object_39:['MASK', 'NUC_SEG3D_220523'].\n",
      "Segmentation MEM_SEG3D_220523 does not exist in object_89:['NUC_SEG3D_220523', 'MASK'].\n",
      "Segmentation MEM_SEG3D_220523 does not exist in object_98:['MASK', 'NUC_SEG3D_220523'].\n",
      "Segmentation MEM_SEG3D_220523 does not exist in object_15:['MASK', 'NUC_SEG3D_220523'].\n",
      "Segmentation MEM_SEG3D_220523 does not exist in object_23:['MASK', 'NUC_SEG3D_220523'].\n",
      "Segmentation MEM_SEG3D_220523 does not exist in object_21:['MASK', 'NUC_SEG3D_220523'].\n",
      "Segmentation MEM_SEG3D_220523 does not exist in object_29:['MASK', 'NUC_SEG3D_220523'].\n",
      "Segmentation MEM_SEG3D_220523 does not exist in object_70:['NUC_SEG3D_220523', 'MASK'].\n",
      "Segmentation MEM_SEG3D_220523 does not exist in object_25:['MASK', 'NUC_SEG3D_220523'].\n",
      "Segmentation MEM_SEG3D_220523 does not exist in object_102:['NUC_SEG3D_220523', 'MASK'].\n",
      "Segmentation MEM_SEG3D_220523 does not exist in object_105:['MASK', 'NUC_SEG3D_220523'].\n",
      "Segmentation MEM_SEG3D_220523 does not exist in object_127:['MASK', 'NUC_SEG3D_220523'].\n",
      "Segmentation MEM_SEG3D_220523 does not exist in object_36:['MASK', 'NUC_SEG3D_220523'].\n",
      "Segmentation MEM_SEG3D_220523 does not exist in object_117:['NUC_SEG3D_220523', 'MASK'].\n",
      "Segmentation MEM_SEG3D_220523 does not exist in object_124:['MASK', 'NUC_SEG3D_220523'].\n",
      "Segmentation MEM_SEG3D_220523 does not exist in object_110:['MASK', 'NUC_SEG3D_220523'].\n",
      "Segmentation MEM_SEG3D_220523 does not exist in object_40:['MASK', 'NUC_SEG3D_220523'].\n",
      "Segmentation MEM_SEG3D_220523 does not exist in object_120:['NUC_SEG3D_220523', 'MASK'].\n",
      "Segmentation MEM_SEG3D_220523 does not exist in object_106:['MASK', 'NUC_SEG3D_220523'].\n",
      "Segmentation MEM_SEG3D_220523 does not exist in object_45:['MASK', 'NUC_SEG3D_220523'].\n",
      "Segmentation MEM_SEG3D_220523 does not exist in object_72:['NUC_SEG3D_220523', 'MASK'].\n",
      "Segmentation MEM_SEG3D_220523 does not exist in object_69:['MASK', 'NUC_SEG3D_220523'].\n",
      "Segmentation MEM_SEG3D_220523 does not exist in object_114:['NUC_SEG3D_220523', 'MASK'].\n",
      "Segmentation MEM_SEG3D_220523 does not exist in object_99:['NUC_SEG3D_220523', 'MASK'].\n",
      "Segmentation MEM_SEG3D_220523 does not exist in object_90:['NUC_SEG3D_220523', 'MASK'].\n",
      "Segmentation MEM_SEG3D_220523 does not exist in object_19:['MASK', 'NUC_SEG3D_220523'].\n",
      "Segmentation MEM_SEG3D_220523 does not exist in object_63:['NUC_SEG3D_220523', 'MASK'].\n",
      "Segmentation MEM_SEG3D_220523 does not exist in object_48:['NUC_SEG3D_220523', 'MASK'].\n",
      "Segmentation MEM_SEG3D_220523 does not exist in object_76:['NUC_SEG3D_220523', 'MASK'].\n",
      "Segmentation MEM_SEG3D_220523 does not exist in object_62:['NUC_SEG3D_220523', 'MASK'].\n",
      "Segmentation MEM_SEG3D_220523 does not exist in object_100:['MASK', 'NUC_SEG3D_220523'].\n",
      "Segmentation MEM_SEG3D_220523 does not exist in object_52:['NUC_SEG3D_220523', 'MASK'].\n",
      "Segmentation MEM_SEG3D_220523 does not exist in object_3:['MASK', 'NUC_SEG3D_220523'].\n",
      "Segmentation MEM_SEG3D_220523 does not exist in object_50:['MASK', 'NUC_SEG3D_220523'].\n",
      "Segmentation MEM_SEG3D_220523 does not exist in object_125:['MASK', 'NUC_SEG3D_220523'].\n",
      "Segmentation MEM_SEG3D_220523 does not exist in object_1:['NUC_SEG3D_220523', 'MASK'].\n",
      "Segmentation MEM_SEG3D_220523 does not exist in object_38:['MASK', 'NUC_SEG3D_220523'].\n",
      "Segmentation MEM_SEG3D_220523 does not exist in object_115:['MASK', 'NUC_SEG3D_220523'].\n",
      "Segmentation MEM_SEG3D_220523 does not exist in object_16:['NUC_SEG3D_220523', 'MASK'].\n",
      "Segmentation MEM_SEG3D_220523 does not exist in object_92:['MASK', 'NUC_SEG3D_220523'].\n",
      "Segmentation MEM_SEG3D_220523 does not exist in object_31:['NUC_SEG3D_220523', 'MASK'].\n",
      "Segmentation MEM_SEG3D_220523 does not exist in object_77:['MASK', 'NUC_SEG3D_220523'].\n",
      "Segmentation MEM_SEG3D_220523 does not exist in object_112:['NUC_SEG3D_220523', 'MASK'].\n",
      "Segmentation MEM_SEG3D_220523 does not exist in object_94:['MASK', 'NUC_SEG3D_220523'].\n",
      "Segmentation MEM_SEG3D_220523 does not exist in object_88:['NUC_SEG3D_220523', 'MASK'].\n",
      "Segmentation MEM_SEG3D_220523 does not exist in object_71:['MASK', 'NUC_SEG3D_220523'].\n",
      "Segmentation MEM_SEG3D_220523 does not exist in object_28:['MASK', 'NUC_SEG3D_220523'].\n",
      "Segmentation MEM_SEG3D_220523 does not exist in object_22:['MASK', 'NUC_SEG3D_220523'].\n",
      "Segmentation MEM_SEG3D_220523 does not exist in object_59:['NUC_SEG3D_220523', 'MASK'].\n",
      "Segmentation MEM_SEG3D_220523 does not exist in object_96:['MASK', 'NUC_SEG3D_220523'].\n",
      "Segmentation MEM_SEG3D_220523 does not exist in object_24:['NUC_SEG3D_220523', 'MASK'].\n",
      "Segmentation MEM_SEG3D_220523 does not exist in object_42:['MASK', 'NUC_SEG3D_220523'].\n",
      "Segmentation MEM_SEG3D_220523 does not exist in object_73:['MASK', 'NUC_SEG3D_220523'].\n",
      "Segmentation MEM_SEG3D_220523 does not exist in object_9:['NUC_SEG3D_220523', 'MASK'].\n",
      "Segmentation MEM_SEG3D_220523 does not exist in object_44:['MASK', 'NUC_SEG3D_220523'].\n"
     ]
    },
    {
     "name": "stderr",
     "output_type": "stream",
     "text": [
      "Segmentation MEM_SEG3D_220523 does not exist in object_81:['NUC_SEG3D_220523', 'MASK'].\n",
      "Segmentation MEM_SEG3D_220523 does not exist in object_6:['NUC_SEG3D_220523', 'MASK'].\n",
      "Segmentation MEM_SEG3D_220523 does not exist in object_5:['MASK', 'NUC_SEG3D_220523'].\n",
      "Segmentation MEM_SEG3D_220523 does not exist in object_4:['MASK', 'NUC_SEG3D_220523'].\n",
      "Segmentation MEM_SEG3D_220523 does not exist in object_97:['MASK', 'NUC_SEG3D_220523'].\n",
      "Segmentation MEM_SEG3D_220523 does not exist in object_13:['MASK', 'NUC_SEG3D_220523'].\n",
      "Segmentation MEM_SEG3D_220523 does not exist in object_78:['NUC_SEG3D_220523', 'MASK'].\n",
      "Segmentation MEM_SEG3D_220523 does not exist in object_93:['MASK', 'NUC_SEG3D_220523'].\n",
      "Segmentation MEM_SEG3D_220523 does not exist in object_57:['NUC_SEG3D_220523', 'MASK'].\n",
      "Segmentation MEM_SEG3D_220523 does not exist in object_80:['NUC_SEG3D_220523', 'MASK'].\n",
      "Segmentation MEM_SEG3D_220523 does not exist in object_103:['MASK', 'NUC_SEG3D_220523'].\n",
      "Segmentation MEM_SEG3D_220523 does not exist in object_49:['MASK', 'NUC_SEG3D_220523'].\n",
      "Segmentation MEM_SEG3D_220523 does not exist in object_60:['NUC_SEG3D_220523', 'MASK'].\n",
      "Segmentation MEM_SEG3D_220523 does not exist in object_74:['MASK', 'NUC_SEG3D_220523'].\n",
      "Segmentation MEM_SEG3D_220523 does not exist in object_35:['MASK', 'NUC_SEG3D_220523'].\n",
      "Segmentation MEM_SEG3D_220523 does not exist in object_54:['MASK', 'NUC_SEG3D_220523'].\n",
      "Segmentation MEM_SEG3D_220523 does not exist in object_111:['NUC_SEG3D_220523', 'MASK'].\n",
      "Segmentation MEM_SEG3D_220523 does not exist in object_58:['MASK', 'NUC_SEG3D_220523'].\n",
      "Segmentation MEM_SEG3D_220523 does not exist in object_116:['MASK', 'NUC_SEG3D_220523'].\n",
      "Segmentation MEM_SEG3D_220523 does not exist in object_82:['MASK', 'NUC_SEG3D_220523'].\n",
      "Segmentation MEM_SEG3D_220523 does not exist in object_47:['MASK', 'NUC_SEG3D_220523'].\n",
      "Segmentation MEM_SEG3D_220523 does not exist in object_55:['MASK', 'NUC_SEG3D_220523'].\n",
      "Segmentation MEM_SEG3D_220523 does not exist in object_75:['NUC_SEG3D_220523', 'MASK'].\n",
      "Segmentation MEM_SEG3D_220523 does not exist in object_41:['MASK', 'NUC_SEG3D_220523'].\n",
      "Segmentation MEM_SEG3D_220523 does not exist in object_101:['NUC_SEG3D_220523', 'MASK'].\n",
      "Segmentation MEM_SEG3D_220523 does not exist in object_51:['NUC_SEG3D_220523', 'MASK'].\n",
      "Segmentation MEM_SEG3D_220523 does not exist in object_61:['MASK', 'NUC_SEG3D_220523'].\n",
      "Segmentation MEM_SEG3D_220523 does not exist in object_89:['NUC_SEG3D_220523', 'MASK'].\n",
      "Segmentation MEM_SEG3D_220523 does not exist in object_98:['MASK', 'NUC_SEG3D_220523'].\n",
      "Segmentation MEM_SEG3D_220523 does not exist in object_21:['NUC_SEG3D_220523', 'MASK'].\n",
      "Segmentation MEM_SEG3D_220523 does not exist in object_27:['NUC_SEG3D_220523', 'MASK'].\n",
      "Segmentation MEM_SEG3D_220523 does not exist in object_70:['MASK', 'NUC_SEG3D_220523'].\n",
      "Segmentation MEM_SEG3D_220523 does not exist in object_105:['NUC_SEG3D_220523', 'MASK'].\n",
      "Segmentation MEM_SEG3D_220523 does not exist in object_66:['MASK', 'NUC_SEG3D_220523'].\n",
      "Segmentation MEM_SEG3D_220523 does not exist in object_110:['MASK', 'NUC_SEG3D_220523'].\n",
      "Segmentation MEM_SEG3D_220523 does not exist in object_40:['NUC_SEG3D_220523', 'MASK'].\n",
      "Segmentation MEM_SEG3D_220523 does not exist in object_106:['NUC_SEG3D_220523', 'MASK'].\n",
      "Segmentation MEM_SEG3D_220523 does not exist in object_72:['MASK', 'NUC_SEG3D_220523'].\n",
      "Segmentation MEM_SEG3D_220523 does not exist in object_114:['MASK', 'NUC_SEG3D_220523'].\n",
      "Segmentation MEM_SEG3D_220523 does not exist in object_90:['MASK', 'NUC_SEG3D_220523'].\n",
      "Segmentation MEM_SEG3D_220523 does not exist in object_19:['NUC_SEG3D_220523', 'MASK'].\n",
      "Segmentation MEM_SEG3D_220523 does not exist in object_63:['MASK', 'NUC_SEG3D_220523'].\n",
      "Segmentation MEM_SEG3D_220523 does not exist in object_76:['NUC_SEG3D_220523', 'MASK'].\n",
      "Segmentation MEM_SEG3D_220523 does not exist in object_62:['NUC_SEG3D_220523', 'MASK'].\n",
      "Segmentation MEM_SEG3D_220523 does not exist in object_100:['NUC_SEG3D_220523', 'MASK'].\n",
      "Segmentation MEM_SEG3D_220523 does not exist in object_52:['NUC_SEG3D_220523', 'MASK'].\n",
      "Segmentation MEM_SEG3D_220523 does not exist in object_2:['MASK', 'NUC_SEG3D_220523'].\n",
      "Segmentation MEM_SEG3D_220523 does not exist in object_50:['MASK', 'NUC_SEG3D_220523'].\n",
      "Segmentation MEM_SEG3D_220523 does not exist in object_1:['MASK', 'NUC_SEG3D_220523'].\n",
      "Segmentation MEM_SEG3D_220523 does not exist in object_16:['NUC_SEG3D_220523', 'MASK'].\n",
      "Segmentation MEM_SEG3D_220523 does not exist in object_92:['MASK', 'NUC_SEG3D_220523'].\n",
      "Segmentation MEM_SEG3D_220523 does not exist in object_77:['NUC_SEG3D_220523', 'MASK'].\n",
      "Segmentation MEM_SEG3D_220523 does not exist in object_112:['MASK', 'NUC_SEG3D_220523'].\n",
      "Segmentation MEM_SEG3D_220523 does not exist in object_94:['MASK', 'NUC_SEG3D_220523'].\n",
      "Segmentation MEM_SEG3D_220523 does not exist in object_88:['NUC_SEG3D_220523', 'MASK'].\n",
      "Segmentation MEM_SEG3D_220523 does not exist in object_71:['NUC_SEG3D_220523', 'MASK'].\n",
      "Segmentation MEM_SEG3D_220523 does not exist in object_85:['NUC_SEG3D_220523', 'MASK'].\n",
      "Segmentation MEM_SEG3D_220523 does not exist in object_59:['NUC_SEG3D_220523', 'MASK'].\n",
      "Segmentation MEM_SEG3D_220523 does not exist in object_14:['NUC_SEG3D_220523', 'MASK'].\n",
      "Segmentation MEM_SEG3D_220523 does not exist in object_87:['MASK', 'NUC_SEG3D_220523'].\n",
      "Segmentation MEM_SEG3D_220523 does not exist in object_83:['MASK', 'NUC_SEG3D_220523'].\n",
      "Segmentation MEM_SEG3D_220523 does not exist in object_67:['NUC_SEG3D_220523', 'MASK'].\n",
      "Segmentation MEM_SEG3D_220523 does not exist in object_9:['MASK', 'NUC_SEG3D_220523'].\n",
      "Segmentation MEM_SEG3D_220523 does not exist in object_44:['NUC_SEG3D_220523', 'MASK'].\n",
      "Segmentation MEM_SEG3D_220523 does not exist in object_113:['MASK', 'NUC_SEG3D_220523'].\n",
      "Segmentation MEM_SEG3D_220523 does not exist in object_7:['NUC_SEG3D_220523', 'MASK'].\n",
      "Segmentation MEM_SEG3D_220523 does not exist in object_53:['NUC_SEG3D_220523', 'MASK'].\n",
      "Segmentation MEM_SEG3D_220523 does not exist in object_68:['MASK', 'NUC_SEG3D_220523'].\n",
      "Segmentation MEM_SEG3D_220523 does not exist in object_37:['NUC_SEG3D_220523', 'MASK'].\n",
      "Segmentation MEM_SEG3D_220523 does not exist in object_97:['NUC_SEG3D_220523', 'MASK'].\n",
      "Segmentation MEM_SEG3D_220523 does not exist in object_26:['MASK', 'NUC_SEG3D_220523'].\n",
      "Segmentation MEM_SEG3D_220523 does not exist in object_13:['MASK', 'NUC_SEG3D_220523'].\n",
      "Segmentation MEM_SEG3D_220523 does not exist in object_12:['MASK', 'NUC_SEG3D_220523'].\n",
      "Segmentation MEM_SEG3D_220523 does not exist in object_78:['MASK', 'NUC_SEG3D_220523'].\n",
      "Segmentation MEM_SEG3D_220523 does not exist in object_93:['MASK', 'NUC_SEG3D_220523'].\n",
      "Segmentation MEM_SEG3D_220523 does not exist in object_80:['NUC_SEG3D_220523', 'MASK'].\n",
      "Segmentation MEM_SEG3D_220523 does not exist in object_103:['MASK', 'NUC_SEG3D_220523'].\n",
      "Segmentation MEM_SEG3D_220523 does not exist in object_49:['MASK', 'NUC_SEG3D_220523'].\n",
      "Segmentation MEM_SEG3D_220523 does not exist in object_60:['NUC_SEG3D_220523', 'MASK'].\n",
      "Segmentation MEM_SEG3D_220523 does not exist in object_74:['MASK', 'NUC_SEG3D_220523'].\n",
      "Segmentation MEM_SEG3D_220523 does not exist in object_35:['NUC_SEG3D_220523', 'MASK'].\n",
      "Segmentation MEM_SEG3D_220523 does not exist in object_54:['MASK', 'NUC_SEG3D_220523'].\n",
      "Segmentation MEM_SEG3D_220523 does not exist in object_46:['NUC_SEG3D_220523', 'MASK'].\n",
      "Segmentation MEM_SEG3D_220523 does not exist in object_65:['MASK', 'NUC_SEG3D_220523'].\n",
      "Segmentation MEM_SEG3D_220523 does not exist in object_58:['NUC_SEG3D_220523', 'MASK'].\n",
      "Segmentation MEM_SEG3D_220523 does not exist in object_82:['MASK', 'NUC_SEG3D_220523'].\n",
      "Segmentation MEM_SEG3D_220523 does not exist in object_17:['MASK', 'NUC_SEG3D_220523'].\n",
      "Segmentation MEM_SEG3D_220523 does not exist in object_43:['MASK', 'NUC_SEG3D_220523'].\n",
      "Segmentation MEM_SEG3D_220523 does not exist in object_32:['NUC_SEG3D_220523', 'MASK'].\n",
      "Segmentation MEM_SEG3D_220523 does not exist in object_11:['MASK', 'NUC_SEG3D_220523'].\n",
      "Segmentation MEM_SEG3D_220523 does not exist in object_47:['MASK', 'NUC_SEG3D_220523'].\n",
      "Segmentation MEM_SEG3D_220523 does not exist in object_55:['NUC_SEG3D_220523', 'MASK'].\n",
      "Segmentation MEM_SEG3D_220523 does not exist in object_75:['MASK', 'NUC_SEG3D_220523'].\n",
      "Segmentation MEM_SEG3D_220523 does not exist in object_41:['MASK', 'NUC_SEG3D_220523'].\n"
     ]
    },
    {
     "name": "stderr",
     "output_type": "stream",
     "text": [
      "Segmentation MEM_SEG3D_220523 does not exist in object_101:['MASK', 'NUC_SEG3D_220523'].\n",
      "Segmentation MEM_SEG3D_220523 does not exist in object_33:['MASK', 'NUC_SEG3D_220523'].\n",
      "Segmentation MEM_SEG3D_220523 does not exist in object_51:['NUC_SEG3D_220523', 'MASK'].\n",
      "Segmentation MEM_SEG3D_220523 does not exist in object_39:['NUC_SEG3D_220523', 'MASK'].\n",
      "Segmentation MEM_SEG3D_220523 does not exist in object_89:['NUC_SEG3D_220523', 'MASK'].\n",
      "Segmentation MEM_SEG3D_220523 does not exist in object_98:['NUC_SEG3D_220523', 'MASK'].\n",
      "Segmentation MEM_SEG3D_220523 does not exist in object_15:['MASK', 'NUC_SEG3D_220523'].\n",
      "Segmentation MEM_SEG3D_220523 does not exist in object_23:['MASK', 'NUC_SEG3D_220523'].\n",
      "Segmentation MEM_SEG3D_220523 does not exist in object_21:['MASK', 'NUC_SEG3D_220523'].\n",
      "Segmentation MEM_SEG3D_220523 does not exist in object_27:['MASK', 'NUC_SEG3D_220523'].\n",
      "Segmentation MEM_SEG3D_220523 does not exist in object_29:['NUC_SEG3D_220523', 'MASK'].\n",
      "Segmentation MEM_SEG3D_220523 does not exist in object_25:['NUC_SEG3D_220523', 'MASK'].\n",
      "Segmentation MEM_SEG3D_220523 does not exist in object_102:['MASK', 'NUC_SEG3D_220523'].\n",
      "Segmentation MEM_SEG3D_220523 does not exist in object_105:['NUC_SEG3D_220523', 'MASK'].\n",
      "Segmentation MEM_SEG3D_220523 does not exist in object_36:['NUC_SEG3D_220523', 'MASK'].\n",
      "Segmentation MEM_SEG3D_220523 does not exist in object_66:['NUC_SEG3D_220523', 'MASK'].\n",
      "Segmentation MEM_SEG3D_220523 does not exist in object_20:['NUC_SEG3D_220523', 'MASK'].\n",
      "Segmentation MEM_SEG3D_220523 does not exist in object_40:['NUC_SEG3D_220523', 'MASK'].\n",
      "Segmentation MEM_SEG3D_220523 does not exist in object_106:['MASK', 'NUC_SEG3D_220523'].\n",
      "Segmentation MEM_SEG3D_220523 does not exist in object_45:['NUC_SEG3D_220523', 'MASK'].\n",
      "Segmentation MEM_SEG3D_220523 does not exist in object_72:['MASK', 'NUC_SEG3D_220523'].\n",
      "Segmentation MEM_SEG3D_220523 does not exist in object_99:['MASK', 'NUC_SEG3D_220523'].\n",
      "Segmentation MEM_SEG3D_220523 does not exist in object_90:['NUC_SEG3D_220523', 'MASK'].\n",
      "Segmentation MEM_SEG3D_220523 does not exist in object_19:['MASK', 'NUC_SEG3D_220523'].\n",
      "Segmentation MEM_SEG3D_220523 does not exist in object_63:['MASK', 'NUC_SEG3D_220523'].\n",
      "Segmentation MEM_SEG3D_220523 does not exist in object_48:['MASK', 'NUC_SEG3D_220523'].\n",
      "Segmentation MEM_SEG3D_220523 does not exist in object_34:['MASK', 'NUC_SEG3D_220523'].\n",
      "Segmentation MEM_SEG3D_220523 does not exist in object_62:['MASK', 'NUC_SEG3D_220523'].\n",
      "Segmentation MEM_SEG3D_220523 does not exist in object_52:['NUC_SEG3D_220523', 'MASK'].\n",
      "Segmentation MEM_SEG3D_220523 does not exist in object_18:['NUC_SEG3D_220523', 'MASK'].\n",
      "Segmentation MEM_SEG3D_220523 does not exist in object_1:['NUC_SEG3D_220523', 'MASK'].\n",
      "Segmentation MEM_SEG3D_220523 does not exist in object_38:['MASK', 'NUC_SEG3D_220523'].\n",
      "Segmentation MEM_SEG3D_220523 does not exist in object_92:['NUC_SEG3D_220523', 'MASK'].\n",
      "Segmentation MEM_SEG3D_220523 does not exist in object_56:['NUC_SEG3D_220523', 'MASK'].\n",
      "Segmentation MEM_SEG3D_220523 does not exist in object_77:['MASK', 'NUC_SEG3D_220523'].\n",
      "Segmentation MEM_SEG3D_220523 does not exist in object_94:['MASK', 'NUC_SEG3D_220523'].\n",
      "Segmentation MEM_SEG3D_220523 does not exist in object_104:['MASK', 'NUC_SEG3D_220523'].\n",
      "Segmentation MEM_SEG3D_220523 does not exist in object_71:['NUC_SEG3D_220523', 'MASK'].\n",
      "Segmentation MEM_SEG3D_220523 does not exist in object_10:['MASK', 'NUC_SEG3D_220523'].\n",
      "Segmentation MEM_SEG3D_220523 does not exist in object_85:['NUC_SEG3D_220523', 'MASK'].\n",
      "Segmentation MEM_SEG3D_220523 does not exist in object_28:['NUC_SEG3D_220523', 'MASK'].\n",
      "Segmentation MEM_SEG3D_220523 does not exist in object_22:['NUC_SEG3D_220523', 'MASK'].\n",
      "Segmentation MEM_SEG3D_220523 does not exist in object_14:['MASK', 'NUC_SEG3D_220523'].\n",
      "Segmentation MEM_SEG3D_220523 does not exist in object_96:['NUC_SEG3D_220523', 'MASK'].\n",
      "Segmentation MEM_SEG3D_220523 does not exist in object_24:['MASK', 'NUC_SEG3D_220523'].\n",
      "Segmentation MEM_SEG3D_220523 does not exist in object_73:['MASK', 'NUC_SEG3D_220523'].\n",
      "Segmentation MEM_SEG3D_220523 does not exist in object_7:['NUC_SEG3D_220523', 'MASK'].\n",
      "Segmentation MEM_SEG3D_220523 does not exist in object_53:['NUC_SEG3D_220523', 'MASK'].\n",
      "Segmentation MEM_SEG3D_220523 does not exist in object_64:['MASK', 'NUC_SEG3D_220523'].\n",
      "Segmentation MEM_SEG3D_220523 does not exist in object_68:['MASK', 'NUC_SEG3D_220523'].\n",
      "Segmentation MEM_SEG3D_220523 does not exist in object_5:['MASK', 'NUC_SEG3D_220523'].\n",
      "Segmentation MEM_SEG3D_220523 does not exist in object_4:['MASK', 'NUC_SEG3D_220523'].\n",
      "Segmentation MEM_SEG3D_220523 does not exist in object_26:['MASK', 'NUC_SEG3D_220523'].\n",
      "Segmentation MEM_SEG3D_220523 does not exist in object_12:['MASK', 'NUC_SEG3D_220523'].\n",
      "Segmentation MEM_SEG3D_220523 does not exist in object_78:['NUC_SEG3D_220523', 'MASK'].\n",
      "Segmentation MEM_SEG3D_220523 does not exist in object_93:['MASK', 'NUC_SEG3D_220523'].\n",
      "Segmentation MEM_SEG3D_220523 does not exist in object_57:['NUC_SEG3D_220523', 'MASK'].\n",
      "Segmentation MEM_SEG3D_220523 does not exist in object_49:['NUC_SEG3D_220523', 'MASK'].\n",
      "Segmentation MEM_SEG3D_220523 does not exist in object_95:['MASK', 'NUC_SEG3D_220523'].\n",
      "Segmentation MEM_SEG3D_220523 does not exist in object_74:['MASK', 'NUC_SEG3D_220523'].\n",
      "Segmentation MEM_SEG3D_220523 does not exist in object_35:['MASK', 'NUC_SEG3D_220523'].\n",
      "Segmentation MEM_SEG3D_220523 does not exist in object_65:['NUC_SEG3D_220523', 'MASK'].\n",
      "Segmentation MEM_SEG3D_220523 does not exist in object_86:['MASK', 'NUC_SEG3D_220523'].\n",
      "Segmentation MEM_SEG3D_220523 does not exist in object_82:['MASK', 'NUC_SEG3D_220523'].\n",
      "Segmentation MEM_SEG3D_220523 does not exist in object_91:['MASK', 'NUC_SEG3D_220523'].\n",
      "Segmentation MEM_SEG3D_220523 does not exist in object_32:['NUC_SEG3D_220523', 'MASK'].\n",
      "Segmentation MEM_SEG3D_220523 does not exist in object_47:['NUC_SEG3D_220523', 'MASK'].\n",
      "Segmentation MEM_SEG3D_220523 does not exist in object_55:['NUC_SEG3D_220523', 'MASK'].\n",
      "Segmentation MEM_SEG3D_220523 does not exist in object_41:['NUC_SEG3D_220523', 'MASK'].\n",
      "Segmentation MEM_SEG3D_220523 does not exist in object_33:['NUC_SEG3D_220523', 'MASK'].\n",
      "Segmentation MEM_SEG3D_220523 does not exist in object_61:['NUC_SEG3D_220523', 'MASK'].\n",
      "Segmentation MEM_SEG3D_220523 does not exist in object_89:['NUC_SEG3D_220523', 'MASK'].\n",
      "Segmentation MEM_SEG3D_220523 does not exist in object_66:['NUC_SEG3D_220523', 'MASK'].\n",
      "Segmentation MEM_SEG3D_220523 does not exist in object_40:['MASK', 'NUC_SEG3D_220523'].\n",
      "Segmentation MEM_SEG3D_220523 does not exist in object_69:['NUC_SEG3D_220523', 'MASK'].\n",
      "Segmentation MEM_SEG3D_220523 does not exist in object_90:['MASK', 'NUC_SEG3D_220523'].\n",
      "Segmentation MEM_SEG3D_220523 does not exist in object_19:['NUC_SEG3D_220523', 'MASK'].\n",
      "Segmentation MEM_SEG3D_220523 does not exist in object_48:['MASK', 'NUC_SEG3D_220523'].\n",
      "Segmentation MEM_SEG3D_220523 does not exist in object_34:['NUC_SEG3D_220523', 'MASK'].\n",
      "Segmentation MEM_SEG3D_220523 does not exist in object_3:['NUC_SEG3D_220523', 'MASK'].\n",
      "Segmentation MEM_SEG3D_220523 does not exist in object_38:['MASK', 'NUC_SEG3D_220523'].\n",
      "Segmentation MEM_SEG3D_220523 does not exist in object_16:['MASK', 'NUC_SEG3D_220523'].\n",
      "Segmentation MEM_SEG3D_220523 does not exist in object_31:['MASK', 'NUC_SEG3D_220523'].\n",
      "Segmentation MEM_SEG3D_220523 does not exist in object_77:['NUC_SEG3D_220523', 'MASK'].\n",
      "Segmentation MEM_SEG3D_220523 does not exist in object_88:['MASK', 'NUC_SEG3D_220523'].\n",
      "Segmentation MEM_SEG3D_220523 does not exist in object_85:['NUC_SEG3D_220523', 'MASK'].\n",
      "Segmentation MEM_SEG3D_220523 does not exist in object_59:['NUC_SEG3D_220523', 'MASK'].\n",
      "Segmentation MEM_SEG3D_220523 does not exist in object_14:['NUC_SEG3D_220523', 'MASK'].\n",
      "Segmentation MEM_SEG3D_220523 does not exist in object_83:['NUC_SEG3D_220523', 'MASK'].\n",
      "Segmentation MEM_SEG3D_220523 does not exist in object_8:['NUC_SEG3D_220523', 'MASK'].\n",
      "Segmentation MEM_SEG3D_220523 does not exist in object_44:['NUC_SEG3D_220523', 'MASK'].\n",
      "Segmentation MEM_SEG3D_220523 does not exist in object_53:['NUC_SEG3D_220523', 'MASK'].\n",
      "Segmentation MEM_SEG3D_220523 does not exist in object_81:['NUC_SEG3D_220523', 'MASK'].\n",
      "Segmentation MEM_SEG3D_220523 does not exist in object_26:['MASK', 'NUC_SEG3D_220523'].\n"
     ]
    },
    {
     "name": "stderr",
     "output_type": "stream",
     "text": [
      "Segmentation MEM_SEG3D_220523 does not exist in object_13:['NUC_SEG3D_220523', 'MASK'].\n",
      "Segmentation MEM_SEG3D_220523 does not exist in object_12:['MASK', 'NUC_SEG3D_220523'].\n",
      "Segmentation MEM_SEG3D_220523 does not exist in object_78:['NUC_SEG3D_220523', 'MASK'].\n",
      "Segmentation MEM_SEG3D_220523 does not exist in object_80:['MASK', 'NUC_SEG3D_220523'].\n",
      "Segmentation MEM_SEG3D_220523 does not exist in object_103:['NUC_SEG3D_220523', 'MASK'].\n",
      "Segmentation MEM_SEG3D_220523 does not exist in object_49:['MASK', 'NUC_SEG3D_220523'].\n",
      "Segmentation MEM_SEG3D_220523 does not exist in object_95:['MASK', 'NUC_SEG3D_220523'].\n",
      "Segmentation MEM_SEG3D_220523 does not exist in object_109:['MASK', 'NUC_SEG3D_220523'].\n",
      "Segmentation MEM_SEG3D_220523 does not exist in object_54:['MASK', 'NUC_SEG3D_220523'].\n",
      "Segmentation MEM_SEG3D_220523 does not exist in object_43:['MASK', 'NUC_SEG3D_220523'].\n",
      "Segmentation MEM_SEG3D_220523 does not exist in object_79:['NUC_SEG3D_220523', 'MASK'].\n",
      "Segmentation MEM_SEG3D_220523 does not exist in object_32:['MASK', 'NUC_SEG3D_220523'].\n",
      "Segmentation MEM_SEG3D_220523 does not exist in object_47:['MASK', 'NUC_SEG3D_220523'].\n",
      "Segmentation MEM_SEG3D_220523 does not exist in object_55:['NUC_SEG3D_220523', 'MASK'].\n",
      "Segmentation MEM_SEG3D_220523 does not exist in object_75:['NUC_SEG3D_220523', 'MASK'].\n",
      "Segmentation MEM_SEG3D_220523 does not exist in object_51:['MASK', 'NUC_SEG3D_220523'].\n",
      "Segmentation MEM_SEG3D_220523 does not exist in object_39:['MASK', 'NUC_SEG3D_220523'].\n",
      "Segmentation MEM_SEG3D_220523 does not exist in object_89:['NUC_SEG3D_220523', 'MASK'].\n",
      "Segmentation MEM_SEG3D_220523 does not exist in object_27:['MASK', 'NUC_SEG3D_220523'].\n",
      "Segmentation MEM_SEG3D_220523 does not exist in object_29:['MASK', 'NUC_SEG3D_220523'].\n",
      "Segmentation MEM_SEG3D_220523 does not exist in object_105:['MASK', 'NUC_SEG3D_220523'].\n",
      "Segmentation MEM_SEG3D_220523 does not exist in object_36:['MASK', 'NUC_SEG3D_220523'].\n",
      "Segmentation MEM_SEG3D_220523 does not exist in object_66:['MASK', 'NUC_SEG3D_220523'].\n",
      "Segmentation MEM_SEG3D_220523 does not exist in object_72:['NUC_SEG3D_220523', 'MASK'].\n",
      "Segmentation MEM_SEG3D_220523 does not exist in object_48:['NUC_SEG3D_220523', 'MASK'].\n",
      "Segmentation MEM_SEG3D_220523 does not exist in object_76:['NUC_SEG3D_220523', 'MASK'].\n",
      "Segmentation MEM_SEG3D_220523 does not exist in object_62:['NUC_SEG3D_220523', 'MASK'].\n",
      "Segmentation MEM_SEG3D_220523 does not exist in object_100:['MASK', 'NUC_SEG3D_220523'].\n",
      "Segmentation MEM_SEG3D_220523 does not exist in object_52:['NUC_SEG3D_220523', 'MASK'].\n",
      "Segmentation MEM_SEG3D_220523 does not exist in object_18:['NUC_SEG3D_220523', 'MASK'].\n",
      "Segmentation MEM_SEG3D_220523 does not exist in object_50:['MASK', 'NUC_SEG3D_220523'].\n",
      "Segmentation MEM_SEG3D_220523 does not exist in object_30:['MASK', 'NUC_SEG3D_220523'].\n",
      "Segmentation MEM_SEG3D_220523 does not exist in object_31:['NUC_SEG3D_220523', 'MASK'].\n",
      "Segmentation MEM_SEG3D_220523 does not exist in object_88:['NUC_SEG3D_220523', 'MASK'].\n",
      "Segmentation MEM_SEG3D_220523 does not exist in object_71:['MASK', 'NUC_SEG3D_220523'].\n",
      "Segmentation MEM_SEG3D_220523 does not exist in object_10:['NUC_SEG3D_220523', 'MASK'].\n",
      "Segmentation MEM_SEG3D_220523 does not exist in object_85:['NUC_SEG3D_220523', 'MASK'].\n",
      "Segmentation MEM_SEG3D_220523 does not exist in object_28:['MASK', 'NUC_SEG3D_220523'].\n",
      "Segmentation MEM_SEG3D_220523 does not exist in object_22:['MASK', 'NUC_SEG3D_220523'].\n",
      "Segmentation MEM_SEG3D_220523 does not exist in object_59:['NUC_SEG3D_220523', 'MASK'].\n",
      "Segmentation MEM_SEG3D_220523 does not exist in object_42:['MASK', 'NUC_SEG3D_220523'].\n",
      "Segmentation MEM_SEG3D_220523 does not exist in object_73:['MASK', 'NUC_SEG3D_220523'].\n",
      "Segmentation MEM_SEG3D_220523 does not exist in object_87:['NUC_SEG3D_220523', 'MASK'].\n",
      "Segmentation MEM_SEG3D_220523 does not exist in object_67:['MASK', 'NUC_SEG3D_220523'].\n",
      "Segmentation MEM_SEG3D_220523 does not exist in object_9:['NUC_SEG3D_220523', 'MASK'].\n",
      "Segmentation MEM_SEG3D_220523 does not exist in object_8:['NUC_SEG3D_220523', 'MASK'].\n",
      "Segmentation MEM_SEG3D_220523 does not exist in object_7:['NUC_SEG3D_220523', 'MASK'].\n",
      "Segmentation MEM_SEG3D_220523 does not exist in object_64:['MASK', 'NUC_SEG3D_220523'].\n",
      "Segmentation MEM_SEG3D_220523 does not exist in object_81:['NUC_SEG3D_220523', 'MASK'].\n",
      "Segmentation MEM_SEG3D_220523 does not exist in object_5:['MASK', 'NUC_SEG3D_220523'].\n",
      "Segmentation MEM_SEG3D_220523 does not exist in object_97:['MASK', 'NUC_SEG3D_220523'].\n",
      "Segmentation NUC_SEG3D_220523 does not exist in object_13:['MASK'].\n",
      "Segmentation MEM_SEG3D_220523 does not exist in object_13:['MASK'].\n",
      "Segmentation NUC_SEG3D_220523 does not exist in object_12:['MASK'].\n",
      "Segmentation MEM_SEG3D_220523 does not exist in object_12:['MASK'].\n",
      "Segmentation NUC_SEG3D_220523 does not exist in object_57:['MASK'].\n",
      "Segmentation MEM_SEG3D_220523 does not exist in object_57:['MASK'].\n",
      "Segmentation NUC_SEG3D_220523 does not exist in object_49:['MASK'].\n",
      "Segmentation MEM_SEG3D_220523 does not exist in object_49:['MASK'].\n",
      "Segmentation NUC_SEG3D_220523 does not exist in object_60:['MASK'].\n",
      "Segmentation MEM_SEG3D_220523 does not exist in object_60:['MASK'].\n",
      "Segmentation NUC_SEG3D_220523 does not exist in object_35:['MASK'].\n",
      "Segmentation MEM_SEG3D_220523 does not exist in object_35:['MASK'].\n",
      "Segmentation NUC_SEG3D_220523 does not exist in object_54:['MASK'].\n",
      "Segmentation MEM_SEG3D_220523 does not exist in object_54:['MASK'].\n",
      "Segmentation NUC_SEG3D_220523 does not exist in object_46:['MASK'].\n",
      "Segmentation MEM_SEG3D_220523 does not exist in object_46:['MASK'].\n",
      "Segmentation NUC_SEG3D_220523 does not exist in object_58:['MASK'].\n",
      "Segmentation MEM_SEG3D_220523 does not exist in object_58:['MASK'].\n",
      "Segmentation NUC_SEG3D_220523 does not exist in object_17:['MASK'].\n",
      "Segmentation MEM_SEG3D_220523 does not exist in object_17:['MASK'].\n",
      "Segmentation NUC_SEG3D_220523 does not exist in object_43:['MASK'].\n",
      "Segmentation MEM_SEG3D_220523 does not exist in object_43:['MASK'].\n",
      "Segmentation NUC_SEG3D_220523 does not exist in object_32:['MASK'].\n",
      "Segmentation MEM_SEG3D_220523 does not exist in object_32:['MASK'].\n",
      "Segmentation NUC_SEG3D_220523 does not exist in object_11:['MASK'].\n",
      "Segmentation MEM_SEG3D_220523 does not exist in object_11:['MASK'].\n",
      "Segmentation NUC_SEG3D_220523 does not exist in object_47:['MASK'].\n",
      "Segmentation MEM_SEG3D_220523 does not exist in object_47:['MASK'].\n",
      "Segmentation NUC_SEG3D_220523 does not exist in object_55:['MASK'].\n",
      "Segmentation MEM_SEG3D_220523 does not exist in object_55:['MASK'].\n",
      "Segmentation NUC_SEG3D_220523 does not exist in object_41:['MASK'].\n",
      "Segmentation MEM_SEG3D_220523 does not exist in object_41:['MASK'].\n",
      "Segmentation NUC_SEG3D_220523 does not exist in object_51:['MASK'].\n",
      "Segmentation MEM_SEG3D_220523 does not exist in object_51:['MASK'].\n",
      "Segmentation NUC_SEG3D_220523 does not exist in object_61:['MASK'].\n",
      "Segmentation MEM_SEG3D_220523 does not exist in object_61:['MASK'].\n",
      "Segmentation NUC_SEG3D_220523 does not exist in object_39:['MASK'].\n",
      "Segmentation MEM_SEG3D_220523 does not exist in object_39:['MASK'].\n",
      "Segmentation NUC_SEG3D_220523 does not exist in object_15:['MASK'].\n",
      "Segmentation MEM_SEG3D_220523 does not exist in object_15:['MASK'].\n",
      "Segmentation NUC_SEG3D_220523 does not exist in object_23:['MASK'].\n",
      "Segmentation MEM_SEG3D_220523 does not exist in object_23:['MASK'].\n",
      "Segmentation NUC_SEG3D_220523 does not exist in object_21:['MASK'].\n",
      "Segmentation MEM_SEG3D_220523 does not exist in object_21:['MASK'].\n",
      "Segmentation NUC_SEG3D_220523 does not exist in object_27:['MASK'].\n",
      "Segmentation MEM_SEG3D_220523 does not exist in object_27:['MASK'].\n",
      "Segmentation NUC_SEG3D_220523 does not exist in object_29:['MASK'].\n",
      "Segmentation MEM_SEG3D_220523 does not exist in object_29:['MASK'].\n",
      "Segmentation NUC_SEG3D_220523 does not exist in object_25:['MASK'].\n",
      "Segmentation MEM_SEG3D_220523 does not exist in object_25:['MASK'].\n",
      "Segmentation NUC_SEG3D_220523 does not exist in object_36:['MASK'].\n",
      "Segmentation MEM_SEG3D_220523 does not exist in object_36:['MASK'].\n",
      "Segmentation NUC_SEG3D_220523 does not exist in object_20:['MASK'].\n",
      "Segmentation MEM_SEG3D_220523 does not exist in object_20:['MASK'].\n",
      "Segmentation NUC_SEG3D_220523 does not exist in object_40:['MASK'].\n"
     ]
    },
    {
     "name": "stderr",
     "output_type": "stream",
     "text": [
      "Segmentation MEM_SEG3D_220523 does not exist in object_40:['MASK'].\n",
      "Segmentation NUC_SEG3D_220523 does not exist in object_45:['MASK'].\n",
      "Segmentation MEM_SEG3D_220523 does not exist in object_45:['MASK'].\n",
      "Segmentation NUC_SEG3D_220523 does not exist in object_19:['MASK'].\n",
      "Segmentation MEM_SEG3D_220523 does not exist in object_19:['MASK'].\n",
      "Segmentation NUC_SEG3D_220523 does not exist in object_48:['MASK'].\n",
      "Segmentation MEM_SEG3D_220523 does not exist in object_48:['MASK'].\n",
      "Segmentation NUC_SEG3D_220523 does not exist in object_34:['MASK'].\n",
      "Segmentation MEM_SEG3D_220523 does not exist in object_34:['MASK'].\n",
      "Segmentation NUC_SEG3D_220523 does not exist in object_52:['MASK'].\n",
      "Segmentation MEM_SEG3D_220523 does not exist in object_52:['MASK'].\n",
      "Segmentation NUC_SEG3D_220523 does not exist in object_18:['MASK'].\n",
      "Segmentation MEM_SEG3D_220523 does not exist in object_18:['MASK'].\n",
      "Segmentation NUC_SEG3D_220523 does not exist in object_3:['MASK'].\n",
      "Segmentation MEM_SEG3D_220523 does not exist in object_3:['MASK'].\n",
      "Segmentation NUC_SEG3D_220523 does not exist in object_2:['MASK'].\n",
      "Segmentation MEM_SEG3D_220523 does not exist in object_2:['MASK'].\n",
      "Segmentation NUC_SEG3D_220523 does not exist in object_50:['MASK'].\n",
      "Segmentation MEM_SEG3D_220523 does not exist in object_50:['MASK'].\n",
      "Segmentation NUC_SEG3D_220523 does not exist in object_30:['MASK'].\n",
      "Segmentation MEM_SEG3D_220523 does not exist in object_30:['MASK'].\n",
      "Segmentation NUC_SEG3D_220523 does not exist in object_1:['MASK'].\n",
      "Segmentation MEM_SEG3D_220523 does not exist in object_1:['MASK'].\n",
      "Segmentation NUC_SEG3D_220523 does not exist in object_38:['MASK'].\n",
      "Segmentation MEM_SEG3D_220523 does not exist in object_38:['MASK'].\n",
      "Segmentation NUC_SEG3D_220523 does not exist in object_16:['MASK'].\n",
      "Segmentation MEM_SEG3D_220523 does not exist in object_16:['MASK'].\n",
      "Segmentation NUC_SEG3D_220523 does not exist in object_56:['MASK'].\n",
      "Segmentation MEM_SEG3D_220523 does not exist in object_56:['MASK'].\n",
      "Segmentation NUC_SEG3D_220523 does not exist in object_31:['MASK'].\n",
      "Segmentation MEM_SEG3D_220523 does not exist in object_31:['MASK'].\n",
      "Segmentation NUC_SEG3D_220523 does not exist in object_10:['MASK'].\n",
      "Segmentation MEM_SEG3D_220523 does not exist in object_10:['MASK'].\n",
      "Segmentation NUC_SEG3D_220523 does not exist in object_28:['MASK'].\n",
      "Segmentation MEM_SEG3D_220523 does not exist in object_28:['MASK'].\n",
      "Segmentation NUC_SEG3D_220523 does not exist in object_22:['MASK'].\n",
      "Segmentation MEM_SEG3D_220523 does not exist in object_22:['MASK'].\n",
      "Segmentation NUC_SEG3D_220523 does not exist in object_59:['MASK'].\n",
      "Segmentation MEM_SEG3D_220523 does not exist in object_59:['MASK'].\n",
      "Segmentation NUC_SEG3D_220523 does not exist in object_14:['MASK'].\n",
      "Segmentation MEM_SEG3D_220523 does not exist in object_14:['MASK'].\n",
      "Segmentation NUC_SEG3D_220523 does not exist in object_24:['MASK'].\n",
      "Segmentation MEM_SEG3D_220523 does not exist in object_24:['MASK'].\n",
      "Segmentation NUC_SEG3D_220523 does not exist in object_42:['MASK'].\n",
      "Segmentation MEM_SEG3D_220523 does not exist in object_42:['MASK'].\n",
      "Segmentation NUC_SEG3D_220523 does not exist in object_9:['MASK'].\n",
      "Segmentation MEM_SEG3D_220523 does not exist in object_9:['MASK'].\n",
      "Segmentation NUC_SEG3D_220523 does not exist in object_8:['MASK'].\n",
      "Segmentation MEM_SEG3D_220523 does not exist in object_8:['MASK'].\n",
      "Segmentation NUC_SEG3D_220523 does not exist in object_44:['MASK'].\n",
      "Segmentation MEM_SEG3D_220523 does not exist in object_44:['MASK'].\n",
      "Segmentation NUC_SEG3D_220523 does not exist in object_7:['MASK'].\n",
      "Segmentation MEM_SEG3D_220523 does not exist in object_7:['MASK'].\n",
      "Segmentation NUC_SEG3D_220523 does not exist in object_53:['MASK'].\n",
      "Segmentation MEM_SEG3D_220523 does not exist in object_53:['MASK'].\n",
      "Segmentation NUC_SEG3D_220523 does not exist in object_6:['MASK'].\n",
      "Segmentation MEM_SEG3D_220523 does not exist in object_6:['MASK'].\n",
      "Segmentation NUC_SEG3D_220523 does not exist in object_5:['MASK'].\n",
      "Segmentation MEM_SEG3D_220523 does not exist in object_5:['MASK'].\n",
      "Segmentation NUC_SEG3D_220523 does not exist in object_37:['MASK'].\n",
      "Segmentation MEM_SEG3D_220523 does not exist in object_37:['MASK'].\n",
      "Segmentation NUC_SEG3D_220523 does not exist in object_4:['MASK'].\n",
      "Segmentation MEM_SEG3D_220523 does not exist in object_4:['MASK'].\n",
      "Segmentation NUC_SEG3D_220523 does not exist in object_13:['MASK'].\n",
      "Segmentation MEM_SEG3D_220523 does not exist in object_13:['MASK'].\n",
      "Segmentation NUC_SEG3D_220523 does not exist in object_12:['MASK'].\n",
      "Segmentation MEM_SEG3D_220523 does not exist in object_12:['MASK'].\n",
      "Segmentation NUC_SEG3D_220523 does not exist in object_57:['MASK'].\n",
      "Segmentation MEM_SEG3D_220523 does not exist in object_57:['MASK'].\n",
      "Segmentation NUC_SEG3D_220523 does not exist in object_49:['MASK'].\n",
      "Segmentation MEM_SEG3D_220523 does not exist in object_49:['MASK'].\n",
      "Segmentation NUC_SEG3D_220523 does not exist in object_60:['MASK'].\n",
      "Segmentation MEM_SEG3D_220523 does not exist in object_60:['MASK'].\n",
      "Segmentation NUC_SEG3D_220523 does not exist in object_74:['MASK'].\n",
      "Segmentation MEM_SEG3D_220523 does not exist in object_74:['MASK'].\n",
      "Segmentation NUC_SEG3D_220523 does not exist in object_35:['MASK'].\n",
      "Segmentation MEM_SEG3D_220523 does not exist in object_35:['MASK'].\n",
      "Segmentation NUC_SEG3D_220523 does not exist in object_54:['MASK'].\n",
      "Segmentation MEM_SEG3D_220523 does not exist in object_54:['MASK'].\n",
      "Segmentation NUC_SEG3D_220523 does not exist in object_46:['MASK'].\n",
      "Segmentation MEM_SEG3D_220523 does not exist in object_46:['MASK'].\n",
      "Segmentation NUC_SEG3D_220523 does not exist in object_65:['MASK'].\n",
      "Segmentation MEM_SEG3D_220523 does not exist in object_65:['MASK'].\n",
      "Segmentation NUC_SEG3D_220523 does not exist in object_17:['MASK'].\n",
      "Segmentation MEM_SEG3D_220523 does not exist in object_17:['MASK'].\n",
      "Segmentation NUC_SEG3D_220523 does not exist in object_43:['MASK'].\n",
      "Segmentation MEM_SEG3D_220523 does not exist in object_43:['MASK'].\n",
      "Segmentation NUC_SEG3D_220523 does not exist in object_32:['MASK'].\n",
      "Segmentation MEM_SEG3D_220523 does not exist in object_32:['MASK'].\n",
      "Segmentation NUC_SEG3D_220523 does not exist in object_11:['MASK'].\n",
      "Segmentation MEM_SEG3D_220523 does not exist in object_11:['MASK'].\n",
      "Segmentation NUC_SEG3D_220523 does not exist in object_47:['MASK'].\n",
      "Segmentation MEM_SEG3D_220523 does not exist in object_47:['MASK'].\n",
      "Segmentation NUC_SEG3D_220523 does not exist in object_55:['MASK'].\n",
      "Segmentation MEM_SEG3D_220523 does not exist in object_55:['MASK'].\n",
      "Segmentation NUC_SEG3D_220523 does not exist in object_75:['MASK'].\n",
      "Segmentation MEM_SEG3D_220523 does not exist in object_75:['MASK'].\n",
      "Segmentation NUC_SEG3D_220523 does not exist in object_41:['MASK'].\n",
      "Segmentation MEM_SEG3D_220523 does not exist in object_41:['MASK'].\n",
      "Segmentation NUC_SEG3D_220523 does not exist in object_33:['MASK'].\n",
      "Segmentation MEM_SEG3D_220523 does not exist in object_33:['MASK'].\n",
      "Segmentation NUC_SEG3D_220523 does not exist in object_51:['MASK'].\n",
      "Segmentation MEM_SEG3D_220523 does not exist in object_51:['MASK'].\n",
      "Segmentation NUC_SEG3D_220523 does not exist in object_61:['MASK'].\n",
      "Segmentation MEM_SEG3D_220523 does not exist in object_61:['MASK'].\n",
      "Segmentation NUC_SEG3D_220523 does not exist in object_15:['MASK'].\n",
      "Segmentation MEM_SEG3D_220523 does not exist in object_15:['MASK'].\n",
      "Segmentation NUC_SEG3D_220523 does not exist in object_23:['MASK'].\n",
      "Segmentation MEM_SEG3D_220523 does not exist in object_23:['MASK'].\n",
      "Segmentation NUC_SEG3D_220523 does not exist in object_21:['MASK'].\n",
      "Segmentation MEM_SEG3D_220523 does not exist in object_21:['MASK'].\n",
      "Segmentation NUC_SEG3D_220523 does not exist in object_27:['MASK'].\n",
      "Segmentation MEM_SEG3D_220523 does not exist in object_27:['MASK'].\n",
      "Segmentation NUC_SEG3D_220523 does not exist in object_29:['MASK'].\n",
      "Segmentation MEM_SEG3D_220523 does not exist in object_29:['MASK'].\n",
      "Segmentation NUC_SEG3D_220523 does not exist in object_70:['MASK'].\n",
      "Segmentation MEM_SEG3D_220523 does not exist in object_70:['MASK'].\n",
      "Segmentation NUC_SEG3D_220523 does not exist in object_25:['MASK'].\n",
      "Segmentation MEM_SEG3D_220523 does not exist in object_25:['MASK'].\n",
      "Segmentation NUC_SEG3D_220523 does not exist in object_36:['MASK'].\n",
      "Segmentation MEM_SEG3D_220523 does not exist in object_36:['MASK'].\n"
     ]
    },
    {
     "name": "stderr",
     "output_type": "stream",
     "text": [
      "Segmentation NUC_SEG3D_220523 does not exist in object_66:['MASK'].\n",
      "Segmentation MEM_SEG3D_220523 does not exist in object_66:['MASK'].\n",
      "Segmentation NUC_SEG3D_220523 does not exist in object_20:['MASK'].\n",
      "Segmentation MEM_SEG3D_220523 does not exist in object_20:['MASK'].\n",
      "Segmentation NUC_SEG3D_220523 does not exist in object_40:['MASK'].\n",
      "Segmentation MEM_SEG3D_220523 does not exist in object_40:['MASK'].\n",
      "Segmentation NUC_SEG3D_220523 does not exist in object_45:['MASK'].\n",
      "Segmentation MEM_SEG3D_220523 does not exist in object_45:['MASK'].\n",
      "Segmentation NUC_SEG3D_220523 does not exist in object_72:['MASK'].\n",
      "Segmentation MEM_SEG3D_220523 does not exist in object_72:['MASK'].\n",
      "Segmentation NUC_SEG3D_220523 does not exist in object_69:['MASK'].\n",
      "Segmentation MEM_SEG3D_220523 does not exist in object_69:['MASK'].\n",
      "Segmentation NUC_SEG3D_220523 does not exist in object_19:['MASK'].\n",
      "Segmentation MEM_SEG3D_220523 does not exist in object_19:['MASK'].\n",
      "Segmentation NUC_SEG3D_220523 does not exist in object_63:['MASK'].\n",
      "Segmentation MEM_SEG3D_220523 does not exist in object_63:['MASK'].\n",
      "Segmentation NUC_SEG3D_220523 does not exist in object_48:['MASK'].\n",
      "Segmentation MEM_SEG3D_220523 does not exist in object_48:['MASK'].\n",
      "Segmentation NUC_SEG3D_220523 does not exist in object_34:['MASK'].\n",
      "Segmentation MEM_SEG3D_220523 does not exist in object_34:['MASK'].\n",
      "Segmentation NUC_SEG3D_220523 does not exist in object_76:['MASK'].\n",
      "Segmentation MEM_SEG3D_220523 does not exist in object_76:['MASK'].\n",
      "Segmentation NUC_SEG3D_220523 does not exist in object_62:['MASK'].\n",
      "Segmentation MEM_SEG3D_220523 does not exist in object_62:['MASK'].\n",
      "Segmentation NUC_SEG3D_220523 does not exist in object_52:['MASK'].\n",
      "Segmentation MEM_SEG3D_220523 does not exist in object_52:['MASK'].\n",
      "Segmentation NUC_SEG3D_220523 does not exist in object_18:['MASK'].\n",
      "Segmentation MEM_SEG3D_220523 does not exist in object_18:['MASK'].\n",
      "Segmentation NUC_SEG3D_220523 does not exist in object_3:['MASK'].\n",
      "Segmentation MEM_SEG3D_220523 does not exist in object_3:['MASK'].\n",
      "Segmentation NUC_SEG3D_220523 does not exist in object_2:['MASK'].\n",
      "Segmentation MEM_SEG3D_220523 does not exist in object_2:['MASK'].\n",
      "Segmentation NUC_SEG3D_220523 does not exist in object_50:['MASK'].\n",
      "Segmentation MEM_SEG3D_220523 does not exist in object_50:['MASK'].\n",
      "Segmentation NUC_SEG3D_220523 does not exist in object_30:['MASK'].\n",
      "Segmentation MEM_SEG3D_220523 does not exist in object_30:['MASK'].\n",
      "Segmentation NUC_SEG3D_220523 does not exist in object_1:['MASK'].\n",
      "Segmentation MEM_SEG3D_220523 does not exist in object_1:['MASK'].\n",
      "Segmentation NUC_SEG3D_220523 does not exist in object_38:['MASK'].\n",
      "Segmentation MEM_SEG3D_220523 does not exist in object_38:['MASK'].\n",
      "Segmentation NUC_SEG3D_220523 does not exist in object_16:['MASK'].\n",
      "Segmentation MEM_SEG3D_220523 does not exist in object_16:['MASK'].\n",
      "Segmentation NUC_SEG3D_220523 does not exist in object_56:['MASK'].\n",
      "Segmentation MEM_SEG3D_220523 does not exist in object_56:['MASK'].\n",
      "Segmentation NUC_SEG3D_220523 does not exist in object_31:['MASK'].\n",
      "Segmentation MEM_SEG3D_220523 does not exist in object_31:['MASK'].\n",
      "Segmentation NUC_SEG3D_220523 does not exist in object_71:['MASK'].\n",
      "Segmentation MEM_SEG3D_220523 does not exist in object_71:['MASK'].\n",
      "Segmentation NUC_SEG3D_220523 does not exist in object_10:['MASK'].\n",
      "Segmentation MEM_SEG3D_220523 does not exist in object_10:['MASK'].\n",
      "Segmentation NUC_SEG3D_220523 does not exist in object_28:['MASK'].\n",
      "Segmentation MEM_SEG3D_220523 does not exist in object_28:['MASK'].\n",
      "Segmentation NUC_SEG3D_220523 does not exist in object_59:['MASK'].\n",
      "Segmentation MEM_SEG3D_220523 does not exist in object_59:['MASK'].\n",
      "Segmentation NUC_SEG3D_220523 does not exist in object_14:['MASK'].\n",
      "Segmentation MEM_SEG3D_220523 does not exist in object_14:['MASK'].\n",
      "Segmentation NUC_SEG3D_220523 does not exist in object_24:['MASK'].\n",
      "Segmentation MEM_SEG3D_220523 does not exist in object_24:['MASK'].\n",
      "Segmentation NUC_SEG3D_220523 does not exist in object_42:['MASK'].\n",
      "Segmentation MEM_SEG3D_220523 does not exist in object_42:['MASK'].\n",
      "Segmentation NUC_SEG3D_220523 does not exist in object_73:['MASK'].\n",
      "Segmentation MEM_SEG3D_220523 does not exist in object_73:['MASK'].\n",
      "Segmentation NUC_SEG3D_220523 does not exist in object_67:['MASK'].\n",
      "Segmentation MEM_SEG3D_220523 does not exist in object_67:['MASK'].\n",
      "Segmentation NUC_SEG3D_220523 does not exist in object_9:['MASK'].\n",
      "Segmentation MEM_SEG3D_220523 does not exist in object_9:['MASK'].\n",
      "Segmentation NUC_SEG3D_220523 does not exist in object_8:['MASK'].\n",
      "Segmentation MEM_SEG3D_220523 does not exist in object_8:['MASK'].\n",
      "Segmentation NUC_SEG3D_220523 does not exist in object_44:['MASK'].\n",
      "Segmentation MEM_SEG3D_220523 does not exist in object_44:['MASK'].\n",
      "Segmentation NUC_SEG3D_220523 does not exist in object_53:['MASK'].\n",
      "Segmentation MEM_SEG3D_220523 does not exist in object_53:['MASK'].\n",
      "Segmentation NUC_SEG3D_220523 does not exist in object_64:['MASK'].\n",
      "Segmentation MEM_SEG3D_220523 does not exist in object_64:['MASK'].\n",
      "Segmentation NUC_SEG3D_220523 does not exist in object_68:['MASK'].\n",
      "Segmentation MEM_SEG3D_220523 does not exist in object_68:['MASK'].\n",
      "Segmentation NUC_SEG3D_220523 does not exist in object_5:['MASK'].\n",
      "Segmentation MEM_SEG3D_220523 does not exist in object_5:['MASK'].\n",
      "Segmentation NUC_SEG3D_220523 does not exist in object_37:['MASK'].\n",
      "Segmentation MEM_SEG3D_220523 does not exist in object_37:['MASK'].\n",
      "Segmentation NUC_SEG3D_220523 does not exist in object_4:['MASK'].\n",
      "Segmentation MEM_SEG3D_220523 does not exist in object_4:['MASK'].\n",
      "Segmentation NUC_SEG3D_220523 does not exist in object_26:['MASK'].\n",
      "Segmentation MEM_SEG3D_220523 does not exist in object_26:['MASK'].\n",
      "Segmentation NUC_SEG3D_220523 does not exist in object_13:['MASK'].\n",
      "Segmentation MEM_SEG3D_220523 does not exist in object_13:['MASK'].\n",
      "Segmentation NUC_SEG3D_220523 does not exist in object_12:['MASK'].\n",
      "Segmentation MEM_SEG3D_220523 does not exist in object_12:['MASK'].\n",
      "Segmentation NUC_SEG3D_220523 does not exist in object_17:['MASK'].\n",
      "Segmentation MEM_SEG3D_220523 does not exist in object_17:['MASK'].\n",
      "Segmentation NUC_SEG3D_220523 does not exist in object_32:['MASK'].\n",
      "Segmentation MEM_SEG3D_220523 does not exist in object_32:['MASK'].\n",
      "Segmentation NUC_SEG3D_220523 does not exist in object_11:['MASK'].\n",
      "Segmentation MEM_SEG3D_220523 does not exist in object_11:['MASK'].\n",
      "Segmentation NUC_SEG3D_220523 does not exist in object_41:['MASK'].\n",
      "Segmentation MEM_SEG3D_220523 does not exist in object_41:['MASK'].\n",
      "Segmentation NUC_SEG3D_220523 does not exist in object_33:['MASK'].\n",
      "Segmentation MEM_SEG3D_220523 does not exist in object_33:['MASK'].\n",
      "Segmentation NUC_SEG3D_220523 does not exist in object_39:['MASK'].\n",
      "Segmentation MEM_SEG3D_220523 does not exist in object_39:['MASK'].\n",
      "Segmentation NUC_SEG3D_220523 does not exist in object_15:['MASK'].\n",
      "Segmentation MEM_SEG3D_220523 does not exist in object_15:['MASK'].\n",
      "Segmentation NUC_SEG3D_220523 does not exist in object_23:['MASK'].\n",
      "Segmentation MEM_SEG3D_220523 does not exist in object_23:['MASK'].\n",
      "Segmentation NUC_SEG3D_220523 does not exist in object_21:['MASK'].\n",
      "Segmentation MEM_SEG3D_220523 does not exist in object_21:['MASK'].\n",
      "Segmentation NUC_SEG3D_220523 does not exist in object_29:['MASK'].\n",
      "Segmentation MEM_SEG3D_220523 does not exist in object_29:['MASK'].\n",
      "Segmentation NUC_SEG3D_220523 does not exist in object_25:['MASK'].\n",
      "Segmentation MEM_SEG3D_220523 does not exist in object_25:['MASK'].\n",
      "Segmentation NUC_SEG3D_220523 does not exist in object_36:['MASK'].\n",
      "Segmentation MEM_SEG3D_220523 does not exist in object_36:['MASK'].\n",
      "Segmentation NUC_SEG3D_220523 does not exist in object_20:['MASK'].\n",
      "Segmentation MEM_SEG3D_220523 does not exist in object_20:['MASK'].\n",
      "Segmentation NUC_SEG3D_220523 does not exist in object_40:['MASK'].\n",
      "Segmentation MEM_SEG3D_220523 does not exist in object_40:['MASK'].\n",
      "Segmentation NUC_SEG3D_220523 does not exist in object_19:['MASK'].\n",
      "Segmentation MEM_SEG3D_220523 does not exist in object_19:['MASK'].\n",
      "Segmentation NUC_SEG3D_220523 does not exist in object_34:['MASK'].\n",
      "Segmentation MEM_SEG3D_220523 does not exist in object_34:['MASK'].\n",
      "Segmentation NUC_SEG3D_220523 does not exist in object_18:['MASK'].\n"
     ]
    },
    {
     "name": "stderr",
     "output_type": "stream",
     "text": [
      "Segmentation MEM_SEG3D_220523 does not exist in object_18:['MASK'].\n",
      "Segmentation NUC_SEG3D_220523 does not exist in object_3:['MASK'].\n",
      "Segmentation MEM_SEG3D_220523 does not exist in object_3:['MASK'].\n",
      "Segmentation NUC_SEG3D_220523 does not exist in object_2:['MASK'].\n",
      "Segmentation MEM_SEG3D_220523 does not exist in object_2:['MASK'].\n",
      "Segmentation NUC_SEG3D_220523 does not exist in object_30:['MASK'].\n",
      "Segmentation MEM_SEG3D_220523 does not exist in object_30:['MASK'].\n",
      "Segmentation NUC_SEG3D_220523 does not exist in object_38:['MASK'].\n",
      "Segmentation MEM_SEG3D_220523 does not exist in object_38:['MASK'].\n",
      "Segmentation NUC_SEG3D_220523 does not exist in object_16:['MASK'].\n",
      "Segmentation MEM_SEG3D_220523 does not exist in object_16:['MASK'].\n",
      "Segmentation NUC_SEG3D_220523 does not exist in object_10:['MASK'].\n",
      "Segmentation MEM_SEG3D_220523 does not exist in object_10:['MASK'].\n",
      "Segmentation NUC_SEG3D_220523 does not exist in object_28:['MASK'].\n",
      "Segmentation MEM_SEG3D_220523 does not exist in object_28:['MASK'].\n",
      "Segmentation NUC_SEG3D_220523 does not exist in object_22:['MASK'].\n",
      "Segmentation MEM_SEG3D_220523 does not exist in object_22:['MASK'].\n",
      "Segmentation NUC_SEG3D_220523 does not exist in object_14:['MASK'].\n",
      "Segmentation MEM_SEG3D_220523 does not exist in object_14:['MASK'].\n",
      "Segmentation NUC_SEG3D_220523 does not exist in object_24:['MASK'].\n",
      "Segmentation MEM_SEG3D_220523 does not exist in object_24:['MASK'].\n",
      "Segmentation NUC_SEG3D_220523 does not exist in object_42:['MASK'].\n",
      "Segmentation MEM_SEG3D_220523 does not exist in object_42:['MASK'].\n",
      "Segmentation NUC_SEG3D_220523 does not exist in object_9:['MASK'].\n",
      "Segmentation MEM_SEG3D_220523 does not exist in object_9:['MASK'].\n",
      "Segmentation NUC_SEG3D_220523 does not exist in object_8:['MASK'].\n",
      "Segmentation MEM_SEG3D_220523 does not exist in object_8:['MASK'].\n",
      "Segmentation NUC_SEG3D_220523 does not exist in object_7:['MASK'].\n",
      "Segmentation MEM_SEG3D_220523 does not exist in object_7:['MASK'].\n",
      "Segmentation NUC_SEG3D_220523 does not exist in object_6:['MASK'].\n",
      "Segmentation MEM_SEG3D_220523 does not exist in object_6:['MASK'].\n",
      "Segmentation NUC_SEG3D_220523 does not exist in object_5:['MASK'].\n",
      "Segmentation MEM_SEG3D_220523 does not exist in object_5:['MASK'].\n",
      "Segmentation NUC_SEG3D_220523 does not exist in object_37:['MASK'].\n",
      "Segmentation MEM_SEG3D_220523 does not exist in object_37:['MASK'].\n",
      "Segmentation NUC_SEG3D_220523 does not exist in object_4:['MASK'].\n",
      "Segmentation MEM_SEG3D_220523 does not exist in object_4:['MASK'].\n",
      "Segmentation NUC_SEG3D_220523 does not exist in object_26:['MASK'].\n",
      "Segmentation MEM_SEG3D_220523 does not exist in object_26:['MASK'].\n",
      "Segmentation NUC_SEG3D_220523 does not exist in object_13:['MASK'].\n",
      "Segmentation MEM_SEG3D_220523 does not exist in object_13:['MASK'].\n",
      "Segmentation NUC_SEG3D_220523 does not exist in object_12:['MASK'].\n",
      "Segmentation MEM_SEG3D_220523 does not exist in object_12:['MASK'].\n",
      "Segmentation NUC_SEG3D_220523 does not exist in object_49:['MASK'].\n",
      "Segmentation MEM_SEG3D_220523 does not exist in object_49:['MASK'].\n",
      "Segmentation NUC_SEG3D_220523 does not exist in object_35:['MASK'].\n",
      "Segmentation MEM_SEG3D_220523 does not exist in object_35:['MASK'].\n",
      "Segmentation NUC_SEG3D_220523 does not exist in object_54:['MASK'].\n",
      "Segmentation MEM_SEG3D_220523 does not exist in object_54:['MASK'].\n",
      "Segmentation NUC_SEG3D_220523 does not exist in object_46:['MASK'].\n",
      "Segmentation MEM_SEG3D_220523 does not exist in object_46:['MASK'].\n",
      "Segmentation NUC_SEG3D_220523 does not exist in object_17:['MASK'].\n",
      "Segmentation MEM_SEG3D_220523 does not exist in object_17:['MASK'].\n",
      "Segmentation NUC_SEG3D_220523 does not exist in object_43:['MASK'].\n",
      "Segmentation MEM_SEG3D_220523 does not exist in object_43:['MASK'].\n",
      "Segmentation NUC_SEG3D_220523 does not exist in object_32:['MASK'].\n",
      "Segmentation MEM_SEG3D_220523 does not exist in object_32:['MASK'].\n",
      "Segmentation NUC_SEG3D_220523 does not exist in object_11:['MASK'].\n",
      "Segmentation MEM_SEG3D_220523 does not exist in object_11:['MASK'].\n",
      "Segmentation NUC_SEG3D_220523 does not exist in object_47:['MASK'].\n",
      "Segmentation MEM_SEG3D_220523 does not exist in object_47:['MASK'].\n",
      "Segmentation NUC_SEG3D_220523 does not exist in object_55:['MASK'].\n",
      "Segmentation MEM_SEG3D_220523 does not exist in object_55:['MASK'].\n",
      "Segmentation NUC_SEG3D_220523 does not exist in object_51:['MASK'].\n",
      "Segmentation MEM_SEG3D_220523 does not exist in object_51:['MASK'].\n",
      "Segmentation NUC_SEG3D_220523 does not exist in object_39:['MASK'].\n",
      "Segmentation MEM_SEG3D_220523 does not exist in object_39:['MASK'].\n",
      "Segmentation NUC_SEG3D_220523 does not exist in object_15:['MASK'].\n",
      "Segmentation MEM_SEG3D_220523 does not exist in object_15:['MASK'].\n",
      "Segmentation NUC_SEG3D_220523 does not exist in object_23:['MASK'].\n",
      "Segmentation MEM_SEG3D_220523 does not exist in object_23:['MASK'].\n",
      "Segmentation NUC_SEG3D_220523 does not exist in object_21:['MASK'].\n",
      "Segmentation MEM_SEG3D_220523 does not exist in object_21:['MASK'].\n",
      "Segmentation NUC_SEG3D_220523 does not exist in object_27:['MASK'].\n",
      "Segmentation MEM_SEG3D_220523 does not exist in object_27:['MASK'].\n",
      "Segmentation NUC_SEG3D_220523 does not exist in object_29:['MASK'].\n",
      "Segmentation MEM_SEG3D_220523 does not exist in object_29:['MASK'].\n",
      "Segmentation NUC_SEG3D_220523 does not exist in object_25:['MASK'].\n",
      "Segmentation MEM_SEG3D_220523 does not exist in object_25:['MASK'].\n",
      "Segmentation NUC_SEG3D_220523 does not exist in object_36:['MASK'].\n",
      "Segmentation MEM_SEG3D_220523 does not exist in object_36:['MASK'].\n",
      "Segmentation NUC_SEG3D_220523 does not exist in object_20:['MASK'].\n",
      "Segmentation MEM_SEG3D_220523 does not exist in object_20:['MASK'].\n",
      "Segmentation NUC_SEG3D_220523 does not exist in object_40:['MASK'].\n",
      "Segmentation MEM_SEG3D_220523 does not exist in object_40:['MASK'].\n",
      "Segmentation NUC_SEG3D_220523 does not exist in object_45:['MASK'].\n",
      "Segmentation MEM_SEG3D_220523 does not exist in object_45:['MASK'].\n",
      "Segmentation NUC_SEG3D_220523 does not exist in object_19:['MASK'].\n",
      "Segmentation MEM_SEG3D_220523 does not exist in object_19:['MASK'].\n",
      "Segmentation NUC_SEG3D_220523 does not exist in object_48:['MASK'].\n",
      "Segmentation MEM_SEG3D_220523 does not exist in object_48:['MASK'].\n",
      "Segmentation NUC_SEG3D_220523 does not exist in object_34:['MASK'].\n",
      "Segmentation MEM_SEG3D_220523 does not exist in object_34:['MASK'].\n",
      "Segmentation NUC_SEG3D_220523 does not exist in object_52:['MASK'].\n",
      "Segmentation MEM_SEG3D_220523 does not exist in object_52:['MASK'].\n",
      "Segmentation NUC_SEG3D_220523 does not exist in object_18:['MASK'].\n",
      "Segmentation MEM_SEG3D_220523 does not exist in object_18:['MASK'].\n",
      "Segmentation NUC_SEG3D_220523 does not exist in object_3:['MASK'].\n",
      "Segmentation MEM_SEG3D_220523 does not exist in object_3:['MASK'].\n",
      "Segmentation NUC_SEG3D_220523 does not exist in object_2:['MASK'].\n",
      "Segmentation MEM_SEG3D_220523 does not exist in object_2:['MASK'].\n",
      "Segmentation NUC_SEG3D_220523 does not exist in object_50:['MASK'].\n",
      "Segmentation MEM_SEG3D_220523 does not exist in object_50:['MASK'].\n",
      "Segmentation NUC_SEG3D_220523 does not exist in object_30:['MASK'].\n",
      "Segmentation MEM_SEG3D_220523 does not exist in object_30:['MASK'].\n",
      "Segmentation NUC_SEG3D_220523 does not exist in object_1:['MASK'].\n",
      "Segmentation MEM_SEG3D_220523 does not exist in object_1:['MASK'].\n",
      "Segmentation NUC_SEG3D_220523 does not exist in object_38:['MASK'].\n",
      "Segmentation MEM_SEG3D_220523 does not exist in object_38:['MASK'].\n",
      "Segmentation NUC_SEG3D_220523 does not exist in object_16:['MASK'].\n",
      "Segmentation MEM_SEG3D_220523 does not exist in object_16:['MASK'].\n",
      "Segmentation NUC_SEG3D_220523 does not exist in object_56:['MASK'].\n",
      "Segmentation MEM_SEG3D_220523 does not exist in object_56:['MASK'].\n",
      "Segmentation NUC_SEG3D_220523 does not exist in object_31:['MASK'].\n",
      "Segmentation MEM_SEG3D_220523 does not exist in object_31:['MASK'].\n",
      "Segmentation NUC_SEG3D_220523 does not exist in object_10:['MASK'].\n",
      "Segmentation MEM_SEG3D_220523 does not exist in object_10:['MASK'].\n",
      "Segmentation NUC_SEG3D_220523 does not exist in object_28:['MASK'].\n",
      "Segmentation MEM_SEG3D_220523 does not exist in object_28:['MASK'].\n",
      "Segmentation NUC_SEG3D_220523 does not exist in object_22:['MASK'].\n",
      "Segmentation MEM_SEG3D_220523 does not exist in object_22:['MASK'].\n"
     ]
    },
    {
     "name": "stderr",
     "output_type": "stream",
     "text": [
      "Segmentation NUC_SEG3D_220523 does not exist in object_14:['MASK'].\n",
      "Segmentation MEM_SEG3D_220523 does not exist in object_14:['MASK'].\n",
      "Segmentation NUC_SEG3D_220523 does not exist in object_24:['MASK'].\n",
      "Segmentation MEM_SEG3D_220523 does not exist in object_24:['MASK'].\n",
      "Segmentation NUC_SEG3D_220523 does not exist in object_42:['MASK'].\n",
      "Segmentation MEM_SEG3D_220523 does not exist in object_42:['MASK'].\n",
      "Segmentation NUC_SEG3D_220523 does not exist in object_9:['MASK'].\n",
      "Segmentation MEM_SEG3D_220523 does not exist in object_9:['MASK'].\n",
      "Segmentation NUC_SEG3D_220523 does not exist in object_8:['MASK'].\n",
      "Segmentation MEM_SEG3D_220523 does not exist in object_8:['MASK'].\n",
      "Segmentation NUC_SEG3D_220523 does not exist in object_44:['MASK'].\n",
      "Segmentation MEM_SEG3D_220523 does not exist in object_44:['MASK'].\n",
      "Segmentation NUC_SEG3D_220523 does not exist in object_7:['MASK'].\n",
      "Segmentation MEM_SEG3D_220523 does not exist in object_7:['MASK'].\n",
      "Segmentation NUC_SEG3D_220523 does not exist in object_53:['MASK'].\n",
      "Segmentation MEM_SEG3D_220523 does not exist in object_53:['MASK'].\n",
      "Segmentation NUC_SEG3D_220523 does not exist in object_6:['MASK'].\n",
      "Segmentation MEM_SEG3D_220523 does not exist in object_6:['MASK'].\n",
      "Segmentation NUC_SEG3D_220523 does not exist in object_5:['MASK'].\n",
      "Segmentation MEM_SEG3D_220523 does not exist in object_5:['MASK'].\n",
      "Segmentation NUC_SEG3D_220523 does not exist in object_37:['MASK'].\n",
      "Segmentation MEM_SEG3D_220523 does not exist in object_37:['MASK'].\n",
      "Segmentation NUC_SEG3D_220523 does not exist in object_4:['MASK'].\n",
      "Segmentation MEM_SEG3D_220523 does not exist in object_4:['MASK'].\n",
      "Segmentation NUC_SEG3D_220523 does not exist in object_26:['MASK'].\n",
      "Segmentation MEM_SEG3D_220523 does not exist in object_26:['MASK'].\n",
      "Segmentation MEM_SEG3D_220523 does not exist in object_13:['MASK', 'NUC_SEG3D_220523'].\n",
      "Segmentation MEM_SEG3D_220523 does not exist in object_12:['NUC_SEG3D_220523', 'MASK'].\n",
      "Segmentation MEM_SEG3D_220523 does not exist in object_78:['NUC_SEG3D_220523', 'MASK'].\n",
      "Segmentation MEM_SEG3D_220523 does not exist in object_93:['MASK', 'NUC_SEG3D_220523'].\n",
      "Segmentation MEM_SEG3D_220523 does not exist in object_57:['NUC_SEG3D_220523', 'MASK'].\n",
      "Segmentation MEM_SEG3D_220523 does not exist in object_80:['NUC_SEG3D_220523', 'MASK'].\n",
      "Segmentation MEM_SEG3D_220523 does not exist in object_49:['MASK', 'NUC_SEG3D_220523'].\n",
      "Segmentation MEM_SEG3D_220523 does not exist in object_60:['NUC_SEG3D_220523', 'MASK'].\n",
      "Segmentation MEM_SEG3D_220523 does not exist in object_95:['NUC_SEG3D_220523', 'MASK'].\n",
      "Segmentation MEM_SEG3D_220523 does not exist in object_74:['MASK', 'NUC_SEG3D_220523'].\n",
      "Segmentation MEM_SEG3D_220523 does not exist in object_35:['MASK', 'NUC_SEG3D_220523'].\n",
      "Segmentation MEM_SEG3D_220523 does not exist in object_54:['MASK', 'NUC_SEG3D_220523'].\n",
      "Segmentation MEM_SEG3D_220523 does not exist in object_46:['NUC_SEG3D_220523', 'MASK'].\n",
      "Segmentation MEM_SEG3D_220523 does not exist in object_65:['MASK', 'NUC_SEG3D_220523'].\n",
      "Segmentation MEM_SEG3D_220523 does not exist in object_58:['MASK', 'NUC_SEG3D_220523'].\n",
      "Segmentation MEM_SEG3D_220523 does not exist in object_86:['NUC_SEG3D_220523', 'MASK'].\n",
      "Segmentation MEM_SEG3D_220523 does not exist in object_82:['MASK', 'NUC_SEG3D_220523'].\n",
      "Segmentation MEM_SEG3D_220523 does not exist in object_91:['MASK', 'NUC_SEG3D_220523'].\n",
      "Segmentation MEM_SEG3D_220523 does not exist in object_17:['MASK', 'NUC_SEG3D_220523'].\n",
      "Segmentation MEM_SEG3D_220523 does not exist in object_43:['MASK', 'NUC_SEG3D_220523'].\n",
      "Segmentation MEM_SEG3D_220523 does not exist in object_79:['MASK', 'NUC_SEG3D_220523'].\n",
      "Segmentation MEM_SEG3D_220523 does not exist in object_32:['MASK', 'NUC_SEG3D_220523'].\n",
      "Segmentation MEM_SEG3D_220523 does not exist in object_11:['NUC_SEG3D_220523', 'MASK'].\n",
      "Segmentation MEM_SEG3D_220523 does not exist in object_47:['MASK', 'NUC_SEG3D_220523'].\n",
      "Segmentation MEM_SEG3D_220523 does not exist in object_55:['MASK', 'NUC_SEG3D_220523'].\n",
      "Segmentation MEM_SEG3D_220523 does not exist in object_75:['NUC_SEG3D_220523', 'MASK'].\n",
      "Segmentation MEM_SEG3D_220523 does not exist in object_41:['MASK', 'NUC_SEG3D_220523'].\n",
      "Segmentation MEM_SEG3D_220523 does not exist in object_33:['MASK', 'NUC_SEG3D_220523'].\n",
      "Segmentation MEM_SEG3D_220523 does not exist in object_51:['NUC_SEG3D_220523', 'MASK'].\n",
      "Segmentation MEM_SEG3D_220523 does not exist in object_61:['MASK', 'NUC_SEG3D_220523'].\n",
      "Segmentation MEM_SEG3D_220523 does not exist in object_39:['NUC_SEG3D_220523', 'MASK'].\n",
      "Segmentation MEM_SEG3D_220523 does not exist in object_89:['NUC_SEG3D_220523', 'MASK'].\n",
      "Segmentation MEM_SEG3D_220523 does not exist in object_84:['MASK', 'NUC_SEG3D_220523'].\n",
      "Segmentation MEM_SEG3D_220523 does not exist in object_98:['MASK', 'NUC_SEG3D_220523'].\n",
      "Segmentation MEM_SEG3D_220523 does not exist in object_15:['MASK', 'NUC_SEG3D_220523'].\n",
      "Segmentation MEM_SEG3D_220523 does not exist in object_23:['NUC_SEG3D_220523', 'MASK'].\n",
      "Segmentation MEM_SEG3D_220523 does not exist in object_21:['NUC_SEG3D_220523', 'MASK'].\n",
      "Segmentation MEM_SEG3D_220523 does not exist in object_27:['NUC_SEG3D_220523', 'MASK'].\n",
      "Segmentation MEM_SEG3D_220523 does not exist in object_29:['NUC_SEG3D_220523', 'MASK'].\n",
      "Segmentation MEM_SEG3D_220523 does not exist in object_70:['MASK', 'NUC_SEG3D_220523'].\n",
      "Segmentation MEM_SEG3D_220523 does not exist in object_25:['NUC_SEG3D_220523', 'MASK'].\n",
      "Segmentation MEM_SEG3D_220523 does not exist in object_36:['NUC_SEG3D_220523', 'MASK'].\n",
      "Segmentation MEM_SEG3D_220523 does not exist in object_66:['MASK', 'NUC_SEG3D_220523'].\n",
      "Segmentation MEM_SEG3D_220523 does not exist in object_20:['NUC_SEG3D_220523', 'MASK'].\n",
      "Segmentation MEM_SEG3D_220523 does not exist in object_40:['NUC_SEG3D_220523', 'MASK'].\n",
      "Segmentation MEM_SEG3D_220523 does not exist in object_45:['MASK', 'NUC_SEG3D_220523'].\n",
      "Segmentation MEM_SEG3D_220523 does not exist in object_72:['MASK', 'NUC_SEG3D_220523'].\n",
      "Segmentation MEM_SEG3D_220523 does not exist in object_69:['NUC_SEG3D_220523', 'MASK'].\n",
      "Segmentation MEM_SEG3D_220523 does not exist in object_99:['MASK', 'NUC_SEG3D_220523'].\n",
      "Segmentation MEM_SEG3D_220523 does not exist in object_90:['MASK', 'NUC_SEG3D_220523'].\n",
      "Segmentation MEM_SEG3D_220523 does not exist in object_19:['NUC_SEG3D_220523', 'MASK'].\n",
      "Segmentation MEM_SEG3D_220523 does not exist in object_63:['MASK', 'NUC_SEG3D_220523'].\n",
      "Segmentation MEM_SEG3D_220523 does not exist in object_48:['NUC_SEG3D_220523', 'MASK'].\n",
      "Segmentation MEM_SEG3D_220523 does not exist in object_34:['MASK', 'NUC_SEG3D_220523'].\n",
      "Segmentation MEM_SEG3D_220523 does not exist in object_76:['NUC_SEG3D_220523', 'MASK'].\n",
      "Segmentation MEM_SEG3D_220523 does not exist in object_62:['NUC_SEG3D_220523', 'MASK'].\n",
      "Segmentation MEM_SEG3D_220523 does not exist in object_100:['NUC_SEG3D_220523', 'MASK'].\n",
      "Segmentation MEM_SEG3D_220523 does not exist in object_52:['NUC_SEG3D_220523', 'MASK'].\n",
      "Segmentation MEM_SEG3D_220523 does not exist in object_18:['NUC_SEG3D_220523', 'MASK'].\n",
      "Segmentation MEM_SEG3D_220523 does not exist in object_3:['MASK', 'NUC_SEG3D_220523'].\n",
      "Segmentation MEM_SEG3D_220523 does not exist in object_2:['MASK', 'NUC_SEG3D_220523'].\n",
      "Segmentation MEM_SEG3D_220523 does not exist in object_50:['MASK', 'NUC_SEG3D_220523'].\n",
      "Segmentation MEM_SEG3D_220523 does not exist in object_30:['MASK', 'NUC_SEG3D_220523'].\n",
      "Segmentation MEM_SEG3D_220523 does not exist in object_16:['NUC_SEG3D_220523', 'MASK'].\n",
      "Segmentation MEM_SEG3D_220523 does not exist in object_92:['MASK', 'NUC_SEG3D_220523'].\n",
      "Segmentation MEM_SEG3D_220523 does not exist in object_56:['NUC_SEG3D_220523', 'MASK'].\n",
      "Segmentation MEM_SEG3D_220523 does not exist in object_31:['MASK', 'NUC_SEG3D_220523'].\n",
      "Segmentation MEM_SEG3D_220523 does not exist in object_77:['NUC_SEG3D_220523', 'MASK'].\n",
      "Segmentation MEM_SEG3D_220523 does not exist in object_94:['MASK', 'NUC_SEG3D_220523'].\n",
      "Segmentation MEM_SEG3D_220523 does not exist in object_88:['NUC_SEG3D_220523', 'MASK'].\n",
      "Segmentation MEM_SEG3D_220523 does not exist in object_71:['NUC_SEG3D_220523', 'MASK'].\n",
      "Segmentation MEM_SEG3D_220523 does not exist in object_10:['MASK', 'NUC_SEG3D_220523'].\n",
      "Segmentation MEM_SEG3D_220523 does not exist in object_85:['NUC_SEG3D_220523', 'MASK'].\n",
      "Segmentation MEM_SEG3D_220523 does not exist in object_22:['MASK', 'NUC_SEG3D_220523'].\n"
     ]
    },
    {
     "name": "stderr",
     "output_type": "stream",
     "text": [
      "Segmentation MEM_SEG3D_220523 does not exist in object_59:['NUC_SEG3D_220523', 'MASK'].\n",
      "Segmentation MEM_SEG3D_220523 does not exist in object_14:['NUC_SEG3D_220523', 'MASK'].\n",
      "Segmentation MEM_SEG3D_220523 does not exist in object_96:['NUC_SEG3D_220523', 'MASK'].\n",
      "Segmentation MEM_SEG3D_220523 does not exist in object_24:['NUC_SEG3D_220523', 'MASK'].\n",
      "Segmentation MEM_SEG3D_220523 does not exist in object_42:['MASK', 'NUC_SEG3D_220523'].\n",
      "Segmentation MEM_SEG3D_220523 does not exist in object_73:['NUC_SEG3D_220523', 'MASK'].\n",
      "Segmentation MEM_SEG3D_220523 does not exist in object_87:['MASK', 'NUC_SEG3D_220523'].\n",
      "Segmentation MEM_SEG3D_220523 does not exist in object_83:['MASK', 'NUC_SEG3D_220523'].\n",
      "Segmentation MEM_SEG3D_220523 does not exist in object_67:['NUC_SEG3D_220523', 'MASK'].\n",
      "Segmentation MEM_SEG3D_220523 does not exist in object_9:['MASK', 'NUC_SEG3D_220523'].\n",
      "Segmentation MEM_SEG3D_220523 does not exist in object_8:['MASK', 'NUC_SEG3D_220523'].\n",
      "Segmentation MEM_SEG3D_220523 does not exist in object_44:['NUC_SEG3D_220523', 'MASK'].\n",
      "Segmentation MEM_SEG3D_220523 does not exist in object_7:['NUC_SEG3D_220523', 'MASK'].\n",
      "Segmentation MEM_SEG3D_220523 does not exist in object_53:['NUC_SEG3D_220523', 'MASK'].\n",
      "Segmentation MEM_SEG3D_220523 does not exist in object_64:['MASK', 'NUC_SEG3D_220523'].\n",
      "Segmentation MEM_SEG3D_220523 does not exist in object_68:['MASK', 'NUC_SEG3D_220523'].\n",
      "Segmentation MEM_SEG3D_220523 does not exist in object_81:['NUC_SEG3D_220523', 'MASK'].\n",
      "Segmentation MEM_SEG3D_220523 does not exist in object_6:['MASK', 'NUC_SEG3D_220523'].\n",
      "Segmentation MEM_SEG3D_220523 does not exist in object_5:['NUC_SEG3D_220523', 'MASK'].\n",
      "Segmentation MEM_SEG3D_220523 does not exist in object_37:['NUC_SEG3D_220523', 'MASK'].\n",
      "Segmentation MEM_SEG3D_220523 does not exist in object_4:['MASK', 'NUC_SEG3D_220523'].\n",
      "Segmentation MEM_SEG3D_220523 does not exist in object_97:['NUC_SEG3D_220523', 'MASK'].\n",
      "Segmentation MEM_SEG3D_220523 does not exist in object_26:['MASK', 'NUC_SEG3D_220523'].\n",
      "Segmentation MEM_SEG3D_220523 does not exist in object_13:['MASK', 'NUC_SEG3D_220523'].\n",
      "Segmentation MEM_SEG3D_220523 does not exist in object_12:['MASK', 'NUC_SEG3D_220523'].\n",
      "Segmentation MEM_SEG3D_220523 does not exist in object_57:['NUC_SEG3D_220523', 'MASK'].\n",
      "Segmentation MEM_SEG3D_220523 does not exist in object_49:['MASK', 'NUC_SEG3D_220523'].\n",
      "Segmentation MEM_SEG3D_220523 does not exist in object_60:['NUC_SEG3D_220523', 'MASK'].\n",
      "Segmentation MEM_SEG3D_220523 does not exist in object_74:['MASK', 'NUC_SEG3D_220523'].\n",
      "Segmentation MEM_SEG3D_220523 does not exist in object_35:['NUC_SEG3D_220523', 'MASK'].\n",
      "Segmentation MEM_SEG3D_220523 does not exist in object_54:['MASK', 'NUC_SEG3D_220523'].\n",
      "Segmentation MEM_SEG3D_220523 does not exist in object_46:['NUC_SEG3D_220523', 'MASK'].\n",
      "Segmentation MEM_SEG3D_220523 does not exist in object_65:['MASK', 'NUC_SEG3D_220523'].\n",
      "Segmentation MEM_SEG3D_220523 does not exist in object_58:['NUC_SEG3D_220523', 'MASK'].\n",
      "Segmentation MEM_SEG3D_220523 does not exist in object_17:['MASK', 'NUC_SEG3D_220523'].\n",
      "Segmentation MEM_SEG3D_220523 does not exist in object_43:['MASK', 'NUC_SEG3D_220523'].\n",
      "Segmentation MEM_SEG3D_220523 does not exist in object_32:['NUC_SEG3D_220523', 'MASK'].\n",
      "Segmentation MEM_SEG3D_220523 does not exist in object_11:['MASK', 'NUC_SEG3D_220523'].\n",
      "Segmentation MEM_SEG3D_220523 does not exist in object_47:['MASK', 'NUC_SEG3D_220523'].\n",
      "Segmentation MEM_SEG3D_220523 does not exist in object_55:['NUC_SEG3D_220523', 'MASK'].\n",
      "Segmentation MEM_SEG3D_220523 does not exist in object_75:['MASK', 'NUC_SEG3D_220523'].\n",
      "Segmentation MEM_SEG3D_220523 does not exist in object_41:['MASK', 'NUC_SEG3D_220523'].\n",
      "Segmentation MEM_SEG3D_220523 does not exist in object_33:['MASK', 'NUC_SEG3D_220523'].\n",
      "Segmentation MEM_SEG3D_220523 does not exist in object_51:['NUC_SEG3D_220523', 'MASK'].\n",
      "Segmentation MEM_SEG3D_220523 does not exist in object_61:['NUC_SEG3D_220523', 'MASK'].\n",
      "Segmentation MEM_SEG3D_220523 does not exist in object_39:['NUC_SEG3D_220523', 'MASK'].\n",
      "Segmentation MEM_SEG3D_220523 does not exist in object_23:['MASK', 'NUC_SEG3D_220523'].\n",
      "Segmentation MEM_SEG3D_220523 does not exist in object_21:['MASK', 'NUC_SEG3D_220523'].\n",
      "Segmentation MEM_SEG3D_220523 does not exist in object_27:['MASK', 'NUC_SEG3D_220523'].\n",
      "Segmentation MEM_SEG3D_220523 does not exist in object_70:['MASK', 'NUC_SEG3D_220523'].\n",
      "Segmentation MEM_SEG3D_220523 does not exist in object_25:['NUC_SEG3D_220523', 'MASK'].\n",
      "Segmentation MEM_SEG3D_220523 does not exist in object_36:['NUC_SEG3D_220523', 'MASK'].\n",
      "Segmentation MEM_SEG3D_220523 does not exist in object_66:['NUC_SEG3D_220523', 'MASK'].\n",
      "Segmentation MEM_SEG3D_220523 does not exist in object_20:['NUC_SEG3D_220523', 'MASK'].\n",
      "Segmentation MEM_SEG3D_220523 does not exist in object_40:['NUC_SEG3D_220523', 'MASK'].\n",
      "Segmentation MEM_SEG3D_220523 does not exist in object_45:['NUC_SEG3D_220523', 'MASK'].\n",
      "Segmentation MEM_SEG3D_220523 does not exist in object_72:['MASK', 'NUC_SEG3D_220523'].\n",
      "Segmentation MEM_SEG3D_220523 does not exist in object_69:['MASK', 'NUC_SEG3D_220523'].\n",
      "Segmentation MEM_SEG3D_220523 does not exist in object_19:['MASK', 'NUC_SEG3D_220523'].\n",
      "Segmentation MEM_SEG3D_220523 does not exist in object_34:['MASK', 'NUC_SEG3D_220523'].\n",
      "Segmentation MEM_SEG3D_220523 does not exist in object_76:['NUC_SEG3D_220523', 'MASK'].\n",
      "Segmentation MEM_SEG3D_220523 does not exist in object_62:['MASK', 'NUC_SEG3D_220523'].\n",
      "Segmentation MEM_SEG3D_220523 does not exist in object_52:['NUC_SEG3D_220523', 'MASK'].\n",
      "Segmentation MEM_SEG3D_220523 does not exist in object_18:['NUC_SEG3D_220523', 'MASK'].\n",
      "Segmentation MEM_SEG3D_220523 does not exist in object_3:['NUC_SEG3D_220523', 'MASK'].\n",
      "Segmentation MEM_SEG3D_220523 does not exist in object_2:['NUC_SEG3D_220523', 'MASK'].\n",
      "Segmentation MEM_SEG3D_220523 does not exist in object_50:['MASK', 'NUC_SEG3D_220523'].\n",
      "Segmentation MEM_SEG3D_220523 does not exist in object_30:['NUC_SEG3D_220523', 'MASK'].\n",
      "Segmentation MEM_SEG3D_220523 does not exist in object_1:['NUC_SEG3D_220523', 'MASK'].\n",
      "Segmentation MEM_SEG3D_220523 does not exist in object_38:['MASK', 'NUC_SEG3D_220523'].\n",
      "Segmentation MEM_SEG3D_220523 does not exist in object_16:['MASK', 'NUC_SEG3D_220523'].\n",
      "Segmentation MEM_SEG3D_220523 does not exist in object_31:['NUC_SEG3D_220523', 'MASK'].\n",
      "Segmentation MEM_SEG3D_220523 does not exist in object_77:['MASK', 'NUC_SEG3D_220523'].\n",
      "Segmentation MEM_SEG3D_220523 does not exist in object_71:['NUC_SEG3D_220523', 'MASK'].\n",
      "Segmentation MEM_SEG3D_220523 does not exist in object_10:['MASK', 'NUC_SEG3D_220523'].\n",
      "Segmentation MEM_SEG3D_220523 does not exist in object_28:['NUC_SEG3D_220523', 'MASK'].\n",
      "Segmentation MEM_SEG3D_220523 does not exist in object_22:['NUC_SEG3D_220523', 'MASK'].\n",
      "Segmentation MEM_SEG3D_220523 does not exist in object_59:['NUC_SEG3D_220523', 'MASK'].\n",
      "Segmentation MEM_SEG3D_220523 does not exist in object_24:['MASK', 'NUC_SEG3D_220523'].\n",
      "Segmentation MEM_SEG3D_220523 does not exist in object_42:['NUC_SEG3D_220523', 'MASK'].\n",
      "Segmentation MEM_SEG3D_220523 does not exist in object_73:['MASK', 'NUC_SEG3D_220523'].\n",
      "Segmentation MEM_SEG3D_220523 does not exist in object_67:['MASK', 'NUC_SEG3D_220523'].\n",
      "Segmentation MEM_SEG3D_220523 does not exist in object_9:['MASK', 'NUC_SEG3D_220523'].\n",
      "Segmentation MEM_SEG3D_220523 does not exist in object_8:['NUC_SEG3D_220523', 'MASK'].\n",
      "Segmentation MEM_SEG3D_220523 does not exist in object_44:['MASK', 'NUC_SEG3D_220523'].\n",
      "Segmentation MEM_SEG3D_220523 does not exist in object_7:['NUC_SEG3D_220523', 'MASK'].\n",
      "Segmentation MEM_SEG3D_220523 does not exist in object_53:['NUC_SEG3D_220523', 'MASK'].\n",
      "Segmentation MEM_SEG3D_220523 does not exist in object_64:['MASK', 'NUC_SEG3D_220523'].\n",
      "Segmentation MEM_SEG3D_220523 does not exist in object_68:['MASK', 'NUC_SEG3D_220523'].\n",
      "Segmentation MEM_SEG3D_220523 does not exist in object_6:['NUC_SEG3D_220523', 'MASK'].\n",
      "Segmentation MEM_SEG3D_220523 does not exist in object_5:['MASK', 'NUC_SEG3D_220523'].\n",
      "Segmentation MEM_SEG3D_220523 does not exist in object_37:['NUC_SEG3D_220523', 'MASK'].\n",
      "Segmentation MEM_SEG3D_220523 does not exist in object_4:['MASK', 'NUC_SEG3D_220523'].\n",
      "Segmentation MEM_SEG3D_220523 does not exist in object_26:['MASK', 'NUC_SEG3D_220523'].\n"
     ]
    },
    {
     "name": "stderr",
     "output_type": "stream",
     "text": [
      "Segmentation MEM_SEG3D_220523 does not exist in object_13:['NUC_SEG3D_220523', 'MASK'].\n",
      "Segmentation MEM_SEG3D_220523 does not exist in object_12:['MASK', 'NUC_SEG3D_220523'].\n",
      "Segmentation MEM_SEG3D_220523 does not exist in object_78:['NUC_SEG3D_220523', 'MASK'].\n",
      "Segmentation MEM_SEG3D_220523 does not exist in object_57:['NUC_SEG3D_220523', 'MASK'].\n",
      "Segmentation MEM_SEG3D_220523 does not exist in object_80:['MASK', 'NUC_SEG3D_220523'].\n",
      "Segmentation MEM_SEG3D_220523 does not exist in object_49:['NUC_SEG3D_220523', 'MASK'].\n",
      "Segmentation MEM_SEG3D_220523 does not exist in object_60:['NUC_SEG3D_220523', 'MASK'].\n",
      "Segmentation MEM_SEG3D_220523 does not exist in object_74:['MASK', 'NUC_SEG3D_220523'].\n",
      "Segmentation MEM_SEG3D_220523 does not exist in object_35:['MASK', 'NUC_SEG3D_220523'].\n",
      "Segmentation MEM_SEG3D_220523 does not exist in object_54:['NUC_SEG3D_220523', 'MASK'].\n",
      "Segmentation MEM_SEG3D_220523 does not exist in object_46:['NUC_SEG3D_220523', 'MASK'].\n",
      "Segmentation MEM_SEG3D_220523 does not exist in object_65:['NUC_SEG3D_220523', 'MASK'].\n",
      "Segmentation MEM_SEG3D_220523 does not exist in object_58:['MASK', 'NUC_SEG3D_220523'].\n",
      "Segmentation MEM_SEG3D_220523 does not exist in object_86:['MASK', 'NUC_SEG3D_220523'].\n",
      "Segmentation MEM_SEG3D_220523 does not exist in object_82:['MASK', 'NUC_SEG3D_220523'].\n",
      "Segmentation MEM_SEG3D_220523 does not exist in object_91:['MASK', 'NUC_SEG3D_220523'].\n",
      "Segmentation MEM_SEG3D_220523 does not exist in object_17:['NUC_SEG3D_220523', 'MASK'].\n",
      "Segmentation MEM_SEG3D_220523 does not exist in object_43:['NUC_SEG3D_220523', 'MASK'].\n",
      "Segmentation MEM_SEG3D_220523 does not exist in object_79:['MASK', 'NUC_SEG3D_220523'].\n",
      "Segmentation MEM_SEG3D_220523 does not exist in object_32:['NUC_SEG3D_220523', 'MASK'].\n",
      "Segmentation MEM_SEG3D_220523 does not exist in object_11:['MASK', 'NUC_SEG3D_220523'].\n",
      "Segmentation MEM_SEG3D_220523 does not exist in object_47:['NUC_SEG3D_220523', 'MASK'].\n",
      "Segmentation MEM_SEG3D_220523 does not exist in object_55:['NUC_SEG3D_220523', 'MASK'].\n",
      "Segmentation MEM_SEG3D_220523 does not exist in object_75:['NUC_SEG3D_220523', 'MASK'].\n",
      "Segmentation MEM_SEG3D_220523 does not exist in object_41:['NUC_SEG3D_220523', 'MASK'].\n",
      "Segmentation MEM_SEG3D_220523 does not exist in object_33:['NUC_SEG3D_220523', 'MASK'].\n",
      "Segmentation MEM_SEG3D_220523 does not exist in object_51:['MASK', 'NUC_SEG3D_220523'].\n",
      "Segmentation MEM_SEG3D_220523 does not exist in object_61:['NUC_SEG3D_220523', 'MASK'].\n",
      "Segmentation MEM_SEG3D_220523 does not exist in object_39:['MASK', 'NUC_SEG3D_220523'].\n",
      "Segmentation MEM_SEG3D_220523 does not exist in object_89:['NUC_SEG3D_220523', 'MASK'].\n",
      "Segmentation MEM_SEG3D_220523 does not exist in object_84:['NUC_SEG3D_220523', 'MASK'].\n",
      "Segmentation MEM_SEG3D_220523 does not exist in object_15:['NUC_SEG3D_220523', 'MASK'].\n",
      "Segmentation MEM_SEG3D_220523 does not exist in object_23:['MASK', 'NUC_SEG3D_220523'].\n",
      "Segmentation MEM_SEG3D_220523 does not exist in object_21:['MASK', 'NUC_SEG3D_220523'].\n",
      "Segmentation MEM_SEG3D_220523 does not exist in object_27:['MASK', 'NUC_SEG3D_220523'].\n",
      "Segmentation MEM_SEG3D_220523 does not exist in object_29:['NUC_SEG3D_220523', 'MASK'].\n",
      "Segmentation MEM_SEG3D_220523 does not exist in object_70:['MASK', 'NUC_SEG3D_220523'].\n",
      "Segmentation MEM_SEG3D_220523 does not exist in object_25:['MASK', 'NUC_SEG3D_220523'].\n",
      "Segmentation MEM_SEG3D_220523 does not exist in object_36:['MASK', 'NUC_SEG3D_220523'].\n",
      "Segmentation MEM_SEG3D_220523 does not exist in object_66:['NUC_SEG3D_220523', 'MASK'].\n",
      "Segmentation MEM_SEG3D_220523 does not exist in object_40:['MASK', 'NUC_SEG3D_220523'].\n",
      "Segmentation MEM_SEG3D_220523 does not exist in object_45:['NUC_SEG3D_220523', 'MASK'].\n",
      "Segmentation MEM_SEG3D_220523 does not exist in object_72:['MASK', 'NUC_SEG3D_220523'].\n",
      "Segmentation MEM_SEG3D_220523 does not exist in object_90:['MASK', 'NUC_SEG3D_220523'].\n",
      "Segmentation MEM_SEG3D_220523 does not exist in object_19:['NUC_SEG3D_220523', 'MASK'].\n",
      "Segmentation MEM_SEG3D_220523 does not exist in object_63:['NUC_SEG3D_220523', 'MASK'].\n",
      "Segmentation MEM_SEG3D_220523 does not exist in object_48:['MASK', 'NUC_SEG3D_220523'].\n",
      "Segmentation MEM_SEG3D_220523 does not exist in object_34:['NUC_SEG3D_220523', 'MASK'].\n",
      "Segmentation MEM_SEG3D_220523 does not exist in object_76:['MASK', 'NUC_SEG3D_220523'].\n",
      "Segmentation MEM_SEG3D_220523 does not exist in object_62:['MASK', 'NUC_SEG3D_220523'].\n",
      "Segmentation MEM_SEG3D_220523 does not exist in object_52:['MASK', 'NUC_SEG3D_220523'].\n",
      "Segmentation MEM_SEG3D_220523 does not exist in object_3:['NUC_SEG3D_220523', 'MASK'].\n",
      "Segmentation MEM_SEG3D_220523 does not exist in object_2:['MASK', 'NUC_SEG3D_220523'].\n",
      "Segmentation MEM_SEG3D_220523 does not exist in object_50:['MASK', 'NUC_SEG3D_220523'].\n",
      "Segmentation MEM_SEG3D_220523 does not exist in object_30:['NUC_SEG3D_220523', 'MASK'].\n",
      "Segmentation MEM_SEG3D_220523 does not exist in object_1:['MASK', 'NUC_SEG3D_220523'].\n",
      "Segmentation MEM_SEG3D_220523 does not exist in object_38:['MASK', 'NUC_SEG3D_220523'].\n",
      "Segmentation MEM_SEG3D_220523 does not exist in object_16:['MASK', 'NUC_SEG3D_220523'].\n",
      "Segmentation MEM_SEG3D_220523 does not exist in object_92:['MASK', 'NUC_SEG3D_220523'].\n",
      "Segmentation MEM_SEG3D_220523 does not exist in object_56:['NUC_SEG3D_220523', 'MASK'].\n",
      "Segmentation MEM_SEG3D_220523 does not exist in object_31:['MASK', 'NUC_SEG3D_220523'].\n",
      "Segmentation MEM_SEG3D_220523 does not exist in object_77:['NUC_SEG3D_220523', 'MASK'].\n",
      "Segmentation MEM_SEG3D_220523 does not exist in object_88:['MASK', 'NUC_SEG3D_220523'].\n",
      "Segmentation MEM_SEG3D_220523 does not exist in object_71:['MASK', 'NUC_SEG3D_220523'].\n",
      "Segmentation MEM_SEG3D_220523 does not exist in object_10:['NUC_SEG3D_220523', 'MASK'].\n",
      "Segmentation MEM_SEG3D_220523 does not exist in object_85:['NUC_SEG3D_220523', 'MASK'].\n",
      "Segmentation MEM_SEG3D_220523 does not exist in object_28:['NUC_SEG3D_220523', 'MASK'].\n",
      "Segmentation MEM_SEG3D_220523 does not exist in object_22:['MASK', 'NUC_SEG3D_220523'].\n",
      "Segmentation MEM_SEG3D_220523 does not exist in object_59:['NUC_SEG3D_220523', 'MASK'].\n",
      "Segmentation MEM_SEG3D_220523 does not exist in object_14:['NUC_SEG3D_220523', 'MASK'].\n",
      "Segmentation MEM_SEG3D_220523 does not exist in object_24:['MASK', 'NUC_SEG3D_220523'].\n",
      "Segmentation MEM_SEG3D_220523 does not exist in object_42:['MASK', 'NUC_SEG3D_220523'].\n",
      "Segmentation MEM_SEG3D_220523 does not exist in object_73:['MASK', 'NUC_SEG3D_220523'].\n",
      "Segmentation MEM_SEG3D_220523 does not exist in object_87:['MASK', 'NUC_SEG3D_220523'].\n",
      "Segmentation MEM_SEG3D_220523 does not exist in object_83:['NUC_SEG3D_220523', 'MASK'].\n",
      "Segmentation MEM_SEG3D_220523 does not exist in object_67:['MASK', 'NUC_SEG3D_220523'].\n",
      "Segmentation MEM_SEG3D_220523 does not exist in object_9:['NUC_SEG3D_220523', 'MASK'].\n",
      "Segmentation MEM_SEG3D_220523 does not exist in object_8:['NUC_SEG3D_220523', 'MASK'].\n",
      "Segmentation MEM_SEG3D_220523 does not exist in object_44:['NUC_SEG3D_220523', 'MASK'].\n",
      "Segmentation MEM_SEG3D_220523 does not exist in object_7:['NUC_SEG3D_220523', 'MASK'].\n",
      "Segmentation MEM_SEG3D_220523 does not exist in object_53:['NUC_SEG3D_220523', 'MASK'].\n",
      "Segmentation MEM_SEG3D_220523 does not exist in object_64:['MASK', 'NUC_SEG3D_220523'].\n",
      "Segmentation MEM_SEG3D_220523 does not exist in object_68:['NUC_SEG3D_220523', 'MASK'].\n",
      "Segmentation MEM_SEG3D_220523 does not exist in object_81:['NUC_SEG3D_220523', 'MASK'].\n",
      "Segmentation MEM_SEG3D_220523 does not exist in object_6:['MASK', 'NUC_SEG3D_220523'].\n",
      "Segmentation MEM_SEG3D_220523 does not exist in object_5:['NUC_SEG3D_220523', 'MASK'].\n",
      "Segmentation MEM_SEG3D_220523 does not exist in object_37:['NUC_SEG3D_220523', 'MASK'].\n",
      "Segmentation MEM_SEG3D_220523 does not exist in object_4:['MASK', 'NUC_SEG3D_220523'].\n",
      "Segmentation MEM_SEG3D_220523 does not exist in object_26:['MASK', 'NUC_SEG3D_220523'].\n",
      "Segmentation MEM_SEG3D_220523 does not exist in object_12:['MASK', 'NUC_SEG3D_220523'].\n",
      "Segmentation MEM_SEG3D_220523 does not exist in object_78:['NUC_SEG3D_220523', 'MASK'].\n",
      "Segmentation MEM_SEG3D_220523 does not exist in object_49:['MASK', 'NUC_SEG3D_220523'].\n",
      "Segmentation MEM_SEG3D_220523 does not exist in object_60:['MASK', 'NUC_SEG3D_220523'].\n",
      "Segmentation MEM_SEG3D_220523 does not exist in object_35:['MASK', 'NUC_SEG3D_220523'].\n"
     ]
    },
    {
     "name": "stderr",
     "output_type": "stream",
     "text": [
      "Segmentation MEM_SEG3D_220523 does not exist in object_54:['MASK', 'NUC_SEG3D_220523'].\n",
      "Segmentation MEM_SEG3D_220523 does not exist in object_46:['MASK', 'NUC_SEG3D_220523'].\n",
      "Segmentation MEM_SEG3D_220523 does not exist in object_65:['MASK', 'NUC_SEG3D_220523'].\n",
      "Segmentation MEM_SEG3D_220523 does not exist in object_58:['MASK', 'NUC_SEG3D_220523'].\n",
      "Segmentation MEM_SEG3D_220523 does not exist in object_17:['MASK', 'NUC_SEG3D_220523'].\n",
      "Segmentation MEM_SEG3D_220523 does not exist in object_43:['MASK', 'NUC_SEG3D_220523'].\n",
      "Segmentation MEM_SEG3D_220523 does not exist in object_79:['NUC_SEG3D_220523', 'MASK'].\n",
      "/tungstenfs/scratch/gliberal/Code/user-code/repinico/Python/venvs/miniconda3/envs/featX3D/lib/python3.9/site-packages/numpy/core/_methods.py:262: RuntimeWarning: Degrees of freedom <= 0 for slice\n",
      "  ret = _var(a, axis=axis, dtype=dtype, out=out, ddof=ddof,\n",
      "/tungstenfs/scratch/gliberal/Code/user-code/repinico/Python/venvs/miniconda3/envs/featX3D/lib/python3.9/site-packages/numpy/core/_methods.py:254: RuntimeWarning: invalid value encountered in double_scalars\n",
      "  ret = ret.dtype.type(ret / rcount)\n",
      "/tungstenfs/scratch/gliberal/Code/user-code/repinico/Python/venvs/miniconda3/envs/featX3D/lib/python3.9/site-packages/numpy/core/_methods.py:262: RuntimeWarning: Degrees of freedom <= 0 for slice\n",
      "  ret = _var(a, axis=axis, dtype=dtype, out=out, ddof=ddof,\n",
      "/tungstenfs/scratch/gliberal/Code/user-code/repinico/Python/venvs/miniconda3/envs/featX3D/lib/python3.9/site-packages/numpy/core/_methods.py:254: RuntimeWarning: invalid value encountered in double_scalars\n",
      "  ret = ret.dtype.type(ret / rcount)\n",
      "/tungstenfs/scratch/gliberal/Code/user-code/repinico/Python/venvs/miniconda3/envs/featX3D/lib/python3.9/site-packages/numpy/core/_methods.py:262: RuntimeWarning: Degrees of freedom <= 0 for slice\n",
      "  ret = _var(a, axis=axis, dtype=dtype, out=out, ddof=ddof,\n",
      "/tungstenfs/scratch/gliberal/Code/user-code/repinico/Python/venvs/miniconda3/envs/featX3D/lib/python3.9/site-packages/numpy/core/_methods.py:254: RuntimeWarning: invalid value encountered in double_scalars\n",
      "  ret = ret.dtype.type(ret / rcount)\n",
      "/tungstenfs/scratch/gliberal/Code/user-code/repinico/Python/venvs/miniconda3/envs/featX3D/lib/python3.9/site-packages/numpy/core/_methods.py:262: RuntimeWarning: Degrees of freedom <= 0 for slice\n",
      "  ret = _var(a, axis=axis, dtype=dtype, out=out, ddof=ddof,\n",
      "/tungstenfs/scratch/gliberal/Code/user-code/repinico/Python/venvs/miniconda3/envs/featX3D/lib/python3.9/site-packages/numpy/core/_methods.py:254: RuntimeWarning: invalid value encountered in double_scalars\n",
      "  ret = ret.dtype.type(ret / rcount)\n",
      "Segmentation MEM_SEG3D_220523 does not exist in object_32:['MASK', 'NUC_SEG3D_220523'].\n",
      "Segmentation MEM_SEG3D_220523 does not exist in object_11:['NUC_SEG3D_220523', 'MASK'].\n",
      "Segmentation MEM_SEG3D_220523 does not exist in object_47:['MASK', 'NUC_SEG3D_220523'].\n",
      "Segmentation MEM_SEG3D_220523 does not exist in object_55:['NUC_SEG3D_220523', 'MASK'].\n",
      "Segmentation MEM_SEG3D_220523 does not exist in object_75:['NUC_SEG3D_220523', 'MASK'].\n",
      "Segmentation MEM_SEG3D_220523 does not exist in object_41:['NUC_SEG3D_220523', 'MASK'].\n",
      "Segmentation MEM_SEG3D_220523 does not exist in object_33:['NUC_SEG3D_220523', 'MASK'].\n",
      "Segmentation MEM_SEG3D_220523 does not exist in object_51:['MASK', 'NUC_SEG3D_220523'].\n",
      "Segmentation MEM_SEG3D_220523 does not exist in object_61:['NUC_SEG3D_220523', 'MASK'].\n",
      "Segmentation MEM_SEG3D_220523 does not exist in object_15:['MASK', 'NUC_SEG3D_220523'].\n",
      "Segmentation MEM_SEG3D_220523 does not exist in object_23:['MASK', 'NUC_SEG3D_220523'].\n",
      "Segmentation MEM_SEG3D_220523 does not exist in object_21:['MASK', 'NUC_SEG3D_220523'].\n",
      "Segmentation MEM_SEG3D_220523 does not exist in object_27:['MASK', 'NUC_SEG3D_220523'].\n",
      "Segmentation MEM_SEG3D_220523 does not exist in object_29:['MASK', 'NUC_SEG3D_220523'].\n",
      "Segmentation MEM_SEG3D_220523 does not exist in object_70:['NUC_SEG3D_220523', 'MASK'].\n",
      "Segmentation MEM_SEG3D_220523 does not exist in object_25:['MASK', 'NUC_SEG3D_220523'].\n",
      "Segmentation MEM_SEG3D_220523 does not exist in object_36:['MASK', 'NUC_SEG3D_220523'].\n",
      "Segmentation MEM_SEG3D_220523 does not exist in object_66:['MASK', 'NUC_SEG3D_220523'].\n",
      "Segmentation MEM_SEG3D_220523 does not exist in object_20:['NUC_SEG3D_220523', 'MASK'].\n",
      "Segmentation MEM_SEG3D_220523 does not exist in object_40:['MASK', 'NUC_SEG3D_220523'].\n",
      "Segmentation MEM_SEG3D_220523 does not exist in object_45:['MASK', 'NUC_SEG3D_220523'].\n",
      "Segmentation MEM_SEG3D_220523 does not exist in object_72:['NUC_SEG3D_220523', 'MASK'].\n",
      "Segmentation MEM_SEG3D_220523 does not exist in object_69:['MASK', 'NUC_SEG3D_220523'].\n",
      "Segmentation MEM_SEG3D_220523 does not exist in object_19:['MASK', 'NUC_SEG3D_220523'].\n",
      "Segmentation MEM_SEG3D_220523 does not exist in object_63:['NUC_SEG3D_220523', 'MASK'].\n",
      "Segmentation MEM_SEG3D_220523 does not exist in object_48:['NUC_SEG3D_220523', 'MASK'].\n",
      "Segmentation MEM_SEG3D_220523 does not exist in object_34:['NUC_SEG3D_220523', 'MASK'].\n",
      "Segmentation MEM_SEG3D_220523 does not exist in object_76:['NUC_SEG3D_220523', 'MASK'].\n",
      "Segmentation MEM_SEG3D_220523 does not exist in object_62:['NUC_SEG3D_220523', 'MASK'].\n",
      "/tungstenfs/scratch/gliberal/Code/user-code/repinico/Python/venvs/miniconda3/envs/featX3D/lib/python3.9/site-packages/numpy/core/_methods.py:262: RuntimeWarning: Degrees of freedom <= 0 for slice\n",
      "  ret = _var(a, axis=axis, dtype=dtype, out=out, ddof=ddof,\n",
      "/tungstenfs/scratch/gliberal/Code/user-code/repinico/Python/venvs/miniconda3/envs/featX3D/lib/python3.9/site-packages/numpy/core/_methods.py:254: RuntimeWarning: invalid value encountered in double_scalars\n",
      "  ret = ret.dtype.type(ret / rcount)\n",
      "/tungstenfs/scratch/gliberal/Code/user-code/repinico/Python/venvs/miniconda3/envs/featX3D/lib/python3.9/site-packages/numpy/core/_methods.py:262: RuntimeWarning: Degrees of freedom <= 0 for slice\n",
      "  ret = _var(a, axis=axis, dtype=dtype, out=out, ddof=ddof,\n",
      "/tungstenfs/scratch/gliberal/Code/user-code/repinico/Python/venvs/miniconda3/envs/featX3D/lib/python3.9/site-packages/numpy/core/_methods.py:254: RuntimeWarning: invalid value encountered in double_scalars\n",
      "  ret = ret.dtype.type(ret / rcount)\n",
      "/tungstenfs/scratch/gliberal/Code/user-code/repinico/Python/venvs/miniconda3/envs/featX3D/lib/python3.9/site-packages/numpy/core/_methods.py:262: RuntimeWarning: Degrees of freedom <= 0 for slice\n",
      "  ret = _var(a, axis=axis, dtype=dtype, out=out, ddof=ddof,\n",
      "/tungstenfs/scratch/gliberal/Code/user-code/repinico/Python/venvs/miniconda3/envs/featX3D/lib/python3.9/site-packages/numpy/core/_methods.py:254: RuntimeWarning: invalid value encountered in double_scalars\n",
      "  ret = ret.dtype.type(ret / rcount)\n",
      "/tungstenfs/scratch/gliberal/Code/user-code/repinico/Python/venvs/miniconda3/envs/featX3D/lib/python3.9/site-packages/numpy/core/_methods.py:262: RuntimeWarning: Degrees of freedom <= 0 for slice\n",
      "  ret = _var(a, axis=axis, dtype=dtype, out=out, ddof=ddof,\n",
      "/tungstenfs/scratch/gliberal/Code/user-code/repinico/Python/venvs/miniconda3/envs/featX3D/lib/python3.9/site-packages/numpy/core/_methods.py:254: RuntimeWarning: invalid value encountered in double_scalars\n",
      "  ret = ret.dtype.type(ret / rcount)\n",
      "Segmentation MEM_SEG3D_220523 does not exist in object_52:['NUC_SEG3D_220523', 'MASK'].\n",
      "Segmentation MEM_SEG3D_220523 does not exist in object_18:['NUC_SEG3D_220523', 'MASK'].\n",
      "Segmentation MEM_SEG3D_220523 does not exist in object_3:['MASK', 'NUC_SEG3D_220523'].\n",
      "Segmentation MEM_SEG3D_220523 does not exist in object_2:['NUC_SEG3D_220523', 'MASK'].\n",
      "Segmentation MEM_SEG3D_220523 does not exist in object_50:['MASK', 'NUC_SEG3D_220523'].\n",
      "Segmentation MEM_SEG3D_220523 does not exist in object_30:['MASK', 'NUC_SEG3D_220523'].\n",
      "Segmentation MEM_SEG3D_220523 does not exist in object_1:['NUC_SEG3D_220523', 'MASK'].\n",
      "Segmentation MEM_SEG3D_220523 does not exist in object_38:['MASK', 'NUC_SEG3D_220523'].\n",
      "Segmentation MEM_SEG3D_220523 does not exist in object_16:['NUC_SEG3D_220523', 'MASK'].\n",
      "Segmentation MEM_SEG3D_220523 does not exist in object_56:['NUC_SEG3D_220523', 'MASK'].\n",
      "Segmentation MEM_SEG3D_220523 does not exist in object_31:['NUC_SEG3D_220523', 'MASK'].\n",
      "Segmentation MEM_SEG3D_220523 does not exist in object_77:['MASK', 'NUC_SEG3D_220523'].\n"
     ]
    },
    {
     "name": "stderr",
     "output_type": "stream",
     "text": [
      "Segmentation MEM_SEG3D_220523 does not exist in object_71:['MASK', 'NUC_SEG3D_220523'].\n",
      "Segmentation MEM_SEG3D_220523 does not exist in object_10:['NUC_SEG3D_220523', 'MASK'].\n",
      "Segmentation MEM_SEG3D_220523 does not exist in object_28:['MASK', 'NUC_SEG3D_220523'].\n",
      "Segmentation MEM_SEG3D_220523 does not exist in object_22:['MASK', 'NUC_SEG3D_220523'].\n",
      "Segmentation MEM_SEG3D_220523 does not exist in object_59:['NUC_SEG3D_220523', 'MASK'].\n",
      "Segmentation MEM_SEG3D_220523 does not exist in object_14:['MASK', 'NUC_SEG3D_220523'].\n",
      "Segmentation MEM_SEG3D_220523 does not exist in object_24:['NUC_SEG3D_220523', 'MASK'].\n",
      "Segmentation MEM_SEG3D_220523 does not exist in object_42:['MASK', 'NUC_SEG3D_220523'].\n",
      "Segmentation MEM_SEG3D_220523 does not exist in object_73:['MASK', 'NUC_SEG3D_220523'].\n",
      "Segmentation MEM_SEG3D_220523 does not exist in object_67:['MASK', 'NUC_SEG3D_220523'].\n",
      "Segmentation MEM_SEG3D_220523 does not exist in object_9:['NUC_SEG3D_220523', 'MASK'].\n",
      "Segmentation MEM_SEG3D_220523 does not exist in object_8:['NUC_SEG3D_220523', 'MASK'].\n",
      "Segmentation MEM_SEG3D_220523 does not exist in object_44:['MASK', 'NUC_SEG3D_220523'].\n",
      "Segmentation MEM_SEG3D_220523 does not exist in object_7:['NUC_SEG3D_220523', 'MASK'].\n",
      "Segmentation MEM_SEG3D_220523 does not exist in object_53:['NUC_SEG3D_220523', 'MASK'].\n",
      "Segmentation MEM_SEG3D_220523 does not exist in object_64:['MASK', 'NUC_SEG3D_220523'].\n",
      "Segmentation MEM_SEG3D_220523 does not exist in object_68:['MASK', 'NUC_SEG3D_220523'].\n",
      "Segmentation MEM_SEG3D_220523 does not exist in object_6:['NUC_SEG3D_220523', 'MASK'].\n",
      "Segmentation MEM_SEG3D_220523 does not exist in object_5:['MASK', 'NUC_SEG3D_220523'].\n",
      "Segmentation MEM_SEG3D_220523 does not exist in object_37:['NUC_SEG3D_220523', 'MASK'].\n",
      "Segmentation MEM_SEG3D_220523 does not exist in object_4:['MASK', 'NUC_SEG3D_220523'].\n",
      "Segmentation MEM_SEG3D_220523 does not exist in object_26:['NUC_SEG3D_220523', 'MASK'].\n",
      "Segmentation MEM_SEG3D_220523 does not exist in object_13:['MASK', 'NUC_SEG3D_220523'].\n",
      "Segmentation MEM_SEG3D_220523 does not exist in object_12:['NUC_SEG3D_220523', 'MASK'].\n",
      "Segmentation MEM_SEG3D_220523 does not exist in object_57:['NUC_SEG3D_220523', 'MASK'].\n",
      "Segmentation MEM_SEG3D_220523 does not exist in object_80:['NUC_SEG3D_220523', 'MASK'].\n",
      "Segmentation MEM_SEG3D_220523 does not exist in object_49:['MASK', 'NUC_SEG3D_220523'].\n",
      "Segmentation MEM_SEG3D_220523 does not exist in object_74:['MASK', 'NUC_SEG3D_220523'].\n",
      "Segmentation MEM_SEG3D_220523 does not exist in object_35:['MASK', 'NUC_SEG3D_220523'].\n",
      "Segmentation MEM_SEG3D_220523 does not exist in object_65:['MASK', 'NUC_SEG3D_220523'].\n",
      "Segmentation MEM_SEG3D_220523 does not exist in object_58:['MASK', 'NUC_SEG3D_220523'].\n",
      "Segmentation MEM_SEG3D_220523 does not exist in object_86:['NUC_SEG3D_220523', 'MASK'].\n",
      "Segmentation MEM_SEG3D_220523 does not exist in object_82:['MASK', 'NUC_SEG3D_220523'].\n",
      "Segmentation MEM_SEG3D_220523 does not exist in object_17:['MASK', 'NUC_SEG3D_220523'].\n",
      "Segmentation MEM_SEG3D_220523 does not exist in object_79:['MASK', 'NUC_SEG3D_220523'].\n",
      "Segmentation MEM_SEG3D_220523 does not exist in object_32:['MASK', 'NUC_SEG3D_220523'].\n",
      "Segmentation MEM_SEG3D_220523 does not exist in object_55:['MASK', 'NUC_SEG3D_220523'].\n",
      "Segmentation MEM_SEG3D_220523 does not exist in object_75:['NUC_SEG3D_220523', 'MASK'].\n",
      "Segmentation MEM_SEG3D_220523 does not exist in object_101:['NUC_SEG3D_220523', 'MASK'].\n",
      "Segmentation MEM_SEG3D_220523 does not exist in object_61:['MASK', 'NUC_SEG3D_220523'].\n",
      "Segmentation MEM_SEG3D_220523 does not exist in object_89:['NUC_SEG3D_220523', 'MASK'].\n",
      "Segmentation MEM_SEG3D_220523 does not exist in object_84:['MASK', 'NUC_SEG3D_220523'].\n",
      "Segmentation MEM_SEG3D_220523 does not exist in object_98:['MASK', 'NUC_SEG3D_220523'].\n",
      "Segmentation MEM_SEG3D_220523 does not exist in object_23:['NUC_SEG3D_220523', 'MASK'].\n",
      "Segmentation MEM_SEG3D_220523 does not exist in object_27:['NUC_SEG3D_220523', 'MASK'].\n",
      "Segmentation MEM_SEG3D_220523 does not exist in object_25:['NUC_SEG3D_220523', 'MASK'].\n",
      "Segmentation MEM_SEG3D_220523 does not exist in object_102:['MASK', 'NUC_SEG3D_220523'].\n",
      "Segmentation MEM_SEG3D_220523 does not exist in object_20:['NUC_SEG3D_220523', 'MASK'].\n",
      "Segmentation MEM_SEG3D_220523 does not exist in object_45:['MASK', 'NUC_SEG3D_220523'].\n",
      "Segmentation MEM_SEG3D_220523 does not exist in object_72:['MASK', 'NUC_SEG3D_220523'].\n",
      "Segmentation MEM_SEG3D_220523 does not exist in object_69:['NUC_SEG3D_220523', 'MASK'].\n",
      "Segmentation MEM_SEG3D_220523 does not exist in object_99:['MASK', 'NUC_SEG3D_220523'].\n",
      "Segmentation MEM_SEG3D_220523 does not exist in object_19:['NUC_SEG3D_220523', 'MASK'].\n",
      "Segmentation MEM_SEG3D_220523 does not exist in object_48:['NUC_SEG3D_220523', 'MASK'].\n",
      "Segmentation MEM_SEG3D_220523 does not exist in object_34:['MASK', 'NUC_SEG3D_220523'].\n",
      "Segmentation MEM_SEG3D_220523 does not exist in object_100:['NUC_SEG3D_220523', 'MASK'].\n",
      "Segmentation MEM_SEG3D_220523 does not exist in object_3:['MASK', 'NUC_SEG3D_220523'].\n",
      "Segmentation MEM_SEG3D_220523 does not exist in object_50:['MASK', 'NUC_SEG3D_220523'].\n",
      "Segmentation MEM_SEG3D_220523 does not exist in object_30:['MASK', 'NUC_SEG3D_220523'].\n",
      "Segmentation MEM_SEG3D_220523 does not exist in object_1:['MASK', 'NUC_SEG3D_220523'].\n",
      "Segmentation MEM_SEG3D_220523 does not exist in object_38:['MASK', 'NUC_SEG3D_220523'].\n",
      "Segmentation MEM_SEG3D_220523 does not exist in object_94:['MASK', 'NUC_SEG3D_220523'].\n",
      "Segmentation MEM_SEG3D_220523 does not exist in object_88:['NUC_SEG3D_220523', 'MASK'].\n",
      "Segmentation MEM_SEG3D_220523 does not exist in object_71:['NUC_SEG3D_220523', 'MASK'].\n",
      "Segmentation MEM_SEG3D_220523 does not exist in object_85:['NUC_SEG3D_220523', 'MASK'].\n",
      "Segmentation MEM_SEG3D_220523 does not exist in object_14:['NUC_SEG3D_220523', 'MASK'].\n",
      "Segmentation MEM_SEG3D_220523 does not exist in object_24:['NUC_SEG3D_220523', 'MASK'].\n",
      "Segmentation MEM_SEG3D_220523 does not exist in object_42:['MASK', 'NUC_SEG3D_220523'].\n",
      "Segmentation MEM_SEG3D_220523 does not exist in object_67:['NUC_SEG3D_220523', 'MASK'].\n",
      "Segmentation MEM_SEG3D_220523 does not exist in object_68:['MASK', 'NUC_SEG3D_220523'].\n",
      "Segmentation MEM_SEG3D_220523 does not exist in object_81:['NUC_SEG3D_220523', 'MASK'].\n",
      "Segmentation MEM_SEG3D_220523 does not exist in object_5:['NUC_SEG3D_220523', 'MASK'].\n",
      "Segmentation MEM_SEG3D_220523 does not exist in object_37:['NUC_SEG3D_220523', 'MASK'].\n",
      "Segmentation MEM_SEG3D_220523 does not exist in object_4:['MASK', 'NUC_SEG3D_220523'].\n",
      "Segmentation MEM_SEG3D_220523 does not exist in object_78:['MASK', 'NUC_SEG3D_220523'].\n",
      "Segmentation MEM_SEG3D_220523 does not exist in object_80:['NUC_SEG3D_220523', 'MASK'].\n",
      "Segmentation MEM_SEG3D_220523 does not exist in object_60:['NUC_SEG3D_220523', 'MASK'].\n",
      "Segmentation MEM_SEG3D_220523 does not exist in object_74:['MASK', 'NUC_SEG3D_220523'].\n",
      "Segmentation MEM_SEG3D_220523 does not exist in object_54:['MASK', 'NUC_SEG3D_220523'].\n",
      "Segmentation MEM_SEG3D_220523 does not exist in object_43:['MASK', 'NUC_SEG3D_220523'].\n",
      "Segmentation MEM_SEG3D_220523 does not exist in object_79:['NUC_SEG3D_220523', 'MASK'].\n",
      "Segmentation MEM_SEG3D_220523 does not exist in object_47:['MASK', 'NUC_SEG3D_220523'].\n",
      "Segmentation MEM_SEG3D_220523 does not exist in object_55:['NUC_SEG3D_220523', 'MASK'].\n",
      "Segmentation MEM_SEG3D_220523 does not exist in object_51:['NUC_SEG3D_220523', 'MASK'].\n",
      "Segmentation MEM_SEG3D_220523 does not exist in object_15:['MASK', 'NUC_SEG3D_220523'].\n",
      "Segmentation MEM_SEG3D_220523 does not exist in object_23:['MASK', 'NUC_SEG3D_220523'].\n",
      "Segmentation MEM_SEG3D_220523 does not exist in object_70:['MASK', 'NUC_SEG3D_220523'].\n",
      "Segmentation MEM_SEG3D_220523 does not exist in object_20:['NUC_SEG3D_220523', 'MASK'].\n",
      "Segmentation MEM_SEG3D_220523 does not exist in object_40:['NUC_SEG3D_220523', 'MASK'].\n",
      "Segmentation MEM_SEG3D_220523 does not exist in object_45:['NUC_SEG3D_220523', 'MASK'].\n",
      "Segmentation MEM_SEG3D_220523 does not exist in object_72:['MASK', 'NUC_SEG3D_220523'].\n",
      "Segmentation MEM_SEG3D_220523 does not exist in object_69:['MASK', 'NUC_SEG3D_220523'].\n",
      "Segmentation MEM_SEG3D_220523 does not exist in object_19:['MASK', 'NUC_SEG3D_220523'].\n",
      "Segmentation MEM_SEG3D_220523 does not exist in object_63:['MASK', 'NUC_SEG3D_220523'].\n"
     ]
    },
    {
     "name": "stderr",
     "output_type": "stream",
     "text": [
      "Segmentation MEM_SEG3D_220523 does not exist in object_62:['MASK', 'NUC_SEG3D_220523'].\n",
      "Segmentation MEM_SEG3D_220523 does not exist in object_52:['NUC_SEG3D_220523', 'MASK'].\n",
      "Segmentation MEM_SEG3D_220523 does not exist in object_3:['NUC_SEG3D_220523', 'MASK'].\n",
      "Segmentation MEM_SEG3D_220523 does not exist in object_1:['NUC_SEG3D_220523', 'MASK'].\n",
      "Segmentation MEM_SEG3D_220523 does not exist in object_38:['MASK', 'NUC_SEG3D_220523'].\n",
      "Segmentation MEM_SEG3D_220523 does not exist in object_16:['MASK', 'NUC_SEG3D_220523'].\n",
      "Segmentation MEM_SEG3D_220523 does not exist in object_28:['NUC_SEG3D_220523', 'MASK'].\n",
      "Segmentation MEM_SEG3D_220523 does not exist in object_59:['NUC_SEG3D_220523', 'MASK'].\n",
      "Segmentation MEM_SEG3D_220523 does not exist in object_24:['MASK', 'NUC_SEG3D_220523'].\n",
      "Segmentation MEM_SEG3D_220523 does not exist in object_42:['NUC_SEG3D_220523', 'MASK'].\n",
      "Segmentation MEM_SEG3D_220523 does not exist in object_73:['MASK', 'NUC_SEG3D_220523'].\n",
      "Segmentation MEM_SEG3D_220523 does not exist in object_9:['MASK', 'NUC_SEG3D_220523'].\n",
      "Segmentation MEM_SEG3D_220523 does not exist in object_8:['NUC_SEG3D_220523', 'MASK'].\n",
      "Segmentation MEM_SEG3D_220523 does not exist in object_7:['NUC_SEG3D_220523', 'MASK'].\n",
      "Segmentation MEM_SEG3D_220523 does not exist in object_53:['NUC_SEG3D_220523', 'MASK'].\n",
      "Segmentation MEM_SEG3D_220523 does not exist in object_68:['MASK', 'NUC_SEG3D_220523'].\n",
      "Segmentation MEM_SEG3D_220523 does not exist in object_6:['NUC_SEG3D_220523', 'MASK'].\n",
      "Segmentation MEM_SEG3D_220523 does not exist in object_5:['MASK', 'NUC_SEG3D_220523'].\n",
      "Segmentation MEM_SEG3D_220523 does not exist in object_13:['NUC_SEG3D_220523', 'MASK'].\n",
      "Segmentation MEM_SEG3D_220523 does not exist in object_12:['MASK', 'NUC_SEG3D_220523'].\n",
      "Segmentation MEM_SEG3D_220523 does not exist in object_78:['NUC_SEG3D_220523', 'MASK'].\n",
      "Segmentation MEM_SEG3D_220523 does not exist in object_80:['MASK', 'NUC_SEG3D_220523'].\n",
      "Segmentation MEM_SEG3D_220523 does not exist in object_49:['NUC_SEG3D_220523', 'MASK'].\n",
      "Segmentation MEM_SEG3D_220523 does not exist in object_60:['NUC_SEG3D_220523', 'MASK'].\n",
      "Segmentation MEM_SEG3D_220523 does not exist in object_74:['MASK', 'NUC_SEG3D_220523'].\n",
      "Segmentation MEM_SEG3D_220523 does not exist in object_35:['MASK', 'NUC_SEG3D_220523'].\n",
      "Segmentation MEM_SEG3D_220523 does not exist in object_65:['NUC_SEG3D_220523', 'MASK'].\n",
      "Segmentation MEM_SEG3D_220523 does not exist in object_58:['MASK', 'NUC_SEG3D_220523'].\n",
      "Segmentation MEM_SEG3D_220523 does not exist in object_79:['MASK', 'NUC_SEG3D_220523'].\n",
      "Segmentation MEM_SEG3D_220523 does not exist in object_32:['NUC_SEG3D_220523', 'MASK'].\n",
      "Segmentation MEM_SEG3D_220523 does not exist in object_47:['NUC_SEG3D_220523', 'MASK'].\n",
      "Segmentation MEM_SEG3D_220523 does not exist in object_41:['NUC_SEG3D_220523', 'MASK'].\n",
      "Segmentation MEM_SEG3D_220523 does not exist in object_61:['NUC_SEG3D_220523', 'MASK'].\n",
      "Segmentation MEM_SEG3D_220523 does not exist in object_39:['MASK', 'NUC_SEG3D_220523'].\n",
      "Segmentation MEM_SEG3D_220523 does not exist in object_15:['NUC_SEG3D_220523', 'MASK'].\n",
      "Segmentation MEM_SEG3D_220523 does not exist in object_23:['MASK', 'NUC_SEG3D_220523'].\n",
      "Segmentation MEM_SEG3D_220523 does not exist in object_21:['MASK', 'NUC_SEG3D_220523'].\n",
      "Segmentation MEM_SEG3D_220523 does not exist in object_27:['MASK', 'NUC_SEG3D_220523'].\n",
      "Segmentation MEM_SEG3D_220523 does not exist in object_25:['MASK', 'NUC_SEG3D_220523'].\n",
      "Segmentation MEM_SEG3D_220523 does not exist in object_36:['MASK', 'NUC_SEG3D_220523'].\n",
      "Segmentation MEM_SEG3D_220523 does not exist in object_66:['NUC_SEG3D_220523', 'MASK'].\n",
      "Segmentation MEM_SEG3D_220523 does not exist in object_20:['NUC_SEG3D_220523', 'MASK'].\n",
      "Segmentation MEM_SEG3D_220523 does not exist in object_40:['MASK', 'NUC_SEG3D_220523'].\n",
      "Segmentation MEM_SEG3D_220523 does not exist in object_72:['MASK', 'NUC_SEG3D_220523'].\n",
      "Segmentation MEM_SEG3D_220523 does not exist in object_69:['NUC_SEG3D_220523', 'MASK'].\n",
      "Segmentation MEM_SEG3D_220523 does not exist in object_19:['NUC_SEG3D_220523', 'MASK'].\n",
      "Segmentation MEM_SEG3D_220523 does not exist in object_63:['NUC_SEG3D_220523', 'MASK'].\n",
      "Segmentation MEM_SEG3D_220523 does not exist in object_34:['NUC_SEG3D_220523', 'MASK'].\n",
      "Segmentation MEM_SEG3D_220523 does not exist in object_18:['MASK', 'NUC_SEG3D_220523'].\n",
      "Segmentation MEM_SEG3D_220523 does not exist in object_3:['NUC_SEG3D_220523', 'MASK'].\n",
      "Segmentation MEM_SEG3D_220523 does not exist in object_2:['MASK', 'NUC_SEG3D_220523'].\n",
      "Segmentation MEM_SEG3D_220523 does not exist in object_1:['MASK', 'NUC_SEG3D_220523'].\n",
      "Segmentation MEM_SEG3D_220523 does not exist in object_38:['MASK', 'NUC_SEG3D_220523'].\n",
      "Segmentation MEM_SEG3D_220523 does not exist in object_16:['MASK', 'NUC_SEG3D_220523'].\n",
      "Segmentation MEM_SEG3D_220523 does not exist in object_31:['MASK', 'NUC_SEG3D_220523'].\n",
      "Segmentation MEM_SEG3D_220523 does not exist in object_77:['NUC_SEG3D_220523', 'MASK'].\n",
      "Segmentation MEM_SEG3D_220523 does not exist in object_71:['MASK', 'NUC_SEG3D_220523'].\n",
      "Segmentation MEM_SEG3D_220523 does not exist in object_10:['NUC_SEG3D_220523', 'MASK'].\n",
      "Segmentation MEM_SEG3D_220523 does not exist in object_85:['NUC_SEG3D_220523', 'MASK'].\n",
      "Segmentation MEM_SEG3D_220523 does not exist in object_28:['NUC_SEG3D_220523', 'MASK'].\n",
      "Segmentation MEM_SEG3D_220523 does not exist in object_59:['NUC_SEG3D_220523', 'MASK'].\n",
      "Segmentation MEM_SEG3D_220523 does not exist in object_14:['NUC_SEG3D_220523', 'MASK'].\n",
      "Segmentation MEM_SEG3D_220523 does not exist in object_73:['MASK', 'NUC_SEG3D_220523'].\n",
      "Segmentation MEM_SEG3D_220523 does not exist in object_87:['MASK', 'NUC_SEG3D_220523'].\n",
      "Segmentation MEM_SEG3D_220523 does not exist in object_83:['NUC_SEG3D_220523', 'MASK'].\n",
      "Segmentation MEM_SEG3D_220523 does not exist in object_67:['MASK', 'NUC_SEG3D_220523'].\n",
      "Segmentation MEM_SEG3D_220523 does not exist in object_9:['NUC_SEG3D_220523', 'MASK'].\n",
      "Segmentation MEM_SEG3D_220523 does not exist in object_8:['NUC_SEG3D_220523', 'MASK'].\n",
      "Segmentation MEM_SEG3D_220523 does not exist in object_44:['NUC_SEG3D_220523', 'MASK'].\n",
      "Segmentation MEM_SEG3D_220523 does not exist in object_64:['MASK', 'NUC_SEG3D_220523'].\n",
      "Segmentation MEM_SEG3D_220523 does not exist in object_68:['NUC_SEG3D_220523', 'MASK'].\n",
      "Segmentation MEM_SEG3D_220523 does not exist in object_81:['NUC_SEG3D_220523', 'MASK'].\n",
      "Segmentation MEM_SEG3D_220523 does not exist in object_6:['MASK', 'NUC_SEG3D_220523'].\n",
      "Segmentation MEM_SEG3D_220523 does not exist in object_5:['NUC_SEG3D_220523', 'MASK'].\n",
      "Segmentation MEM_SEG3D_220523 does not exist in object_37:['NUC_SEG3D_220523', 'MASK'].\n",
      "Segmentation MEM_SEG3D_220523 does not exist in object_4:['MASK', 'NUC_SEG3D_220523'].\n",
      "Segmentation MEM_SEG3D_220523 does not exist in object_26:['MASK', 'NUC_SEG3D_220523'].\n",
      "Segmentation MEM_SEG3D_220523 does not exist in object_13:['NUC_SEG3D_220523', 'MASK'].\n",
      "Segmentation MEM_SEG3D_220523 does not exist in object_12:['MASK', 'NUC_SEG3D_220523'].\n",
      "Segmentation MEM_SEG3D_220523 does not exist in object_78:['NUC_SEG3D_220523', 'MASK'].\n",
      "Segmentation MEM_SEG3D_220523 does not exist in object_93:['MASK', 'NUC_SEG3D_220523'].\n",
      "Segmentation MEM_SEG3D_220523 does not exist in object_57:['MASK', 'NUC_SEG3D_220523'].\n",
      "Segmentation MEM_SEG3D_220523 does not exist in object_80:['MASK', 'NUC_SEG3D_220523'].\n",
      "Segmentation MEM_SEG3D_220523 does not exist in object_49:['MASK', 'NUC_SEG3D_220523'].\n",
      "Segmentation MEM_SEG3D_220523 does not exist in object_60:['MASK', 'NUC_SEG3D_220523'].\n",
      "Segmentation MEM_SEG3D_220523 does not exist in object_95:['MASK', 'NUC_SEG3D_220523'].\n",
      "Segmentation MEM_SEG3D_220523 does not exist in object_74:['MASK', 'NUC_SEG3D_220523'].\n",
      "Segmentation MEM_SEG3D_220523 does not exist in object_35:['MASK', 'NUC_SEG3D_220523'].\n",
      "Segmentation MEM_SEG3D_220523 does not exist in object_54:['MASK', 'NUC_SEG3D_220523'].\n",
      "Segmentation MEM_SEG3D_220523 does not exist in object_46:['MASK', 'NUC_SEG3D_220523'].\n",
      "Segmentation MEM_SEG3D_220523 does not exist in object_65:['MASK', 'NUC_SEG3D_220523'].\n",
      "Segmentation MEM_SEG3D_220523 does not exist in object_58:['MASK', 'NUC_SEG3D_220523'].\n",
      "Segmentation MEM_SEG3D_220523 does not exist in object_86:['NUC_SEG3D_220523', 'MASK'].\n",
      "Segmentation MEM_SEG3D_220523 does not exist in object_82:['MASK', 'NUC_SEG3D_220523'].\n"
     ]
    },
    {
     "name": "stderr",
     "output_type": "stream",
     "text": [
      "Segmentation MEM_SEG3D_220523 does not exist in object_91:['MASK', 'NUC_SEG3D_220523'].\n",
      "Segmentation MEM_SEG3D_220523 does not exist in object_17:['MASK', 'NUC_SEG3D_220523'].\n",
      "Segmentation MEM_SEG3D_220523 does not exist in object_43:['MASK', 'NUC_SEG3D_220523'].\n",
      "Segmentation MEM_SEG3D_220523 does not exist in object_79:['NUC_SEG3D_220523', 'MASK'].\n",
      "Segmentation MEM_SEG3D_220523 does not exist in object_32:['MASK', 'NUC_SEG3D_220523'].\n",
      "Segmentation MEM_SEG3D_220523 does not exist in object_11:['NUC_SEG3D_220523', 'MASK'].\n",
      "Segmentation MEM_SEG3D_220523 does not exist in object_47:['MASK', 'NUC_SEG3D_220523'].\n",
      "Segmentation MEM_SEG3D_220523 does not exist in object_55:['NUC_SEG3D_220523', 'MASK'].\n",
      "Segmentation MEM_SEG3D_220523 does not exist in object_75:['NUC_SEG3D_220523', 'MASK'].\n",
      "Segmentation MEM_SEG3D_220523 does not exist in object_41:['NUC_SEG3D_220523', 'MASK'].\n",
      "Segmentation MEM_SEG3D_220523 does not exist in object_101:['MASK', 'NUC_SEG3D_220523'].\n",
      "Segmentation MEM_SEG3D_220523 does not exist in object_33:['NUC_SEG3D_220523', 'MASK'].\n",
      "Segmentation MEM_SEG3D_220523 does not exist in object_51:['MASK', 'NUC_SEG3D_220523'].\n",
      "Segmentation MEM_SEG3D_220523 does not exist in object_61:['NUC_SEG3D_220523', 'MASK'].\n",
      "Segmentation MEM_SEG3D_220523 does not exist in object_39:['MASK', 'NUC_SEG3D_220523'].\n",
      "Segmentation MEM_SEG3D_220523 does not exist in object_89:['NUC_SEG3D_220523', 'MASK'].\n",
      "Segmentation MEM_SEG3D_220523 does not exist in object_84:['MASK', 'NUC_SEG3D_220523'].\n",
      "Segmentation MEM_SEG3D_220523 does not exist in object_98:['MASK', 'NUC_SEG3D_220523'].\n",
      "Segmentation MEM_SEG3D_220523 does not exist in object_15:['MASK', 'NUC_SEG3D_220523'].\n",
      "Segmentation MEM_SEG3D_220523 does not exist in object_23:['MASK', 'NUC_SEG3D_220523'].\n",
      "Segmentation MEM_SEG3D_220523 does not exist in object_21:['MASK', 'NUC_SEG3D_220523'].\n",
      "Segmentation MEM_SEG3D_220523 does not exist in object_27:['MASK', 'NUC_SEG3D_220523'].\n",
      "Segmentation MEM_SEG3D_220523 does not exist in object_29:['MASK', 'NUC_SEG3D_220523'].\n",
      "Segmentation MEM_SEG3D_220523 does not exist in object_70:['NUC_SEG3D_220523', 'MASK'].\n",
      "Segmentation MEM_SEG3D_220523 does not exist in object_25:['MASK', 'NUC_SEG3D_220523'].\n",
      "Segmentation MEM_SEG3D_220523 does not exist in object_36:['MASK', 'NUC_SEG3D_220523'].\n",
      "Segmentation MEM_SEG3D_220523 does not exist in object_66:['MASK', 'NUC_SEG3D_220523'].\n",
      "Segmentation MEM_SEG3D_220523 does not exist in object_20:['NUC_SEG3D_220523', 'MASK'].\n",
      "Segmentation MEM_SEG3D_220523 does not exist in object_40:['MASK', 'NUC_SEG3D_220523'].\n",
      "Segmentation MEM_SEG3D_220523 does not exist in object_45:['MASK', 'NUC_SEG3D_220523'].\n",
      "Segmentation MEM_SEG3D_220523 does not exist in object_72:['NUC_SEG3D_220523', 'MASK'].\n",
      "Segmentation MEM_SEG3D_220523 does not exist in object_69:['MASK', 'NUC_SEG3D_220523'].\n",
      "Segmentation MEM_SEG3D_220523 does not exist in object_99:['NUC_SEG3D_220523', 'MASK'].\n",
      "Segmentation MEM_SEG3D_220523 does not exist in object_90:['NUC_SEG3D_220523', 'MASK'].\n",
      "Segmentation MEM_SEG3D_220523 does not exist in object_19:['MASK', 'NUC_SEG3D_220523'].\n",
      "Segmentation MEM_SEG3D_220523 does not exist in object_63:['NUC_SEG3D_220523', 'MASK'].\n",
      "Segmentation MEM_SEG3D_220523 does not exist in object_48:['NUC_SEG3D_220523', 'MASK'].\n",
      "Segmentation MEM_SEG3D_220523 does not exist in object_34:['NUC_SEG3D_220523', 'MASK'].\n",
      "Segmentation MEM_SEG3D_220523 does not exist in object_76:['NUC_SEG3D_220523', 'MASK'].\n",
      "Segmentation MEM_SEG3D_220523 does not exist in object_62:['NUC_SEG3D_220523', 'MASK'].\n",
      "Segmentation MEM_SEG3D_220523 does not exist in object_100:['MASK', 'NUC_SEG3D_220523'].\n",
      "Segmentation MEM_SEG3D_220523 does not exist in object_52:['NUC_SEG3D_220523', 'MASK'].\n",
      "Segmentation MEM_SEG3D_220523 does not exist in object_18:['NUC_SEG3D_220523', 'MASK'].\n",
      "Segmentation MEM_SEG3D_220523 does not exist in object_3:['MASK', 'NUC_SEG3D_220523'].\n",
      "Segmentation MEM_SEG3D_220523 does not exist in object_2:['NUC_SEG3D_220523', 'MASK'].\n",
      "Segmentation MEM_SEG3D_220523 does not exist in object_50:['MASK', 'NUC_SEG3D_220523'].\n",
      "Segmentation MEM_SEG3D_220523 does not exist in object_30:['MASK', 'NUC_SEG3D_220523'].\n",
      "Segmentation MEM_SEG3D_220523 does not exist in object_1:['NUC_SEG3D_220523', 'MASK'].\n",
      "Segmentation MEM_SEG3D_220523 does not exist in object_38:['MASK', 'NUC_SEG3D_220523'].\n",
      "Segmentation MEM_SEG3D_220523 does not exist in object_16:['NUC_SEG3D_220523', 'MASK'].\n",
      "Segmentation MEM_SEG3D_220523 does not exist in object_92:['MASK', 'NUC_SEG3D_220523'].\n",
      "Segmentation MEM_SEG3D_220523 does not exist in object_56:['NUC_SEG3D_220523', 'MASK'].\n",
      "Segmentation MEM_SEG3D_220523 does not exist in object_31:['NUC_SEG3D_220523', 'MASK'].\n",
      "Segmentation MEM_SEG3D_220523 does not exist in object_77:['MASK', 'NUC_SEG3D_220523'].\n",
      "Segmentation MEM_SEG3D_220523 does not exist in object_94:['MASK', 'NUC_SEG3D_220523'].\n",
      "Segmentation MEM_SEG3D_220523 does not exist in object_88:['NUC_SEG3D_220523', 'MASK'].\n",
      "Segmentation MEM_SEG3D_220523 does not exist in object_71:['MASK', 'NUC_SEG3D_220523'].\n",
      "Segmentation MEM_SEG3D_220523 does not exist in object_10:['NUC_SEG3D_220523', 'MASK'].\n",
      "Segmentation MEM_SEG3D_220523 does not exist in object_85:['NUC_SEG3D_220523', 'MASK'].\n",
      "Segmentation MEM_SEG3D_220523 does not exist in object_28:['MASK', 'NUC_SEG3D_220523'].\n",
      "Segmentation MEM_SEG3D_220523 does not exist in object_22:['MASK', 'NUC_SEG3D_220523'].\n",
      "Segmentation MEM_SEG3D_220523 does not exist in object_59:['NUC_SEG3D_220523', 'MASK'].\n",
      "Segmentation MEM_SEG3D_220523 does not exist in object_14:['MASK', 'NUC_SEG3D_220523'].\n",
      "Segmentation MEM_SEG3D_220523 does not exist in object_96:['MASK', 'NUC_SEG3D_220523'].\n",
      "Segmentation MEM_SEG3D_220523 does not exist in object_24:['NUC_SEG3D_220523', 'MASK'].\n",
      "Segmentation MEM_SEG3D_220523 does not exist in object_42:['MASK', 'NUC_SEG3D_220523'].\n",
      "Segmentation MEM_SEG3D_220523 does not exist in object_73:['MASK', 'NUC_SEG3D_220523'].\n",
      "Segmentation MEM_SEG3D_220523 does not exist in object_87:['NUC_SEG3D_220523', 'MASK'].\n",
      "Segmentation MEM_SEG3D_220523 does not exist in object_83:['MASK', 'NUC_SEG3D_220523'].\n",
      "Segmentation MEM_SEG3D_220523 does not exist in object_67:['MASK', 'NUC_SEG3D_220523'].\n",
      "Segmentation MEM_SEG3D_220523 does not exist in object_9:['NUC_SEG3D_220523', 'MASK'].\n",
      "Segmentation MEM_SEG3D_220523 does not exist in object_8:['NUC_SEG3D_220523', 'MASK'].\n",
      "Segmentation MEM_SEG3D_220523 does not exist in object_44:['MASK', 'NUC_SEG3D_220523'].\n",
      "Segmentation MEM_SEG3D_220523 does not exist in object_7:['NUC_SEG3D_220523', 'MASK'].\n",
      "Segmentation MEM_SEG3D_220523 does not exist in object_53:['NUC_SEG3D_220523', 'MASK'].\n",
      "Segmentation MEM_SEG3D_220523 does not exist in object_64:['MASK', 'NUC_SEG3D_220523'].\n",
      "Segmentation MEM_SEG3D_220523 does not exist in object_68:['MASK', 'NUC_SEG3D_220523'].\n",
      "Segmentation MEM_SEG3D_220523 does not exist in object_81:['NUC_SEG3D_220523', 'MASK'].\n",
      "Segmentation MEM_SEG3D_220523 does not exist in object_6:['NUC_SEG3D_220523', 'MASK'].\n",
      "Segmentation MEM_SEG3D_220523 does not exist in object_5:['MASK', 'NUC_SEG3D_220523'].\n",
      "Segmentation MEM_SEG3D_220523 does not exist in object_37:['NUC_SEG3D_220523', 'MASK'].\n",
      "Segmentation MEM_SEG3D_220523 does not exist in object_4:['MASK', 'NUC_SEG3D_220523'].\n",
      "Segmentation MEM_SEG3D_220523 does not exist in object_97:['MASK', 'NUC_SEG3D_220523'].\n",
      "Segmentation MEM_SEG3D_220523 does not exist in object_26:['NUC_SEG3D_220523', 'MASK'].\n",
      "Segmentation MEM_SEG3D_220523 does not exist in object_13:['MASK', 'NUC_SEG3D_220523'].\n",
      "Segmentation MEM_SEG3D_220523 does not exist in object_12:['NUC_SEG3D_220523', 'MASK'].\n",
      "Segmentation MEM_SEG3D_220523 does not exist in object_57:['NUC_SEG3D_220523', 'MASK'].\n",
      "Segmentation MEM_SEG3D_220523 does not exist in object_54:['MASK', 'NUC_SEG3D_220523'].\n",
      "Segmentation MEM_SEG3D_220523 does not exist in object_46:['NUC_SEG3D_220523', 'MASK'].\n",
      "Segmentation MEM_SEG3D_220523 does not exist in object_65:['MASK', 'NUC_SEG3D_220523'].\n",
      "Segmentation MEM_SEG3D_220523 does not exist in object_58:['MASK', 'NUC_SEG3D_220523'].\n",
      "Segmentation MEM_SEG3D_220523 does not exist in object_17:['MASK', 'NUC_SEG3D_220523'].\n",
      "Segmentation MEM_SEG3D_220523 does not exist in object_43:['MASK', 'NUC_SEG3D_220523'].\n",
      "Segmentation MEM_SEG3D_220523 does not exist in object_32:['MASK', 'NUC_SEG3D_220523'].\n"
     ]
    },
    {
     "name": "stderr",
     "output_type": "stream",
     "text": [
      "Segmentation MEM_SEG3D_220523 does not exist in object_11:['NUC_SEG3D_220523', 'MASK'].\n",
      "Segmentation MEM_SEG3D_220523 does not exist in object_33:['MASK', 'NUC_SEG3D_220523'].\n",
      "Segmentation MEM_SEG3D_220523 does not exist in object_51:['NUC_SEG3D_220523', 'MASK'].\n",
      "Segmentation MEM_SEG3D_220523 does not exist in object_61:['MASK', 'NUC_SEG3D_220523'].\n",
      "Segmentation MEM_SEG3D_220523 does not exist in object_39:['NUC_SEG3D_220523', 'MASK'].\n",
      "Segmentation MEM_SEG3D_220523 does not exist in object_23:['NUC_SEG3D_220523', 'MASK'].\n",
      "Segmentation MEM_SEG3D_220523 does not exist in object_21:['NUC_SEG3D_220523', 'MASK'].\n",
      "Segmentation MEM_SEG3D_220523 does not exist in object_27:['NUC_SEG3D_220523', 'MASK'].\n",
      "Segmentation MEM_SEG3D_220523 does not exist in object_29:['NUC_SEG3D_220523', 'MASK'].\n",
      "Segmentation MEM_SEG3D_220523 does not exist in object_70:['MASK', 'NUC_SEG3D_220523'].\n",
      "Segmentation MEM_SEG3D_220523 does not exist in object_25:['NUC_SEG3D_220523', 'MASK'].\n",
      "Segmentation MEM_SEG3D_220523 does not exist in object_36:['NUC_SEG3D_220523', 'MASK'].\n",
      "Segmentation MEM_SEG3D_220523 does not exist in object_66:['MASK', 'NUC_SEG3D_220523'].\n",
      "Segmentation MEM_SEG3D_220523 does not exist in object_20:['NUC_SEG3D_220523', 'MASK'].\n",
      "Segmentation MEM_SEG3D_220523 does not exist in object_40:['NUC_SEG3D_220523', 'MASK'].\n",
      "Segmentation MEM_SEG3D_220523 does not exist in object_45:['MASK', 'NUC_SEG3D_220523'].\n",
      "Segmentation MEM_SEG3D_220523 does not exist in object_72:['MASK', 'NUC_SEG3D_220523'].\n",
      "Segmentation MEM_SEG3D_220523 does not exist in object_69:['NUC_SEG3D_220523', 'MASK'].\n",
      "Segmentation MEM_SEG3D_220523 does not exist in object_63:['MASK', 'NUC_SEG3D_220523'].\n",
      "Segmentation MEM_SEG3D_220523 does not exist in object_48:['NUC_SEG3D_220523', 'MASK'].\n",
      "Segmentation MEM_SEG3D_220523 does not exist in object_76:['NUC_SEG3D_220523', 'MASK'].\n",
      "Segmentation MEM_SEG3D_220523 does not exist in object_62:['NUC_SEG3D_220523', 'MASK'].\n",
      "Segmentation MEM_SEG3D_220523 does not exist in object_52:['NUC_SEG3D_220523', 'MASK'].\n",
      "Segmentation MEM_SEG3D_220523 does not exist in object_18:['NUC_SEG3D_220523', 'MASK'].\n",
      "Segmentation MEM_SEG3D_220523 does not exist in object_3:['MASK', 'NUC_SEG3D_220523'].\n",
      "Segmentation MEM_SEG3D_220523 does not exist in object_2:['MASK', 'NUC_SEG3D_220523'].\n",
      "Segmentation MEM_SEG3D_220523 does not exist in object_1:['MASK', 'NUC_SEG3D_220523'].\n",
      "Segmentation MEM_SEG3D_220523 does not exist in object_38:['MASK', 'NUC_SEG3D_220523'].\n",
      "Segmentation MEM_SEG3D_220523 does not exist in object_16:['NUC_SEG3D_220523', 'MASK'].\n",
      "Segmentation MEM_SEG3D_220523 does not exist in object_56:['NUC_SEG3D_220523', 'MASK'].\n",
      "Segmentation MEM_SEG3D_220523 does not exist in object_31:['MASK', 'NUC_SEG3D_220523'].\n",
      "Segmentation MEM_SEG3D_220523 does not exist in object_10:['MASK', 'NUC_SEG3D_220523'].\n",
      "Segmentation MEM_SEG3D_220523 does not exist in object_28:['MASK', 'NUC_SEG3D_220523'].\n",
      "Segmentation MEM_SEG3D_220523 does not exist in object_22:['MASK', 'NUC_SEG3D_220523'].\n",
      "/tungstenfs/scratch/gliberal/Code/user-code/repinico/Python/venvs/miniconda3/envs/featX3D/lib/python3.9/site-packages/numpy/core/_methods.py:262: RuntimeWarning: Degrees of freedom <= 0 for slice\n",
      "  ret = _var(a, axis=axis, dtype=dtype, out=out, ddof=ddof,\n",
      "/tungstenfs/scratch/gliberal/Code/user-code/repinico/Python/venvs/miniconda3/envs/featX3D/lib/python3.9/site-packages/numpy/core/_methods.py:254: RuntimeWarning: invalid value encountered in double_scalars\n",
      "  ret = ret.dtype.type(ret / rcount)\n",
      "/tungstenfs/scratch/gliberal/Code/user-code/repinico/Python/venvs/miniconda3/envs/featX3D/lib/python3.9/site-packages/numpy/core/_methods.py:262: RuntimeWarning: Degrees of freedom <= 0 for slice\n",
      "  ret = _var(a, axis=axis, dtype=dtype, out=out, ddof=ddof,\n",
      "/tungstenfs/scratch/gliberal/Code/user-code/repinico/Python/venvs/miniconda3/envs/featX3D/lib/python3.9/site-packages/numpy/core/_methods.py:254: RuntimeWarning: invalid value encountered in double_scalars\n",
      "  ret = ret.dtype.type(ret / rcount)\n",
      "/tungstenfs/scratch/gliberal/Code/user-code/repinico/Python/venvs/miniconda3/envs/featX3D/lib/python3.9/site-packages/numpy/core/_methods.py:262: RuntimeWarning: Degrees of freedom <= 0 for slice\n",
      "  ret = _var(a, axis=axis, dtype=dtype, out=out, ddof=ddof,\n",
      "/tungstenfs/scratch/gliberal/Code/user-code/repinico/Python/venvs/miniconda3/envs/featX3D/lib/python3.9/site-packages/numpy/core/_methods.py:254: RuntimeWarning: invalid value encountered in double_scalars\n",
      "  ret = ret.dtype.type(ret / rcount)\n",
      "/tungstenfs/scratch/gliberal/Code/user-code/repinico/Python/venvs/miniconda3/envs/featX3D/lib/python3.9/site-packages/numpy/core/_methods.py:262: RuntimeWarning: Degrees of freedom <= 0 for slice\n",
      "  ret = _var(a, axis=axis, dtype=dtype, out=out, ddof=ddof,\n",
      "/tungstenfs/scratch/gliberal/Code/user-code/repinico/Python/venvs/miniconda3/envs/featX3D/lib/python3.9/site-packages/numpy/core/_methods.py:254: RuntimeWarning: invalid value encountered in double_scalars\n",
      "  ret = ret.dtype.type(ret / rcount)\n",
      "Segmentation MEM_SEG3D_220523 does not exist in object_59:['NUC_SEG3D_220523', 'MASK'].\n",
      "Segmentation MEM_SEG3D_220523 does not exist in object_14:['NUC_SEG3D_220523', 'MASK'].\n",
      "Segmentation MEM_SEG3D_220523 does not exist in object_24:['NUC_SEG3D_220523', 'MASK'].\n",
      "Segmentation MEM_SEG3D_220523 does not exist in object_42:['MASK', 'NUC_SEG3D_220523'].\n",
      "Segmentation MEM_SEG3D_220523 does not exist in object_73:['NUC_SEG3D_220523', 'MASK'].\n",
      "Segmentation MEM_SEG3D_220523 does not exist in object_67:['NUC_SEG3D_220523', 'MASK'].\n",
      "Segmentation MEM_SEG3D_220523 does not exist in object_8:['MASK', 'NUC_SEG3D_220523'].\n",
      "Segmentation MEM_SEG3D_220523 does not exist in object_44:['NUC_SEG3D_220523', 'MASK'].\n",
      "Segmentation MEM_SEG3D_220523 does not exist in object_53:['NUC_SEG3D_220523', 'MASK'].\n",
      "Segmentation MEM_SEG3D_220523 does not exist in object_64:['MASK', 'NUC_SEG3D_220523'].\n",
      "Segmentation MEM_SEG3D_220523 does not exist in object_37:['NUC_SEG3D_220523', 'MASK'].\n",
      "Segmentation MEM_SEG3D_220523 does not exist in object_4:['MASK', 'NUC_SEG3D_220523'].\n",
      "Segmentation MEM_SEG3D_220523 does not exist in object_26:['MASK', 'NUC_SEG3D_220523'].\n",
      "Segmentation MEM_SEG3D_220523 does not exist in object_13:['MASK', 'NUC_SEG3D_220523'].\n",
      "Segmentation MEM_SEG3D_220523 does not exist in object_12:['MASK', 'NUC_SEG3D_220523'].\n",
      "Segmentation MEM_SEG3D_220523 does not exist in object_78:['MASK', 'NUC_SEG3D_220523'].\n",
      "Segmentation MEM_SEG3D_220523 does not exist in object_93:['MASK', 'NUC_SEG3D_220523'].\n",
      "Segmentation MEM_SEG3D_220523 does not exist in object_80:['NUC_SEG3D_220523', 'MASK'].\n",
      "Segmentation MEM_SEG3D_220523 does not exist in object_60:['NUC_SEG3D_220523', 'MASK'].\n",
      "Segmentation MEM_SEG3D_220523 does not exist in object_95:['MASK', 'NUC_SEG3D_220523'].\n",
      "Segmentation MEM_SEG3D_220523 does not exist in object_54:['MASK', 'NUC_SEG3D_220523'].\n",
      "Segmentation MEM_SEG3D_220523 does not exist in object_65:['MASK', 'NUC_SEG3D_220523'].\n",
      "Segmentation MEM_SEG3D_220523 does not exist in object_58:['NUC_SEG3D_220523', 'MASK'].\n",
      "Segmentation MEM_SEG3D_220523 does not exist in object_91:['NUC_SEG3D_220523', 'MASK'].\n",
      "Segmentation MEM_SEG3D_220523 does not exist in object_11:['MASK', 'NUC_SEG3D_220523'].\n",
      "Segmentation MEM_SEG3D_220523 does not exist in object_41:['MASK', 'NUC_SEG3D_220523'].\n",
      "Segmentation MEM_SEG3D_220523 does not exist in object_33:['MASK', 'NUC_SEG3D_220523'].\n",
      "Segmentation MEM_SEG3D_220523 does not exist in object_39:['NUC_SEG3D_220523', 'MASK'].\n",
      "Segmentation MEM_SEG3D_220523 does not exist in object_89:['NUC_SEG3D_220523', 'MASK'].\n",
      "Segmentation MEM_SEG3D_220523 does not exist in object_98:['NUC_SEG3D_220523', 'MASK'].\n",
      "Segmentation MEM_SEG3D_220523 does not exist in object_23:['MASK', 'NUC_SEG3D_220523'].\n",
      "Segmentation MEM_SEG3D_220523 does not exist in object_21:['MASK', 'NUC_SEG3D_220523'].\n",
      "Segmentation MEM_SEG3D_220523 does not exist in object_70:['MASK', 'NUC_SEG3D_220523'].\n",
      "Segmentation MEM_SEG3D_220523 does not exist in object_36:['NUC_SEG3D_220523', 'MASK'].\n",
      "Segmentation MEM_SEG3D_220523 does not exist in object_40:['NUC_SEG3D_220523', 'MASK'].\n",
      "Segmentation MEM_SEG3D_220523 does not exist in object_69:['MASK', 'NUC_SEG3D_220523'].\n",
      "Segmentation MEM_SEG3D_220523 does not exist in object_99:['MASK', 'NUC_SEG3D_220523'].\n"
     ]
    },
    {
     "name": "stderr",
     "output_type": "stream",
     "text": [
      "Segmentation MEM_SEG3D_220523 does not exist in object_90:['NUC_SEG3D_220523', 'MASK'].\n",
      "Segmentation MEM_SEG3D_220523 does not exist in object_63:['MASK', 'NUC_SEG3D_220523'].\n",
      "Segmentation MEM_SEG3D_220523 does not exist in object_48:['MASK', 'NUC_SEG3D_220523'].\n",
      "Segmentation MEM_SEG3D_220523 does not exist in object_34:['MASK', 'NUC_SEG3D_220523'].\n",
      "Segmentation MEM_SEG3D_220523 does not exist in object_52:['NUC_SEG3D_220523', 'MASK'].\n",
      "Segmentation MEM_SEG3D_220523 does not exist in object_18:['NUC_SEG3D_220523', 'MASK'].\n",
      "Segmentation MEM_SEG3D_220523 does not exist in object_3:['NUC_SEG3D_220523', 'MASK'].\n",
      "Segmentation MEM_SEG3D_220523 does not exist in object_30:['NUC_SEG3D_220523', 'MASK'].\n",
      "Segmentation MEM_SEG3D_220523 does not exist in object_1:['NUC_SEG3D_220523', 'MASK'].\n",
      "Segmentation MEM_SEG3D_220523 does not exist in object_38:['MASK', 'NUC_SEG3D_220523'].\n",
      "Segmentation MEM_SEG3D_220523 does not exist in object_92:['NUC_SEG3D_220523', 'MASK'].\n",
      "Segmentation MEM_SEG3D_220523 does not exist in object_56:['NUC_SEG3D_220523', 'MASK'].\n",
      "Segmentation MEM_SEG3D_220523 does not exist in object_31:['NUC_SEG3D_220523', 'MASK'].\n",
      "Segmentation MEM_SEG3D_220523 does not exist in object_77:['MASK', 'NUC_SEG3D_220523'].\n",
      "Segmentation MEM_SEG3D_220523 does not exist in object_88:['NUC_SEG3D_220523', 'MASK'].\n",
      "Segmentation MEM_SEG3D_220523 does not exist in object_71:['NUC_SEG3D_220523', 'MASK'].\n",
      "Segmentation MEM_SEG3D_220523 does not exist in object_10:['MASK', 'NUC_SEG3D_220523'].\n",
      "Segmentation MEM_SEG3D_220523 does not exist in object_85:['NUC_SEG3D_220523', 'MASK'].\n",
      "Segmentation MEM_SEG3D_220523 does not exist in object_59:['NUC_SEG3D_220523', 'MASK'].\n",
      "Segmentation MEM_SEG3D_220523 does not exist in object_96:['NUC_SEG3D_220523', 'MASK'].\n",
      "Segmentation MEM_SEG3D_220523 does not exist in object_24:['MASK', 'NUC_SEG3D_220523'].\n",
      "Segmentation MEM_SEG3D_220523 does not exist in object_73:['MASK', 'NUC_SEG3D_220523'].\n",
      "Segmentation MEM_SEG3D_220523 does not exist in object_87:['MASK', 'NUC_SEG3D_220523'].\n",
      "Segmentation MEM_SEG3D_220523 does not exist in object_83:['MASK', 'NUC_SEG3D_220523'].\n",
      "Segmentation MEM_SEG3D_220523 does not exist in object_8:['NUC_SEG3D_220523', 'MASK'].\n",
      "Segmentation MEM_SEG3D_220523 does not exist in object_44:['MASK', 'NUC_SEG3D_220523'].\n",
      "Segmentation MEM_SEG3D_220523 does not exist in object_81:['NUC_SEG3D_220523', 'MASK'].\n",
      "Segmentation MEM_SEG3D_220523 does not exist in object_5:['MASK', 'NUC_SEG3D_220523'].\n",
      "Segmentation MEM_SEG3D_220523 does not exist in object_37:['NUC_SEG3D_220523', 'MASK'].\n",
      "Segmentation MEM_SEG3D_220523 does not exist in object_26:['MASK', 'NUC_SEG3D_220523'].\n",
      "Segmentation MEM_SEG3D_220523 does not exist in object_13:['NUC_SEG3D_220523', 'MASK'].\n",
      "Segmentation MEM_SEG3D_220523 does not exist in object_57:['NUC_SEG3D_220523', 'MASK'].\n",
      "Segmentation MEM_SEG3D_220523 does not exist in object_80:['MASK', 'NUC_SEG3D_220523'].\n",
      "Segmentation MEM_SEG3D_220523 does not exist in object_49:['NUC_SEG3D_220523', 'MASK'].\n",
      "Segmentation MEM_SEG3D_220523 does not exist in object_60:['NUC_SEG3D_220523', 'MASK'].\n",
      "Segmentation MEM_SEG3D_220523 does not exist in object_74:['MASK', 'NUC_SEG3D_220523'].\n",
      "Segmentation MEM_SEG3D_220523 does not exist in object_35:['MASK', 'NUC_SEG3D_220523'].\n",
      "Segmentation MEM_SEG3D_220523 does not exist in object_46:['NUC_SEG3D_220523', 'MASK'].\n",
      "Segmentation MEM_SEG3D_220523 does not exist in object_65:['NUC_SEG3D_220523', 'MASK'].\n",
      "Segmentation MEM_SEG3D_220523 does not exist in object_58:['MASK', 'NUC_SEG3D_220523'].\n",
      "Segmentation MEM_SEG3D_220523 does not exist in object_82:['MASK', 'NUC_SEG3D_220523'].\n",
      "Segmentation MEM_SEG3D_220523 does not exist in object_17:['NUC_SEG3D_220523', 'MASK'].\n",
      "Segmentation MEM_SEG3D_220523 does not exist in object_43:['NUC_SEG3D_220523', 'MASK'].\n",
      "Segmentation MEM_SEG3D_220523 does not exist in object_79:['MASK', 'NUC_SEG3D_220523'].\n",
      "Segmentation MEM_SEG3D_220523 does not exist in object_32:['NUC_SEG3D_220523', 'MASK'].\n",
      "Segmentation MEM_SEG3D_220523 does not exist in object_47:['NUC_SEG3D_220523', 'MASK'].\n",
      "Segmentation MEM_SEG3D_220523 does not exist in object_55:['NUC_SEG3D_220523', 'MASK'].\n",
      "Segmentation MEM_SEG3D_220523 does not exist in object_41:['NUC_SEG3D_220523', 'MASK'].\n",
      "Segmentation MEM_SEG3D_220523 does not exist in object_33:['NUC_SEG3D_220523', 'MASK'].\n",
      "Segmentation MEM_SEG3D_220523 does not exist in object_51:['MASK', 'NUC_SEG3D_220523'].\n",
      "Segmentation MEM_SEG3D_220523 does not exist in object_61:['NUC_SEG3D_220523', 'MASK'].\n",
      "Segmentation MEM_SEG3D_220523 does not exist in object_39:['MASK', 'NUC_SEG3D_220523'].\n",
      "Segmentation MEM_SEG3D_220523 does not exist in object_15:['NUC_SEG3D_220523', 'MASK'].\n",
      "Segmentation MEM_SEG3D_220523 does not exist in object_23:['MASK', 'NUC_SEG3D_220523'].\n",
      "Segmentation MEM_SEG3D_220523 does not exist in object_21:['MASK', 'NUC_SEG3D_220523'].\n",
      "Segmentation MEM_SEG3D_220523 does not exist in object_27:['MASK', 'NUC_SEG3D_220523'].\n",
      "Segmentation MEM_SEG3D_220523 does not exist in object_70:['MASK', 'NUC_SEG3D_220523'].\n",
      "Segmentation MEM_SEG3D_220523 does not exist in object_25:['MASK', 'NUC_SEG3D_220523'].\n",
      "Segmentation MEM_SEG3D_220523 does not exist in object_20:['NUC_SEG3D_220523', 'MASK'].\n",
      "Segmentation MEM_SEG3D_220523 does not exist in object_40:['MASK', 'NUC_SEG3D_220523'].\n",
      "Segmentation MEM_SEG3D_220523 does not exist in object_45:['NUC_SEG3D_220523', 'MASK'].\n",
      "Segmentation MEM_SEG3D_220523 does not exist in object_19:['NUC_SEG3D_220523', 'MASK'].\n",
      "Segmentation MEM_SEG3D_220523 does not exist in object_63:['NUC_SEG3D_220523', 'MASK'].\n",
      "Segmentation MEM_SEG3D_220523 does not exist in object_48:['MASK', 'NUC_SEG3D_220523'].\n",
      "Segmentation MEM_SEG3D_220523 does not exist in object_76:['MASK', 'NUC_SEG3D_220523'].\n",
      "Segmentation MEM_SEG3D_220523 does not exist in object_62:['MASK', 'NUC_SEG3D_220523'].\n",
      "Segmentation MEM_SEG3D_220523 does not exist in object_52:['MASK', 'NUC_SEG3D_220523'].\n",
      "Segmentation MEM_SEG3D_220523 does not exist in object_18:['MASK', 'NUC_SEG3D_220523'].\n",
      "Segmentation MEM_SEG3D_220523 does not exist in object_1:['MASK', 'NUC_SEG3D_220523'].\n",
      "Segmentation MEM_SEG3D_220523 does not exist in object_16:['MASK', 'NUC_SEG3D_220523'].\n",
      "Segmentation MEM_SEG3D_220523 does not exist in object_71:['MASK', 'NUC_SEG3D_220523'].\n",
      "Segmentation MEM_SEG3D_220523 does not exist in object_22:['MASK', 'NUC_SEG3D_220523'].\n",
      "Segmentation MEM_SEG3D_220523 does not exist in object_59:['NUC_SEG3D_220523', 'MASK'].\n",
      "Segmentation MEM_SEG3D_220523 does not exist in object_14:['NUC_SEG3D_220523', 'MASK'].\n",
      "Segmentation MEM_SEG3D_220523 does not exist in object_24:['MASK', 'NUC_SEG3D_220523'].\n",
      "Segmentation MEM_SEG3D_220523 does not exist in object_73:['MASK', 'NUC_SEG3D_220523'].\n",
      "Segmentation MEM_SEG3D_220523 does not exist in object_83:['NUC_SEG3D_220523', 'MASK'].\n",
      "Segmentation MEM_SEG3D_220523 does not exist in object_67:['MASK', 'NUC_SEG3D_220523'].\n",
      "Segmentation MEM_SEG3D_220523 does not exist in object_44:['NUC_SEG3D_220523', 'MASK'].\n",
      "Segmentation MEM_SEG3D_220523 does not exist in object_64:['MASK', 'NUC_SEG3D_220523'].\n",
      "Segmentation MEM_SEG3D_220523 does not exist in object_6:['MASK', 'NUC_SEG3D_220523'].\n",
      "Segmentation MEM_SEG3D_220523 does not exist in object_26:['MASK', 'NUC_SEG3D_220523'].\n",
      "Segmentation MEM_SEG3D_220523 does not exist in object_13:['NUC_SEG3D_220523', 'MASK'].\n",
      "Segmentation MEM_SEG3D_220523 does not exist in object_12:['MASK', 'NUC_SEG3D_220523'].\n",
      "Segmentation MEM_SEG3D_220523 does not exist in object_78:['NUC_SEG3D_220523', 'MASK'].\n",
      "Segmentation MEM_SEG3D_220523 does not exist in object_57:['MASK', 'NUC_SEG3D_220523'].\n",
      "Segmentation MEM_SEG3D_220523 does not exist in object_80:['MASK', 'NUC_SEG3D_220523'].\n",
      "Segmentation MEM_SEG3D_220523 does not exist in object_49:['MASK', 'NUC_SEG3D_220523'].\n",
      "Segmentation MEM_SEG3D_220523 does not exist in object_60:['MASK', 'NUC_SEG3D_220523'].\n",
      "Segmentation MEM_SEG3D_220523 does not exist in object_35:['MASK', 'NUC_SEG3D_220523'].\n",
      "Segmentation MEM_SEG3D_220523 does not exist in object_54:['MASK', 'NUC_SEG3D_220523'].\n",
      "Segmentation MEM_SEG3D_220523 does not exist in object_46:['MASK', 'NUC_SEG3D_220523'].\n",
      "Segmentation MEM_SEG3D_220523 does not exist in object_65:['MASK', 'NUC_SEG3D_220523'].\n",
      "Segmentation MEM_SEG3D_220523 does not exist in object_58:['MASK', 'NUC_SEG3D_220523'].\n"
     ]
    },
    {
     "name": "stderr",
     "output_type": "stream",
     "text": [
      "Segmentation MEM_SEG3D_220523 does not exist in object_17:['MASK', 'NUC_SEG3D_220523'].\n",
      "Segmentation MEM_SEG3D_220523 does not exist in object_43:['MASK', 'NUC_SEG3D_220523'].\n",
      "Segmentation MEM_SEG3D_220523 does not exist in object_79:['NUC_SEG3D_220523', 'MASK'].\n",
      "Segmentation MEM_SEG3D_220523 does not exist in object_47:['MASK', 'NUC_SEG3D_220523'].\n",
      "Segmentation MEM_SEG3D_220523 does not exist in object_55:['NUC_SEG3D_220523', 'MASK'].\n",
      "Segmentation MEM_SEG3D_220523 does not exist in object_75:['NUC_SEG3D_220523', 'MASK'].\n",
      "Segmentation MEM_SEG3D_220523 does not exist in object_41:['NUC_SEG3D_220523', 'MASK'].\n",
      "Segmentation MEM_SEG3D_220523 does not exist in object_33:['NUC_SEG3D_220523', 'MASK'].\n",
      "Segmentation MEM_SEG3D_220523 does not exist in object_51:['MASK', 'NUC_SEG3D_220523'].\n",
      "Segmentation MEM_SEG3D_220523 does not exist in object_61:['NUC_SEG3D_220523', 'MASK'].\n",
      "Segmentation MEM_SEG3D_220523 does not exist in object_39:['MASK', 'NUC_SEG3D_220523'].\n",
      "Segmentation MEM_SEG3D_220523 does not exist in object_84:['MASK', 'NUC_SEG3D_220523'].\n",
      "Segmentation MEM_SEG3D_220523 does not exist in object_23:['MASK', 'NUC_SEG3D_220523'].\n",
      "Segmentation MEM_SEG3D_220523 does not exist in object_27:['MASK', 'NUC_SEG3D_220523'].\n",
      "Segmentation MEM_SEG3D_220523 does not exist in object_29:['MASK', 'NUC_SEG3D_220523'].\n",
      "Segmentation MEM_SEG3D_220523 does not exist in object_70:['NUC_SEG3D_220523', 'MASK'].\n",
      "Segmentation MEM_SEG3D_220523 does not exist in object_25:['MASK', 'NUC_SEG3D_220523'].\n",
      "Segmentation MEM_SEG3D_220523 does not exist in object_36:['MASK', 'NUC_SEG3D_220523'].\n",
      "Segmentation MEM_SEG3D_220523 does not exist in object_66:['MASK', 'NUC_SEG3D_220523'].\n",
      "Segmentation MEM_SEG3D_220523 does not exist in object_20:['NUC_SEG3D_220523', 'MASK'].\n",
      "Segmentation MEM_SEG3D_220523 does not exist in object_40:['MASK', 'NUC_SEG3D_220523'].\n",
      "Segmentation MEM_SEG3D_220523 does not exist in object_45:['MASK', 'NUC_SEG3D_220523'].\n",
      "Segmentation MEM_SEG3D_220523 does not exist in object_72:['NUC_SEG3D_220523', 'MASK'].\n",
      "Segmentation MEM_SEG3D_220523 does not exist in object_69:['MASK', 'NUC_SEG3D_220523'].\n",
      "Segmentation MEM_SEG3D_220523 does not exist in object_19:['MASK', 'NUC_SEG3D_220523'].\n",
      "Segmentation MEM_SEG3D_220523 does not exist in object_63:['NUC_SEG3D_220523', 'MASK'].\n",
      "Segmentation MEM_SEG3D_220523 does not exist in object_48:['NUC_SEG3D_220523', 'MASK'].\n",
      "Segmentation MEM_SEG3D_220523 does not exist in object_34:['NUC_SEG3D_220523', 'MASK'].\n",
      "Segmentation MEM_SEG3D_220523 does not exist in object_76:['NUC_SEG3D_220523', 'MASK'].\n",
      "Segmentation MEM_SEG3D_220523 does not exist in object_62:['NUC_SEG3D_220523', 'MASK'].\n",
      "Segmentation MEM_SEG3D_220523 does not exist in object_52:['NUC_SEG3D_220523', 'MASK'].\n",
      "Segmentation MEM_SEG3D_220523 does not exist in object_18:['NUC_SEG3D_220523', 'MASK'].\n",
      "Segmentation MEM_SEG3D_220523 does not exist in object_3:['MASK', 'NUC_SEG3D_220523'].\n",
      "Segmentation MEM_SEG3D_220523 does not exist in object_2:['NUC_SEG3D_220523', 'MASK'].\n",
      "Segmentation MEM_SEG3D_220523 does not exist in object_50:['MASK', 'NUC_SEG3D_220523'].\n",
      "Segmentation MEM_SEG3D_220523 does not exist in object_30:['MASK', 'NUC_SEG3D_220523'].\n",
      "Segmentation MEM_SEG3D_220523 does not exist in object_1:['NUC_SEG3D_220523', 'MASK'].\n",
      "Segmentation MEM_SEG3D_220523 does not exist in object_38:['MASK', 'NUC_SEG3D_220523'].\n",
      "Segmentation MEM_SEG3D_220523 does not exist in object_16:['NUC_SEG3D_220523', 'MASK'].\n",
      "Segmentation MEM_SEG3D_220523 does not exist in object_56:['NUC_SEG3D_220523', 'MASK'].\n",
      "Segmentation MEM_SEG3D_220523 does not exist in object_31:['NUC_SEG3D_220523', 'MASK'].\n",
      "Segmentation MEM_SEG3D_220523 does not exist in object_71:['MASK', 'NUC_SEG3D_220523'].\n",
      "Segmentation MEM_SEG3D_220523 does not exist in object_10:['NUC_SEG3D_220523', 'MASK'].\n",
      "Segmentation MEM_SEG3D_220523 does not exist in object_22:['MASK', 'NUC_SEG3D_220523'].\n",
      "Segmentation MEM_SEG3D_220523 does not exist in object_59:['NUC_SEG3D_220523', 'MASK'].\n",
      "Segmentation MEM_SEG3D_220523 does not exist in object_14:['MASK', 'NUC_SEG3D_220523'].\n",
      "Segmentation MEM_SEG3D_220523 does not exist in object_24:['NUC_SEG3D_220523', 'MASK'].\n",
      "Segmentation MEM_SEG3D_220523 does not exist in object_73:['MASK', 'NUC_SEG3D_220523'].\n",
      "Segmentation MEM_SEG3D_220523 does not exist in object_67:['MASK', 'NUC_SEG3D_220523'].\n",
      "Segmentation MEM_SEG3D_220523 does not exist in object_9:['NUC_SEG3D_220523', 'MASK'].\n",
      "Segmentation MEM_SEG3D_220523 does not exist in object_8:['NUC_SEG3D_220523', 'MASK'].\n",
      "Segmentation MEM_SEG3D_220523 does not exist in object_44:['MASK', 'NUC_SEG3D_220523'].\n",
      "Segmentation MEM_SEG3D_220523 does not exist in object_7:['NUC_SEG3D_220523', 'MASK'].\n",
      "Segmentation MEM_SEG3D_220523 does not exist in object_53:['NUC_SEG3D_220523', 'MASK'].\n",
      "Segmentation MEM_SEG3D_220523 does not exist in object_64:['MASK', 'NUC_SEG3D_220523'].\n",
      "Segmentation MEM_SEG3D_220523 does not exist in object_68:['MASK', 'NUC_SEG3D_220523'].\n",
      "Segmentation MEM_SEG3D_220523 does not exist in object_81:['NUC_SEG3D_220523', 'MASK'].\n",
      "Segmentation MEM_SEG3D_220523 does not exist in object_6:['NUC_SEG3D_220523', 'MASK'].\n",
      "Segmentation MEM_SEG3D_220523 does not exist in object_4:['MASK', 'NUC_SEG3D_220523'].\n",
      "Segmentation MEM_SEG3D_220523 does not exist in object_26:['NUC_SEG3D_220523', 'MASK'].\n",
      "Segmentation MEM_SEG3D_220523 does not exist in object_13:['MASK', 'NUC_SEG3D_220523'].\n",
      "Segmentation MEM_SEG3D_220523 does not exist in object_12:['NUC_SEG3D_220523', 'MASK'].\n",
      "Segmentation MEM_SEG3D_220523 does not exist in object_57:['NUC_SEG3D_220523', 'MASK'].\n",
      "Segmentation MEM_SEG3D_220523 does not exist in object_80:['NUC_SEG3D_220523', 'MASK'].\n",
      "Segmentation MEM_SEG3D_220523 does not exist in object_49:['MASK', 'NUC_SEG3D_220523'].\n",
      "Segmentation MEM_SEG3D_220523 does not exist in object_60:['NUC_SEG3D_220523', 'MASK'].\n",
      "Segmentation MEM_SEG3D_220523 does not exist in object_74:['MASK', 'NUC_SEG3D_220523'].\n",
      "Segmentation MEM_SEG3D_220523 does not exist in object_35:['MASK', 'NUC_SEG3D_220523'].\n",
      "Segmentation MEM_SEG3D_220523 does not exist in object_54:['MASK', 'NUC_SEG3D_220523'].\n",
      "Segmentation MEM_SEG3D_220523 does not exist in object_46:['NUC_SEG3D_220523', 'MASK'].\n",
      "Segmentation MEM_SEG3D_220523 does not exist in object_58:['MASK', 'NUC_SEG3D_220523'].\n",
      "Segmentation MEM_SEG3D_220523 does not exist in object_82:['MASK', 'NUC_SEG3D_220523'].\n",
      "Segmentation MEM_SEG3D_220523 does not exist in object_43:['MASK', 'NUC_SEG3D_220523'].\n",
      "Segmentation MEM_SEG3D_220523 does not exist in object_79:['MASK', 'NUC_SEG3D_220523'].\n",
      "Segmentation MEM_SEG3D_220523 does not exist in object_32:['MASK', 'NUC_SEG3D_220523'].\n",
      "Segmentation MEM_SEG3D_220523 does not exist in object_11:['NUC_SEG3D_220523', 'MASK'].\n",
      "Segmentation MEM_SEG3D_220523 does not exist in object_75:['NUC_SEG3D_220523', 'MASK'].\n",
      "Segmentation MEM_SEG3D_220523 does not exist in object_41:['MASK', 'NUC_SEG3D_220523'].\n",
      "Segmentation MEM_SEG3D_220523 does not exist in object_51:['NUC_SEG3D_220523', 'MASK'].\n",
      "Segmentation MEM_SEG3D_220523 does not exist in object_61:['MASK', 'NUC_SEG3D_220523'].\n",
      "Segmentation MEM_SEG3D_220523 does not exist in object_39:['NUC_SEG3D_220523', 'MASK'].\n",
      "Segmentation MEM_SEG3D_220523 does not exist in object_84:['MASK', 'NUC_SEG3D_220523'].\n",
      "Segmentation MEM_SEG3D_220523 does not exist in object_23:['NUC_SEG3D_220523', 'MASK'].\n",
      "Segmentation MEM_SEG3D_220523 does not exist in object_21:['NUC_SEG3D_220523', 'MASK'].\n",
      "Segmentation MEM_SEG3D_220523 does not exist in object_27:['NUC_SEG3D_220523', 'MASK'].\n",
      "Segmentation MEM_SEG3D_220523 does not exist in object_29:['NUC_SEG3D_220523', 'MASK'].\n",
      "Segmentation MEM_SEG3D_220523 does not exist in object_70:['MASK', 'NUC_SEG3D_220523'].\n",
      "Segmentation MEM_SEG3D_220523 does not exist in object_25:['NUC_SEG3D_220523', 'MASK'].\n",
      "Segmentation MEM_SEG3D_220523 does not exist in object_36:['NUC_SEG3D_220523', 'MASK'].\n",
      "Segmentation MEM_SEG3D_220523 does not exist in object_66:['MASK', 'NUC_SEG3D_220523'].\n",
      "Segmentation MEM_SEG3D_220523 does not exist in object_40:['NUC_SEG3D_220523', 'MASK'].\n",
      "Segmentation MEM_SEG3D_220523 does not exist in object_45:['MASK', 'NUC_SEG3D_220523'].\n",
      "Segmentation MEM_SEG3D_220523 does not exist in object_72:['MASK', 'NUC_SEG3D_220523'].\n",
      "Segmentation MEM_SEG3D_220523 does not exist in object_69:['NUC_SEG3D_220523', 'MASK'].\n"
     ]
    },
    {
     "name": "stderr",
     "output_type": "stream",
     "text": [
      "Segmentation MEM_SEG3D_220523 does not exist in object_19:['NUC_SEG3D_220523', 'MASK'].\n",
      "Segmentation MEM_SEG3D_220523 does not exist in object_63:['MASK', 'NUC_SEG3D_220523'].\n",
      "Segmentation MEM_SEG3D_220523 does not exist in object_48:['NUC_SEG3D_220523', 'MASK'].\n",
      "Segmentation MEM_SEG3D_220523 does not exist in object_34:['MASK', 'NUC_SEG3D_220523'].\n",
      "Segmentation MEM_SEG3D_220523 does not exist in object_76:['NUC_SEG3D_220523', 'MASK'].\n",
      "Segmentation MEM_SEG3D_220523 does not exist in object_52:['NUC_SEG3D_220523', 'MASK'].\n",
      "Segmentation MEM_SEG3D_220523 does not exist in object_18:['NUC_SEG3D_220523', 'MASK'].\n",
      "Segmentation MEM_SEG3D_220523 does not exist in object_2:['MASK', 'NUC_SEG3D_220523'].\n",
      "Segmentation MEM_SEG3D_220523 does not exist in object_50:['MASK', 'NUC_SEG3D_220523'].\n",
      "Segmentation MEM_SEG3D_220523 does not exist in object_30:['MASK', 'NUC_SEG3D_220523'].\n",
      "Segmentation MEM_SEG3D_220523 does not exist in object_1:['MASK', 'NUC_SEG3D_220523'].\n",
      "Segmentation MEM_SEG3D_220523 does not exist in object_38:['MASK', 'NUC_SEG3D_220523'].\n",
      "Segmentation MEM_SEG3D_220523 does not exist in object_16:['NUC_SEG3D_220523', 'MASK'].\n",
      "Segmentation MEM_SEG3D_220523 does not exist in object_56:['NUC_SEG3D_220523', 'MASK'].\n",
      "Segmentation MEM_SEG3D_220523 does not exist in object_31:['MASK', 'NUC_SEG3D_220523'].\n",
      "Segmentation MEM_SEG3D_220523 does not exist in object_71:['NUC_SEG3D_220523', 'MASK'].\n",
      "Segmentation MEM_SEG3D_220523 does not exist in object_10:['MASK', 'NUC_SEG3D_220523'].\n",
      "Segmentation MEM_SEG3D_220523 does not exist in object_85:['NUC_SEG3D_220523', 'MASK'].\n",
      "Segmentation MEM_SEG3D_220523 does not exist in object_28:['MASK', 'NUC_SEG3D_220523'].\n",
      "Segmentation MEM_SEG3D_220523 does not exist in object_22:['MASK', 'NUC_SEG3D_220523'].\n",
      "Segmentation MEM_SEG3D_220523 does not exist in object_59:['NUC_SEG3D_220523', 'MASK'].\n",
      "Segmentation MEM_SEG3D_220523 does not exist in object_14:['NUC_SEG3D_220523', 'MASK'].\n",
      "Segmentation MEM_SEG3D_220523 does not exist in object_24:['NUC_SEG3D_220523', 'MASK'].\n",
      "Segmentation MEM_SEG3D_220523 does not exist in object_42:['MASK', 'NUC_SEG3D_220523'].\n",
      "Segmentation MEM_SEG3D_220523 does not exist in object_73:['NUC_SEG3D_220523', 'MASK'].\n",
      "Segmentation MEM_SEG3D_220523 does not exist in object_83:['MASK', 'NUC_SEG3D_220523'].\n",
      "Segmentation MEM_SEG3D_220523 does not exist in object_67:['NUC_SEG3D_220523', 'MASK'].\n",
      "Segmentation MEM_SEG3D_220523 does not exist in object_9:['MASK', 'NUC_SEG3D_220523'].\n",
      "Segmentation MEM_SEG3D_220523 does not exist in object_8:['MASK', 'NUC_SEG3D_220523'].\n",
      "Segmentation MEM_SEG3D_220523 does not exist in object_44:['NUC_SEG3D_220523', 'MASK'].\n",
      "Segmentation MEM_SEG3D_220523 does not exist in object_7:['NUC_SEG3D_220523', 'MASK'].\n",
      "Segmentation MEM_SEG3D_220523 does not exist in object_53:['NUC_SEG3D_220523', 'MASK'].\n",
      "Segmentation MEM_SEG3D_220523 does not exist in object_64:['MASK', 'NUC_SEG3D_220523'].\n",
      "Segmentation MEM_SEG3D_220523 does not exist in object_68:['MASK', 'NUC_SEG3D_220523'].\n",
      "Segmentation MEM_SEG3D_220523 does not exist in object_81:['NUC_SEG3D_220523', 'MASK'].\n",
      "Segmentation MEM_SEG3D_220523 does not exist in object_6:['MASK', 'NUC_SEG3D_220523'].\n",
      "Segmentation MEM_SEG3D_220523 does not exist in object_5:['NUC_SEG3D_220523', 'MASK'].\n",
      "Segmentation MEM_SEG3D_220523 does not exist in object_4:['MASK', 'NUC_SEG3D_220523'].\n",
      "Segmentation MEM_SEG3D_220523 does not exist in object_26:['MASK', 'NUC_SEG3D_220523'].\n",
      "Segmentation MEM_SEG3D_220523 does not exist in object_12:['MASK', 'NUC_SEG3D_220523'].\n",
      "Segmentation MEM_SEG3D_220523 does not exist in object_93:['MASK', 'NUC_SEG3D_220523'].\n",
      "Segmentation MEM_SEG3D_220523 does not exist in object_57:['NUC_SEG3D_220523', 'MASK'].\n",
      "Segmentation MEM_SEG3D_220523 does not exist in object_60:['NUC_SEG3D_220523', 'MASK'].\n",
      "Segmentation MEM_SEG3D_220523 does not exist in object_95:['MASK', 'NUC_SEG3D_220523'].\n",
      "Segmentation MEM_SEG3D_220523 does not exist in object_74:['MASK', 'NUC_SEG3D_220523'].\n",
      "Segmentation MEM_SEG3D_220523 does not exist in object_54:['MASK', 'NUC_SEG3D_220523'].\n",
      "Segmentation MEM_SEG3D_220523 does not exist in object_58:['NUC_SEG3D_220523', 'MASK'].\n",
      "Segmentation MEM_SEG3D_220523 does not exist in object_86:['MASK', 'NUC_SEG3D_220523'].\n",
      "Segmentation MEM_SEG3D_220523 does not exist in object_82:['MASK', 'NUC_SEG3D_220523'].\n",
      "Segmentation MEM_SEG3D_220523 does not exist in object_91:['NUC_SEG3D_220523', 'MASK'].\n",
      "Segmentation MEM_SEG3D_220523 does not exist in object_43:['MASK', 'NUC_SEG3D_220523'].\n",
      "Segmentation MEM_SEG3D_220523 does not exist in object_79:['NUC_SEG3D_220523', 'MASK'].\n",
      "Segmentation MEM_SEG3D_220523 does not exist in object_32:['NUC_SEG3D_220523', 'MASK'].\n",
      "Segmentation MEM_SEG3D_220523 does not exist in object_11:['MASK', 'NUC_SEG3D_220523'].\n",
      "Segmentation MEM_SEG3D_220523 does not exist in object_47:['MASK', 'NUC_SEG3D_220523'].\n",
      "Segmentation MEM_SEG3D_220523 does not exist in object_75:['MASK', 'NUC_SEG3D_220523'].\n",
      "Segmentation MEM_SEG3D_220523 does not exist in object_41:['MASK', 'NUC_SEG3D_220523'].\n",
      "Segmentation MEM_SEG3D_220523 does not exist in object_33:['MASK', 'NUC_SEG3D_220523'].\n",
      "Segmentation MEM_SEG3D_220523 does not exist in object_61:['NUC_SEG3D_220523', 'MASK'].\n",
      "Segmentation MEM_SEG3D_220523 does not exist in object_39:['NUC_SEG3D_220523', 'MASK'].\n",
      "Segmentation MEM_SEG3D_220523 does not exist in object_89:['NUC_SEG3D_220523', 'MASK'].\n",
      "Segmentation MEM_SEG3D_220523 does not exist in object_84:['NUC_SEG3D_220523', 'MASK'].\n",
      "Segmentation MEM_SEG3D_220523 does not exist in object_15:['MASK', 'NUC_SEG3D_220523'].\n",
      "Segmentation MEM_SEG3D_220523 does not exist in object_23:['MASK', 'NUC_SEG3D_220523'].\n",
      "Segmentation MEM_SEG3D_220523 does not exist in object_70:['MASK', 'NUC_SEG3D_220523'].\n",
      "Segmentation MEM_SEG3D_220523 does not exist in object_36:['NUC_SEG3D_220523', 'MASK'].\n",
      "Segmentation MEM_SEG3D_220523 does not exist in object_66:['NUC_SEG3D_220523', 'MASK'].\n",
      "Segmentation MEM_SEG3D_220523 does not exist in object_20:['NUC_SEG3D_220523', 'MASK'].\n",
      "Segmentation MEM_SEG3D_220523 does not exist in object_40:['NUC_SEG3D_220523', 'MASK'].\n",
      "Segmentation MEM_SEG3D_220523 does not exist in object_45:['NUC_SEG3D_220523', 'MASK'].\n",
      "Segmentation MEM_SEG3D_220523 does not exist in object_69:['MASK', 'NUC_SEG3D_220523'].\n",
      "Segmentation MEM_SEG3D_220523 does not exist in object_99:['MASK', 'NUC_SEG3D_220523'].\n",
      "Segmentation MEM_SEG3D_220523 does not exist in object_63:['MASK', 'NUC_SEG3D_220523'].\n",
      "Segmentation MEM_SEG3D_220523 does not exist in object_48:['MASK', 'NUC_SEG3D_220523'].\n",
      "Segmentation MEM_SEG3D_220523 does not exist in object_100:['NUC_SEG3D_220523', 'MASK'].\n",
      "Segmentation MEM_SEG3D_220523 does not exist in object_52:['NUC_SEG3D_220523', 'MASK'].\n",
      "Segmentation MEM_SEG3D_220523 does not exist in object_3:['NUC_SEG3D_220523', 'MASK'].\n",
      "Segmentation MEM_SEG3D_220523 does not exist in object_1:['NUC_SEG3D_220523', 'MASK'].\n",
      "Segmentation MEM_SEG3D_220523 does not exist in object_16:['MASK', 'NUC_SEG3D_220523'].\n",
      "Segmentation MEM_SEG3D_220523 does not exist in object_92:['NUC_SEG3D_220523', 'MASK'].\n",
      "Segmentation MEM_SEG3D_220523 does not exist in object_56:['NUC_SEG3D_220523', 'MASK'].\n",
      "Segmentation MEM_SEG3D_220523 does not exist in object_77:['MASK', 'NUC_SEG3D_220523'].\n",
      "Segmentation MEM_SEG3D_220523 does not exist in object_94:['MASK', 'NUC_SEG3D_220523'].\n",
      "Segmentation MEM_SEG3D_220523 does not exist in object_88:['NUC_SEG3D_220523', 'MASK'].\n",
      "Segmentation MEM_SEG3D_220523 does not exist in object_71:['NUC_SEG3D_220523', 'MASK'].\n",
      "Segmentation MEM_SEG3D_220523 does not exist in object_10:['MASK', 'NUC_SEG3D_220523'].\n",
      "Segmentation MEM_SEG3D_220523 does not exist in object_85:['NUC_SEG3D_220523', 'MASK'].\n",
      "Segmentation MEM_SEG3D_220523 does not exist in object_28:['NUC_SEG3D_220523', 'MASK'].\n",
      "Segmentation MEM_SEG3D_220523 does not exist in object_59:['NUC_SEG3D_220523', 'MASK'].\n",
      "Segmentation MEM_SEG3D_220523 does not exist in object_14:['MASK', 'NUC_SEG3D_220523'].\n",
      "Segmentation MEM_SEG3D_220523 does not exist in object_96:['NUC_SEG3D_220523', 'MASK'].\n",
      "Segmentation MEM_SEG3D_220523 does not exist in object_42:['NUC_SEG3D_220523', 'MASK'].\n",
      "Segmentation MEM_SEG3D_220523 does not exist in object_73:['MASK', 'NUC_SEG3D_220523'].\n",
      "Segmentation MEM_SEG3D_220523 does not exist in object_87:['MASK', 'NUC_SEG3D_220523'].\n"
     ]
    },
    {
     "name": "stderr",
     "output_type": "stream",
     "text": [
      "Segmentation MEM_SEG3D_220523 does not exist in object_9:['MASK', 'NUC_SEG3D_220523'].\n",
      "Segmentation MEM_SEG3D_220523 does not exist in object_8:['NUC_SEG3D_220523', 'MASK'].\n",
      "Segmentation MEM_SEG3D_220523 does not exist in object_44:['MASK', 'NUC_SEG3D_220523'].\n",
      "Segmentation MEM_SEG3D_220523 does not exist in object_7:['NUC_SEG3D_220523', 'MASK'].\n",
      "Segmentation MEM_SEG3D_220523 does not exist in object_53:['NUC_SEG3D_220523', 'MASK'].\n",
      "Segmentation MEM_SEG3D_220523 does not exist in object_68:['MASK', 'NUC_SEG3D_220523'].\n",
      "Segmentation MEM_SEG3D_220523 does not exist in object_81:['NUC_SEG3D_220523', 'MASK'].\n",
      "Segmentation MEM_SEG3D_220523 does not exist in object_6:['NUC_SEG3D_220523', 'MASK'].\n",
      "Segmentation MEM_SEG3D_220523 does not exist in object_37:['NUC_SEG3D_220523', 'MASK'].\n",
      "Segmentation MEM_SEG3D_220523 does not exist in object_4:['MASK', 'NUC_SEG3D_220523'].\n",
      "Segmentation MEM_SEG3D_220523 does not exist in object_97:['MASK', 'NUC_SEG3D_220523'].\n",
      "Segmentation MEM_SEG3D_220523 does not exist in object_13:['NUC_SEG3D_220523', 'MASK'].\n",
      "Segmentation MEM_SEG3D_220523 does not exist in object_78:['NUC_SEG3D_220523', 'MASK'].\n",
      "Segmentation MEM_SEG3D_220523 does not exist in object_57:['NUC_SEG3D_220523', 'MASK'].\n",
      "Segmentation MEM_SEG3D_220523 does not exist in object_80:['MASK', 'NUC_SEG3D_220523'].\n",
      "Segmentation MEM_SEG3D_220523 does not exist in object_49:['NUC_SEG3D_220523', 'MASK'].\n",
      "Segmentation MEM_SEG3D_220523 does not exist in object_60:['NUC_SEG3D_220523', 'MASK'].\n",
      "Segmentation MEM_SEG3D_220523 does not exist in object_74:['MASK', 'NUC_SEG3D_220523'].\n",
      "Segmentation MEM_SEG3D_220523 does not exist in object_35:['MASK', 'NUC_SEG3D_220523'].\n",
      "Segmentation MEM_SEG3D_220523 does not exist in object_54:['NUC_SEG3D_220523', 'MASK'].\n",
      "Segmentation MEM_SEG3D_220523 does not exist in object_46:['NUC_SEG3D_220523', 'MASK'].\n",
      "Segmentation MEM_SEG3D_220523 does not exist in object_58:['MASK', 'NUC_SEG3D_220523'].\n",
      "Segmentation MEM_SEG3D_220523 does not exist in object_17:['NUC_SEG3D_220523', 'MASK'].\n",
      "Segmentation MEM_SEG3D_220523 does not exist in object_32:['NUC_SEG3D_220523', 'MASK'].\n",
      "Segmentation MEM_SEG3D_220523 does not exist in object_11:['MASK', 'NUC_SEG3D_220523'].\n",
      "Segmentation MEM_SEG3D_220523 does not exist in object_47:['NUC_SEG3D_220523', 'MASK'].\n",
      "Segmentation MEM_SEG3D_220523 does not exist in object_55:['NUC_SEG3D_220523', 'MASK'].\n",
      "Segmentation MEM_SEG3D_220523 does not exist in object_75:['NUC_SEG3D_220523', 'MASK'].\n",
      "Segmentation MEM_SEG3D_220523 does not exist in object_41:['NUC_SEG3D_220523', 'MASK'].\n",
      "Segmentation MEM_SEG3D_220523 does not exist in object_33:['NUC_SEG3D_220523', 'MASK'].\n",
      "Segmentation MEM_SEG3D_220523 does not exist in object_51:['MASK', 'NUC_SEG3D_220523'].\n",
      "Segmentation MEM_SEG3D_220523 does not exist in object_61:['NUC_SEG3D_220523', 'MASK'].\n",
      "Segmentation MEM_SEG3D_220523 does not exist in object_39:['MASK', 'NUC_SEG3D_220523'].\n",
      "Segmentation MEM_SEG3D_220523 does not exist in object_15:['NUC_SEG3D_220523', 'MASK'].\n",
      "Segmentation MEM_SEG3D_220523 does not exist in object_23:['MASK', 'NUC_SEG3D_220523'].\n",
      "Segmentation MEM_SEG3D_220523 does not exist in object_21:['MASK', 'NUC_SEG3D_220523'].\n",
      "Segmentation MEM_SEG3D_220523 does not exist in object_27:['MASK', 'NUC_SEG3D_220523'].\n",
      "Segmentation MEM_SEG3D_220523 does not exist in object_29:['NUC_SEG3D_220523', 'MASK'].\n",
      "Segmentation MEM_SEG3D_220523 does not exist in object_70:['MASK', 'NUC_SEG3D_220523'].\n",
      "Segmentation MEM_SEG3D_220523 does not exist in object_25:['MASK', 'NUC_SEG3D_220523'].\n",
      "Segmentation MEM_SEG3D_220523 does not exist in object_36:['MASK', 'NUC_SEG3D_220523'].\n",
      "Segmentation MEM_SEG3D_220523 does not exist in object_66:['NUC_SEG3D_220523', 'MASK'].\n",
      "Segmentation MEM_SEG3D_220523 does not exist in object_20:['NUC_SEG3D_220523', 'MASK'].\n",
      "Segmentation MEM_SEG3D_220523 does not exist in object_40:['MASK', 'NUC_SEG3D_220523'].\n",
      "Segmentation MEM_SEG3D_220523 does not exist in object_69:['NUC_SEG3D_220523', 'MASK'].\n",
      "Segmentation MEM_SEG3D_220523 does not exist in object_63:['NUC_SEG3D_220523', 'MASK'].\n",
      "Segmentation MEM_SEG3D_220523 does not exist in object_48:['MASK', 'NUC_SEG3D_220523'].\n",
      "Segmentation MEM_SEG3D_220523 does not exist in object_34:['NUC_SEG3D_220523', 'MASK'].\n",
      "Segmentation MEM_SEG3D_220523 does not exist in object_76:['MASK', 'NUC_SEG3D_220523'].\n",
      "Segmentation MEM_SEG3D_220523 does not exist in object_62:['MASK', 'NUC_SEG3D_220523'].\n",
      "Segmentation MEM_SEG3D_220523 does not exist in object_52:['MASK', 'NUC_SEG3D_220523'].\n",
      "Segmentation MEM_SEG3D_220523 does not exist in object_3:['NUC_SEG3D_220523', 'MASK'].\n",
      "Segmentation MEM_SEG3D_220523 does not exist in object_2:['MASK', 'NUC_SEG3D_220523'].\n",
      "Segmentation MEM_SEG3D_220523 does not exist in object_50:['MASK', 'NUC_SEG3D_220523'].\n",
      "Segmentation MEM_SEG3D_220523 does not exist in object_38:['MASK', 'NUC_SEG3D_220523'].\n",
      "Segmentation MEM_SEG3D_220523 does not exist in object_16:['MASK', 'NUC_SEG3D_220523'].\n",
      "Segmentation MEM_SEG3D_220523 does not exist in object_56:['NUC_SEG3D_220523', 'MASK'].\n",
      "Segmentation MEM_SEG3D_220523 does not exist in object_31:['MASK', 'NUC_SEG3D_220523'].\n",
      "Segmentation MEM_SEG3D_220523 does not exist in object_77:['NUC_SEG3D_220523', 'MASK'].\n",
      "Segmentation MEM_SEG3D_220523 does not exist in object_71:['MASK', 'NUC_SEG3D_220523'].\n",
      "Segmentation MEM_SEG3D_220523 does not exist in object_10:['NUC_SEG3D_220523', 'MASK'].\n",
      "Segmentation MEM_SEG3D_220523 does not exist in object_28:['NUC_SEG3D_220523', 'MASK'].\n",
      "Segmentation MEM_SEG3D_220523 does not exist in object_22:['MASK', 'NUC_SEG3D_220523'].\n",
      "Segmentation MEM_SEG3D_220523 does not exist in object_59:['NUC_SEG3D_220523', 'MASK'].\n",
      "Segmentation MEM_SEG3D_220523 does not exist in object_24:['MASK', 'NUC_SEG3D_220523'].\n",
      "Segmentation MEM_SEG3D_220523 does not exist in object_42:['MASK', 'NUC_SEG3D_220523'].\n",
      "Segmentation MEM_SEG3D_220523 does not exist in object_73:['MASK', 'NUC_SEG3D_220523'].\n",
      "Segmentation MEM_SEG3D_220523 does not exist in object_83:['NUC_SEG3D_220523', 'MASK'].\n",
      "Segmentation MEM_SEG3D_220523 does not exist in object_67:['MASK', 'NUC_SEG3D_220523'].\n",
      "Segmentation MEM_SEG3D_220523 does not exist in object_8:['NUC_SEG3D_220523', 'MASK'].\n",
      "Segmentation MEM_SEG3D_220523 does not exist in object_44:['NUC_SEG3D_220523', 'MASK'].\n",
      "Segmentation MEM_SEG3D_220523 does not exist in object_7:['NUC_SEG3D_220523', 'MASK'].\n",
      "Segmentation MEM_SEG3D_220523 does not exist in object_53:['NUC_SEG3D_220523', 'MASK'].\n",
      "Segmentation MEM_SEG3D_220523 does not exist in object_64:['MASK', 'NUC_SEG3D_220523'].\n",
      "Segmentation MEM_SEG3D_220523 does not exist in object_68:['NUC_SEG3D_220523', 'MASK'].\n",
      "Segmentation MEM_SEG3D_220523 does not exist in object_5:['NUC_SEG3D_220523', 'MASK'].\n",
      "Segmentation MEM_SEG3D_220523 does not exist in object_37:['NUC_SEG3D_220523', 'MASK'].\n",
      "Segmentation MEM_SEG3D_220523 does not exist in object_4:['MASK', 'NUC_SEG3D_220523'].\n",
      "Segmentation MEM_SEG3D_220523 does not exist in object_26:['MASK', 'NUC_SEG3D_220523'].\n",
      "Segmentation MEM_SEG3D_220523 does not exist in object_13:['NUC_SEG3D_220523', 'MASK'].\n",
      "Segmentation MEM_SEG3D_220523 does not exist in object_12:['MASK', 'NUC_SEG3D_220523'].\n",
      "Segmentation MEM_SEG3D_220523 does not exist in object_57:['MASK', 'NUC_SEG3D_220523'].\n",
      "Segmentation MEM_SEG3D_220523 does not exist in object_60:['MASK', 'NUC_SEG3D_220523'].\n",
      "Segmentation MEM_SEG3D_220523 does not exist in object_35:['MASK', 'NUC_SEG3D_220523'].\n",
      "Segmentation MEM_SEG3D_220523 does not exist in object_54:['MASK', 'NUC_SEG3D_220523'].\n",
      "Segmentation MEM_SEG3D_220523 does not exist in object_46:['MASK', 'NUC_SEG3D_220523'].\n",
      "Segmentation MEM_SEG3D_220523 does not exist in object_65:['MASK', 'NUC_SEG3D_220523'].\n",
      "Segmentation MEM_SEG3D_220523 does not exist in object_58:['MASK', 'NUC_SEG3D_220523'].\n",
      "Segmentation MEM_SEG3D_220523 does not exist in object_17:['MASK', 'NUC_SEG3D_220523'].\n",
      "Segmentation MEM_SEG3D_220523 does not exist in object_43:['MASK', 'NUC_SEG3D_220523'].\n",
      "Segmentation MEM_SEG3D_220523 does not exist in object_11:['NUC_SEG3D_220523', 'MASK'].\n",
      "Segmentation MEM_SEG3D_220523 does not exist in object_47:['MASK', 'NUC_SEG3D_220523'].\n",
      "Segmentation MEM_SEG3D_220523 does not exist in object_55:['NUC_SEG3D_220523', 'MASK'].\n",
      "Segmentation MEM_SEG3D_220523 does not exist in object_33:['NUC_SEG3D_220523', 'MASK'].\n"
     ]
    },
    {
     "name": "stderr",
     "output_type": "stream",
     "text": [
      "Segmentation MEM_SEG3D_220523 does not exist in object_51:['MASK', 'NUC_SEG3D_220523'].\n",
      "Segmentation MEM_SEG3D_220523 does not exist in object_61:['NUC_SEG3D_220523', 'MASK'].\n",
      "Segmentation MEM_SEG3D_220523 does not exist in object_39:['MASK', 'NUC_SEG3D_220523'].\n",
      "/tungstenfs/scratch/gliberal/Code/user-code/repinico/Python/venvs/miniconda3/envs/featX3D/lib/python3.9/site-packages/numpy/core/_methods.py:262: RuntimeWarning: Degrees of freedom <= 0 for slice\n",
      "  ret = _var(a, axis=axis, dtype=dtype, out=out, ddof=ddof,\n",
      "/tungstenfs/scratch/gliberal/Code/user-code/repinico/Python/venvs/miniconda3/envs/featX3D/lib/python3.9/site-packages/numpy/core/_methods.py:254: RuntimeWarning: invalid value encountered in double_scalars\n",
      "  ret = ret.dtype.type(ret / rcount)\n",
      "/tungstenfs/scratch/gliberal/Code/user-code/repinico/Python/venvs/miniconda3/envs/featX3D/lib/python3.9/site-packages/numpy/core/_methods.py:262: RuntimeWarning: Degrees of freedom <= 0 for slice\n",
      "  ret = _var(a, axis=axis, dtype=dtype, out=out, ddof=ddof,\n",
      "/tungstenfs/scratch/gliberal/Code/user-code/repinico/Python/venvs/miniconda3/envs/featX3D/lib/python3.9/site-packages/numpy/core/_methods.py:254: RuntimeWarning: invalid value encountered in double_scalars\n",
      "  ret = ret.dtype.type(ret / rcount)\n",
      "/tungstenfs/scratch/gliberal/Code/user-code/repinico/Python/venvs/miniconda3/envs/featX3D/lib/python3.9/site-packages/numpy/core/_methods.py:262: RuntimeWarning: Degrees of freedom <= 0 for slice\n",
      "  ret = _var(a, axis=axis, dtype=dtype, out=out, ddof=ddof,\n",
      "/tungstenfs/scratch/gliberal/Code/user-code/repinico/Python/venvs/miniconda3/envs/featX3D/lib/python3.9/site-packages/numpy/core/_methods.py:254: RuntimeWarning: invalid value encountered in double_scalars\n",
      "  ret = ret.dtype.type(ret / rcount)\n",
      "/tungstenfs/scratch/gliberal/Code/user-code/repinico/Python/venvs/miniconda3/envs/featX3D/lib/python3.9/site-packages/numpy/core/_methods.py:262: RuntimeWarning: Degrees of freedom <= 0 for slice\n",
      "  ret = _var(a, axis=axis, dtype=dtype, out=out, ddof=ddof,\n",
      "/tungstenfs/scratch/gliberal/Code/user-code/repinico/Python/venvs/miniconda3/envs/featX3D/lib/python3.9/site-packages/numpy/core/_methods.py:254: RuntimeWarning: invalid value encountered in double_scalars\n",
      "  ret = ret.dtype.type(ret / rcount)\n",
      "Segmentation MEM_SEG3D_220523 does not exist in object_15:['MASK', 'NUC_SEG3D_220523'].\n",
      "Segmentation MEM_SEG3D_220523 does not exist in object_21:['MASK', 'NUC_SEG3D_220523'].\n",
      "Segmentation MEM_SEG3D_220523 does not exist in object_27:['MASK', 'NUC_SEG3D_220523'].\n",
      "Segmentation MEM_SEG3D_220523 does not exist in object_29:['MASK', 'NUC_SEG3D_220523'].\n",
      "Segmentation MEM_SEG3D_220523 does not exist in object_70:['NUC_SEG3D_220523', 'MASK'].\n",
      "Segmentation MEM_SEG3D_220523 does not exist in object_25:['MASK', 'NUC_SEG3D_220523'].\n",
      "Segmentation MEM_SEG3D_220523 does not exist in object_36:['MASK', 'NUC_SEG3D_220523'].\n",
      "Segmentation MEM_SEG3D_220523 does not exist in object_66:['MASK', 'NUC_SEG3D_220523'].\n",
      "Segmentation MEM_SEG3D_220523 does not exist in object_20:['NUC_SEG3D_220523', 'MASK'].\n",
      "Segmentation MEM_SEG3D_220523 does not exist in object_40:['MASK', 'NUC_SEG3D_220523'].\n",
      "Segmentation MEM_SEG3D_220523 does not exist in object_45:['MASK', 'NUC_SEG3D_220523'].\n",
      "Segmentation MEM_SEG3D_220523 does not exist in object_72:['NUC_SEG3D_220523', 'MASK'].\n",
      "Segmentation MEM_SEG3D_220523 does not exist in object_69:['MASK', 'NUC_SEG3D_220523'].\n",
      "Segmentation MEM_SEG3D_220523 does not exist in object_19:['MASK', 'NUC_SEG3D_220523'].\n",
      "Segmentation MEM_SEG3D_220523 does not exist in object_63:['NUC_SEG3D_220523', 'MASK'].\n",
      "Segmentation MEM_SEG3D_220523 does not exist in object_76:['NUC_SEG3D_220523', 'MASK'].\n",
      "Segmentation MEM_SEG3D_220523 does not exist in object_62:['NUC_SEG3D_220523', 'MASK'].\n",
      "Segmentation MEM_SEG3D_220523 does not exist in object_18:['NUC_SEG3D_220523', 'MASK'].\n",
      "Segmentation MEM_SEG3D_220523 does not exist in object_2:['NUC_SEG3D_220523', 'MASK'].\n",
      "Segmentation MEM_SEG3D_220523 does not exist in object_50:['MASK', 'NUC_SEG3D_220523'].\n",
      "Segmentation MEM_SEG3D_220523 does not exist in object_30:['MASK', 'NUC_SEG3D_220523'].\n",
      "Segmentation MEM_SEG3D_220523 does not exist in object_16:['NUC_SEG3D_220523', 'MASK'].\n",
      "Segmentation MEM_SEG3D_220523 does not exist in object_31:['NUC_SEG3D_220523', 'MASK'].\n",
      "Segmentation MEM_SEG3D_220523 does not exist in object_71:['MASK', 'NUC_SEG3D_220523'].\n",
      "Segmentation MEM_SEG3D_220523 does not exist in object_10:['NUC_SEG3D_220523', 'MASK'].\n",
      "Segmentation MEM_SEG3D_220523 does not exist in object_28:['MASK', 'NUC_SEG3D_220523'].\n",
      "Segmentation MEM_SEG3D_220523 does not exist in object_22:['MASK', 'NUC_SEG3D_220523'].\n",
      "Segmentation MEM_SEG3D_220523 does not exist in object_59:['NUC_SEG3D_220523', 'MASK'].\n",
      "Segmentation MEM_SEG3D_220523 does not exist in object_24:['NUC_SEG3D_220523', 'MASK'].\n",
      "Segmentation MEM_SEG3D_220523 does not exist in object_42:['MASK', 'NUC_SEG3D_220523'].\n",
      "Segmentation MEM_SEG3D_220523 does not exist in object_9:['NUC_SEG3D_220523', 'MASK'].\n",
      "Segmentation MEM_SEG3D_220523 does not exist in object_8:['NUC_SEG3D_220523', 'MASK'].\n",
      "Segmentation MEM_SEG3D_220523 does not exist in object_44:['MASK', 'NUC_SEG3D_220523'].\n",
      "Segmentation MEM_SEG3D_220523 does not exist in object_7:['NUC_SEG3D_220523', 'MASK'].\n",
      "Segmentation MEM_SEG3D_220523 does not exist in object_64:['MASK', 'NUC_SEG3D_220523'].\n",
      "Segmentation MEM_SEG3D_220523 does not exist in object_68:['MASK', 'NUC_SEG3D_220523'].\n",
      "Segmentation MEM_SEG3D_220523 does not exist in object_5:['MASK', 'NUC_SEG3D_220523'].\n",
      "Segmentation MEM_SEG3D_220523 does not exist in object_37:['NUC_SEG3D_220523', 'MASK'].\n",
      "Segmentation MEM_SEG3D_220523 does not exist in object_4:['MASK', 'NUC_SEG3D_220523'].\n",
      "Segmentation MEM_SEG3D_220523 does not exist in object_26:['NUC_SEG3D_220523', 'MASK'].\n"
     ]
    }
   ],
   "source": [
    "# Set the experiment to iterate over all organoids. This is the default.\n",
    "# After iterating over it the iterator has to be reset.\n",
    "exp.only_iterate_over_wells(False)\n",
    "exp.reset_iterator()\n",
    "\n",
    "for organoid in exp:\n",
    "    # Load the segmentation file.\n",
    "    nuc_seg = organoid.get_segmentation(nuc_ending) #load segmentation images\n",
    "    mem_seg = organoid.get_segmentation(mem_ending) #load segmentation images\n",
    "    org_seg = organoid.get_segmentation(mask_ending)\n",
    "    # Only continue data loading if the segmentation exists.\n",
    "    if org_seg is None:\n",
    "        continue #skip organoids that don't have a mask (this will never happen)\n",
    "    \n",
    "    if organoid.well.plate.plate_id in [\"day4p5\"]: \n",
    "        continue #skip these timepoints\n",
    "        \n",
    "    #for each raw image, extract organoid-level features\n",
    "    for channel in organoid.raw_files:\n",
    "        # Load raw data.\n",
    "        raw = organoid.get_raw_data(channel) #this is the raw image\n",
    "        \n",
    "        #create organoid MIP\n",
    "        raw_mip = np.zeros(org_seg.shape) #initialize array to dimensions of mask image\n",
    "        for plane in raw:\n",
    "            raw_mip = np.maximum(raw_mip,plane)\n",
    "\n",
    "        # organoid feature extraction\n",
    "        df_org = pd.DataFrame()\n",
    "        org_features = regionprops(org_seg, raw_mip, extra_properties=(quartiles,skewness,kurtos,stdv))\n",
    "        abs_min_intensity = np.amin(raw_mip)\n",
    "        #voxel_area = organoid.spacings[channel][1] * organoid.spacings[channel][2] #calculate voxel area in um2 (x*y)\n",
    "\n",
    "        for obj in org_features:\n",
    "            box_area = obj['area']/(org_seg.shape[0]*org_seg.shape[1]) #for filtering of wrong segmentations\n",
    "            circularity = (4*math.pi*(obj['area']/(math.pow(obj['perimeter'],2))))\n",
    "\n",
    "            row = {\n",
    "                'hcs_experiment':organoid.well.plate.experiment.name,\n",
    "                'root_dir':organoid.well.plate.experiment.root_dir,\n",
    "                'plate_id': organoid.well.plate.plate_id,\n",
    "                'well_id':organoid.well.well_id,\n",
    "                'channel_id':channel,\n",
    "                'object_type':'organoid',\n",
    "                'organoid_id':organoid.organoid_id,\n",
    "                'org_label':organoid.organoid_id.rpartition(\"_\")[2],\n",
    "                'segmentation_org': organoid.segmentations[mask_ending],\n",
    "                'intensity_img': organoid.raw_files[channel],\n",
    "                'x_pos_pix':obj['centroid'][1],\n",
    "                'y_pos_pix':obj['centroid'][0],\n",
    "                'x_pos_weighted_pix':obj['weighted_centroid'][1],\n",
    "                'y_pos_weighted_pix':obj['weighted_centroid'][0],\n",
    "                'x_massDisp_pix':obj['weighted_centroid'][1] - obj['centroid'][1],\n",
    "                'y_massDisp_pix':obj['weighted_centroid'][0] - obj['centroid'][0],\n",
    "                'mean_intensityMIP':obj['mean_intensity'],\n",
    "                'max_intensity':obj['max_intensity'],\n",
    "                'min_intensity':obj['min_intensity'],\n",
    "                'abs_min':abs_min_intensity,\n",
    "                'area_pix':obj['area'],\n",
    "#                 'area_um2':obj['area'] * voxel_area,\n",
    "                'eccentricity':obj['eccentricity'],\n",
    "                'majorAxisLength':obj['major_axis_length'],\n",
    "                'minorAxisLength':obj['minor_axis_length'],\n",
    "                'axisRatio':obj['minor_axis_length']/obj['major_axis_length'],\n",
    "                'eulerNumber': obj['euler_number'],           #for filtering wrong segmentations\n",
    "                'objectBoxRatio': box_area,                      #for filtering wrong segmentations\n",
    "                'perimeter':obj['perimeter'],\n",
    "                'circularity': circularity,\n",
    "                'quartile25': obj['quartiles'][0],\n",
    "                'quartile50': obj['quartiles'][1],\n",
    "                'quartile75': obj['quartiles'][2],\n",
    "                'quartile90': obj['quartiles'][3],\n",
    "                'quartile95': obj['quartiles'][4],\n",
    "                'quartile99': obj['quartiles'][5],\n",
    "                'stdev': obj['stdv'],\n",
    "                'skew': obj['skewness'],\n",
    "                'kurtosis': obj['kurtos']\n",
    "            }\n",
    "            \n",
    "            df_org = pd.concat([df_org, pd.DataFrame.from_records([row])], ignore_index=True)\n",
    "            #df_org = df_org.append(row,ignore_index=True)\n",
    "            \n",
    "        # Save measurement into the organoid directory.\n",
    "        name = \"regionprops_org_\" + str(channel)\n",
    "        path = join(organoid.organoid_dir, name + \".csv\")\n",
    "        df_org.to_csv(path, index=False) #saves csv\n",
    "\n",
    "        # Add the measurement to the faim-hcs datastructure and save.\n",
    "        organoid.add_measurement(name, path)\n",
    "        organoid.save() #updates json file\n",
    "        \n",
    "        # NUCLEAR feature extraction\n",
    "        if nuc_seg is None:\n",
    "            continue #skip organoids that don't have a nuclear segmentation\n",
    "            \n",
    "        # organoid feature extraction\n",
    "        df_nuc = pd.DataFrame()\n",
    "        \n",
    "        # make binary organoid mask and crop nuclear labels to this mask\n",
    "        # extract nuclei features that only belong to organoid of interest and exclude pieces of neighboring organoids\n",
    "        org_seg_binary = copy.deepcopy(org_seg)\n",
    "        org_seg_binary[org_seg_binary>0] = 1\n",
    "        nuc_seg = nuc_seg * org_seg_binary\n",
    "\n",
    "        nuc_features = regionprops(nuc_seg, raw, extra_properties=(quartiles,skewness,kurtos,stdv), spacing = (3,1,1))\n",
    "        #voxel_volume = organoid.spacings[channel][0] * organoid.spacings[channel][1] * organoid.spacings[channel][2] #calculate voxel area in um2 (x*y)\n",
    "        #https://www.analyticsvidhya.com/blog/2022/01/moments-a-must-known-statistical-concept-for-data-science/\n",
    "        #mean is first raw moment\n",
    "        #variance is the second central moment\n",
    "        #skewness is the third normalized moment\n",
    "        #kurtosis is the fourth standardize moment\n",
    "        \n",
    "        for nuc in nuc_features:\n",
    "\n",
    "            row = {\n",
    "                'hcs_experiment':organoid.well.plate.experiment.name,\n",
    "                'root_dir':organoid.well.plate.experiment.root_dir,\n",
    "                'plate_id': organoid.well.plate.plate_id,\n",
    "                'well_id':organoid.well.well_id,\n",
    "                'channel_id':channel,\n",
    "                'object_type':'nucleus',\n",
    "                'organoid_id':organoid.organoid_id,\n",
    "                'org_label':organoid.organoid_id.rpartition(\"_\")[2],\n",
    "                'nuc_id':int(nuc['label']),\n",
    "                'segmentation_nuc': organoid.segmentations[nuc_ending],\n",
    "                'intensity_img': organoid.raw_files[channel],\n",
    "                'x_pos_vox':nuc['centroid'][2],\n",
    "                'y_pos_vox':nuc['centroid'][1],\n",
    "                'z_pos_vox':nuc['centroid'][0],\n",
    "#                 'x_pos_um':nuc['centroid'][2]*organoid.spacings[channel][2],\n",
    "#                 'y_pos_um':nuc['centroid'][1]*organoid.spacings[channel][1],\n",
    "#                 'z_pos_um':nuc['centroid'][0]*organoid.spacings[channel][0],\n",
    "                'volume_pix':nuc['area'],\n",
    "#                 'volume_um3':nuc['area'] * voxel_volume,\n",
    "                'mean_intensity':nuc['mean_intensity'],\n",
    "                'max_intensity':nuc['max_intensity'],\n",
    "                'min_intensity':nuc['min_intensity'],\n",
    "                'quartile25': nuc['quartiles'][0],\n",
    "                'quartile50': nuc['quartiles'][1],\n",
    "                'quartile75': nuc['quartiles'][2],\n",
    "                'quartile90': nuc['quartiles'][3],\n",
    "                'quartile95': nuc['quartiles'][4],\n",
    "                'quartile99': nuc['quartiles'][5],\n",
    "                'stdev': nuc['stdv'],\n",
    "                'skew': nuc['skewness'],\n",
    "                'kurtosis': nuc['kurtos']\n",
    "            }\n",
    "            \n",
    "            df_nuc = pd.concat([df_nuc, pd.DataFrame.from_records([row])], ignore_index=True)\n",
    "            #df_nuc = df_nuc.append(row,ignore_index=True)\n",
    "\n",
    "        # Save measurement into the organoid directory.\n",
    "        name = \"regionprops_nuc_\" + str(channel)\n",
    "        path = join(organoid.organoid_dir, name + \".csv\")\n",
    "        df_nuc.to_csv(path, index=False) #saves csv\n",
    "\n",
    "        # Add the measurement to the faim-hcs datastructure and save.\n",
    "        organoid.add_measurement(name, path)\n",
    "        organoid.save() #updates json file\n",
    "        \n",
    "        # MEMBRANE feature extraction\n",
    "        if mem_seg is None:\n",
    "            continue #skip organoids that don't have a cell segmentation\n",
    "            \n",
    "        # organoid feature extraction\n",
    "        df_mem = pd.DataFrame()\n",
    "        \n",
    "        # make binary organoid mask and crop cell labels to this mask\n",
    "        # MAYBE EXPAND BINARY MASK??\n",
    "        mem_seg = mem_seg * org_seg_binary\n",
    "\n",
    "        mem_features = regionprops(mem_seg, raw, extra_properties=(quartiles,skewness,kurtos,stdv), spacing = (3,1,1))\n",
    "\n",
    "        for mem in mem_features:\n",
    "\n",
    "            row = {\n",
    "                'hcs_experiment':organoid.well.plate.experiment.name,\n",
    "                'root_dir':organoid.well.plate.experiment.root_dir,\n",
    "                'plate_id': organoid.well.plate.plate_id,\n",
    "                'well_id':organoid.well.well_id,\n",
    "                'channel_id':channel,\n",
    "                'object_type':'membrane',\n",
    "                'organoid_id':organoid.organoid_id,\n",
    "                'org_label':organoid.organoid_id.rpartition(\"_\")[2],\n",
    "                'mem_id':int(mem['label']),\n",
    "                'segmentation_mem': organoid.segmentations[mem_ending],\n",
    "                'intensity_img': organoid.raw_files[channel],\n",
    "                'x_pos_vox':mem['centroid'][2],\n",
    "                'y_pos_vox':mem['centroid'][1],\n",
    "                'z_pos_vox':mem['centroid'][0],\n",
    "#                 'x_pos_um':mem['centroid'][2]*organoid.spacings[channel][2],\n",
    "#                 'y_pos_um':mem['centroid'][1]*organoid.spacings[channel][1],\n",
    "#                 'z_pos_um':mem['centroid'][0]*organoid.spacings[channel][0],\n",
    "                'volume_pix':mem['area'],\n",
    "#                 'volume_um3':mem['area'] * voxel_volume,\n",
    "                'mean_intensity':mem['mean_intensity'],\n",
    "                'max_intensity':mem['max_intensity'],\n",
    "                'min_intensity':mem['min_intensity'],\n",
    "                'quartile25': mem['quartiles'][0],\n",
    "                'quartile50': mem['quartiles'][1],\n",
    "                'quartile75': mem['quartiles'][2],\n",
    "                'quartile90': mem['quartiles'][3],\n",
    "                'quartile95': mem['quartiles'][4],\n",
    "                'quartile99': mem['quartiles'][5],\n",
    "                'stdev': mem['stdv'],\n",
    "                'skew': mem['skewness'],\n",
    "                'kurtosis': mem['kurtos']\n",
    "            }\n",
    "            \n",
    "            df_mem = pd.concat([df_mem, pd.DataFrame.from_records([row])], ignore_index=True)\n",
    "            #df_mem = df_mem.append(row,ignore_index=True)\n",
    "\n",
    "        # Save measurement into the organoid directory.\n",
    "        name = \"regionprops_mem_\" + str(channel)\n",
    "        path = join(organoid.organoid_dir, name + \".csv\")\n",
    "        df_mem.to_csv(path, index=False) #saves csv\n",
    "\n",
    "        # Add the measurement to the faim-hcs datastructure and save.\n",
    "        organoid.add_measurement(name, path)\n",
    "        organoid.save() #updates json file\n",
    "\n",
    "\n",
    "            "
   ]
  },
  {
   "cell_type": "markdown",
   "metadata": {},
   "source": [
    "## Link nuclei to membranes"
   ]
  },
  {
   "cell_type": "code",
   "execution_count": 13,
   "metadata": {},
   "outputs": [],
   "source": [
    "# Load an existing faim-hcs Experiment from disk. \n",
    "exp = Experiment()\n",
    "exp.load('/tungstenfs/scratch/gliberal/Users/repinico/Microscopy/Analysis/20220528_GCPLEX_redo/20220507GCPLEX_R0/summary.csv')\n",
    "\n",
    "iop_cutoff = 0.6\n"
   ]
  },
  {
   "cell_type": "code",
   "execution_count": 14,
   "metadata": {},
   "outputs": [
    {
     "name": "stderr",
     "output_type": "stream",
     "text": [
      "Segmentation NUC_SEG3D_220523 does not exist in object_13:['MASK'].\n",
      "Segmentation MEM_SEG3D_220523 does not exist in object_13:['MASK'].\n",
      "Segmentation NUC_SEG3D_220523 does not exist in object_12:['MASK'].\n",
      "Segmentation MEM_SEG3D_220523 does not exist in object_12:['MASK'].\n",
      "Segmentation NUC_SEG3D_220523 does not exist in object_49:['MASK'].\n",
      "Segmentation MEM_SEG3D_220523 does not exist in object_49:['MASK'].\n",
      "Segmentation NUC_SEG3D_220523 does not exist in object_35:['MASK'].\n",
      "Segmentation MEM_SEG3D_220523 does not exist in object_35:['MASK'].\n",
      "Segmentation NUC_SEG3D_220523 does not exist in object_54:['MASK'].\n",
      "Segmentation MEM_SEG3D_220523 does not exist in object_54:['MASK'].\n",
      "Segmentation NUC_SEG3D_220523 does not exist in object_46:['MASK'].\n",
      "Segmentation MEM_SEG3D_220523 does not exist in object_46:['MASK'].\n",
      "Segmentation NUC_SEG3D_220523 does not exist in object_17:['MASK'].\n",
      "Segmentation MEM_SEG3D_220523 does not exist in object_17:['MASK'].\n",
      "Segmentation NUC_SEG3D_220523 does not exist in object_43:['MASK'].\n",
      "Segmentation MEM_SEG3D_220523 does not exist in object_43:['MASK'].\n",
      "Segmentation NUC_SEG3D_220523 does not exist in object_32:['MASK'].\n",
      "Segmentation MEM_SEG3D_220523 does not exist in object_32:['MASK'].\n",
      "Segmentation NUC_SEG3D_220523 does not exist in object_11:['MASK'].\n",
      "Segmentation MEM_SEG3D_220523 does not exist in object_11:['MASK'].\n",
      "Segmentation NUC_SEG3D_220523 does not exist in object_47:['MASK'].\n",
      "Segmentation MEM_SEG3D_220523 does not exist in object_47:['MASK'].\n",
      "Segmentation NUC_SEG3D_220523 does not exist in object_55:['MASK'].\n",
      "Segmentation MEM_SEG3D_220523 does not exist in object_55:['MASK'].\n",
      "Segmentation NUC_SEG3D_220523 does not exist in object_41:['MASK'].\n",
      "Segmentation MEM_SEG3D_220523 does not exist in object_41:['MASK'].\n",
      "Segmentation NUC_SEG3D_220523 does not exist in object_51:['MASK'].\n",
      "Segmentation MEM_SEG3D_220523 does not exist in object_51:['MASK'].\n",
      "Segmentation NUC_SEG3D_220523 does not exist in object_39:['MASK'].\n",
      "Segmentation MEM_SEG3D_220523 does not exist in object_39:['MASK'].\n",
      "Segmentation NUC_SEG3D_220523 does not exist in object_15:['MASK'].\n",
      "Segmentation MEM_SEG3D_220523 does not exist in object_15:['MASK'].\n",
      "Segmentation NUC_SEG3D_220523 does not exist in object_23:['MASK'].\n",
      "Segmentation MEM_SEG3D_220523 does not exist in object_23:['MASK'].\n",
      "Segmentation NUC_SEG3D_220523 does not exist in object_21:['MASK'].\n",
      "Segmentation MEM_SEG3D_220523 does not exist in object_21:['MASK'].\n",
      "Segmentation NUC_SEG3D_220523 does not exist in object_27:['MASK'].\n",
      "Segmentation MEM_SEG3D_220523 does not exist in object_27:['MASK'].\n",
      "Segmentation NUC_SEG3D_220523 does not exist in object_29:['MASK'].\n",
      "Segmentation MEM_SEG3D_220523 does not exist in object_29:['MASK'].\n",
      "Segmentation NUC_SEG3D_220523 does not exist in object_25:['MASK'].\n",
      "Segmentation MEM_SEG3D_220523 does not exist in object_25:['MASK'].\n",
      "Segmentation NUC_SEG3D_220523 does not exist in object_36:['MASK'].\n",
      "Segmentation MEM_SEG3D_220523 does not exist in object_36:['MASK'].\n",
      "Segmentation NUC_SEG3D_220523 does not exist in object_20:['MASK'].\n",
      "Segmentation MEM_SEG3D_220523 does not exist in object_20:['MASK'].\n",
      "Segmentation NUC_SEG3D_220523 does not exist in object_40:['MASK'].\n",
      "Segmentation MEM_SEG3D_220523 does not exist in object_40:['MASK'].\n",
      "Segmentation NUC_SEG3D_220523 does not exist in object_45:['MASK'].\n",
      "Segmentation MEM_SEG3D_220523 does not exist in object_45:['MASK'].\n",
      "Segmentation NUC_SEG3D_220523 does not exist in object_19:['MASK'].\n",
      "Segmentation MEM_SEG3D_220523 does not exist in object_19:['MASK'].\n",
      "Segmentation NUC_SEG3D_220523 does not exist in object_48:['MASK'].\n",
      "Segmentation MEM_SEG3D_220523 does not exist in object_48:['MASK'].\n",
      "Segmentation NUC_SEG3D_220523 does not exist in object_34:['MASK'].\n",
      "Segmentation MEM_SEG3D_220523 does not exist in object_34:['MASK'].\n",
      "Segmentation NUC_SEG3D_220523 does not exist in object_52:['MASK'].\n",
      "Segmentation MEM_SEG3D_220523 does not exist in object_52:['MASK'].\n",
      "Segmentation NUC_SEG3D_220523 does not exist in object_18:['MASK'].\n",
      "Segmentation MEM_SEG3D_220523 does not exist in object_18:['MASK'].\n",
      "Segmentation NUC_SEG3D_220523 does not exist in object_3:['MASK'].\n",
      "Segmentation MEM_SEG3D_220523 does not exist in object_3:['MASK'].\n",
      "Segmentation NUC_SEG3D_220523 does not exist in object_2:['MASK'].\n",
      "Segmentation MEM_SEG3D_220523 does not exist in object_2:['MASK'].\n",
      "Segmentation NUC_SEG3D_220523 does not exist in object_50:['MASK'].\n",
      "Segmentation MEM_SEG3D_220523 does not exist in object_50:['MASK'].\n",
      "Segmentation NUC_SEG3D_220523 does not exist in object_30:['MASK'].\n",
      "Segmentation MEM_SEG3D_220523 does not exist in object_30:['MASK'].\n",
      "Segmentation NUC_SEG3D_220523 does not exist in object_1:['MASK'].\n",
      "Segmentation MEM_SEG3D_220523 does not exist in object_1:['MASK'].\n",
      "Segmentation NUC_SEG3D_220523 does not exist in object_38:['MASK'].\n",
      "Segmentation MEM_SEG3D_220523 does not exist in object_38:['MASK'].\n",
      "Segmentation NUC_SEG3D_220523 does not exist in object_16:['MASK'].\n",
      "Segmentation MEM_SEG3D_220523 does not exist in object_16:['MASK'].\n",
      "Segmentation NUC_SEG3D_220523 does not exist in object_56:['MASK'].\n",
      "Segmentation MEM_SEG3D_220523 does not exist in object_56:['MASK'].\n",
      "Segmentation NUC_SEG3D_220523 does not exist in object_31:['MASK'].\n",
      "Segmentation MEM_SEG3D_220523 does not exist in object_31:['MASK'].\n",
      "Segmentation NUC_SEG3D_220523 does not exist in object_10:['MASK'].\n",
      "Segmentation MEM_SEG3D_220523 does not exist in object_10:['MASK'].\n",
      "Segmentation NUC_SEG3D_220523 does not exist in object_28:['MASK'].\n",
      "Segmentation MEM_SEG3D_220523 does not exist in object_28:['MASK'].\n",
      "Segmentation NUC_SEG3D_220523 does not exist in object_22:['MASK'].\n",
      "Segmentation MEM_SEG3D_220523 does not exist in object_22:['MASK'].\n",
      "Segmentation NUC_SEG3D_220523 does not exist in object_14:['MASK'].\n",
      "Segmentation MEM_SEG3D_220523 does not exist in object_14:['MASK'].\n",
      "Segmentation NUC_SEG3D_220523 does not exist in object_24:['MASK'].\n",
      "Segmentation MEM_SEG3D_220523 does not exist in object_24:['MASK'].\n",
      "Segmentation NUC_SEG3D_220523 does not exist in object_42:['MASK'].\n",
      "Segmentation MEM_SEG3D_220523 does not exist in object_42:['MASK'].\n",
      "Segmentation NUC_SEG3D_220523 does not exist in object_9:['MASK'].\n",
      "Segmentation MEM_SEG3D_220523 does not exist in object_9:['MASK'].\n",
      "Segmentation NUC_SEG3D_220523 does not exist in object_8:['MASK'].\n",
      "Segmentation MEM_SEG3D_220523 does not exist in object_8:['MASK'].\n",
      "Segmentation NUC_SEG3D_220523 does not exist in object_44:['MASK'].\n",
      "Segmentation MEM_SEG3D_220523 does not exist in object_44:['MASK'].\n",
      "Segmentation NUC_SEG3D_220523 does not exist in object_7:['MASK'].\n",
      "Segmentation MEM_SEG3D_220523 does not exist in object_7:['MASK'].\n",
      "Segmentation NUC_SEG3D_220523 does not exist in object_53:['MASK'].\n",
      "Segmentation MEM_SEG3D_220523 does not exist in object_53:['MASK'].\n",
      "Segmentation NUC_SEG3D_220523 does not exist in object_6:['MASK'].\n",
      "Segmentation MEM_SEG3D_220523 does not exist in object_6:['MASK'].\n",
      "Segmentation NUC_SEG3D_220523 does not exist in object_5:['MASK'].\n",
      "Segmentation MEM_SEG3D_220523 does not exist in object_5:['MASK'].\n",
      "Segmentation NUC_SEG3D_220523 does not exist in object_37:['MASK'].\n",
      "Segmentation MEM_SEG3D_220523 does not exist in object_37:['MASK'].\n",
      "Segmentation NUC_SEG3D_220523 does not exist in object_4:['MASK'].\n",
      "Segmentation MEM_SEG3D_220523 does not exist in object_4:['MASK'].\n",
      "Segmentation NUC_SEG3D_220523 does not exist in object_26:['MASK'].\n",
      "Segmentation MEM_SEG3D_220523 does not exist in object_26:['MASK'].\n",
      "Segmentation NUC_SEG3D_220523 does not exist in object_13:['MASK'].\n",
      "Segmentation MEM_SEG3D_220523 does not exist in object_13:['MASK'].\n",
      "Segmentation NUC_SEG3D_220523 does not exist in object_12:['MASK'].\n",
      "Segmentation MEM_SEG3D_220523 does not exist in object_12:['MASK'].\n",
      "Segmentation NUC_SEG3D_220523 does not exist in object_57:['MASK'].\n",
      "Segmentation MEM_SEG3D_220523 does not exist in object_57:['MASK'].\n",
      "Segmentation NUC_SEG3D_220523 does not exist in object_49:['MASK'].\n",
      "Segmentation MEM_SEG3D_220523 does not exist in object_49:['MASK'].\n",
      "Segmentation NUC_SEG3D_220523 does not exist in object_60:['MASK'].\n",
      "Segmentation MEM_SEG3D_220523 does not exist in object_60:['MASK'].\n",
      "Segmentation NUC_SEG3D_220523 does not exist in object_35:['MASK'].\n"
     ]
    },
    {
     "name": "stderr",
     "output_type": "stream",
     "text": [
      "Segmentation MEM_SEG3D_220523 does not exist in object_35:['MASK'].\n",
      "Segmentation NUC_SEG3D_220523 does not exist in object_54:['MASK'].\n",
      "Segmentation MEM_SEG3D_220523 does not exist in object_54:['MASK'].\n",
      "Segmentation NUC_SEG3D_220523 does not exist in object_46:['MASK'].\n",
      "Segmentation MEM_SEG3D_220523 does not exist in object_46:['MASK'].\n",
      "Segmentation NUC_SEG3D_220523 does not exist in object_65:['MASK'].\n",
      "Segmentation MEM_SEG3D_220523 does not exist in object_65:['MASK'].\n",
      "Segmentation NUC_SEG3D_220523 does not exist in object_58:['MASK'].\n",
      "Segmentation MEM_SEG3D_220523 does not exist in object_58:['MASK'].\n",
      "Segmentation NUC_SEG3D_220523 does not exist in object_17:['MASK'].\n",
      "Segmentation MEM_SEG3D_220523 does not exist in object_17:['MASK'].\n",
      "Segmentation NUC_SEG3D_220523 does not exist in object_43:['MASK'].\n",
      "Segmentation MEM_SEG3D_220523 does not exist in object_43:['MASK'].\n",
      "Segmentation NUC_SEG3D_220523 does not exist in object_32:['MASK'].\n",
      "Segmentation MEM_SEG3D_220523 does not exist in object_32:['MASK'].\n",
      "Segmentation NUC_SEG3D_220523 does not exist in object_47:['MASK'].\n",
      "Segmentation MEM_SEG3D_220523 does not exist in object_47:['MASK'].\n",
      "Segmentation NUC_SEG3D_220523 does not exist in object_55:['MASK'].\n",
      "Segmentation MEM_SEG3D_220523 does not exist in object_55:['MASK'].\n",
      "Segmentation NUC_SEG3D_220523 does not exist in object_41:['MASK'].\n",
      "Segmentation MEM_SEG3D_220523 does not exist in object_41:['MASK'].\n",
      "Segmentation NUC_SEG3D_220523 does not exist in object_33:['MASK'].\n",
      "Segmentation MEM_SEG3D_220523 does not exist in object_33:['MASK'].\n",
      "Segmentation NUC_SEG3D_220523 does not exist in object_51:['MASK'].\n",
      "Segmentation MEM_SEG3D_220523 does not exist in object_51:['MASK'].\n",
      "Segmentation NUC_SEG3D_220523 does not exist in object_61:['MASK'].\n",
      "Segmentation MEM_SEG3D_220523 does not exist in object_61:['MASK'].\n",
      "Segmentation NUC_SEG3D_220523 does not exist in object_39:['MASK'].\n",
      "Segmentation MEM_SEG3D_220523 does not exist in object_39:['MASK'].\n",
      "Segmentation NUC_SEG3D_220523 does not exist in object_15:['MASK'].\n",
      "Segmentation MEM_SEG3D_220523 does not exist in object_15:['MASK'].\n",
      "Segmentation NUC_SEG3D_220523 does not exist in object_23:['MASK'].\n",
      "Segmentation MEM_SEG3D_220523 does not exist in object_23:['MASK'].\n",
      "Segmentation NUC_SEG3D_220523 does not exist in object_21:['MASK'].\n",
      "Segmentation MEM_SEG3D_220523 does not exist in object_21:['MASK'].\n",
      "Segmentation NUC_SEG3D_220523 does not exist in object_27:['MASK'].\n",
      "Segmentation MEM_SEG3D_220523 does not exist in object_27:['MASK'].\n",
      "Segmentation NUC_SEG3D_220523 does not exist in object_29:['MASK'].\n",
      "Segmentation MEM_SEG3D_220523 does not exist in object_29:['MASK'].\n",
      "Segmentation NUC_SEG3D_220523 does not exist in object_25:['MASK'].\n",
      "Segmentation MEM_SEG3D_220523 does not exist in object_25:['MASK'].\n",
      "Segmentation NUC_SEG3D_220523 does not exist in object_36:['MASK'].\n",
      "Segmentation MEM_SEG3D_220523 does not exist in object_36:['MASK'].\n",
      "Segmentation NUC_SEG3D_220523 does not exist in object_20:['MASK'].\n",
      "Segmentation MEM_SEG3D_220523 does not exist in object_20:['MASK'].\n",
      "Segmentation NUC_SEG3D_220523 does not exist in object_40:['MASK'].\n",
      "Segmentation MEM_SEG3D_220523 does not exist in object_40:['MASK'].\n",
      "Segmentation NUC_SEG3D_220523 does not exist in object_45:['MASK'].\n",
      "Segmentation MEM_SEG3D_220523 does not exist in object_45:['MASK'].\n",
      "Segmentation NUC_SEG3D_220523 does not exist in object_19:['MASK'].\n",
      "Segmentation MEM_SEG3D_220523 does not exist in object_19:['MASK'].\n",
      "Segmentation NUC_SEG3D_220523 does not exist in object_63:['MASK'].\n",
      "Segmentation MEM_SEG3D_220523 does not exist in object_63:['MASK'].\n",
      "Segmentation NUC_SEG3D_220523 does not exist in object_48:['MASK'].\n",
      "Segmentation MEM_SEG3D_220523 does not exist in object_48:['MASK'].\n",
      "Segmentation NUC_SEG3D_220523 does not exist in object_34:['MASK'].\n",
      "Segmentation MEM_SEG3D_220523 does not exist in object_34:['MASK'].\n",
      "Segmentation NUC_SEG3D_220523 does not exist in object_62:['MASK'].\n",
      "Segmentation MEM_SEG3D_220523 does not exist in object_62:['MASK'].\n",
      "Segmentation NUC_SEG3D_220523 does not exist in object_52:['MASK'].\n",
      "Segmentation MEM_SEG3D_220523 does not exist in object_52:['MASK'].\n",
      "Segmentation NUC_SEG3D_220523 does not exist in object_18:['MASK'].\n",
      "Segmentation MEM_SEG3D_220523 does not exist in object_18:['MASK'].\n",
      "Segmentation NUC_SEG3D_220523 does not exist in object_3:['MASK'].\n",
      "Segmentation MEM_SEG3D_220523 does not exist in object_3:['MASK'].\n",
      "Segmentation NUC_SEG3D_220523 does not exist in object_2:['MASK'].\n",
      "Segmentation MEM_SEG3D_220523 does not exist in object_2:['MASK'].\n",
      "Segmentation NUC_SEG3D_220523 does not exist in object_50:['MASK'].\n",
      "Segmentation MEM_SEG3D_220523 does not exist in object_50:['MASK'].\n",
      "Segmentation NUC_SEG3D_220523 does not exist in object_30:['MASK'].\n",
      "Segmentation MEM_SEG3D_220523 does not exist in object_30:['MASK'].\n",
      "Segmentation NUC_SEG3D_220523 does not exist in object_1:['MASK'].\n",
      "Segmentation MEM_SEG3D_220523 does not exist in object_1:['MASK'].\n",
      "Segmentation NUC_SEG3D_220523 does not exist in object_38:['MASK'].\n",
      "Segmentation MEM_SEG3D_220523 does not exist in object_38:['MASK'].\n",
      "Segmentation NUC_SEG3D_220523 does not exist in object_16:['MASK'].\n",
      "Segmentation MEM_SEG3D_220523 does not exist in object_16:['MASK'].\n",
      "Segmentation NUC_SEG3D_220523 does not exist in object_56:['MASK'].\n",
      "Segmentation MEM_SEG3D_220523 does not exist in object_56:['MASK'].\n",
      "Segmentation NUC_SEG3D_220523 does not exist in object_31:['MASK'].\n",
      "Segmentation MEM_SEG3D_220523 does not exist in object_31:['MASK'].\n",
      "Segmentation NUC_SEG3D_220523 does not exist in object_10:['MASK'].\n",
      "Segmentation MEM_SEG3D_220523 does not exist in object_10:['MASK'].\n",
      "Segmentation NUC_SEG3D_220523 does not exist in object_28:['MASK'].\n",
      "Segmentation MEM_SEG3D_220523 does not exist in object_28:['MASK'].\n",
      "Segmentation NUC_SEG3D_220523 does not exist in object_22:['MASK'].\n",
      "Segmentation MEM_SEG3D_220523 does not exist in object_22:['MASK'].\n",
      "Segmentation NUC_SEG3D_220523 does not exist in object_59:['MASK'].\n",
      "Segmentation MEM_SEG3D_220523 does not exist in object_59:['MASK'].\n",
      "Segmentation NUC_SEG3D_220523 does not exist in object_14:['MASK'].\n",
      "Segmentation MEM_SEG3D_220523 does not exist in object_14:['MASK'].\n",
      "Segmentation NUC_SEG3D_220523 does not exist in object_24:['MASK'].\n",
      "Segmentation MEM_SEG3D_220523 does not exist in object_24:['MASK'].\n",
      "Segmentation NUC_SEG3D_220523 does not exist in object_42:['MASK'].\n",
      "Segmentation MEM_SEG3D_220523 does not exist in object_42:['MASK'].\n",
      "Segmentation NUC_SEG3D_220523 does not exist in object_9:['MASK'].\n",
      "Segmentation MEM_SEG3D_220523 does not exist in object_9:['MASK'].\n",
      "Segmentation NUC_SEG3D_220523 does not exist in object_8:['MASK'].\n",
      "Segmentation MEM_SEG3D_220523 does not exist in object_8:['MASK'].\n",
      "Segmentation NUC_SEG3D_220523 does not exist in object_44:['MASK'].\n",
      "Segmentation MEM_SEG3D_220523 does not exist in object_44:['MASK'].\n",
      "Segmentation NUC_SEG3D_220523 does not exist in object_7:['MASK'].\n",
      "Segmentation MEM_SEG3D_220523 does not exist in object_7:['MASK'].\n",
      "Segmentation NUC_SEG3D_220523 does not exist in object_53:['MASK'].\n",
      "Segmentation MEM_SEG3D_220523 does not exist in object_53:['MASK'].\n",
      "Segmentation NUC_SEG3D_220523 does not exist in object_64:['MASK'].\n",
      "Segmentation MEM_SEG3D_220523 does not exist in object_64:['MASK'].\n",
      "Segmentation NUC_SEG3D_220523 does not exist in object_6:['MASK'].\n",
      "Segmentation MEM_SEG3D_220523 does not exist in object_6:['MASK'].\n",
      "Segmentation NUC_SEG3D_220523 does not exist in object_5:['MASK'].\n",
      "Segmentation MEM_SEG3D_220523 does not exist in object_5:['MASK'].\n",
      "Segmentation NUC_SEG3D_220523 does not exist in object_37:['MASK'].\n",
      "Segmentation MEM_SEG3D_220523 does not exist in object_37:['MASK'].\n",
      "Segmentation NUC_SEG3D_220523 does not exist in object_4:['MASK'].\n",
      "Segmentation MEM_SEG3D_220523 does not exist in object_4:['MASK'].\n",
      "Segmentation NUC_SEG3D_220523 does not exist in object_26:['MASK'].\n",
      "Segmentation MEM_SEG3D_220523 does not exist in object_26:['MASK'].\n",
      "Segmentation NUC_SEG3D_220523 does not exist in object_13:['MASK'].\n",
      "Segmentation MEM_SEG3D_220523 does not exist in object_13:['MASK'].\n",
      "Segmentation NUC_SEG3D_220523 does not exist in object_12:['MASK'].\n",
      "Segmentation MEM_SEG3D_220523 does not exist in object_12:['MASK'].\n"
     ]
    },
    {
     "name": "stderr",
     "output_type": "stream",
     "text": [
      "Segmentation NUC_SEG3D_220523 does not exist in object_35:['MASK'].\n",
      "Segmentation MEM_SEG3D_220523 does not exist in object_35:['MASK'].\n",
      "Segmentation NUC_SEG3D_220523 does not exist in object_17:['MASK'].\n",
      "Segmentation MEM_SEG3D_220523 does not exist in object_17:['MASK'].\n",
      "Segmentation NUC_SEG3D_220523 does not exist in object_32:['MASK'].\n",
      "Segmentation MEM_SEG3D_220523 does not exist in object_32:['MASK'].\n",
      "Segmentation NUC_SEG3D_220523 does not exist in object_11:['MASK'].\n",
      "Segmentation MEM_SEG3D_220523 does not exist in object_11:['MASK'].\n",
      "Segmentation NUC_SEG3D_220523 does not exist in object_33:['MASK'].\n",
      "Segmentation MEM_SEG3D_220523 does not exist in object_33:['MASK'].\n",
      "Segmentation NUC_SEG3D_220523 does not exist in object_39:['MASK'].\n",
      "Segmentation MEM_SEG3D_220523 does not exist in object_39:['MASK'].\n",
      "Segmentation NUC_SEG3D_220523 does not exist in object_15:['MASK'].\n",
      "Segmentation MEM_SEG3D_220523 does not exist in object_15:['MASK'].\n",
      "Segmentation NUC_SEG3D_220523 does not exist in object_23:['MASK'].\n",
      "Segmentation MEM_SEG3D_220523 does not exist in object_23:['MASK'].\n",
      "Segmentation NUC_SEG3D_220523 does not exist in object_21:['MASK'].\n",
      "Segmentation MEM_SEG3D_220523 does not exist in object_21:['MASK'].\n",
      "Segmentation NUC_SEG3D_220523 does not exist in object_27:['MASK'].\n",
      "Segmentation MEM_SEG3D_220523 does not exist in object_27:['MASK'].\n",
      "Segmentation NUC_SEG3D_220523 does not exist in object_29:['MASK'].\n",
      "Segmentation MEM_SEG3D_220523 does not exist in object_29:['MASK'].\n",
      "Segmentation NUC_SEG3D_220523 does not exist in object_25:['MASK'].\n",
      "Segmentation MEM_SEG3D_220523 does not exist in object_25:['MASK'].\n",
      "Segmentation NUC_SEG3D_220523 does not exist in object_36:['MASK'].\n",
      "Segmentation MEM_SEG3D_220523 does not exist in object_36:['MASK'].\n",
      "Segmentation NUC_SEG3D_220523 does not exist in object_20:['MASK'].\n",
      "Segmentation MEM_SEG3D_220523 does not exist in object_20:['MASK'].\n",
      "Segmentation NUC_SEG3D_220523 does not exist in object_40:['MASK'].\n",
      "Segmentation MEM_SEG3D_220523 does not exist in object_40:['MASK'].\n",
      "Segmentation NUC_SEG3D_220523 does not exist in object_19:['MASK'].\n",
      "Segmentation MEM_SEG3D_220523 does not exist in object_19:['MASK'].\n",
      "Segmentation NUC_SEG3D_220523 does not exist in object_34:['MASK'].\n",
      "Segmentation MEM_SEG3D_220523 does not exist in object_34:['MASK'].\n",
      "Segmentation NUC_SEG3D_220523 does not exist in object_18:['MASK'].\n",
      "Segmentation MEM_SEG3D_220523 does not exist in object_18:['MASK'].\n",
      "Segmentation NUC_SEG3D_220523 does not exist in object_3:['MASK'].\n",
      "Segmentation MEM_SEG3D_220523 does not exist in object_3:['MASK'].\n",
      "Segmentation NUC_SEG3D_220523 does not exist in object_2:['MASK'].\n",
      "Segmentation MEM_SEG3D_220523 does not exist in object_2:['MASK'].\n",
      "Segmentation NUC_SEG3D_220523 does not exist in object_30:['MASK'].\n",
      "Segmentation MEM_SEG3D_220523 does not exist in object_30:['MASK'].\n",
      "Segmentation NUC_SEG3D_220523 does not exist in object_1:['MASK'].\n",
      "Segmentation MEM_SEG3D_220523 does not exist in object_1:['MASK'].\n",
      "Segmentation NUC_SEG3D_220523 does not exist in object_38:['MASK'].\n",
      "Segmentation MEM_SEG3D_220523 does not exist in object_38:['MASK'].\n",
      "Segmentation NUC_SEG3D_220523 does not exist in object_16:['MASK'].\n",
      "Segmentation MEM_SEG3D_220523 does not exist in object_16:['MASK'].\n",
      "Segmentation NUC_SEG3D_220523 does not exist in object_31:['MASK'].\n",
      "Segmentation MEM_SEG3D_220523 does not exist in object_31:['MASK'].\n",
      "Segmentation NUC_SEG3D_220523 does not exist in object_10:['MASK'].\n",
      "Segmentation MEM_SEG3D_220523 does not exist in object_10:['MASK'].\n",
      "Segmentation NUC_SEG3D_220523 does not exist in object_28:['MASK'].\n",
      "Segmentation MEM_SEG3D_220523 does not exist in object_28:['MASK'].\n",
      "Segmentation NUC_SEG3D_220523 does not exist in object_22:['MASK'].\n",
      "Segmentation MEM_SEG3D_220523 does not exist in object_22:['MASK'].\n",
      "Segmentation NUC_SEG3D_220523 does not exist in object_14:['MASK'].\n",
      "Segmentation MEM_SEG3D_220523 does not exist in object_14:['MASK'].\n",
      "Segmentation NUC_SEG3D_220523 does not exist in object_24:['MASK'].\n",
      "Segmentation MEM_SEG3D_220523 does not exist in object_24:['MASK'].\n",
      "Segmentation NUC_SEG3D_220523 does not exist in object_9:['MASK'].\n",
      "Segmentation MEM_SEG3D_220523 does not exist in object_9:['MASK'].\n",
      "Segmentation NUC_SEG3D_220523 does not exist in object_8:['MASK'].\n",
      "Segmentation MEM_SEG3D_220523 does not exist in object_8:['MASK'].\n",
      "Segmentation NUC_SEG3D_220523 does not exist in object_7:['MASK'].\n",
      "Segmentation MEM_SEG3D_220523 does not exist in object_7:['MASK'].\n",
      "Segmentation NUC_SEG3D_220523 does not exist in object_6:['MASK'].\n",
      "Segmentation MEM_SEG3D_220523 does not exist in object_6:['MASK'].\n",
      "Segmentation NUC_SEG3D_220523 does not exist in object_5:['MASK'].\n",
      "Segmentation MEM_SEG3D_220523 does not exist in object_5:['MASK'].\n",
      "Segmentation NUC_SEG3D_220523 does not exist in object_37:['MASK'].\n",
      "Segmentation MEM_SEG3D_220523 does not exist in object_37:['MASK'].\n",
      "Segmentation NUC_SEG3D_220523 does not exist in object_4:['MASK'].\n",
      "Segmentation MEM_SEG3D_220523 does not exist in object_4:['MASK'].\n",
      "Segmentation NUC_SEG3D_220523 does not exist in object_26:['MASK'].\n",
      "Segmentation MEM_SEG3D_220523 does not exist in object_26:['MASK'].\n",
      "Segmentation NUC_SEG3D_220523 does not exist in object_13:['MASK'].\n",
      "Segmentation MEM_SEG3D_220523 does not exist in object_13:['MASK'].\n",
      "Segmentation NUC_SEG3D_220523 does not exist in object_12:['MASK'].\n",
      "Segmentation MEM_SEG3D_220523 does not exist in object_12:['MASK'].\n",
      "Segmentation NUC_SEG3D_220523 does not exist in object_78:['MASK'].\n",
      "Segmentation MEM_SEG3D_220523 does not exist in object_78:['MASK'].\n",
      "Segmentation NUC_SEG3D_220523 does not exist in object_57:['MASK'].\n",
      "Segmentation MEM_SEG3D_220523 does not exist in object_57:['MASK'].\n",
      "Segmentation NUC_SEG3D_220523 does not exist in object_80:['MASK'].\n",
      "Segmentation MEM_SEG3D_220523 does not exist in object_80:['MASK'].\n",
      "Segmentation NUC_SEG3D_220523 does not exist in object_49:['MASK'].\n",
      "Segmentation MEM_SEG3D_220523 does not exist in object_49:['MASK'].\n",
      "Segmentation NUC_SEG3D_220523 does not exist in object_60:['MASK'].\n",
      "Segmentation MEM_SEG3D_220523 does not exist in object_60:['MASK'].\n",
      "Segmentation NUC_SEG3D_220523 does not exist in object_35:['MASK'].\n",
      "Segmentation MEM_SEG3D_220523 does not exist in object_35:['MASK'].\n",
      "Segmentation NUC_SEG3D_220523 does not exist in object_54:['MASK'].\n",
      "Segmentation MEM_SEG3D_220523 does not exist in object_54:['MASK'].\n",
      "Segmentation NUC_SEG3D_220523 does not exist in object_46:['MASK'].\n",
      "Segmentation MEM_SEG3D_220523 does not exist in object_46:['MASK'].\n",
      "Segmentation NUC_SEG3D_220523 does not exist in object_65:['MASK'].\n",
      "Segmentation MEM_SEG3D_220523 does not exist in object_65:['MASK'].\n",
      "Segmentation NUC_SEG3D_220523 does not exist in object_58:['MASK'].\n",
      "Segmentation MEM_SEG3D_220523 does not exist in object_58:['MASK'].\n",
      "Segmentation NUC_SEG3D_220523 does not exist in object_82:['MASK'].\n",
      "Segmentation MEM_SEG3D_220523 does not exist in object_82:['MASK'].\n",
      "Segmentation NUC_SEG3D_220523 does not exist in object_17:['MASK'].\n",
      "Segmentation MEM_SEG3D_220523 does not exist in object_17:['MASK'].\n",
      "Segmentation NUC_SEG3D_220523 does not exist in object_43:['MASK'].\n",
      "Segmentation MEM_SEG3D_220523 does not exist in object_43:['MASK'].\n",
      "Segmentation NUC_SEG3D_220523 does not exist in object_79:['MASK'].\n",
      "Segmentation MEM_SEG3D_220523 does not exist in object_79:['MASK'].\n",
      "Segmentation NUC_SEG3D_220523 does not exist in object_32:['MASK'].\n",
      "Segmentation MEM_SEG3D_220523 does not exist in object_32:['MASK'].\n",
      "Segmentation NUC_SEG3D_220523 does not exist in object_11:['MASK'].\n",
      "Segmentation MEM_SEG3D_220523 does not exist in object_11:['MASK'].\n",
      "Segmentation NUC_SEG3D_220523 does not exist in object_47:['MASK'].\n",
      "Segmentation MEM_SEG3D_220523 does not exist in object_47:['MASK'].\n",
      "Segmentation NUC_SEG3D_220523 does not exist in object_55:['MASK'].\n",
      "Segmentation MEM_SEG3D_220523 does not exist in object_55:['MASK'].\n",
      "Segmentation NUC_SEG3D_220523 does not exist in object_75:['MASK'].\n",
      "Segmentation MEM_SEG3D_220523 does not exist in object_75:['MASK'].\n",
      "Segmentation NUC_SEG3D_220523 does not exist in object_41:['MASK'].\n",
      "Segmentation MEM_SEG3D_220523 does not exist in object_41:['MASK'].\n",
      "Segmentation NUC_SEG3D_220523 does not exist in object_33:['MASK'].\n"
     ]
    },
    {
     "name": "stderr",
     "output_type": "stream",
     "text": [
      "Segmentation MEM_SEG3D_220523 does not exist in object_33:['MASK'].\n",
      "Segmentation NUC_SEG3D_220523 does not exist in object_51:['MASK'].\n",
      "Segmentation MEM_SEG3D_220523 does not exist in object_51:['MASK'].\n",
      "Segmentation NUC_SEG3D_220523 does not exist in object_61:['MASK'].\n",
      "Segmentation MEM_SEG3D_220523 does not exist in object_61:['MASK'].\n",
      "Segmentation NUC_SEG3D_220523 does not exist in object_39:['MASK'].\n",
      "Segmentation MEM_SEG3D_220523 does not exist in object_39:['MASK'].\n",
      "Segmentation NUC_SEG3D_220523 does not exist in object_15:['MASK'].\n",
      "Segmentation MEM_SEG3D_220523 does not exist in object_15:['MASK'].\n",
      "Segmentation NUC_SEG3D_220523 does not exist in object_23:['MASK'].\n",
      "Segmentation MEM_SEG3D_220523 does not exist in object_23:['MASK'].\n",
      "Segmentation NUC_SEG3D_220523 does not exist in object_21:['MASK'].\n",
      "Segmentation MEM_SEG3D_220523 does not exist in object_21:['MASK'].\n",
      "Segmentation NUC_SEG3D_220523 does not exist in object_27:['MASK'].\n",
      "Segmentation MEM_SEG3D_220523 does not exist in object_27:['MASK'].\n",
      "Segmentation NUC_SEG3D_220523 does not exist in object_29:['MASK'].\n",
      "Segmentation MEM_SEG3D_220523 does not exist in object_29:['MASK'].\n",
      "Segmentation NUC_SEG3D_220523 does not exist in object_70:['MASK'].\n",
      "Segmentation MEM_SEG3D_220523 does not exist in object_70:['MASK'].\n",
      "Segmentation NUC_SEG3D_220523 does not exist in object_25:['MASK'].\n",
      "Segmentation MEM_SEG3D_220523 does not exist in object_25:['MASK'].\n",
      "Segmentation NUC_SEG3D_220523 does not exist in object_36:['MASK'].\n",
      "Segmentation MEM_SEG3D_220523 does not exist in object_36:['MASK'].\n",
      "Segmentation NUC_SEG3D_220523 does not exist in object_66:['MASK'].\n",
      "Segmentation MEM_SEG3D_220523 does not exist in object_66:['MASK'].\n",
      "Segmentation NUC_SEG3D_220523 does not exist in object_20:['MASK'].\n",
      "Segmentation MEM_SEG3D_220523 does not exist in object_20:['MASK'].\n",
      "Segmentation NUC_SEG3D_220523 does not exist in object_40:['MASK'].\n",
      "Segmentation MEM_SEG3D_220523 does not exist in object_40:['MASK'].\n",
      "Segmentation NUC_SEG3D_220523 does not exist in object_45:['MASK'].\n",
      "Segmentation MEM_SEG3D_220523 does not exist in object_45:['MASK'].\n",
      "Segmentation NUC_SEG3D_220523 does not exist in object_72:['MASK'].\n",
      "Segmentation MEM_SEG3D_220523 does not exist in object_72:['MASK'].\n",
      "Segmentation NUC_SEG3D_220523 does not exist in object_69:['MASK'].\n",
      "Segmentation MEM_SEG3D_220523 does not exist in object_69:['MASK'].\n",
      "Segmentation NUC_SEG3D_220523 does not exist in object_19:['MASK'].\n",
      "Segmentation MEM_SEG3D_220523 does not exist in object_19:['MASK'].\n",
      "Segmentation NUC_SEG3D_220523 does not exist in object_63:['MASK'].\n",
      "Segmentation MEM_SEG3D_220523 does not exist in object_63:['MASK'].\n",
      "Segmentation NUC_SEG3D_220523 does not exist in object_48:['MASK'].\n",
      "Segmentation MEM_SEG3D_220523 does not exist in object_48:['MASK'].\n",
      "Segmentation NUC_SEG3D_220523 does not exist in object_34:['MASK'].\n",
      "Segmentation MEM_SEG3D_220523 does not exist in object_34:['MASK'].\n",
      "Segmentation NUC_SEG3D_220523 does not exist in object_76:['MASK'].\n",
      "Segmentation MEM_SEG3D_220523 does not exist in object_76:['MASK'].\n",
      "Segmentation NUC_SEG3D_220523 does not exist in object_62:['MASK'].\n",
      "Segmentation MEM_SEG3D_220523 does not exist in object_62:['MASK'].\n",
      "Segmentation NUC_SEG3D_220523 does not exist in object_52:['MASK'].\n",
      "Segmentation MEM_SEG3D_220523 does not exist in object_52:['MASK'].\n",
      "Segmentation NUC_SEG3D_220523 does not exist in object_18:['MASK'].\n",
      "Segmentation MEM_SEG3D_220523 does not exist in object_18:['MASK'].\n",
      "Segmentation NUC_SEG3D_220523 does not exist in object_3:['MASK'].\n",
      "Segmentation MEM_SEG3D_220523 does not exist in object_3:['MASK'].\n",
      "Segmentation NUC_SEG3D_220523 does not exist in object_2:['MASK'].\n",
      "Segmentation MEM_SEG3D_220523 does not exist in object_2:['MASK'].\n",
      "Segmentation NUC_SEG3D_220523 does not exist in object_50:['MASK'].\n",
      "Segmentation MEM_SEG3D_220523 does not exist in object_50:['MASK'].\n",
      "Segmentation NUC_SEG3D_220523 does not exist in object_30:['MASK'].\n",
      "Segmentation MEM_SEG3D_220523 does not exist in object_30:['MASK'].\n",
      "Segmentation NUC_SEG3D_220523 does not exist in object_1:['MASK'].\n",
      "Segmentation MEM_SEG3D_220523 does not exist in object_1:['MASK'].\n",
      "Segmentation NUC_SEG3D_220523 does not exist in object_38:['MASK'].\n",
      "Segmentation MEM_SEG3D_220523 does not exist in object_38:['MASK'].\n",
      "Segmentation NUC_SEG3D_220523 does not exist in object_16:['MASK'].\n",
      "Segmentation MEM_SEG3D_220523 does not exist in object_16:['MASK'].\n",
      "Segmentation NUC_SEG3D_220523 does not exist in object_56:['MASK'].\n",
      "Segmentation MEM_SEG3D_220523 does not exist in object_56:['MASK'].\n",
      "Segmentation NUC_SEG3D_220523 does not exist in object_31:['MASK'].\n",
      "Segmentation MEM_SEG3D_220523 does not exist in object_31:['MASK'].\n",
      "Segmentation NUC_SEG3D_220523 does not exist in object_77:['MASK'].\n",
      "Segmentation MEM_SEG3D_220523 does not exist in object_77:['MASK'].\n",
      "Segmentation NUC_SEG3D_220523 does not exist in object_71:['MASK'].\n",
      "Segmentation MEM_SEG3D_220523 does not exist in object_71:['MASK'].\n",
      "Segmentation NUC_SEG3D_220523 does not exist in object_10:['MASK'].\n",
      "Segmentation MEM_SEG3D_220523 does not exist in object_10:['MASK'].\n",
      "Segmentation NUC_SEG3D_220523 does not exist in object_28:['MASK'].\n",
      "Segmentation MEM_SEG3D_220523 does not exist in object_28:['MASK'].\n",
      "Segmentation NUC_SEG3D_220523 does not exist in object_22:['MASK'].\n",
      "Segmentation MEM_SEG3D_220523 does not exist in object_22:['MASK'].\n",
      "Segmentation NUC_SEG3D_220523 does not exist in object_59:['MASK'].\n",
      "Segmentation MEM_SEG3D_220523 does not exist in object_59:['MASK'].\n",
      "Segmentation NUC_SEG3D_220523 does not exist in object_14:['MASK'].\n",
      "Segmentation MEM_SEG3D_220523 does not exist in object_14:['MASK'].\n",
      "Segmentation NUC_SEG3D_220523 does not exist in object_24:['MASK'].\n",
      "Segmentation MEM_SEG3D_220523 does not exist in object_24:['MASK'].\n",
      "Segmentation NUC_SEG3D_220523 does not exist in object_42:['MASK'].\n",
      "Segmentation MEM_SEG3D_220523 does not exist in object_42:['MASK'].\n",
      "Segmentation NUC_SEG3D_220523 does not exist in object_73:['MASK'].\n",
      "Segmentation MEM_SEG3D_220523 does not exist in object_73:['MASK'].\n",
      "Segmentation NUC_SEG3D_220523 does not exist in object_83:['MASK'].\n",
      "Segmentation MEM_SEG3D_220523 does not exist in object_83:['MASK'].\n",
      "Segmentation NUC_SEG3D_220523 does not exist in object_67:['MASK'].\n",
      "Segmentation MEM_SEG3D_220523 does not exist in object_67:['MASK'].\n",
      "Segmentation NUC_SEG3D_220523 does not exist in object_9:['MASK'].\n",
      "Segmentation MEM_SEG3D_220523 does not exist in object_9:['MASK'].\n",
      "Segmentation NUC_SEG3D_220523 does not exist in object_8:['MASK'].\n",
      "Segmentation MEM_SEG3D_220523 does not exist in object_8:['MASK'].\n",
      "Segmentation NUC_SEG3D_220523 does not exist in object_44:['MASK'].\n",
      "Segmentation MEM_SEG3D_220523 does not exist in object_44:['MASK'].\n",
      "Segmentation NUC_SEG3D_220523 does not exist in object_7:['MASK'].\n",
      "Segmentation MEM_SEG3D_220523 does not exist in object_7:['MASK'].\n",
      "Segmentation NUC_SEG3D_220523 does not exist in object_53:['MASK'].\n",
      "Segmentation MEM_SEG3D_220523 does not exist in object_53:['MASK'].\n",
      "Segmentation NUC_SEG3D_220523 does not exist in object_64:['MASK'].\n",
      "Segmentation MEM_SEG3D_220523 does not exist in object_64:['MASK'].\n",
      "Segmentation NUC_SEG3D_220523 does not exist in object_68:['MASK'].\n",
      "Segmentation MEM_SEG3D_220523 does not exist in object_68:['MASK'].\n",
      "Segmentation NUC_SEG3D_220523 does not exist in object_81:['MASK'].\n",
      "Segmentation MEM_SEG3D_220523 does not exist in object_81:['MASK'].\n",
      "Segmentation NUC_SEG3D_220523 does not exist in object_6:['MASK'].\n",
      "Segmentation MEM_SEG3D_220523 does not exist in object_6:['MASK'].\n",
      "Segmentation NUC_SEG3D_220523 does not exist in object_5:['MASK'].\n",
      "Segmentation MEM_SEG3D_220523 does not exist in object_5:['MASK'].\n",
      "Segmentation NUC_SEG3D_220523 does not exist in object_4:['MASK'].\n",
      "Segmentation MEM_SEG3D_220523 does not exist in object_4:['MASK'].\n",
      "Segmentation NUC_SEG3D_220523 does not exist in object_26:['MASK'].\n",
      "Segmentation MEM_SEG3D_220523 does not exist in object_26:['MASK'].\n"
     ]
    }
   ],
   "source": [
    "exp.only_iterate_over_wells(False)\n",
    "exp.reset_iterator()\n",
    "\n",
    "ovr_channel = \"C01\"\n",
    "\n",
    "for organoid in exp:\n",
    "    # nuclear feature extraction\n",
    "    nuc_seg = organoid.get_segmentation(nuc_ending) #load segmentation images\n",
    "    mem_seg = organoid.get_segmentation(mem_ending) #load segmentation images\n",
    "    #org_seg = organoid.get_segmentation(\"MASK\")\n",
    "    org_seg = organoid.get_segmentation(mask_ending)\n",
    "    \n",
    "    if nuc_seg is None:\n",
    "        continue #skip organoids that don't have a nuclear segmentation\n",
    "    if mem_seg is None:\n",
    "        continue #skip organoids that don't have a membrane segmentation\n",
    "        \n",
    "    org_seg_binary = copy.deepcopy(org_seg)\n",
    "    org_seg_binary[org_seg_binary>0] = 1\n",
    "    \n",
    "    nuc_seg = nuc_seg * org_seg_binary\n",
    "    mem_seg = mem_seg * org_seg_binary\n",
    "    \n",
    "    #match each nuclear label to a cell label\n",
    "    stat = matching(mem_seg, nuc_seg, criterion='iop', thresh=iop_cutoff, report_matches=True)\n",
    "    \n",
    "#     print(stat[2], 'out of', stat[10], 'nuclei are not surrounded by a cell')\n",
    "#     print(stat[4], 'out of', stat[9], 'cells do not contain a nucleus')\n",
    "    \n",
    "    match = pd.DataFrame(list(zip([x[0] for x in stat[14]],[x[1] for x in stat[14]], stat[15])), columns =['mem_id', 'nuc_id', 'iop'])\n",
    "    match_filt = match.loc[(match[\"iop\"] > iop_cutoff)].copy(deep=True) #this is the linking df\n",
    "    \n",
    "    # update all organoid measurements with numbers of nuclei and membrane detected and linked\n",
    "    for meas_name in [k for k,v in organoid.measurements.items() if k.startswith('regionprops_org')]:\n",
    "        meas = organoid.get_measurement(meas_name)\n",
    "        \n",
    "        #add columns to dataframe\n",
    "        meas['nuc_without_mem'] = stat[2]\n",
    "        meas['nuc_total'] = stat[10]\n",
    "        meas['mem_without_nuc'] = stat[4]\n",
    "        meas['mem_total'] = stat[9]\n",
    "        \n",
    "        name = str(meas_name)\n",
    "        path = join(organoid.organoid_dir, name + \".csv\")\n",
    "        meas.to_csv(path, index=False) #saves csv\n",
    "\n",
    "        # Add the measurement to the faim-hcs datastructure and save.\n",
    "        organoid.add_measurement(name, path)\n",
    "        organoid.save() #updates json file\n",
    "\n",
    "    # add metadata and save linking\n",
    "    match_filt['hcs_experiment'] = organoid.well.plate.experiment.name\n",
    "    match_filt['root_dir'] = organoid.well.plate.experiment.root_dir\n",
    "    match_filt['plate_id'] = organoid.well.plate.plate_id\n",
    "    match_filt['well_id'] = organoid.well.well_id\n",
    "    match_filt['channel_id'] = ovr_channel\n",
    "    match_filt['organoid_id'] = organoid.organoid_id\n",
    "    match_filt['org_label'] = organoid.organoid_id.rpartition(\"_\")[2]\n",
    "    \n",
    "    # Save measurement into the organoid directory.\n",
    "    name = \"linking_nuc_to_mem\"\n",
    "    path = join(organoid.organoid_dir, name + \".csv\")\n",
    "    match_filt.to_csv(path, index=False) #saves csv\n",
    "\n",
    "    # Add the measurement to the faim-hcs datastructure and save.\n",
    "    organoid.add_measurement(name, path)\n",
    "    organoid.save() #updates json file\n",
    "\n"
   ]
  },
  {
   "cell_type": "code",
   "execution_count": null,
   "metadata": {},
   "outputs": [],
   "source": []
  },
  {
   "cell_type": "code",
   "execution_count": null,
   "metadata": {},
   "outputs": [],
   "source": []
  },
  {
   "cell_type": "code",
   "execution_count": null,
   "metadata": {},
   "outputs": [],
   "source": []
  },
  {
   "cell_type": "code",
   "execution_count": null,
   "metadata": {},
   "outputs": [],
   "source": []
  },
  {
   "cell_type": "code",
   "execution_count": null,
   "metadata": {},
   "outputs": [],
   "source": []
  },
  {
   "cell_type": "code",
   "execution_count": null,
   "metadata": {},
   "outputs": [],
   "source": []
  },
  {
   "cell_type": "code",
   "execution_count": null,
   "metadata": {},
   "outputs": [],
   "source": [
    "exp.plates['day3'].wells['F04'].organoids['object_13'].raw_files"
   ]
  },
  {
   "cell_type": "code",
   "execution_count": null,
   "metadata": {},
   "outputs": [],
   "source": [
    "exp.plates['day3'].wells['F04'].organoids['object_13'].segmentations"
   ]
  },
  {
   "cell_type": "code",
   "execution_count": null,
   "metadata": {},
   "outputs": [],
   "source": [
    "exp.plates['day3'].wells['F04'].organoids['object_13'].measurements"
   ]
  },
  {
   "cell_type": "code",
   "execution_count": null,
   "metadata": {
    "scrolled": true,
    "tags": []
   },
   "outputs": [],
   "source": [
    "# Iterate over wells only\n",
    "exp.only_iterate_over_wells(True)\n",
    "exp.reset_iterator()\n",
    "\n",
    "for well in exp:\n",
    "    print(well.plate.experiment.name, well.plate.plate_id, well.well_id)\n",
    "    print(well.well_dir)"
   ]
  },
  {
   "cell_type": "code",
   "execution_count": null,
   "metadata": {},
   "outputs": [],
   "source": [
    "# Iterate over plates only.\n",
    "exp.only_iterate_over_plates(True)\n",
    "exp.reset_iterator()\n",
    "\n",
    "for plate in exp:\n",
    "    print(plate.experiment.name, plate.plate_id)\n",
    "    print(plate.plate_dir)"
   ]
  },
  {
   "cell_type": "code",
   "execution_count": null,
   "metadata": {
    "scrolled": true,
    "tags": []
   },
   "outputs": [],
   "source": [
    "# Load an existing faim-hcs Experiment from disk. \n",
    "exp_load = Experiment()\n",
    "exp_load.load('./experiments/20220316_sec_FOCM/summary.csv')"
   ]
  },
  {
   "cell_type": "code",
   "execution_count": null,
   "metadata": {},
   "outputs": [],
   "source": []
  }
 ],
 "metadata": {
  "kernelspec": {
   "display_name": "featX3D",
   "language": "python",
   "name": "featx3d"
  },
  "language_info": {
   "codemirror_mode": {
    "name": "ipython",
    "version": 3
   },
   "file_extension": ".py",
   "mimetype": "text/x-python",
   "name": "python",
   "nbconvert_exporter": "python",
   "pygments_lexer": "ipython3",
   "version": "3.9.12"
  }
 },
 "nbformat": 4,
 "nbformat_minor": 5
}
